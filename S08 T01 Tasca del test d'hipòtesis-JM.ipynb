{
 "cells": [
  {
   "cell_type": "markdown",
   "id": "d8cc6b46",
   "metadata": {},
   "source": [
    "# S08 T01 Tasca del test d'hipòtesis\n"
   ]
  },
  {
   "cell_type": "markdown",
   "id": "1d39bbec",
   "metadata": {},
   "source": [
    "## Exercise 1 "
   ]
  },
  {
   "cell_type": "markdown",
   "id": "b3026fb9",
   "metadata": {},
   "source": [
    "Select a sports theme dataset you like and select an attribute from the dataset. Calculate the p-value and say if you reject the null hypothesis by taking a 5% alpha."
   ]
  },
  {
   "cell_type": "code",
   "execution_count": 1,
   "id": "a2dd3bf2",
   "metadata": {},
   "outputs": [],
   "source": [
    "import pandas as pd\n",
    "from pandas import DataFrame, Series\n",
    "import numpy as np\n",
    "import matplotlib.pyplot as plt\n",
    "import re\n",
    "import seaborn as sns\n",
    "from scipy.stats import ttest_1samp, normaltest, shapiro, mannwhitneyu\n",
    "\n",
    "%matplotlib inline\n",
    "pd.set_option('display.max_columns', None)"
   ]
  },
  {
   "cell_type": "code",
   "execution_count": 2,
   "id": "832aa8b3",
   "metadata": {},
   "outputs": [
    {
     "name": "stdout",
     "output_type": "stream",
     "text": [
      "absl-py @ file:///C:/ci/absl-py_1623867339542/work\n",
      "aiohttp @ file:///C:/ci/aiohttp_1632750093640/work\n",
      "alabaster @ file:///home/ktietz/src/ci/alabaster_1611921544520/work\n",
      "anaconda-client @ file:///C:/ci/anaconda-client_1635342752200/work\n",
      "anaconda-navigator==2.1.0\n",
      "anaconda-project @ file:///tmp/build/80754af9/anaconda-project_1626085644852/work\n",
      "anyio @ file:///C:/ci/anyio_1620153418380/work/dist\n",
      "appdirs==1.4.4\n",
      "argh==0.26.2\n",
      "argon2-cffi @ file:///C:/ci/argon2-cffi_1613037959010/work\n",
      "arrow==0.13.1\n",
      "asn1crypto @ file:///tmp/build/80754af9/asn1crypto_1596577642040/work\n",
      "astor==0.8.1\n",
      "astroid @ file:///C:/ci/astroid_1628063293445/work\n",
      "astropy @ file:///C:/ci/astropy_1629829351783/work\n",
      "astunparse==1.6.3\n",
      "async-generator @ file:///home/ktietz/src/ci/async_generator_1611927993394/work\n",
      "async-timeout==3.0.1\n",
      "atomicwrites==1.4.0\n",
      "attrs @ file:///tmp/build/80754af9/attrs_1620827162558/work\n",
      "autopep8 @ file:///tmp/build/80754af9/autopep8_1615918855173/work\n",
      "Babel @ file:///tmp/build/80754af9/babel_1620871417480/work\n",
      "backcall @ file:///home/ktietz/src/ci/backcall_1611930011877/work\n",
      "backports.functools-lru-cache @ file:///tmp/build/80754af9/backports.functools_lru_cache_1618170165463/work\n",
      "backports.shutil-get-terminal-size @ file:///tmp/build/80754af9/backports.shutil_get_terminal_size_1608222128777/work\n",
      "backports.tempfile @ file:///home/linux1/recipes/ci/backports.tempfile_1610991236607/work\n",
      "backports.weakref==1.0.post1\n",
      "bcrypt @ file:///C:/ci/bcrypt_1597936263757/work\n",
      "beautifulsoup4 @ file:///tmp/build/80754af9/beautifulsoup4_1631874778482/work\n",
      "binaryornot @ file:///tmp/build/80754af9/binaryornot_1617751525010/work\n",
      "bitarray @ file:///C:/ci/bitarray_1629133092947/work\n",
      "bkcharts==0.2\n",
      "black==19.10b0\n",
      "bleach @ file:///tmp/build/80754af9/bleach_1628110601003/work\n",
      "blinker==1.4\n",
      "bokeh @ file:///C:/ci/bokeh_1635324582225/work\n",
      "boto==2.49.0\n",
      "Bottleneck==1.3.2\n",
      "brotlipy==0.7.0\n",
      "cachetools @ file:///tmp/build/80754af9/cachetools_1619597386817/work\n",
      "Cartopy @ file:///C:/ci/cartopy_1612289826541/work\n",
      "certifi==2020.6.20\n",
      "cffi @ file:///C:/ci/cffi_1625831749120/work\n",
      "chardet @ file:///C:/ci/chardet_1607690654534/work\n",
      "charset-normalizer @ file:///tmp/build/80754af9/charset-normalizer_1630003229654/work\n",
      "click==8.0.3\n",
      "cloudpickle @ file:///tmp/build/80754af9/cloudpickle_1632508026186/work\n",
      "clyent==1.2.2\n",
      "colorama @ file:///tmp/build/80754af9/colorama_1607707115595/work\n",
      "comtypes==1.1.10\n",
      "conda==4.10.3\n",
      "conda-build==3.21.4\n",
      "conda-content-trust @ file:///tmp/build/80754af9/conda-content-trust_1617045594566/work\n",
      "conda-pack @ file:///tmp/build/80754af9/conda-pack_1611163042455/work\n",
      "conda-package-handling @ file:///C:/ci/conda-package-handling_1618262320430/work\n",
      "conda-repo-cli @ file:///tmp/build/80754af9/conda-repo-cli_1620168426516/work\n",
      "conda-token @ file:///tmp/build/80754af9/conda-token_1620076980546/work\n",
      "conda-verify==3.4.2\n",
      "contextlib2 @ file:///Users/ktietz/demo/mc3/conda-bld/contextlib2_1630668244042/work\n",
      "cookiecutter @ file:///tmp/build/80754af9/cookiecutter_1617748928239/work\n",
      "coverage @ file:///C:/ci/coverage_1614615074147/work\n",
      "cryptography @ file:///C:/ci/cryptography_1633520552480/work\n",
      "cycler==0.10.0\n",
      "Cython @ file:///C:/ci/cython_1626257071357/work\n",
      "cytoolz==0.11.0\n",
      "dask==2021.9.1\n",
      "debugpy @ file:///C:/ci/debugpy_1629222854708/work\n",
      "decorator @ file:///tmp/build/80754af9/decorator_1632776554403/work\n",
      "defusedxml @ file:///tmp/build/80754af9/defusedxml_1615228127516/work\n",
      "deprecation @ file:///tmp/build/80754af9/deprecation_1628181869014/work\n",
      "diff-match-patch @ file:///Users/ktietz/demo/mc3/conda-bld/diff-match-patch_1630511840874/work\n",
      "distributed @ file:///C:/ci/distributed_1634741613048/work\n",
      "docutils @ file:///C:/ci/docutils_1620828260973/work\n",
      "entrypoints==0.3\n",
      "et-xmlfile==1.1.0\n",
      "fastcache==1.1.0\n",
      "filelock @ file:///home/linux1/recipes/ci/filelock_1610993975404/work\n",
      "flake8 @ file:///tmp/build/80754af9/flake8_1615834841867/work\n",
      "Flask @ file:///home/ktietz/src/ci/flask_1611932660458/work\n",
      "fonttools==4.25.0\n",
      "fsspec @ file:///tmp/build/80754af9/fsspec_1632413898837/work\n",
      "future==0.18.2\n",
      "gast @ file:///Users/ktietz/demo/mc3/conda-bld/gast_1628588903283/work\n",
      "geographiclib==1.52\n",
      "geopy==2.2.0\n",
      "gevent @ file:///C:/ci/gevent_1628273793586/work\n",
      "glob2 @ file:///home/linux1/recipes/ci/glob2_1610991677669/work\n",
      "gmpy2==2.0.8\n",
      "google-auth @ file:///tmp/build/80754af9/google-auth_1626320605116/work\n",
      "google-auth-oauthlib==0.4.1\n",
      "google-pasta @ file:///Users/ktietz/demo/mc3/conda-bld/google-pasta_1630577991354/work\n",
      "greenlet @ file:///C:/ci/greenlet_1628888262822/work\n",
      "grpcio @ file:///C:/ci/grpcio_1614884412260/work\n",
      "h5py==3.1.0\n",
      "HeapDict @ file:///Users/ktietz/demo/mc3/conda-bld/heapdict_1630598515714/work\n",
      "html5lib @ file:///Users/ktietz/demo/mc3/conda-bld/html5lib_1629144453894/work\n",
      "idna @ file:///tmp/build/80754af9/idna_1622654382723/work\n",
      "imagecodecs @ file:///C:/ci/imagecodecs_1634836907271/work\n",
      "imageio @ file:///tmp/build/80754af9/imageio_1617700267927/work\n",
      "imagesize @ file:///home/ktietz/src/ci/imagesize_1611921604382/work\n",
      "imbalanced-learn @ file:///home/conda/feedstock_root/build_artifacts/imbalanced-learn_1632924190465/work\n",
      "importlib-metadata @ file:///C:/ci/importlib-metadata_1631916848487/work\n",
      "inflection==0.5.1\n",
      "iniconfig @ file:///home/linux1/recipes/ci/iniconfig_1610983019677/work\n",
      "intervaltree @ file:///Users/ktietz/demo/mc3/conda-bld/intervaltree_1630511889664/work\n",
      "ipykernel @ file:///C:/ci/ipykernel_1633545574250/work/dist/ipykernel-6.4.1-py3-none-any.whl\n",
      "ipython @ file:///C:/ci/ipython_1632141541768/work\n",
      "ipython-genutils @ file:///tmp/build/80754af9/ipython_genutils_1606773439826/work\n",
      "ipywidgets @ file:///tmp/build/80754af9/ipywidgets_1634143127070/work\n",
      "isort @ file:///tmp/build/80754af9/isort_1628603791788/work\n",
      "itsdangerous @ file:///tmp/build/80754af9/itsdangerous_1621432558163/work\n",
      "jdcal @ file:///Users/ktietz/demo/mc3/conda-bld/jdcal_1630584345063/work\n",
      "jedi @ file:///C:/ci/jedi_1606914528444/work\n",
      "Jinja2 @ file:///tmp/build/80754af9/jinja2_1612213139570/work\n",
      "jinja2-time @ file:///tmp/build/80754af9/jinja2-time_1617751524098/work\n",
      "joblib @ file:///tmp/build/80754af9/joblib_1613502643832/work\n",
      "json5 @ file:///tmp/build/80754af9/json5_1624432770122/work\n",
      "jsonschema @ file:///Users/ktietz/demo/mc3/conda-bld/jsonschema_1630511932244/work\n",
      "jupyter==1.0.0\n",
      "jupyter-client @ file:///tmp/build/80754af9/jupyter_client_1630690655192/work\n",
      "jupyter-console @ file:///tmp/build/80754af9/jupyter_console_1616615302928/work\n",
      "jupyter-contrib-core==0.3.3\n",
      "jupyter-contrib-nbextensions==0.5.1\n",
      "jupyter-core @ file:///C:/ci/jupyter_core_1633420665940/work\n",
      "jupyter-highlight-selected-word @ file:///D:/bld/jupyter_highlight_selected_word_1611341154347/work\n",
      "jupyter-latex-envs @ file:///home/conda/feedstock_root/build_artifacts/jupyter_latex_envs_1614852190293/work\n",
      "jupyter-nbextensions-configurator @ file:///D:/bld/jupyter_nbextensions_configurator_1611341297787/work\n",
      "jupyter-packaging @ file:///tmp/build/80754af9/jupyter-packaging_1628192929267/work\n",
      "jupyter-server @ file:///C:/ci/jupyter_server_1616084298403/work\n",
      "jupyterlab @ file:///tmp/build/80754af9/jupyterlab_1629124491270/work\n",
      "jupyterlab-pygments @ file:///tmp/build/80754af9/jupyterlab_pygments_1601490720602/work\n",
      "jupyterlab-server @ file:///tmp/build/80754af9/jupyterlab_server_1633419203660/work\n",
      "jupyterlab-widgets @ file:///tmp/build/80754af9/jupyterlab_widgets_1609884341231/work\n",
      "Keras @ file:///Users/ktietz/demo/mc3/conda-bld/keras_split_1630579936814/work\n",
      "Keras-Applications @ file:///tmp/build/80754af9/keras-applications_1594366238411/work\n",
      "keras-nightly==2.5.0.dev2021032900\n",
      "Keras-Preprocessing @ file:///tmp/build/80754af9/keras-preprocessing_1612283640596/work\n",
      "keyring @ file:///C:/ci/keyring_1629321676013/work\n",
      "kiwisolver @ file:///C:/ci/kiwisolver_1612282606037/work\n",
      "kmodes==0.11.0\n",
      "lazy-object-proxy @ file:///C:/ci/lazy-object-proxy_1616529307648/work\n",
      "libarchive-c @ file:///tmp/build/80754af9/python-libarchive-c_1617780486945/work\n",
      "llvmlite==0.36.0\n",
      "locket==0.2.1\n",
      "lxml @ file:///C:/ci/lxml_1616443455957/work\n",
      "Mako @ file:///tmp/build/80754af9/mako_1610650590832/work\n",
      "Markdown @ file:///C:/ci/markdown_1614364121613/work\n",
      "MarkupSafe==1.1.1\n",
      "matplotlib @ file:///C:/ci/matplotlib-suite_1634667159685/work\n",
      "matplotlib-inline @ file:///tmp/build/80754af9/matplotlib-inline_1628242447089/work\n",
      "mccabe==0.6.1\n",
      "menuinst==1.4.16\n",
      "mistune==0.8.4\n",
      "mkl-fft==1.3.1\n",
      "mkl-random @ file:///C:/ci/mkl_random_1626186184278/work\n",
      "mkl-service==2.4.0\n",
      "mock @ file:///tmp/build/80754af9/mock_1607622725907/work\n",
      "more-itertools @ file:///tmp/build/80754af9/more-itertools_1622818384463/work\n",
      "mpmath==1.2.1\n",
      "msgpack @ file:///C:/ci/msgpack-python_1612287368835/work\n",
      "multidict @ file:///C:/ci/multidict_1607362065515/work\n",
      "multipledispatch==0.6.0\n",
      "munkres==1.1.4\n",
      "mypy-extensions==0.4.3\n",
      "navigator-updater==0.2.1\n",
      "nbclassic @ file:///tmp/build/80754af9/nbclassic_1616085367084/work\n",
      "nbclient @ file:///tmp/build/80754af9/nbclient_1614364831625/work\n",
      "nbconvert @ file:///C:/ci/nbconvert_1624479163777/work\n",
      "nbformat @ file:///tmp/build/80754af9/nbformat_1617383369282/work\n",
      "nest-asyncio @ file:///tmp/build/80754af9/nest-asyncio_1613680548246/work\n",
      "networkx @ file:///tmp/build/80754af9/networkx_1633639043937/work\n",
      "nltk==3.6.5\n",
      "nose @ file:///tmp/build/80754af9/nose_1606773131901/work\n",
      "notebook @ file:///C:/ci/notebook_1629205926310/work\n",
      "numba @ file:///C:/ci/numba_1616774458845/work\n",
      "numexpr @ file:///C:/ci/numexpr_1618856738664/work\n",
      "numpy @ file:///C:/ci/numpy_and_numpy_base_1634106873763/work\n",
      "numpydoc @ file:///tmp/build/80754af9/numpydoc_1605117425582/work\n",
      "oauthlib @ file:///tmp/build/80754af9/oauthlib_1623060228408/work\n",
      "olefile @ file:///Users/ktietz/demo/mc3/conda-bld/olefile_1629805411829/work\n",
      "openpyxl @ file:///tmp/build/80754af9/openpyxl_1632777717936/work\n",
      "opt-einsum @ file:///tmp/build/80754af9/opt_einsum_1621500238896/work\n",
      "packaging @ file:///tmp/build/80754af9/packaging_1625611678980/work\n",
      "pandas @ file:///C:/ci/pandas_1632920071836/work\n",
      "pandocfilters @ file:///C:/ci/pandocfilters_1605102497129/work\n",
      "paramiko @ file:///tmp/build/80754af9/paramiko_1598886428689/work\n",
      "parso==0.7.0\n",
      "partd @ file:///tmp/build/80754af9/partd_1618000087440/work\n",
      "path @ file:///C:/ci/path_1623603980403/work\n",
      "pathlib2 @ file:///C:/ci/pathlib2_1625585790401/work\n",
      "pathspec==0.7.0\n",
      "pathtools @ file:///Users/ktietz/demo/mc3/conda-bld/pathtools_1629713893697/work\n",
      "patsy==0.5.2\n",
      "pep8==1.7.1\n",
      "pexpect @ file:///tmp/build/80754af9/pexpect_1605563209008/work\n",
      "pickleshare @ file:///tmp/build/80754af9/pickleshare_1606932040724/work\n",
      "Pillow==8.4.0\n",
      "pkginfo==1.7.1\n",
      "pluggy @ file:///C:/ci/pluggy_1615976358795/work\n",
      "ply==3.11\n",
      "poyo @ file:///tmp/build/80754af9/poyo_1617751526755/work\n",
      "prometheus-client @ file:///tmp/build/80754af9/prometheus_client_1623189609245/work\n",
      "prompt-toolkit @ file:///tmp/build/80754af9/prompt-toolkit_1633440160888/work\n",
      "protobuf==3.17.2\n",
      "psutil @ file:///C:/ci/psutil_1612298324802/work\n",
      "ptyprocess @ file:///tmp/build/80754af9/ptyprocess_1609355006118/work/dist/ptyprocess-0.7.0-py2.py3-none-any.whl\n",
      "py @ file:///tmp/build/80754af9/py_1607971587848/work\n",
      "pyasn1 @ file:///Users/ktietz/demo/mc3/conda-bld/pyasn1_1629708007385/work\n",
      "pyasn1-modules==0.2.8\n",
      "pycodestyle @ file:///home/ktietz/src/ci_mi/pycodestyle_1612807597675/work\n",
      "pycosat==0.6.3\n",
      "pycparser @ file:///tmp/build/80754af9/pycparser_1594388511720/work\n",
      "pycurl==7.44.1\n",
      "pydocstyle @ file:///tmp/build/80754af9/pydocstyle_1621600989141/work\n",
      "pyee==7.0.4\n",
      "pyerfa @ file:///C:/ci/pyerfa_1621561004681/work\n",
      "pyflakes @ file:///home/ktietz/src/ci_ipy2/pyflakes_1612551159640/work\n",
      "pygeoip==0.3.2\n",
      "Pygments @ file:///tmp/build/80754af9/pygments_1629234116488/work\n",
      "pygpu==0.7.6\n",
      "PyJWT @ file:///C:/ci/pyjwt_1619651841937/work\n",
      "pylint @ file:///C:/ci/pylint_1627536881874/work\n",
      "pyls-black @ file:///tmp/build/80754af9/pyls-black_1607553132291/work\n",
      "pyls-spyder @ file:///tmp/build/80754af9/pyls-spyder_1613849700860/work\n",
      "PyNaCl @ file:///C:/ci/pynacl_1595000047588/work\n",
      "pyodbc===4.0.0-unsupported\n",
      "pyOpenSSL @ file:///tmp/build/80754af9/pyopenssl_1635333100036/work\n",
      "pyparsing @ file:///home/linux1/recipes/ci/pyparsing_1610983426697/work\n",
      "pyppeteer==0.2.2\n",
      "pyreadline==2.1\n",
      "pyrsistent @ file:///C:/ci/pyrsistent_1600141795814/work\n",
      "pyshp @ file:///tmp/build/80754af9/pyshp_1610641829514/work\n",
      "PySocks @ file:///C:/ci/pysocks_1605287845585/work\n",
      "pytest==6.2.4\n",
      "python-dateutil @ file:///tmp/build/80754af9/python-dateutil_1626374649649/work\n",
      "python-jsonrpc-server @ file:///tmp/build/80754af9/python-jsonrpc-server_1600278539111/work\n",
      "python-language-server @ file:///tmp/build/80754af9/python-language-server_1607972495879/work\n",
      "python-slugify @ file:///tmp/build/80754af9/python-slugify_1620405669636/work\n",
      "pytz==2021.3\n",
      "PyWavelets @ file:///C:/ci/pywavelets_1601658407916/work\n",
      "pywin32==228\n",
      "pywin32-ctypes==0.2.0\n",
      "pywinpty==0.5.7\n",
      "PyYAML==5.4.1\n",
      "pyzmq @ file:///C:/ci/pyzmq_1628276144921/work\n",
      "QDarkStyle @ file:///tmp/build/80754af9/qdarkstyle_1617386714626/work\n",
      "qstylizer @ file:///tmp/build/80754af9/qstylizer_1617713584600/work/dist/qstylizer-0.1.10-py2.py3-none-any.whl\n",
      "QtAwesome @ file:///tmp/build/80754af9/qtawesome_1615991616277/work\n",
      "qtconsole @ file:///tmp/build/80754af9/qtconsole_1632739723211/work\n",
      "QtPy @ file:///tmp/build/80754af9/qtpy_1629397026935/work\n",
      "regex @ file:///C:/ci/regex_1629302316714/work\n",
      "requests @ file:///tmp/build/80754af9/requests_1629994808627/work\n",
      "requests-oauthlib==1.3.0\n",
      "rope @ file:///tmp/build/80754af9/rope_1623703006312/work\n",
      "rsa @ file:///tmp/build/80754af9/rsa_1614366226499/work\n",
      "Rtree @ file:///C:/ci/rtree_1618421009405/work\n",
      "ruamel-yaml-conda @ file:///C:/ci/ruamel_yaml_1616016967756/work\n",
      "scikit-image==0.18.1\n",
      "scikit-learn @ file:///C:/ci/scikit-learn_1635188126022/work\n",
      "scipy @ file:///C:/ci/scipy_1630606942584/work\n",
      "seaborn @ file:///tmp/build/80754af9/seaborn_1629307859561/work\n",
      "Send2Trash @ file:///tmp/build/80754af9/send2trash_1632406701022/work\n",
      "Shapely==1.7.1\n",
      "simplegeneric==0.8.1\n",
      "singledispatch @ file:///tmp/build/80754af9/singledispatch_1629321204894/work\n",
      "sip==4.19.13\n",
      "six @ file:///tmp/build/80754af9/six_1623709665295/work\n",
      "sniffio @ file:///C:/ci/sniffio_1614030707456/work\n",
      "snowballstemmer @ file:///tmp/build/80754af9/snowballstemmer_1611258885636/work\n",
      "sortedcollections @ file:///tmp/build/80754af9/sortedcollections_1611172717284/work\n",
      "sortedcontainers @ file:///tmp/build/80754af9/sortedcontainers_1623949099177/work\n",
      "soupsieve @ file:///tmp/build/80754af9/soupsieve_1616183228191/work\n",
      "Sphinx @ file:///tmp/build/80754af9/sphinx_1632506123190/work\n",
      "sphinxcontrib-applehelp @ file:///home/ktietz/src/ci/sphinxcontrib-applehelp_1611920841464/work\n",
      "sphinxcontrib-devhelp @ file:///home/ktietz/src/ci/sphinxcontrib-devhelp_1611920923094/work\n",
      "sphinxcontrib-htmlhelp @ file:///tmp/build/80754af9/sphinxcontrib-htmlhelp_1623945626792/work\n",
      "sphinxcontrib-jsmath @ file:///home/ktietz/src/ci/sphinxcontrib-jsmath_1611920942228/work\n",
      "sphinxcontrib-qthelp @ file:///home/ktietz/src/ci/sphinxcontrib-qthelp_1611921055322/work\n",
      "sphinxcontrib-serializinghtml @ file:///tmp/build/80754af9/sphinxcontrib-serializinghtml_1624451540180/work\n",
      "sphinxcontrib-websupport @ file:///tmp/build/80754af9/sphinxcontrib-websupport_1597081412696/work\n",
      "spyder @ file:///C:/ci/spyder_1626182189433/work\n",
      "spyder-kernels @ file:///C:/ci/spyder-kernels_1625671146339/work\n",
      "SQLAlchemy @ file:///C:/ci/sqlalchemy_1626948551817/work\n",
      "squarify==0.4.3\n",
      "statsmodels==0.13.0\n",
      "sympy @ file:///C:/ci/sympy_1635237204453/work\n",
      "tables==3.6.1\n",
      "tblib @ file:///Users/ktietz/demo/mc3/conda-bld/tblib_1629402031467/work\n",
      "tensorboard @ file:///tmp/build/80754af9/tensorboard_1633093581375/work/tensorboard-2.6.0-py3-none-any.whl\n",
      "tensorboard-data-server @ file:///C:/ci/tensorboard-data-server_1633035228378/work/tensorboard_data_server-0.6.0-py3-none-any.whl\n",
      "tensorboard-plugin-wit==1.6.0\n",
      "tensorflow==2.3.0\n",
      "tensorflow-estimator @ file:///home/conda/feedstock_root/build_artifacts/tensorflow-estimator_1623773901369/work/wheel_dir/tensorflow_estimator-2.5.0-py2.py3-none-any.whl\n",
      "termcolor==1.1.0\n",
      "terminado==0.9.4\n",
      "testpath @ file:///tmp/build/80754af9/testpath_1624638946665/work\n",
      "text-unidecode @ file:///Users/ktietz/demo/mc3/conda-bld/text-unidecode_1629401354553/work\n",
      "textdistance @ file:///tmp/build/80754af9/textdistance_1612461398012/work\n",
      "Theano==1.0.4\n",
      "threadpoolctl @ file:///Users/ktietz/demo/mc3/conda-bld/threadpoolctl_1629802263681/work\n",
      "three-merge @ file:///tmp/build/80754af9/three-merge_1607553261110/work\n",
      "tifffile @ file:///tmp/build/80754af9/tifffile_1627275862826/work\n",
      "tinycss @ file:///tmp/build/80754af9/tinycss_1617713798712/work\n",
      "toml @ file:///tmp/build/80754af9/toml_1616166611790/work\n",
      "tomlkit @ file:///C:/ci/tomlkit_1626771312468/work\n",
      "toolz @ file:///home/linux1/recipes/ci/toolz_1610987900194/work\n",
      "tornado @ file:///C:/ci/tornado_1606942392901/work\n",
      "tqdm @ file:///tmp/build/80754af9/tqdm_1635330843403/work\n",
      "traitlets @ file:///tmp/build/80754af9/traitlets_1632522747050/work\n",
      "typed-ast @ file:///C:/ci/typed-ast_1624953785070/work\n",
      "typing-extensions @ file:///tmp/build/80754af9/typing_extensions_1631814937681/work\n",
      "ujson @ file:///C:/ci/ujson_1611241570789/work\n",
      "unicodecsv==0.14.1\n",
      "Unidecode @ file:///tmp/build/80754af9/unidecode_1614712377438/work\n",
      "urllib3==1.26.7\n",
      "watchdog @ file:///C:/ci/watchdog_1624955096624/work\n",
      "wcwidth @ file:///Users/ktietz/demo/mc3/conda-bld/wcwidth_1629357192024/work\n",
      "webencodings==0.5.1\n",
      "websockets==8.1\n",
      "Werkzeug @ file:///tmp/build/80754af9/werkzeug_1631818832573/work\n",
      "whichcraft @ file:///tmp/build/80754af9/whichcraft_1617751293875/work\n",
      "widgetsnbextension==3.5.1\n",
      "win-inet-pton @ file:///C:/ci/win_inet_pton_1605306167264/work\n",
      "win-unicode-console==0.5\n",
      "wincertstore==0.2\n",
      "wordcloud==1.8.1\n",
      "wrapt==1.12.1\n",
      "xlrd @ file:///tmp/build/80754af9/xlrd_1608072521494/work\n",
      "XlsxWriter @ file:///tmp/build/80754af9/xlsxwriter_1628603415431/work\n",
      "xlwings==0.24.9\n",
      "xlwt==1.3.0\n",
      "xmltodict @ file:///Users/ktietz/demo/mc3/conda-bld/xmltodict_1629301980723/work\n",
      "yapf @ file:///tmp/build/80754af9/yapf_1615749224965/work\n",
      "yarl @ file:///C:/ci/yarl_1606940076464/work\n",
      "zict==2.0.0\n",
      "zipp @ file:///tmp/build/80754af9/zipp_1633618647012/work\n",
      "zope.event==4.5.0\n",
      "zope.interface @ file:///C:/ci/zope.interface_1625036260333/work\n",
      "Note: you may need to restart the kernel to use updated packages.\n"
     ]
    }
   ],
   "source": [
    "pip freeze "
   ]
  },
  {
   "cell_type": "markdown",
   "id": "1cff5a91",
   "metadata": {},
   "source": [
    "https://www.kaggle.com/ekrembayar/fifa-21-complete-player-dataset"
   ]
  },
  {
   "cell_type": "code",
   "execution_count": 3,
   "id": "8c3a93b7",
   "metadata": {},
   "outputs": [],
   "source": [
    "df = pd.read_csv('fifa21_male2.csv', low_memory=False)"
   ]
  },
  {
   "cell_type": "markdown",
   "id": "5e4365f5",
   "metadata": {},
   "source": [
    "## Exploring the data set"
   ]
  },
  {
   "cell_type": "code",
   "execution_count": 4,
   "id": "68d1798b",
   "metadata": {},
   "outputs": [
    {
     "name": "stdout",
     "output_type": "stream",
     "text": [
      "<class 'pandas.core.frame.DataFrame'>\n",
      "RangeIndex: 17125 entries, 0 to 17124\n",
      "Columns: 107 entries, ID to Gender\n",
      "dtypes: float64(10), int64(45), object(52)\n",
      "memory usage: 14.0+ MB\n"
     ]
    }
   ],
   "source": [
    "df.info()"
   ]
  },
  {
   "cell_type": "code",
   "execution_count": 5,
   "id": "f4651acf",
   "metadata": {},
   "outputs": [
    {
     "data": {
      "text/plain": [
       "ID             0\n",
       "Name           0\n",
       "Age            0\n",
       "OVA            0\n",
       "Nationality    0\n",
       "              ..\n",
       "CB             0\n",
       "RCB            0\n",
       "RB             0\n",
       "GK             0\n",
       "Gender         0\n",
       "Length: 107, dtype: int64"
      ]
     },
     "execution_count": 5,
     "metadata": {},
     "output_type": "execute_result"
    }
   ],
   "source": [
    "null= df.isnull().sum()\n",
    "null"
   ]
  },
  {
   "cell_type": "code",
   "execution_count": 6,
   "id": "c1639af6",
   "metadata": {},
   "outputs": [
    {
     "data": {
      "text/plain": [
       "0"
      ]
     },
     "execution_count": 6,
     "metadata": {},
     "output_type": "execute_result"
    }
   ],
   "source": [
    "df.duplicated().sum()"
   ]
  },
  {
   "cell_type": "code",
   "execution_count": 7,
   "id": "2ff8cfb4",
   "metadata": {},
   "outputs": [],
   "source": [
    "cols = ['BOV', 'BP', 'Position','Player Photo', 'Club Logo', 'Flag Photo', 'POT', 'Team & Contract', 'Growth', 'Joined', 'Loan Date End', 'Standing Tackle', 'Sliding Tackle', 'Goalkeeping', 'GK Diving', 'GK Handling', 'GK Kicking', 'GK Positioning', 'GK Reflexes', 'Total Stats', 'Base Stats', 'W/F', 'SM', 'A/W', 'D/W', 'IR', 'PAC', 'SHO', 'PAS', 'DRI', 'DEF', 'PHY', 'Hits', 'LS', 'ST', 'RS', 'LW', 'LF', 'CF', 'RF', 'RW', 'LAM', 'CAM', 'RAM', 'LM', 'LCM', 'CM', 'RCM', 'RM', 'LWB', 'LDM', 'CDM', 'RDM', 'RWB', 'LB', 'LCB', 'CB', 'RCB', 'RB', 'GK', 'Gender']\n",
    "df = df.drop(columns=cols)"
   ]
  },
  {
   "cell_type": "code",
   "execution_count": 8,
   "id": "37484444",
   "metadata": {},
   "outputs": [
    {
     "data": {
      "text/html": [
       "<div>\n",
       "<style scoped>\n",
       "    .dataframe tbody tr th:only-of-type {\n",
       "        vertical-align: middle;\n",
       "    }\n",
       "\n",
       "    .dataframe tbody tr th {\n",
       "        vertical-align: top;\n",
       "    }\n",
       "\n",
       "    .dataframe thead th {\n",
       "        text-align: right;\n",
       "    }\n",
       "</style>\n",
       "<table border=\"1\" class=\"dataframe\">\n",
       "  <thead>\n",
       "    <tr style=\"text-align: right;\">\n",
       "      <th></th>\n",
       "      <th>ID</th>\n",
       "      <th>Name</th>\n",
       "      <th>Age</th>\n",
       "      <th>OVA</th>\n",
       "      <th>Nationality</th>\n",
       "      <th>Club</th>\n",
       "      <th>Height</th>\n",
       "      <th>Weight</th>\n",
       "      <th>foot</th>\n",
       "      <th>Value</th>\n",
       "      <th>Wage</th>\n",
       "      <th>Release Clause</th>\n",
       "      <th>Contract</th>\n",
       "      <th>Attacking</th>\n",
       "      <th>Crossing</th>\n",
       "      <th>Finishing</th>\n",
       "      <th>Heading Accuracy</th>\n",
       "      <th>Short Passing</th>\n",
       "      <th>Volleys</th>\n",
       "      <th>Skill</th>\n",
       "      <th>Dribbling</th>\n",
       "      <th>Curve</th>\n",
       "      <th>FK Accuracy</th>\n",
       "      <th>Long Passing</th>\n",
       "      <th>Ball Control</th>\n",
       "      <th>Movement</th>\n",
       "      <th>Acceleration</th>\n",
       "      <th>Sprint Speed</th>\n",
       "      <th>Agility</th>\n",
       "      <th>Reactions</th>\n",
       "      <th>Balance</th>\n",
       "      <th>Power</th>\n",
       "      <th>Shot Power</th>\n",
       "      <th>Jumping</th>\n",
       "      <th>Stamina</th>\n",
       "      <th>Strength</th>\n",
       "      <th>Long Shots</th>\n",
       "      <th>Mentality</th>\n",
       "      <th>Aggression</th>\n",
       "      <th>Interceptions</th>\n",
       "      <th>Positioning</th>\n",
       "      <th>Vision</th>\n",
       "      <th>Penalties</th>\n",
       "      <th>Composure</th>\n",
       "      <th>Defending</th>\n",
       "      <th>Marking</th>\n",
       "    </tr>\n",
       "  </thead>\n",
       "  <tbody>\n",
       "    <tr>\n",
       "      <th>0</th>\n",
       "      <td>2</td>\n",
       "      <td>G. Pasquale</td>\n",
       "      <td>33</td>\n",
       "      <td>69</td>\n",
       "      <td>Italy</td>\n",
       "      <td>Udinese</td>\n",
       "      <td>6'0\"</td>\n",
       "      <td>181lbs</td>\n",
       "      <td>Left</td>\n",
       "      <td>€625K</td>\n",
       "      <td>€7K</td>\n",
       "      <td>€0</td>\n",
       "      <td>2008 ~ 2016</td>\n",
       "      <td>313</td>\n",
       "      <td>75</td>\n",
       "      <td>50</td>\n",
       "      <td>59</td>\n",
       "      <td>71</td>\n",
       "      <td>58.0</td>\n",
       "      <td>338</td>\n",
       "      <td>73</td>\n",
       "      <td>65.0</td>\n",
       "      <td>60</td>\n",
       "      <td>69</td>\n",
       "      <td>71</td>\n",
       "      <td>347</td>\n",
       "      <td>68</td>\n",
       "      <td>74</td>\n",
       "      <td>68.0</td>\n",
       "      <td>69</td>\n",
       "      <td>68.0</td>\n",
       "      <td>347</td>\n",
       "      <td>74</td>\n",
       "      <td>68.0</td>\n",
       "      <td>69</td>\n",
       "      <td>68</td>\n",
       "      <td>68</td>\n",
       "      <td>320</td>\n",
       "      <td>72</td>\n",
       "      <td>69.0</td>\n",
       "      <td>63.0</td>\n",
       "      <td>66.0</td>\n",
       "      <td>50</td>\n",
       "      <td>NaN</td>\n",
       "      <td>208</td>\n",
       "      <td>70</td>\n",
       "    </tr>\n",
       "    <tr>\n",
       "      <th>1</th>\n",
       "      <td>16</td>\n",
       "      <td>Luis García</td>\n",
       "      <td>37</td>\n",
       "      <td>71</td>\n",
       "      <td>Spain</td>\n",
       "      <td>KAS Eupen</td>\n",
       "      <td>5'10\"</td>\n",
       "      <td>143lbs</td>\n",
       "      <td>Right</td>\n",
       "      <td>€600K</td>\n",
       "      <td>€7K</td>\n",
       "      <td>€1.1M</td>\n",
       "      <td>2014 ~ 2019</td>\n",
       "      <td>337</td>\n",
       "      <td>68</td>\n",
       "      <td>64</td>\n",
       "      <td>61</td>\n",
       "      <td>76</td>\n",
       "      <td>68.0</td>\n",
       "      <td>369</td>\n",
       "      <td>69</td>\n",
       "      <td>79.0</td>\n",
       "      <td>79</td>\n",
       "      <td>71</td>\n",
       "      <td>71</td>\n",
       "      <td>305</td>\n",
       "      <td>56</td>\n",
       "      <td>50</td>\n",
       "      <td>62.0</td>\n",
       "      <td>65</td>\n",
       "      <td>72.0</td>\n",
       "      <td>324</td>\n",
       "      <td>75</td>\n",
       "      <td>54.0</td>\n",
       "      <td>64</td>\n",
       "      <td>60</td>\n",
       "      <td>71</td>\n",
       "      <td>362</td>\n",
       "      <td>71</td>\n",
       "      <td>71.0</td>\n",
       "      <td>72.0</td>\n",
       "      <td>73.0</td>\n",
       "      <td>75</td>\n",
       "      <td>79.0</td>\n",
       "      <td>153</td>\n",
       "      <td>70</td>\n",
       "    </tr>\n",
       "    <tr>\n",
       "      <th>2</th>\n",
       "      <td>27</td>\n",
       "      <td>J. Cole</td>\n",
       "      <td>33</td>\n",
       "      <td>71</td>\n",
       "      <td>England</td>\n",
       "      <td>Coventry City</td>\n",
       "      <td>5'9\"</td>\n",
       "      <td>161lbs</td>\n",
       "      <td>Right</td>\n",
       "      <td>€1.1M</td>\n",
       "      <td>€15K</td>\n",
       "      <td>€0</td>\n",
       "      <td>2016 ~ 2020</td>\n",
       "      <td>337</td>\n",
       "      <td>80</td>\n",
       "      <td>64</td>\n",
       "      <td>41</td>\n",
       "      <td>77</td>\n",
       "      <td>75.0</td>\n",
       "      <td>387</td>\n",
       "      <td>79</td>\n",
       "      <td>84.0</td>\n",
       "      <td>77</td>\n",
       "      <td>69</td>\n",
       "      <td>78</td>\n",
       "      <td>295</td>\n",
       "      <td>48</td>\n",
       "      <td>42</td>\n",
       "      <td>71.0</td>\n",
       "      <td>59</td>\n",
       "      <td>75.0</td>\n",
       "      <td>284</td>\n",
       "      <td>72</td>\n",
       "      <td>58.0</td>\n",
       "      <td>29</td>\n",
       "      <td>56</td>\n",
       "      <td>69</td>\n",
       "      <td>317</td>\n",
       "      <td>69</td>\n",
       "      <td>39.0</td>\n",
       "      <td>69.0</td>\n",
       "      <td>74.0</td>\n",
       "      <td>66</td>\n",
       "      <td>NaN</td>\n",
       "      <td>99</td>\n",
       "      <td>35</td>\n",
       "    </tr>\n",
       "    <tr>\n",
       "      <th>3</th>\n",
       "      <td>36</td>\n",
       "      <td>D. Yorke</td>\n",
       "      <td>36</td>\n",
       "      <td>68</td>\n",
       "      <td>Trinidad &amp;amp; Tobago</td>\n",
       "      <td>Sunderland</td>\n",
       "      <td>5'11\"</td>\n",
       "      <td>165lbs</td>\n",
       "      <td>Right</td>\n",
       "      <td>€0</td>\n",
       "      <td>€0</td>\n",
       "      <td>€0</td>\n",
       "      <td>2009</td>\n",
       "      <td>264</td>\n",
       "      <td>54</td>\n",
       "      <td>70</td>\n",
       "      <td>60</td>\n",
       "      <td>80</td>\n",
       "      <td>NaN</td>\n",
       "      <td>255</td>\n",
       "      <td>68</td>\n",
       "      <td>NaN</td>\n",
       "      <td>46</td>\n",
       "      <td>64</td>\n",
       "      <td>77</td>\n",
       "      <td>176</td>\n",
       "      <td>59</td>\n",
       "      <td>62</td>\n",
       "      <td>NaN</td>\n",
       "      <td>55</td>\n",
       "      <td>NaN</td>\n",
       "      <td>239</td>\n",
       "      <td>63</td>\n",
       "      <td>NaN</td>\n",
       "      <td>51</td>\n",
       "      <td>66</td>\n",
       "      <td>59</td>\n",
       "      <td>271</td>\n",
       "      <td>59</td>\n",
       "      <td>70.0</td>\n",
       "      <td>72.0</td>\n",
       "      <td>NaN</td>\n",
       "      <td>70</td>\n",
       "      <td>NaN</td>\n",
       "      <td>75</td>\n",
       "      <td>34</td>\n",
       "    </tr>\n",
       "    <tr>\n",
       "      <th>4</th>\n",
       "      <td>41</td>\n",
       "      <td>Iniesta</td>\n",
       "      <td>36</td>\n",
       "      <td>81</td>\n",
       "      <td>Spain</td>\n",
       "      <td>Vissel Kobe</td>\n",
       "      <td>5'7\"</td>\n",
       "      <td>150lbs</td>\n",
       "      <td>Right</td>\n",
       "      <td>€5.5M</td>\n",
       "      <td>€12K</td>\n",
       "      <td>€7.2M</td>\n",
       "      <td>2018 ~ 2021</td>\n",
       "      <td>367</td>\n",
       "      <td>75</td>\n",
       "      <td>69</td>\n",
       "      <td>54</td>\n",
       "      <td>90</td>\n",
       "      <td>79.0</td>\n",
       "      <td>408</td>\n",
       "      <td>85</td>\n",
       "      <td>80.0</td>\n",
       "      <td>70</td>\n",
       "      <td>83</td>\n",
       "      <td>90</td>\n",
       "      <td>346</td>\n",
       "      <td>61</td>\n",
       "      <td>56</td>\n",
       "      <td>79.0</td>\n",
       "      <td>75</td>\n",
       "      <td>75.0</td>\n",
       "      <td>297</td>\n",
       "      <td>67</td>\n",
       "      <td>40.0</td>\n",
       "      <td>58</td>\n",
       "      <td>62</td>\n",
       "      <td>70</td>\n",
       "      <td>370</td>\n",
       "      <td>58</td>\n",
       "      <td>70.0</td>\n",
       "      <td>78.0</td>\n",
       "      <td>93.0</td>\n",
       "      <td>71</td>\n",
       "      <td>89.0</td>\n",
       "      <td>181</td>\n",
       "      <td>68</td>\n",
       "    </tr>\n",
       "  </tbody>\n",
       "</table>\n",
       "</div>"
      ],
      "text/plain": [
       "   ID         Name  Age  OVA            Nationality           Club Height  \\\n",
       "0   2  G. Pasquale   33   69                  Italy        Udinese   6'0\"   \n",
       "1  16  Luis García   37   71                  Spain      KAS Eupen  5'10\"   \n",
       "2  27      J. Cole   33   71                England  Coventry City   5'9\"   \n",
       "3  36     D. Yorke   36   68  Trinidad &amp; Tobago     Sunderland  5'11\"   \n",
       "4  41      Iniesta   36   81                  Spain    Vissel Kobe   5'7\"   \n",
       "\n",
       "   Weight   foot  Value  Wage Release Clause     Contract  Attacking  \\\n",
       "0  181lbs   Left  €625K   €7K             €0  2008 ~ 2016        313   \n",
       "1  143lbs  Right  €600K   €7K          €1.1M  2014 ~ 2019        337   \n",
       "2  161lbs  Right  €1.1M  €15K             €0  2016 ~ 2020        337   \n",
       "3  165lbs  Right     €0    €0             €0         2009        264   \n",
       "4  150lbs  Right  €5.5M  €12K          €7.2M  2018 ~ 2021        367   \n",
       "\n",
       "   Crossing  Finishing  Heading Accuracy  Short Passing  Volleys  Skill  \\\n",
       "0        75         50                59             71     58.0    338   \n",
       "1        68         64                61             76     68.0    369   \n",
       "2        80         64                41             77     75.0    387   \n",
       "3        54         70                60             80      NaN    255   \n",
       "4        75         69                54             90     79.0    408   \n",
       "\n",
       "   Dribbling  Curve  FK Accuracy  Long Passing  Ball Control  Movement  \\\n",
       "0         73   65.0           60            69            71       347   \n",
       "1         69   79.0           79            71            71       305   \n",
       "2         79   84.0           77            69            78       295   \n",
       "3         68    NaN           46            64            77       176   \n",
       "4         85   80.0           70            83            90       346   \n",
       "\n",
       "   Acceleration  Sprint Speed  Agility  Reactions  Balance  Power  Shot Power  \\\n",
       "0            68            74     68.0         69     68.0    347          74   \n",
       "1            56            50     62.0         65     72.0    324          75   \n",
       "2            48            42     71.0         59     75.0    284          72   \n",
       "3            59            62      NaN         55      NaN    239          63   \n",
       "4            61            56     79.0         75     75.0    297          67   \n",
       "\n",
       "   Jumping  Stamina  Strength  Long Shots  Mentality  Aggression  \\\n",
       "0     68.0       69        68          68        320          72   \n",
       "1     54.0       64        60          71        362          71   \n",
       "2     58.0       29        56          69        317          69   \n",
       "3      NaN       51        66          59        271          59   \n",
       "4     40.0       58        62          70        370          58   \n",
       "\n",
       "   Interceptions  Positioning  Vision  Penalties  Composure  Defending  \\\n",
       "0           69.0         63.0    66.0         50        NaN        208   \n",
       "1           71.0         72.0    73.0         75       79.0        153   \n",
       "2           39.0         69.0    74.0         66        NaN         99   \n",
       "3           70.0         72.0     NaN         70        NaN         75   \n",
       "4           70.0         78.0    93.0         71       89.0        181   \n",
       "\n",
       "   Marking  \n",
       "0       70  \n",
       "1       70  \n",
       "2       35  \n",
       "3       34  \n",
       "4       68  "
      ]
     },
     "execution_count": 8,
     "metadata": {},
     "output_type": "execute_result"
    }
   ],
   "source": [
    "df.head()"
   ]
  },
  {
   "cell_type": "code",
   "execution_count": 9,
   "id": "fe14da3e",
   "metadata": {},
   "outputs": [
    {
     "data": {
      "text/html": [
       "<div>\n",
       "<style scoped>\n",
       "    .dataframe tbody tr th:only-of-type {\n",
       "        vertical-align: middle;\n",
       "    }\n",
       "\n",
       "    .dataframe tbody tr th {\n",
       "        vertical-align: top;\n",
       "    }\n",
       "\n",
       "    .dataframe thead th {\n",
       "        text-align: right;\n",
       "    }\n",
       "</style>\n",
       "<table border=\"1\" class=\"dataframe\">\n",
       "  <thead>\n",
       "    <tr style=\"text-align: right;\">\n",
       "      <th></th>\n",
       "      <th>ID</th>\n",
       "      <th>Name</th>\n",
       "      <th>Age</th>\n",
       "      <th>OVA</th>\n",
       "      <th>Nationality</th>\n",
       "      <th>Club</th>\n",
       "      <th>Height</th>\n",
       "      <th>Weight</th>\n",
       "      <th>foot</th>\n",
       "      <th>Value</th>\n",
       "      <th>Wage</th>\n",
       "      <th>Release Clause</th>\n",
       "      <th>Contract</th>\n",
       "      <th>Attacking</th>\n",
       "      <th>Crossing</th>\n",
       "      <th>Finishing</th>\n",
       "      <th>Heading Accuracy</th>\n",
       "      <th>Short Passing</th>\n",
       "      <th>Volleys</th>\n",
       "      <th>Skill</th>\n",
       "      <th>Dribbling</th>\n",
       "      <th>Curve</th>\n",
       "      <th>FK Accuracy</th>\n",
       "      <th>Long Passing</th>\n",
       "      <th>Ball Control</th>\n",
       "      <th>Movement</th>\n",
       "      <th>Acceleration</th>\n",
       "      <th>Sprint Speed</th>\n",
       "      <th>Agility</th>\n",
       "      <th>Reactions</th>\n",
       "      <th>Balance</th>\n",
       "      <th>Power</th>\n",
       "      <th>Shot Power</th>\n",
       "      <th>Jumping</th>\n",
       "      <th>Stamina</th>\n",
       "      <th>Strength</th>\n",
       "      <th>Long Shots</th>\n",
       "      <th>Mentality</th>\n",
       "      <th>Aggression</th>\n",
       "      <th>Interceptions</th>\n",
       "      <th>Positioning</th>\n",
       "      <th>Vision</th>\n",
       "      <th>Penalties</th>\n",
       "      <th>Composure</th>\n",
       "      <th>Defending</th>\n",
       "      <th>Marking</th>\n",
       "    </tr>\n",
       "  </thead>\n",
       "  <tbody>\n",
       "    <tr>\n",
       "      <th>17120</th>\n",
       "      <td>259088</td>\n",
       "      <td>A. Medioub</td>\n",
       "      <td>22</td>\n",
       "      <td>64</td>\n",
       "      <td>France</td>\n",
       "      <td>CD Tondela</td>\n",
       "      <td>6'6\"</td>\n",
       "      <td>165lbs</td>\n",
       "      <td>Right</td>\n",
       "      <td>€550K</td>\n",
       "      <td>€2K</td>\n",
       "      <td>€0</td>\n",
       "      <td>Jun 30, 2021 On Loan</td>\n",
       "      <td>197</td>\n",
       "      <td>35</td>\n",
       "      <td>23</td>\n",
       "      <td>66</td>\n",
       "      <td>47</td>\n",
       "      <td>26.0</td>\n",
       "      <td>193</td>\n",
       "      <td>44</td>\n",
       "      <td>26.0</td>\n",
       "      <td>33</td>\n",
       "      <td>34</td>\n",
       "      <td>56</td>\n",
       "      <td>243</td>\n",
       "      <td>52</td>\n",
       "      <td>55</td>\n",
       "      <td>46.0</td>\n",
       "      <td>48</td>\n",
       "      <td>42.0</td>\n",
       "      <td>279</td>\n",
       "      <td>48</td>\n",
       "      <td>70.0</td>\n",
       "      <td>59</td>\n",
       "      <td>74</td>\n",
       "      <td>28</td>\n",
       "      <td>218</td>\n",
       "      <td>69</td>\n",
       "      <td>58.0</td>\n",
       "      <td>23.0</td>\n",
       "      <td>29.0</td>\n",
       "      <td>39</td>\n",
       "      <td>46.0</td>\n",
       "      <td>198</td>\n",
       "      <td>61</td>\n",
       "    </tr>\n",
       "    <tr>\n",
       "      <th>17121</th>\n",
       "      <td>259090</td>\n",
       "      <td>W. Rickard</td>\n",
       "      <td>18</td>\n",
       "      <td>56</td>\n",
       "      <td>Wales</td>\n",
       "      <td>Burnley</td>\n",
       "      <td>5'10\"</td>\n",
       "      <td>170lbs</td>\n",
       "      <td>Right</td>\n",
       "      <td>€130K</td>\n",
       "      <td>€3K</td>\n",
       "      <td>€273K</td>\n",
       "      <td>2020 ~ 2021</td>\n",
       "      <td>248</td>\n",
       "      <td>50</td>\n",
       "      <td>43</td>\n",
       "      <td>50</td>\n",
       "      <td>64</td>\n",
       "      <td>41.0</td>\n",
       "      <td>264</td>\n",
       "      <td>57</td>\n",
       "      <td>42.0</td>\n",
       "      <td>50</td>\n",
       "      <td>61</td>\n",
       "      <td>54</td>\n",
       "      <td>298</td>\n",
       "      <td>61</td>\n",
       "      <td>63</td>\n",
       "      <td>52.0</td>\n",
       "      <td>54</td>\n",
       "      <td>68.0</td>\n",
       "      <td>271</td>\n",
       "      <td>51</td>\n",
       "      <td>62.0</td>\n",
       "      <td>53</td>\n",
       "      <td>57</td>\n",
       "      <td>48</td>\n",
       "      <td>259</td>\n",
       "      <td>51</td>\n",
       "      <td>50.0</td>\n",
       "      <td>55.0</td>\n",
       "      <td>53.0</td>\n",
       "      <td>50</td>\n",
       "      <td>46.0</td>\n",
       "      <td>132</td>\n",
       "      <td>34</td>\n",
       "    </tr>\n",
       "    <tr>\n",
       "      <th>17122</th>\n",
       "      <td>259091</td>\n",
       "      <td>C. Barrett</td>\n",
       "      <td>18</td>\n",
       "      <td>56</td>\n",
       "      <td>England</td>\n",
       "      <td>Burnley</td>\n",
       "      <td>5'9\"</td>\n",
       "      <td>154lbs</td>\n",
       "      <td>Right</td>\n",
       "      <td>€130K</td>\n",
       "      <td>€2K</td>\n",
       "      <td>€273K</td>\n",
       "      <td>2020 ~ 2022</td>\n",
       "      <td>218</td>\n",
       "      <td>55</td>\n",
       "      <td>34</td>\n",
       "      <td>53</td>\n",
       "      <td>42</td>\n",
       "      <td>34.0</td>\n",
       "      <td>212</td>\n",
       "      <td>52</td>\n",
       "      <td>43.0</td>\n",
       "      <td>34</td>\n",
       "      <td>36</td>\n",
       "      <td>47</td>\n",
       "      <td>308</td>\n",
       "      <td>66</td>\n",
       "      <td>61</td>\n",
       "      <td>54.0</td>\n",
       "      <td>59</td>\n",
       "      <td>68.0</td>\n",
       "      <td>233</td>\n",
       "      <td>28</td>\n",
       "      <td>61.0</td>\n",
       "      <td>53</td>\n",
       "      <td>54</td>\n",
       "      <td>37</td>\n",
       "      <td>256</td>\n",
       "      <td>58</td>\n",
       "      <td>55.0</td>\n",
       "      <td>49.0</td>\n",
       "      <td>45.0</td>\n",
       "      <td>49</td>\n",
       "      <td>43.0</td>\n",
       "      <td>163</td>\n",
       "      <td>55</td>\n",
       "    </tr>\n",
       "    <tr>\n",
       "      <th>17123</th>\n",
       "      <td>259101</td>\n",
       "      <td>J. Gazibegović</td>\n",
       "      <td>20</td>\n",
       "      <td>62</td>\n",
       "      <td>Bosnia Herzegovina</td>\n",
       "      <td>SK Sturm Graz</td>\n",
       "      <td>5'9\"</td>\n",
       "      <td>148lbs</td>\n",
       "      <td>Right</td>\n",
       "      <td>€475K</td>\n",
       "      <td>€3K</td>\n",
       "      <td>€784K</td>\n",
       "      <td>2020 ~ 2023</td>\n",
       "      <td>223</td>\n",
       "      <td>62</td>\n",
       "      <td>26</td>\n",
       "      <td>52</td>\n",
       "      <td>60</td>\n",
       "      <td>23.0</td>\n",
       "      <td>258</td>\n",
       "      <td>55</td>\n",
       "      <td>43.0</td>\n",
       "      <td>46</td>\n",
       "      <td>57</td>\n",
       "      <td>57</td>\n",
       "      <td>349</td>\n",
       "      <td>72</td>\n",
       "      <td>70</td>\n",
       "      <td>74.0</td>\n",
       "      <td>56</td>\n",
       "      <td>77.0</td>\n",
       "      <td>261</td>\n",
       "      <td>51</td>\n",
       "      <td>72.0</td>\n",
       "      <td>57</td>\n",
       "      <td>48</td>\n",
       "      <td>33</td>\n",
       "      <td>257</td>\n",
       "      <td>61</td>\n",
       "      <td>58.0</td>\n",
       "      <td>46.0</td>\n",
       "      <td>56.0</td>\n",
       "      <td>36</td>\n",
       "      <td>54.0</td>\n",
       "      <td>180</td>\n",
       "      <td>57</td>\n",
       "    </tr>\n",
       "    <tr>\n",
       "      <th>17124</th>\n",
       "      <td>259105</td>\n",
       "      <td>Pablo Rodríguez</td>\n",
       "      <td>18</td>\n",
       "      <td>59</td>\n",
       "      <td>Spain</td>\n",
       "      <td>Lecce</td>\n",
       "      <td>5'10\"</td>\n",
       "      <td>154lbs</td>\n",
       "      <td>Right</td>\n",
       "      <td>€325K</td>\n",
       "      <td>€2K</td>\n",
       "      <td>€788K</td>\n",
       "      <td>2020 ~ 2024</td>\n",
       "      <td>254</td>\n",
       "      <td>32</td>\n",
       "      <td>64</td>\n",
       "      <td>59</td>\n",
       "      <td>45</td>\n",
       "      <td>54.0</td>\n",
       "      <td>235</td>\n",
       "      <td>57</td>\n",
       "      <td>45.0</td>\n",
       "      <td>48</td>\n",
       "      <td>30</td>\n",
       "      <td>55</td>\n",
       "      <td>317</td>\n",
       "      <td>68</td>\n",
       "      <td>72</td>\n",
       "      <td>59.0</td>\n",
       "      <td>53</td>\n",
       "      <td>65.0</td>\n",
       "      <td>288</td>\n",
       "      <td>58</td>\n",
       "      <td>62.0</td>\n",
       "      <td>55</td>\n",
       "      <td>52</td>\n",
       "      <td>61</td>\n",
       "      <td>224</td>\n",
       "      <td>32</td>\n",
       "      <td>11.0</td>\n",
       "      <td>64.0</td>\n",
       "      <td>50.0</td>\n",
       "      <td>67</td>\n",
       "      <td>57.0</td>\n",
       "      <td>35</td>\n",
       "      <td>12</td>\n",
       "    </tr>\n",
       "  </tbody>\n",
       "</table>\n",
       "</div>"
      ],
      "text/plain": [
       "           ID             Name  Age  OVA         Nationality           Club  \\\n",
       "17120  259088       A. Medioub   22   64              France     CD Tondela   \n",
       "17121  259090       W. Rickard   18   56               Wales        Burnley   \n",
       "17122  259091       C. Barrett   18   56             England        Burnley   \n",
       "17123  259101   J. Gazibegović   20   62  Bosnia Herzegovina  SK Sturm Graz   \n",
       "17124  259105  Pablo Rodríguez   18   59               Spain          Lecce   \n",
       "\n",
       "      Height  Weight   foot  Value Wage Release Clause              Contract  \\\n",
       "17120   6'6\"  165lbs  Right  €550K  €2K             €0  Jun 30, 2021 On Loan   \n",
       "17121  5'10\"  170lbs  Right  €130K  €3K          €273K           2020 ~ 2021   \n",
       "17122   5'9\"  154lbs  Right  €130K  €2K          €273K           2020 ~ 2022   \n",
       "17123   5'9\"  148lbs  Right  €475K  €3K          €784K           2020 ~ 2023   \n",
       "17124  5'10\"  154lbs  Right  €325K  €2K          €788K           2020 ~ 2024   \n",
       "\n",
       "       Attacking  Crossing  Finishing  Heading Accuracy  Short Passing  \\\n",
       "17120        197        35         23                66             47   \n",
       "17121        248        50         43                50             64   \n",
       "17122        218        55         34                53             42   \n",
       "17123        223        62         26                52             60   \n",
       "17124        254        32         64                59             45   \n",
       "\n",
       "       Volleys  Skill  Dribbling  Curve  FK Accuracy  Long Passing  \\\n",
       "17120     26.0    193         44   26.0           33            34   \n",
       "17121     41.0    264         57   42.0           50            61   \n",
       "17122     34.0    212         52   43.0           34            36   \n",
       "17123     23.0    258         55   43.0           46            57   \n",
       "17124     54.0    235         57   45.0           48            30   \n",
       "\n",
       "       Ball Control  Movement  Acceleration  Sprint Speed  Agility  Reactions  \\\n",
       "17120            56       243            52            55     46.0         48   \n",
       "17121            54       298            61            63     52.0         54   \n",
       "17122            47       308            66            61     54.0         59   \n",
       "17123            57       349            72            70     74.0         56   \n",
       "17124            55       317            68            72     59.0         53   \n",
       "\n",
       "       Balance  Power  Shot Power  Jumping  Stamina  Strength  Long Shots  \\\n",
       "17120     42.0    279          48     70.0       59        74          28   \n",
       "17121     68.0    271          51     62.0       53        57          48   \n",
       "17122     68.0    233          28     61.0       53        54          37   \n",
       "17123     77.0    261          51     72.0       57        48          33   \n",
       "17124     65.0    288          58     62.0       55        52          61   \n",
       "\n",
       "       Mentality  Aggression  Interceptions  Positioning  Vision  Penalties  \\\n",
       "17120        218          69           58.0         23.0    29.0         39   \n",
       "17121        259          51           50.0         55.0    53.0         50   \n",
       "17122        256          58           55.0         49.0    45.0         49   \n",
       "17123        257          61           58.0         46.0    56.0         36   \n",
       "17124        224          32           11.0         64.0    50.0         67   \n",
       "\n",
       "       Composure  Defending  Marking  \n",
       "17120       46.0        198       61  \n",
       "17121       46.0        132       34  \n",
       "17122       43.0        163       55  \n",
       "17123       54.0        180       57  \n",
       "17124       57.0         35       12  "
      ]
     },
     "execution_count": 9,
     "metadata": {},
     "output_type": "execute_result"
    }
   ],
   "source": [
    "df.tail()"
   ]
  },
  {
   "cell_type": "code",
   "execution_count": 10,
   "id": "50af7d94",
   "metadata": {
    "scrolled": true
   },
   "outputs": [
    {
     "name": "stdout",
     "output_type": "stream",
     "text": [
      "['ID', 'Name', 'Age', 'OVA', 'Nationality', 'Club', 'Height', 'Weight', 'foot', 'Value', 'Wage', 'Release Clause', 'Contract', 'Attacking', 'Crossing', 'Finishing', 'Heading Accuracy', 'Short Passing', 'Volleys', 'Skill', 'Dribbling', 'Curve', 'FK Accuracy', 'Long Passing', 'Ball Control', 'Movement', 'Acceleration', 'Sprint Speed', 'Agility', 'Reactions', 'Balance', 'Power', 'Shot Power', 'Jumping', 'Stamina', 'Strength', 'Long Shots', 'Mentality', 'Aggression', 'Interceptions', 'Positioning', 'Vision', 'Penalties', 'Composure', 'Defending', 'Marking']\n"
     ]
    }
   ],
   "source": [
    "# Column names\n",
    "print(df.columns.tolist())"
   ]
  },
  {
   "cell_type": "markdown",
   "id": "b484baee",
   "metadata": {},
   "source": [
    "## One atribute test"
   ]
  },
  {
   "cell_type": "markdown",
   "id": "53951a5f",
   "metadata": {},
   "source": [
    "### Z-test"
   ]
  },
  {
   "cell_type": "markdown",
   "id": "088b6922",
   "metadata": {},
   "source": [
    "#### Statistical test and sample distribution"
   ]
  },
  {
   "cell_type": "markdown",
   "id": "dd9790b2",
   "metadata": {},
   "source": [
    "Our data is interval/ratio, we have one group and we know the standard deviation of the population. We assume that the distribution of the sample is normal, the sample size is greater thant 30 and is drawn at random from the population. The samples are independent from each other. So we choose Z-test. "
   ]
  },
  {
   "cell_type": "markdown",
   "id": "9895864b",
   "metadata": {},
   "source": [
    "**Z-test** is a statistical method to determine whether the distribution of the test statistics can be approximated by a normal distribution. It is the method to determine whether two sample means are approximately the same or different when their variance is known and the sample size is large (should be >= 30).\n",
    "\n",
    "The **sample** size should be greater than 30. Otherwise, we should use the t-test. Samples should be drawn at random from the population.Samples that are drawn from the population should be independent of each other.\n",
    "\n",
    "The **standard deviation** of the population should be known.\n",
    "\n",
    "The data should be **normally distributed**, however for large sample size, it is assumed to have a normal distribution.\n",
    "\n",
    "A **hypothesis** is an educated guess/claim about a particular property of an object. Hypothesis testing is a way to validate the claim of an experiment.\n",
    "\n",
    "- Null Hypothesis: The null hypothesis is a statement that the value of a population parameter (such as proportion, mean, or standard deviation) is equal to some claimed value. We either reject or fail to reject the null hypothesis. Null Hypothesis is denoted by H0.\n",
    "- Alternate Hypothesis: The alternative hypothesis is the statement that the parameter has a value that is different from the claimed value. It is denoted by HA.\n",
    "\n",
    "**Level of significance:** It means the degree of significance in which we accept or reject the null-hypothesis. Since in most of the experiments 100% accuracy is not possible for accepting or rejecting a hypothesis, so we, therefore, select a level of significance. It is denoted by alpha (∝).\n",
    "\n",
    "**Steps to perform Z-test:**\n",
    "\n",
    "- First, identify the null and alternate hypotheses.\n",
    "- Determine the level of significance (∝).\n",
    "- Find the critical value of z in the z-test using\n",
    "- Calculate the z-test statistics\n",
    "- Compare with the hypothesis and decide whether to reject or not to reject the null hypothesis.\n",
    "\n",
    "**Two-tailed test:** In this test, our region of rejection is located to both extremes of the distribution. Here our null hypothesis is that the claimed value is equal to the mean population value."
   ]
  },
  {
   "cell_type": "markdown",
   "id": "8118b5a9",
   "metadata": {},
   "source": [
    "#### Hypothesis"
   ]
  },
  {
   "cell_type": "markdown",
   "id": "51ae6b5b",
   "metadata": {},
   "source": [
    "From a random sample of FIFA players we want to know if the mean is equal to the population mean:\n",
    "\n",
    "H0 : μ = 75 kg The sample mean is equal to the know population mean.\n",
    "\n",
    "HA : μ ≠ 75 kg The sample mean in not equal to the known population mean."
   ]
  },
  {
   "cell_type": "markdown",
   "id": "f38602ee",
   "metadata": {},
   "source": [
    "#### Data cleaning and transformation"
   ]
  },
  {
   "cell_type": "code",
   "execution_count": 11,
   "id": "8ebfe210",
   "metadata": {},
   "outputs": [],
   "source": [
    "# Erasing lbs from Weight\n",
    "cleaned = []\n",
    "txt = df['Weight']\n",
    "for i in txt:\n",
    "    t = re.sub(\"lbs\", \"\", i)\n",
    "    cleaned.append(re.sub(r'^RT[\\s]+', '', t))\n",
    "df['Weight'] = cleaned\n",
    "df['Weight']=df['Weight'].astype('float')"
   ]
  },
  {
   "cell_type": "code",
   "execution_count": 12,
   "id": "ef0d5dda",
   "metadata": {},
   "outputs": [
    {
     "data": {
      "text/plain": [
       "0        82.100219\n",
       "1        64.863709\n",
       "2        73.028372\n",
       "3        74.842741\n",
       "4        68.038855\n",
       "           ...    \n",
       "17120    74.842741\n",
       "17121    77.110703\n",
       "17122    69.853225\n",
       "17123    67.131671\n",
       "17124    69.853225\n",
       "Name: Kilos, Length: 17125, dtype: float64"
      ]
     },
     "execution_count": 12,
     "metadata": {},
     "output_type": "execute_result"
    }
   ],
   "source": [
    "# Creating a colum that transforms pouds to kilos \n",
    "df['Kilos']= df['Weight'] * 0.45359237\n",
    "df.Kilos"
   ]
  },
  {
   "cell_type": "code",
   "execution_count": 13,
   "id": "1d18bffb",
   "metadata": {
    "scrolled": true
   },
   "outputs": [
    {
     "data": {
      "text/plain": [
       "count    17125.000000\n",
       "mean        75.141596\n",
       "std          7.175008\n",
       "min         49.895161\n",
       "25%         69.853225\n",
       "50%         74.842741\n",
       "75%         79.832257\n",
       "max        110.222946\n",
       "Name: Kilos, dtype: float64"
      ]
     },
     "execution_count": 13,
     "metadata": {},
     "output_type": "execute_result"
    }
   ],
   "source": [
    "# Statistics for Kilos\n",
    "df['Kilos'].describe()"
   ]
  },
  {
   "cell_type": "code",
   "execution_count": 16,
   "id": "9d5a1504",
   "metadata": {},
   "outputs": [],
   "source": [
    "sample_df=df['Kilos'].sample(50)"
   ]
  },
  {
   "cell_type": "code",
   "execution_count": 18,
   "id": "facf235a",
   "metadata": {
    "scrolled": true
   },
   "outputs": [
    {
     "data": {
      "image/png": "[encoded data removed]",
      "text/plain": [
       "<Figure size 1152x432 with 1 Axes>"
      ]
     },
     "metadata": {
      "needs_background": "light"
     },
     "output_type": "display_data"
    }
   ],
   "source": [
    "# Histograma of kilos\n",
    "plt.figure(figsize=(16, 6))\n",
    "sns.histplot(data=sample_df, kde=True)\n",
    "\n",
    "plt.title('Kilograms of football players');\n",
    "plt.xlabel('Kilos');"
   ]
  },
  {
   "cell_type": "markdown",
   "id": "ec34ab71",
   "metadata": {},
   "source": [
    "The shape of the histograf has sililarities with a normal distribution thought the tails are longer."
   ]
  },
  {
   "cell_type": "code",
   "execution_count": 19,
   "id": "14e19fb9",
   "metadata": {},
   "outputs": [
    {
     "name": "stdout",
     "output_type": "stream",
     "text": [
      "stat=0.971, p=0.260\n",
      "Sample looks Gaussian (fail to reject H0)\n"
     ]
    }
   ],
   "source": [
    "## Shapiro-Wilk Test (test of normality)\n",
    "stat, p = shapiro(sample_df)\n",
    "print('stat=%.3f, p=%.3f' % (stat, p))\n",
    "# interpret\n",
    "alpha = 0.05\n",
    "if p > alpha:\n",
    "\tprint('Sample looks Gaussian (fail to reject H0)')\n",
    "else:\n",
    "\tprint('Sample does not look Gaussian (reject H0)')"
   ]
  },
  {
   "cell_type": "markdown",
   "id": "ed63c841",
   "metadata": {},
   "source": [
    "The Shapiro-Wilk test evaluates a data sample and quantifies how likely it is that the data was drawn from a Gaussian distribution\n",
    "p <= alpha: reject H0, not normal.\n",
    "p > alpha: fail to reject H0, normal.\n",
    "This means that, in general, we are seeking results with a larger p-value to confirm that our sample was likely drawn from a Gaussian distribution.\n",
    "A result above 5% does not mean that the null hypothesis is true. It means that it is very likely true given available evidence. The p-value is not the probability of the data fitting a Gaussian distribution; it can be thought of as a value that helps us interpret the statistical test."
   ]
  },
  {
   "cell_type": "code",
   "execution_count": 20,
   "id": "1cdef135",
   "metadata": {},
   "outputs": [
    {
     "name": "stdout",
     "output_type": "stream",
     "text": [
      "Statistics=5.318, p=0.070\n",
      "Sample looks Gaussian (fail to reject H0)\n"
     ]
    }
   ],
   "source": [
    "# D'Agostino and Pearson's Test\n",
    "from scipy.stats import normaltest\n",
    "# normality test\n",
    "stat, p = normaltest(sample_df)\n",
    "print('Statistics=%.3f, p=%.3f' % (stat, p))\n",
    "# interpret\n",
    "alpha = 0.05\n",
    "if p > alpha:\n",
    "\tprint('Sample looks Gaussian (fail to reject H0)')\n",
    "else:\n",
    "\tprint('Sample does not look Gaussian (reject H0)')"
   ]
  },
  {
   "cell_type": "markdown",
   "id": "563281d8",
   "metadata": {},
   "source": [
    "The D’Agostino’s K^2 test calculates summary statistics from the data, namely kurtosis and skewness, to determine if the data distribution departs from the normal distribution. Again, fails to reject H0, thus looks Gaussian."
   ]
  },
  {
   "cell_type": "code",
   "execution_count": 21,
   "id": "dcb8efb0",
   "metadata": {},
   "outputs": [
    {
     "name": "stdout",
     "output_type": "stream",
     "text": [
      "Statistic: 0.269\n",
      "15.000: 0.538, data looks normal (fail to reject H0)\n",
      "10.000: 0.613, data looks normal (fail to reject H0)\n",
      "5.000: 0.736, data looks normal (fail to reject H0)\n",
      "2.500: 0.858, data looks normal (fail to reject H0)\n",
      "1.000: 1.021, data looks normal (fail to reject H0)\n"
     ]
    }
   ],
   "source": [
    "# Anderson-Darling Test\n",
    "from scipy.stats import anderson\n",
    "# normality test\n",
    "result = anderson(sample_df)\n",
    "print('Statistic: %.3f' % result.statistic)\n",
    "p = 0\n",
    "for i in range(len(result.critical_values)):\n",
    "\tsl, cv = result.significance_level[i], result.critical_values[i]\n",
    "\tif result.statistic < result.critical_values[i]:\n",
    "\t\tprint('%.3f: %.3f, data looks normal (fail to reject H0)' % (sl, cv))\n",
    "\telse:\n",
    "\t\tprint('%.3f: %.3f, data does not look normal (reject H0)' % (sl, cv))"
   ]
  },
  {
   "cell_type": "markdown",
   "id": "63c75a12",
   "metadata": {},
   "source": [
    "Anderson-Darling Test also fails to reject H0, thus the distribution is normal. So we proceed to apply the Z-test, that is a parametric test."
   ]
  },
  {
   "cell_type": "code",
   "execution_count": 22,
   "id": "b8cbcc8a",
   "metadata": {},
   "outputs": [
    {
     "name": "stdout",
     "output_type": "stream",
     "text": [
      "mean=76.68 stdv=7.21\n",
      "stat=1.490, p=0.068\n",
      "Fail to Reject Null Hypothesis\n"
     ]
    }
   ],
   "source": [
    "# Z-test\n",
    "import math\n",
    "import numpy as np\n",
    "from numpy.random import randn\n",
    "from statsmodels.stats.weightstats import ztest\n",
    "\n",
    "# Our alpha is 0.005 and the data has 50 numbers having mean 110 and sd 15\n",
    "# similar to the IQ scores data we assume above\n",
    "alpha =0.05\n",
    "null_mean =75.14\n",
    "\n",
    "# print mean and sd\n",
    "print('mean=%.2f stdv=%.2f' % (np.mean(sample_df), np.std(sample_df)))\n",
    "\n",
    "# now we perform the test. In this function, we passed data, in the value parameter\n",
    "# we passed mean value in the null hypothesis, in alternative hypothesis we check whether the\n",
    "# mean is larger\n",
    "\n",
    "ztest_Score, p_value= ztest(sample_df,value = null_mean, alternative='larger')\n",
    "# the function outputs a p_value and z-score corresponding to that value, we compare the\n",
    "# p-value with alpha, if it is greater than alpha then we do not null hypothesis\n",
    "# else we reject it.\n",
    "print('stat=%.3f, p=%.3f' % (ztest_Score, p_value))\n",
    "\n",
    "\n",
    "if(p_value < alpha):\n",
    "    print(\"Reject Null Hypothesis\")\n",
    "else:\n",
    "    print(\"Fail to Reject Null Hypothesis\")\n"
   ]
  },
  {
   "cell_type": "markdown",
   "id": "ac873f12",
   "metadata": {},
   "source": [
    "#### Conclusion"
   ]
  },
  {
   "cell_type": "markdown",
   "id": "5bf0e4b2",
   "metadata": {},
   "source": [
    "With a significance level of 0.05 (Type I error rate or tolerance for making Type I error) and a probability (p-value) of 0.068, we fail  to reject the Null hypothesis H0 : μ = 75 kg The sample mean of FIFA players average kilos is equal to the know population mean. It doest'n mean that we have proved that the null hypothesis is \"true\"."
   ]
  },
  {
   "cell_type": "markdown",
   "id": "4de5c54f",
   "metadata": {},
   "source": [
    "## Exercise 2\n"
   ]
  },
  {
   "cell_type": "markdown",
   "id": "e1599a34",
   "metadata": {},
   "source": [
    "Select two other atributes, calculate  p-value and say if you reject the null hypothesis by taking a 5% alpha.\n",
    "\n"
   ]
  },
  {
   "cell_type": "markdown",
   "id": "c6d864b8",
   "metadata": {},
   "source": [
    "**Statistical test and sample distribution**\n",
    "Our data is interval/ratio, we have one group and we know the standard deviation of the population. We assume that the distribution of the sample is normal, the sample size is greater thant 30 and is drawn at random from the population. The samples are independent from each other. In this case we will use Student's t-test."
   ]
  },
  {
   "cell_type": "markdown",
   "id": "c8035f5f",
   "metadata": {},
   "source": [
    "#### First attempt: Student’s t-test"
   ]
  },
  {
   "cell_type": "markdown",
   "id": "52abbb65",
   "metadata": {},
   "source": [
    "Student’s t-test or t-test is a parametric inferential statistical method used for comparing the means between two different groups (two-sample t-test) or with the specific value (one-sample t-test).In contrast to the z-test, which requires a larger sample size, the t-test is specially developed for the small sample size data (n ≤ 30). t-test is also applies for extremely small sample size data (n ≤ 5).\n",
    "\n",
    "**Assumptions:**\n",
    "- Dependent variable should have an approximately normal distribution (Shapiro-Wilks Test).\n",
    "- Observations are independent of each other.\n",
    "\n",
    "**Hypotheses:**\n",
    "\n",
    "- Null hypothesis: Sample mean is equal to the hypothesized or known population mean-\n",
    "- Alternative hypothesis: Sample mean is not equal to the hypothesized or known population mean (two-tailed or two-sided)\n"
   ]
  },
  {
   "cell_type": "markdown",
   "id": "3349ffc6",
   "metadata": {},
   "source": [
    "#### Hypothesis"
   ]
  },
  {
   "cell_type": "markdown",
   "id": "f5fece54",
   "metadata": {},
   "source": [
    "\n",
    "H0 : μ = The average weight of FC Barcelona players is equal to the average weight of other club's players.\n",
    "\n",
    "HA : μ ≠ The average weight of FC Barcelona players is not equal to the average weight of other club's players."
   ]
  },
  {
   "cell_type": "markdown",
   "id": "18f23487",
   "metadata": {},
   "source": [
    "#### Data cleaning and slicing"
   ]
  },
  {
   "cell_type": "code",
   "execution_count": 23,
   "id": "47d892f7",
   "metadata": {},
   "outputs": [
    {
     "data": {
      "text/html": [
       "<div>\n",
       "<style scoped>\n",
       "    .dataframe tbody tr th:only-of-type {\n",
       "        vertical-align: middle;\n",
       "    }\n",
       "\n",
       "    .dataframe tbody tr th {\n",
       "        vertical-align: top;\n",
       "    }\n",
       "\n",
       "    .dataframe thead th {\n",
       "        text-align: right;\n",
       "    }\n",
       "</style>\n",
       "<table border=\"1\" class=\"dataframe\">\n",
       "  <thead>\n",
       "    <tr style=\"text-align: right;\">\n",
       "      <th></th>\n",
       "      <th>count</th>\n",
       "      <th>mean</th>\n",
       "      <th>std</th>\n",
       "      <th>min</th>\n",
       "      <th>25%</th>\n",
       "      <th>50%</th>\n",
       "      <th>75%</th>\n",
       "      <th>max</th>\n",
       "    </tr>\n",
       "    <tr>\n",
       "      <th>Club</th>\n",
       "      <th></th>\n",
       "      <th></th>\n",
       "      <th></th>\n",
       "      <th></th>\n",
       "      <th></th>\n",
       "      <th></th>\n",
       "      <th></th>\n",
       "      <th></th>\n",
       "    </tr>\n",
       "  </thead>\n",
       "  <tbody>\n",
       "    <tr>\n",
       "      <th>1. FC Heidenheim 1846</th>\n",
       "      <td>25.0</td>\n",
       "      <td>79.233515</td>\n",
       "      <td>6.430408</td>\n",
       "      <td>66.224486</td>\n",
       "      <td>74.842741</td>\n",
       "      <td>79.832257</td>\n",
       "      <td>83.007404</td>\n",
       "      <td>92.079251</td>\n",
       "    </tr>\n",
       "    <tr>\n",
       "      <th>1. FC Kaiserslautern</th>\n",
       "      <td>29.0</td>\n",
       "      <td>76.641469</td>\n",
       "      <td>6.490474</td>\n",
       "      <td>67.131671</td>\n",
       "      <td>72.121187</td>\n",
       "      <td>77.110703</td>\n",
       "      <td>79.832257</td>\n",
       "      <td>91.172066</td>\n",
       "    </tr>\n",
       "    <tr>\n",
       "      <th>1. FC Köln</th>\n",
       "      <td>31.0</td>\n",
       "      <td>79.027496</td>\n",
       "      <td>5.715635</td>\n",
       "      <td>69.853225</td>\n",
       "      <td>74.389149</td>\n",
       "      <td>78.925072</td>\n",
       "      <td>83.007404</td>\n",
       "      <td>89.811289</td>\n",
       "    </tr>\n",
       "    <tr>\n",
       "      <th>1. FC Magdeburg</th>\n",
       "      <td>20.0</td>\n",
       "      <td>78.403441</td>\n",
       "      <td>4.301330</td>\n",
       "      <td>69.853225</td>\n",
       "      <td>76.203518</td>\n",
       "      <td>78.471480</td>\n",
       "      <td>80.399248</td>\n",
       "      <td>87.996920</td>\n",
       "    </tr>\n",
       "    <tr>\n",
       "      <th>1. FC Nürnberg</th>\n",
       "      <td>31.0</td>\n",
       "      <td>78.515376</td>\n",
       "      <td>7.237942</td>\n",
       "      <td>63.049339</td>\n",
       "      <td>73.935556</td>\n",
       "      <td>79.832257</td>\n",
       "      <td>83.007404</td>\n",
       "      <td>92.986436</td>\n",
       "    </tr>\n",
       "    <tr>\n",
       "      <th>...</th>\n",
       "      <td>...</td>\n",
       "      <td>...</td>\n",
       "      <td>...</td>\n",
       "      <td>...</td>\n",
       "      <td>...</td>\n",
       "      <td>...</td>\n",
       "      <td>...</td>\n",
       "      <td>...</td>\n",
       "    </tr>\n",
       "    <tr>\n",
       "      <th>Çaykur Rizespor</th>\n",
       "      <td>24.0</td>\n",
       "      <td>76.638211</td>\n",
       "      <td>6.064198</td>\n",
       "      <td>60.781378</td>\n",
       "      <td>72.121187</td>\n",
       "      <td>78.017888</td>\n",
       "      <td>82.100219</td>\n",
       "      <td>86.182550</td>\n",
       "    </tr>\n",
       "    <tr>\n",
       "      <th>Évian Thonon Gaillard FC</th>\n",
       "      <td>2.0</td>\n",
       "      <td>77.564295</td>\n",
       "      <td>0.641476</td>\n",
       "      <td>77.110703</td>\n",
       "      <td>77.337499</td>\n",
       "      <td>77.564295</td>\n",
       "      <td>77.791091</td>\n",
       "      <td>78.017888</td>\n",
       "    </tr>\n",
       "    <tr>\n",
       "      <th>Örebro SK</th>\n",
       "      <td>11.0</td>\n",
       "      <td>74.801505</td>\n",
       "      <td>5.534773</td>\n",
       "      <td>63.049339</td>\n",
       "      <td>73.028372</td>\n",
       "      <td>74.842741</td>\n",
       "      <td>78.925072</td>\n",
       "      <td>82.100219</td>\n",
       "    </tr>\n",
       "    <tr>\n",
       "      <th>Östersunds FK</th>\n",
       "      <td>21.0</td>\n",
       "      <td>72.553180</td>\n",
       "      <td>6.086385</td>\n",
       "      <td>64.863709</td>\n",
       "      <td>68.946040</td>\n",
       "      <td>73.028372</td>\n",
       "      <td>73.935556</td>\n",
       "      <td>87.996920</td>\n",
       "    </tr>\n",
       "    <tr>\n",
       "      <th>Śląsk Wrocław</th>\n",
       "      <td>19.0</td>\n",
       "      <td>74.317529</td>\n",
       "      <td>6.940710</td>\n",
       "      <td>59.874193</td>\n",
       "      <td>69.853225</td>\n",
       "      <td>74.842741</td>\n",
       "      <td>78.017888</td>\n",
       "      <td>91.172066</td>\n",
       "    </tr>\n",
       "  </tbody>\n",
       "</table>\n",
       "<p>917 rows × 8 columns</p>\n",
       "</div>"
      ],
      "text/plain": [
       "                          count       mean       std        min        25%  \\\n",
       "Club                                                                         \n",
       "1. FC Heidenheim 1846      25.0  79.233515  6.430408  66.224486  74.842741   \n",
       "1. FC Kaiserslautern       29.0  76.641469  6.490474  67.131671  72.121187   \n",
       "1. FC Köln                 31.0  79.027496  5.715635  69.853225  74.389149   \n",
       "1. FC Magdeburg            20.0  78.403441  4.301330  69.853225  76.203518   \n",
       "1. FC Nürnberg             31.0  78.515376  7.237942  63.049339  73.935556   \n",
       "...                         ...        ...       ...        ...        ...   \n",
       "Çaykur Rizespor            24.0  76.638211  6.064198  60.781378  72.121187   \n",
       "Évian Thonon Gaillard FC    2.0  77.564295  0.641476  77.110703  77.337499   \n",
       "Örebro SK                  11.0  74.801505  5.534773  63.049339  73.028372   \n",
       "Östersunds FK              21.0  72.553180  6.086385  64.863709  68.946040   \n",
       "Śląsk Wrocław              19.0  74.317529  6.940710  59.874193  69.853225   \n",
       "\n",
       "                                50%        75%        max  \n",
       "Club                                                       \n",
       "1. FC Heidenheim 1846     79.832257  83.007404  92.079251  \n",
       "1. FC Kaiserslautern      77.110703  79.832257  91.172066  \n",
       "1. FC Köln                78.925072  83.007404  89.811289  \n",
       "1. FC Magdeburg           78.471480  80.399248  87.996920  \n",
       "1. FC Nürnberg            79.832257  83.007404  92.986436  \n",
       "...                             ...        ...        ...  \n",
       "Çaykur Rizespor           78.017888  82.100219  86.182550  \n",
       "Évian Thonon Gaillard FC  77.564295  77.791091  78.017888  \n",
       "Örebro SK                 74.842741  78.925072  82.100219  \n",
       "Östersunds FK             73.028372  73.935556  87.996920  \n",
       "Śląsk Wrocław             74.842741  78.017888  91.172066  \n",
       "\n",
       "[917 rows x 8 columns]"
      ]
     },
     "execution_count": 23,
     "metadata": {},
     "output_type": "execute_result"
    }
   ],
   "source": [
    "# Exploring data\n",
    "df.groupby('Club')['Kilos'].describe()"
   ]
  },
  {
   "cell_type": "code",
   "execution_count": 24,
   "id": "b704f3b1",
   "metadata": {},
   "outputs": [
    {
     "data": {
      "text/html": [
       "<div>\n",
       "<style scoped>\n",
       "    .dataframe tbody tr th:only-of-type {\n",
       "        vertical-align: middle;\n",
       "    }\n",
       "\n",
       "    .dataframe tbody tr th {\n",
       "        vertical-align: top;\n",
       "    }\n",
       "\n",
       "    .dataframe thead th {\n",
       "        text-align: right;\n",
       "    }\n",
       "</style>\n",
       "<table border=\"1\" class=\"dataframe\">\n",
       "  <thead>\n",
       "    <tr style=\"text-align: right;\">\n",
       "      <th></th>\n",
       "      <th>Club</th>\n",
       "      <th>Age</th>\n",
       "      <th>Kilos</th>\n",
       "    </tr>\n",
       "  </thead>\n",
       "  <tbody>\n",
       "    <tr>\n",
       "      <th>0</th>\n",
       "      <td>Udinese</td>\n",
       "      <td>33</td>\n",
       "      <td>82.100219</td>\n",
       "    </tr>\n",
       "    <tr>\n",
       "      <th>1</th>\n",
       "      <td>KAS Eupen</td>\n",
       "      <td>37</td>\n",
       "      <td>64.863709</td>\n",
       "    </tr>\n",
       "    <tr>\n",
       "      <th>2</th>\n",
       "      <td>Coventry City</td>\n",
       "      <td>33</td>\n",
       "      <td>73.028372</td>\n",
       "    </tr>\n",
       "    <tr>\n",
       "      <th>3</th>\n",
       "      <td>Sunderland</td>\n",
       "      <td>36</td>\n",
       "      <td>74.842741</td>\n",
       "    </tr>\n",
       "    <tr>\n",
       "      <th>4</th>\n",
       "      <td>Vissel Kobe</td>\n",
       "      <td>36</td>\n",
       "      <td>68.038855</td>\n",
       "    </tr>\n",
       "    <tr>\n",
       "      <th>...</th>\n",
       "      <td>...</td>\n",
       "      <td>...</td>\n",
       "      <td>...</td>\n",
       "    </tr>\n",
       "    <tr>\n",
       "      <th>17120</th>\n",
       "      <td>CD Tondela</td>\n",
       "      <td>22</td>\n",
       "      <td>74.842741</td>\n",
       "    </tr>\n",
       "    <tr>\n",
       "      <th>17121</th>\n",
       "      <td>Burnley</td>\n",
       "      <td>18</td>\n",
       "      <td>77.110703</td>\n",
       "    </tr>\n",
       "    <tr>\n",
       "      <th>17122</th>\n",
       "      <td>Burnley</td>\n",
       "      <td>18</td>\n",
       "      <td>69.853225</td>\n",
       "    </tr>\n",
       "    <tr>\n",
       "      <th>17123</th>\n",
       "      <td>SK Sturm Graz</td>\n",
       "      <td>20</td>\n",
       "      <td>67.131671</td>\n",
       "    </tr>\n",
       "    <tr>\n",
       "      <th>17124</th>\n",
       "      <td>Lecce</td>\n",
       "      <td>18</td>\n",
       "      <td>69.853225</td>\n",
       "    </tr>\n",
       "  </tbody>\n",
       "</table>\n",
       "<p>17125 rows × 3 columns</p>\n",
       "</div>"
      ],
      "text/plain": [
       "                Club  Age      Kilos\n",
       "0            Udinese   33  82.100219\n",
       "1          KAS Eupen   37  64.863709\n",
       "2      Coventry City   33  73.028372\n",
       "3         Sunderland   36  74.842741\n",
       "4        Vissel Kobe   36  68.038855\n",
       "...              ...  ...        ...\n",
       "17120     CD Tondela   22  74.842741\n",
       "17121        Burnley   18  77.110703\n",
       "17122        Burnley   18  69.853225\n",
       "17123  SK Sturm Graz   20  67.131671\n",
       "17124          Lecce   18  69.853225\n",
       "\n",
       "[17125 rows x 3 columns]"
      ]
     },
     "execution_count": 24,
     "metadata": {},
     "output_type": "execute_result"
    }
   ],
   "source": [
    "# Create a new df\n",
    "df_2 = pd.DataFrame(df, columns=['Club','Age','Kilos'])\n",
    "df_2"
   ]
  },
  {
   "cell_type": "code",
   "execution_count": 25,
   "id": "b6741f31",
   "metadata": {},
   "outputs": [
    {
     "data": {
      "text/plain": [
       "Club     23\n",
       "Age       0\n",
       "Kilos     0\n",
       "dtype: int64"
      ]
     },
     "execution_count": 25,
     "metadata": {},
     "output_type": "execute_result"
    }
   ],
   "source": [
    "# Droping null\n",
    "df_2.isnull().sum()"
   ]
  },
  {
   "cell_type": "code",
   "execution_count": 26,
   "id": "76ceb476",
   "metadata": {},
   "outputs": [],
   "source": [
    "df_3= df_2.dropna()"
   ]
  },
  {
   "cell_type": "code",
   "execution_count": 27,
   "id": "e5a7369a",
   "metadata": {},
   "outputs": [
    {
     "data": {
      "text/plain": [
       "Club     0\n",
       "Age      0\n",
       "Kilos    0\n",
       "dtype: int64"
      ]
     },
     "execution_count": 27,
     "metadata": {},
     "output_type": "execute_result"
    }
   ],
   "source": [
    "df_3.isnull().sum()"
   ]
  },
  {
   "cell_type": "code",
   "execution_count": 28,
   "id": "9ae8cba4",
   "metadata": {},
   "outputs": [],
   "source": [
    "# Filtering FC. Barcelona\n",
    "Barcelona= df_3[df_3[\"Club\"].str.contains(\"FC Barcelona\") == True].sample(19)"
   ]
  },
  {
   "cell_type": "code",
   "execution_count": 29,
   "id": "58eeed26",
   "metadata": {
    "scrolled": true
   },
   "outputs": [
    {
     "data": {
      "text/html": [
       "<div>\n",
       "<style scoped>\n",
       "    .dataframe tbody tr th:only-of-type {\n",
       "        vertical-align: middle;\n",
       "    }\n",
       "\n",
       "    .dataframe tbody tr th {\n",
       "        vertical-align: top;\n",
       "    }\n",
       "\n",
       "    .dataframe thead th {\n",
       "        text-align: right;\n",
       "    }\n",
       "</style>\n",
       "<table border=\"1\" class=\"dataframe\">\n",
       "  <thead>\n",
       "    <tr style=\"text-align: right;\">\n",
       "      <th></th>\n",
       "      <th>Age</th>\n",
       "      <th>Kilos</th>\n",
       "    </tr>\n",
       "  </thead>\n",
       "  <tbody>\n",
       "    <tr>\n",
       "      <th>count</th>\n",
       "      <td>19.000000</td>\n",
       "      <td>19.000000</td>\n",
       "    </tr>\n",
       "    <tr>\n",
       "      <th>mean</th>\n",
       "      <td>24.421053</td>\n",
       "      <td>71.070762</td>\n",
       "    </tr>\n",
       "    <tr>\n",
       "      <th>std</th>\n",
       "      <td>5.294817</td>\n",
       "      <td>7.339002</td>\n",
       "    </tr>\n",
       "    <tr>\n",
       "      <th>min</th>\n",
       "      <td>17.000000</td>\n",
       "      <td>55.791862</td>\n",
       "    </tr>\n",
       "    <tr>\n",
       "      <th>25%</th>\n",
       "      <td>20.000000</td>\n",
       "      <td>67.585263</td>\n",
       "    </tr>\n",
       "    <tr>\n",
       "      <th>50%</th>\n",
       "      <td>23.000000</td>\n",
       "      <td>72.121187</td>\n",
       "    </tr>\n",
       "    <tr>\n",
       "      <th>75%</th>\n",
       "      <td>28.500000</td>\n",
       "      <td>75.523130</td>\n",
       "    </tr>\n",
       "    <tr>\n",
       "      <th>max</th>\n",
       "      <td>35.000000</td>\n",
       "      <td>83.914588</td>\n",
       "    </tr>\n",
       "  </tbody>\n",
       "</table>\n",
       "</div>"
      ],
      "text/plain": [
       "             Age      Kilos\n",
       "count  19.000000  19.000000\n",
       "mean   24.421053  71.070762\n",
       "std     5.294817   7.339002\n",
       "min    17.000000  55.791862\n",
       "25%    20.000000  67.585263\n",
       "50%    23.000000  72.121187\n",
       "75%    28.500000  75.523130\n",
       "max    35.000000  83.914588"
      ]
     },
     "execution_count": 29,
     "metadata": {},
     "output_type": "execute_result"
    }
   ],
   "source": [
    "Barcelona.describe()"
   ]
  },
  {
   "cell_type": "code",
   "execution_count": 30,
   "id": "f262cefc",
   "metadata": {},
   "outputs": [],
   "source": [
    "# Filtering Other clubs\n",
    "Other=df_3[df_3[\"Club\"].str.contains(\"FC Barcelona\") != True].sample(19)"
   ]
  },
  {
   "cell_type": "code",
   "execution_count": 31,
   "id": "91a11645",
   "metadata": {},
   "outputs": [
    {
     "data": {
      "text/html": [
       "<div>\n",
       "<style scoped>\n",
       "    .dataframe tbody tr th:only-of-type {\n",
       "        vertical-align: middle;\n",
       "    }\n",
       "\n",
       "    .dataframe tbody tr th {\n",
       "        vertical-align: top;\n",
       "    }\n",
       "\n",
       "    .dataframe thead th {\n",
       "        text-align: right;\n",
       "    }\n",
       "</style>\n",
       "<table border=\"1\" class=\"dataframe\">\n",
       "  <thead>\n",
       "    <tr style=\"text-align: right;\">\n",
       "      <th></th>\n",
       "      <th>Age</th>\n",
       "      <th>Kilos</th>\n",
       "    </tr>\n",
       "  </thead>\n",
       "  <tbody>\n",
       "    <tr>\n",
       "      <th>count</th>\n",
       "      <td>19.000000</td>\n",
       "      <td>19.000000</td>\n",
       "    </tr>\n",
       "    <tr>\n",
       "      <th>mean</th>\n",
       "      <td>24.421053</td>\n",
       "      <td>73.983303</td>\n",
       "    </tr>\n",
       "    <tr>\n",
       "      <th>std</th>\n",
       "      <td>4.400957</td>\n",
       "      <td>7.028478</td>\n",
       "    </tr>\n",
       "    <tr>\n",
       "      <th>min</th>\n",
       "      <td>18.000000</td>\n",
       "      <td>63.956524</td>\n",
       "    </tr>\n",
       "    <tr>\n",
       "      <th>25%</th>\n",
       "      <td>21.500000</td>\n",
       "      <td>69.399633</td>\n",
       "    </tr>\n",
       "    <tr>\n",
       "      <th>50%</th>\n",
       "      <td>24.000000</td>\n",
       "      <td>74.842741</td>\n",
       "    </tr>\n",
       "    <tr>\n",
       "      <th>75%</th>\n",
       "      <td>27.500000</td>\n",
       "      <td>77.564295</td>\n",
       "    </tr>\n",
       "    <tr>\n",
       "      <th>max</th>\n",
       "      <td>34.000000</td>\n",
       "      <td>87.996920</td>\n",
       "    </tr>\n",
       "  </tbody>\n",
       "</table>\n",
       "</div>"
      ],
      "text/plain": [
       "             Age      Kilos\n",
       "count  19.000000  19.000000\n",
       "mean   24.421053  73.983303\n",
       "std     4.400957   7.028478\n",
       "min    18.000000  63.956524\n",
       "25%    21.500000  69.399633\n",
       "50%    24.000000  74.842741\n",
       "75%    27.500000  77.564295\n",
       "max    34.000000  87.996920"
      ]
     },
     "execution_count": 31,
     "metadata": {},
     "output_type": "execute_result"
    }
   ],
   "source": [
    "Other.describe()"
   ]
  },
  {
   "cell_type": "markdown",
   "id": "3bc78f9b",
   "metadata": {},
   "source": [
    "#### Testing the sample Barcelona players normality"
   ]
  },
  {
   "cell_type": "code",
   "execution_count": 40,
   "id": "b1755e8f",
   "metadata": {},
   "outputs": [
    {
     "data": {
      "image/png": "[encoded data removed]",
      "text/plain": [
       "<Figure size 1152x432 with 1 Axes>"
      ]
     },
     "metadata": {
      "needs_background": "light"
     },
     "output_type": "display_data"
    }
   ],
   "source": [
    "# Histograma of kilos FC Barcelon players\n",
    "plt.figure(figsize=(16, 6))\n",
    "sns.histplot(data=Barcelona, x='Kilos',kde=True)\n",
    "\n",
    "plt.title('FC Barcelona players');\n",
    "plt.xlabel('Kilos');"
   ]
  },
  {
   "cell_type": "markdown",
   "id": "18dd4754",
   "metadata": {},
   "source": [
    "The histogram have some similarities with a normal distribution."
   ]
  },
  {
   "cell_type": "code",
   "execution_count": 33,
   "id": "ab9c438f",
   "metadata": {
    "scrolled": true
   },
   "outputs": [
    {
     "data": {
      "image/png": "[encoded data removed]",
      "text/plain": [
       "<Figure size 432x288 with 1 Axes>"
      ]
     },
     "metadata": {
      "needs_background": "light"
     },
     "output_type": "display_data"
    }
   ],
   "source": [
    "# q-q plot Barcelona players\n",
    "from statsmodels.graphics.gofplots import qqplot\n",
    "from matplotlib import pyplot\n",
    "qqplot(Barcelona['Kilos'], line='s')\n",
    "pyplot.title('Kilos. FC Barcelona players.')\n",
    "pyplot.show()"
   ]
  },
  {
   "cell_type": "markdown",
   "id": "dd14cbfc",
   "metadata": {},
   "source": [
    "The Q-Q plot look like a normal distribution except in the lower part."
   ]
  },
  {
   "cell_type": "code",
   "execution_count": 34,
   "id": "027f34bb",
   "metadata": {},
   "outputs": [
    {
     "name": "stdout",
     "output_type": "stream",
     "text": [
      "stat=0.978, p=0.917\n",
      "Probably Gaussian\n"
     ]
    }
   ],
   "source": [
    "## Shapiro-Wilk Test\n",
    "stat, p = shapiro(Barcelona['Kilos'])\n",
    "print('stat=%.3f, p=%.3f' % (stat, p))\n",
    "if p > 0.05:\n",
    "\tprint('Probably Gaussian')\n",
    "else:\n",
    "\tprint('Probably not Gaussian')"
   ]
  },
  {
   "cell_type": "markdown",
   "id": "6515c586",
   "metadata": {},
   "source": [
    "With the Shapiro-Wilk the distribution is probably Gaussian."
   ]
  },
  {
   "cell_type": "markdown",
   "id": "2d38cc46",
   "metadata": {},
   "source": [
    "#### Testig the sample Other players normality"
   ]
  },
  {
   "cell_type": "code",
   "execution_count": 41,
   "id": "39c79a4a",
   "metadata": {},
   "outputs": [
    {
     "data": {
      "image/png": "[encoded data removed]",
      "text/plain": [
       "<Figure size 1152x432 with 1 Axes>"
      ]
     },
     "metadata": {
      "needs_background": "light"
     },
     "output_type": "display_data"
    }
   ],
   "source": [
    "# Histograma of kilos Other players\n",
    "plt.figure(figsize=(16, 6))\n",
    "sns.histplot(data=Other, x='Kilos', kde=True)\n",
    "\n",
    "plt.title('Other clubs players');\n",
    "plt.xlabel('Kilos');"
   ]
  },
  {
   "cell_type": "markdown",
   "id": "8e4736ed",
   "metadata": {},
   "source": [
    "The histogram shape has some similarities with normal distribution."
   ]
  },
  {
   "cell_type": "code",
   "execution_count": 36,
   "id": "2b35bda4",
   "metadata": {
    "scrolled": true
   },
   "outputs": [
    {
     "data": {
      "image/png": "[encoded data removed]",
      "text/plain": [
       "<Figure size 432x288 with 1 Axes>"
      ]
     },
     "metadata": {
      "needs_background": "light"
     },
     "output_type": "display_data"
    }
   ],
   "source": [
    "# q-q plot Other players\n",
    "qqplot(Other['Kilos'], line='s')\n",
    "pyplot.title('Kilos. Other clubs players.')\n",
    "pyplot.show()"
   ]
  },
  {
   "cell_type": "markdown",
   "id": "7696777a",
   "metadata": {},
   "source": [
    "With the Q-Q plot show some similiarities with a Gaussian distribution."
   ]
  },
  {
   "cell_type": "code",
   "execution_count": 43,
   "id": "26b7fdbc",
   "metadata": {
    "scrolled": true
   },
   "outputs": [
    {
     "name": "stdout",
     "output_type": "stream",
     "text": [
      "stat=0.936, p=0.219\n",
      "Probably Gaussian\n"
     ]
    }
   ],
   "source": [
    "## Shapiro-Wilk Test\n",
    "stat, p = shapiro(Other['Kilos'])\n",
    "print('stat=%.3f, p=%.3f' % (stat, p))\n",
    "if p > 0.05:\n",
    "\tprint('Probably Gaussian')\n",
    "else:\n",
    "\tprint('Probably not Gaussian')"
   ]
  },
  {
   "cell_type": "code",
   "execution_count": 44,
   "id": "691d151a",
   "metadata": {},
   "outputs": [
    {
     "name": "stdout",
     "output_type": "stream",
     "text": [
      "Statistics=1.395, p=0.498\n",
      "Sample looks Gaussian (fail to reject H0)\n"
     ]
    },
    {
     "name": "stderr",
     "output_type": "stream",
     "text": [
      "C:\\Users\\jmane\\anaconda3\\lib\\site-packages\\scipy\\stats\\stats.py:1541: UserWarning: kurtosistest only valid for n>=20 ... continuing anyway, n=19\n",
      "  warnings.warn(\"kurtosistest only valid for n>=20 ... continuing \"\n"
     ]
    }
   ],
   "source": [
    "# D'Agostino and Pearson's Test\n",
    "# normality test\n",
    "stat, p = normaltest(Other['Kilos'])\n",
    "print('Statistics=%.3f, p=%.3f' % (stat, p))\n",
    "# interpret\n",
    "alpha = 0.05\n",
    "if p > alpha:\n",
    "\tprint('Sample looks Gaussian (fail to reject H0)')\n",
    "else:\n",
    "\tprint('Sample does not look Gaussian (reject H0)')"
   ]
  },
  {
   "cell_type": "code",
   "execution_count": 46,
   "id": "b791c1ac",
   "metadata": {
    "scrolled": true
   },
   "outputs": [
    {
     "name": "stdout",
     "output_type": "stream",
     "text": [
      "Statistic: 0.437\n",
      "15.000: 0.505, data looks normal (fail to reject H0)\n",
      "10.000: 0.575, data looks normal (fail to reject H0)\n",
      "5.000: 0.690, data looks normal (fail to reject H0)\n",
      "2.500: 0.804, data looks normal (fail to reject H0)\n",
      "1.000: 0.957, data looks normal (fail to reject H0)\n"
     ]
    }
   ],
   "source": [
    "# Anderson-Darling Test\n",
    "from scipy.stats import anderson\n",
    "# normality test\n",
    "result = anderson(Other['Kilos'])\n",
    "print('Statistic: %.3f' % result.statistic)\n",
    "p = 0\n",
    "for i in range(len(result.critical_values)):\n",
    "\tsl, cv = result.significance_level[i], result.critical_values[i]\n",
    "\tif result.statistic < result.critical_values[i]:\n",
    "\t\tprint('%.3f: %.3f, data looks normal (fail to reject H0)' % (sl, cv))\n",
    "\telse:\n",
    "\t\tprint('%.3f: %.3f, data does not look normal (reject H0)' % (sl, cv))"
   ]
  },
  {
   "cell_type": "markdown",
   "id": "a101085a",
   "metadata": {},
   "source": [
    "**Having both samples a normal distribution we apply Two Sample t-test (a parametric test), but we will also try Mann-Whitney U Test (a nonparametric test).**"
   ]
  },
  {
   "cell_type": "code",
   "execution_count": 47,
   "id": "f1d3e2f8",
   "metadata": {},
   "outputs": [
    {
     "name": "stdout",
     "output_type": "stream",
     "text": [
      "Statistic= 1.249\n",
      "P Value= 0.220 \n",
      "Fail to reject H0\n",
      "51.02615732155702 46.79952956888564\n"
     ]
    }
   ],
   "source": [
    "## Two-sample t-test\n",
    "import scipy.stats as stats\n",
    "alpha=0.05\n",
    "tscore, pvalue = stats.ttest_ind(Other['Kilos'],Barcelona['Kilos'], equal_var=True)\n",
    "print(f\"Statistic= {tscore:.3f}\")  \n",
    "print(f\"P Value= {pvalue:.3f} \")\n",
    "if pvalue > alpha:\n",
    "\tprint('Fail to reject H0')\n",
    "else:\n",
    "\tprint('Reject H0')\n",
    "    \n",
    "#find variance for each group\n",
    "print(np.var(Barcelona['Kilos']), np.var(Other['Kilos']))\n",
    "\n"
   ]
  },
  {
   "cell_type": "markdown",
   "id": "e86d5349",
   "metadata": {},
   "source": [
    "#### Conclusion"
   ]
  },
  {
   "cell_type": "markdown",
   "id": "4b5dc51c",
   "metadata": {},
   "source": [
    "Because the p-value of our test (0.220) is greater than alpha = 0.05, indicates that our observation is not so unlikely to have occurred by chance. Therefore, we fail to reject the null hypothesis of the test. We do not have sufficient evidence to say that the mean weight of FC players is different from other clubs's players."
   ]
  },
  {
   "cell_type": "markdown",
   "id": "ef9e1770",
   "metadata": {},
   "source": [
    "#### Second attempt: Mann-Whitney U Test"
   ]
  },
  {
   "cell_type": "markdown",
   "id": "2cc9bc67",
   "metadata": {},
   "source": [
    "**Mann-Whitney U Test**\n",
    "Tests whether the distributions of two independent samples are equal or not. It's the nonparametric version of the Student t-test."
   ]
  },
  {
   "cell_type": "code",
   "execution_count": 48,
   "id": "7ce95c7b",
   "metadata": {},
   "outputs": [
    {
     "name": "stdout",
     "output_type": "stream",
     "text": [
      "stat=145.500, p=0.313\n",
      "Probably the same distribution\n"
     ]
    }
   ],
   "source": [
    "# Example of the Mann-Whitney U Test\n",
    "from scipy.stats import mannwhitneyu\n",
    "stat, p = mannwhitneyu(Barcelona['Kilos'], Other['Kilos'])\n",
    "print('stat=%.3f, p=%.3f' % (stat, p))\n",
    "if p > 0.05:\n",
    "\tprint('Probably the same distribution')\n",
    "else:\n",
    "\tprint('Probably different distributions')"
   ]
  },
  {
   "cell_type": "markdown",
   "id": "06ccc8c7",
   "metadata": {},
   "source": [
    "#### Conclusion"
   ]
  },
  {
   "cell_type": "markdown",
   "id": "9872cef5",
   "metadata": {},
   "source": [
    "The hypothesys are as follow:\n",
    "H0: Sample distributions are equal. \n",
    "Reject H0: Sample distributions are not equal.\n",
    "\n",
    "The default assumption or null hypothesis is that there is no difference between the distributions of the data samples. Rejection of this hypothesis suggests that there is likely some difference between the samples. More specifically, the test determines whether it is equally likely that any randomly selected observation from one sample will be greater or less than a sample in the other distribution. If violated, it suggests differing distributions.\n",
    "\n",
    "Being p higher than 0.05 we fail to reject H0, so we do not have sufficient evidence to say that the mean weight of FC players is different from other clubs's players."
   ]
  },
  {
   "cell_type": "markdown",
   "id": "acf36d30",
   "metadata": {},
   "source": [
    "## Exercise 3"
   ]
  },
  {
   "cell_type": "markdown",
   "id": "4f4fb75a",
   "metadata": {},
   "source": [
    "Select three other atributes, calculate the p-value and say if you reject the null hypothesis by taking a 5% alpha."
   ]
  },
  {
   "cell_type": "markdown",
   "id": "884e3305",
   "metadata": {},
   "source": [
    "We take as atributes Attacking, Crossing, Finishing. As we have doubts that the distribution is normal we decide to use nonparametric statistical methods.\n",
    "\n",
    "The **Kruskal-Wallis H-test** tests the null hypothesis that the population median of all of the groups are equal. It is a non-parametric version of ANOVA. It is s a rank-based nonparametric test that can be used to determine if there are statistically significant differences between two or more groups of an independent variable on a continuous or ordinal dependent variable."
   ]
  },
  {
   "cell_type": "markdown",
   "id": "17addcaa",
   "metadata": {},
   "source": [
    "**Hypothesis**\n",
    "\n",
    "HO : μ =  Attacking,Crossing and Finishing skills have the same median.\n",
    "\n",
    "HA : μ ≠  Attacking,Crossing and Finishing skills have not the same median.\n",
    "\n"
   ]
  },
  {
   "cell_type": "code",
   "execution_count": 49,
   "id": "64314571",
   "metadata": {},
   "outputs": [
    {
     "name": "stdout",
     "output_type": "stream",
     "text": [
      "stat=32879.160, p=0.000\n",
      "Probably different distributions\n"
     ]
    }
   ],
   "source": [
    "# Example of the Kruskal-Wallis H Test\n",
    "from scipy.stats import kruskal\n",
    "\n",
    "stat, p = kruskal(df['Attacking'],df['Crossing'],df['Finishing'])\n",
    "print('stat=%.3f, p=%.3f' % (stat, p))\n",
    "if p > 0.05:\n",
    "\tprint('Probably the same distribution')\n",
    "else:\n",
    "\tprint('Probably different distributions')"
   ]
  },
  {
   "cell_type": "markdown",
   "id": "68f4049f",
   "metadata": {},
   "source": [
    "**Conclusion**\n",
    "\n",
    "Being de P-value inferior to 0.05, the differences between some of the medians are statistically significant, so we reject the null hypothesis and conclude that not all the group medians are equal. "
   ]
  }
 ],
 "metadata": {
  "kernelspec": {
   "display_name": "Python 3 (ipykernel)",
   "language": "python",
   "name": "python3"
  },
  "language_info": {
   "codemirror_mode": {
    "name": "ipython",
    "version": 3
   },
   "file_extension": ".py",
   "mimetype": "text/x-python",
   "name": "python",
   "nbconvert_exporter": "python",
   "pygments_lexer": "ipython3",
   "version": "3.8.12"
  },
  "latex_envs": {
   "LaTeX_envs_menu_present": true,
   "autoclose": false,
   "autocomplete": true,
   "bibliofile": "biblio.bib",
   "cite_by": "apalike",
   "current_citInitial": 1,
   "eqLabelWithNumbers": true,
   "eqNumInitial": 1,
   "hotkeys": {
    "equation": "Ctrl-E",
    "itemize": "Ctrl-I"
   },
   "labels_anchors": false,
   "latex_user_defs": false,
   "report_style_numbering": false,
   "user_envs_cfg": false
  }
 },
 "nbformat": 4,
 "nbformat_minor": 5
}
