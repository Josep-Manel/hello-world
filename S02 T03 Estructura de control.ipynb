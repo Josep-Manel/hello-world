{
 "cells": [
  {
   "cell_type": "markdown",
   "id": "4b530fae",
   "metadata": {},
   "source": [
    "## Exercici 1"
   ]
  },
  {
   "cell_type": "code",
   "execution_count": 1,
   "id": "36008eed",
   "metadata": {},
   "outputs": [],
   "source": [
    "nota = 9"
   ]
  },
  {
   "cell_type": "code",
   "execution_count": 2,
   "id": "b7539485",
   "metadata": {},
   "outputs": [
    {
     "name": "stdout",
     "output_type": "stream",
     "text": [
      "Excel·lent\n"
     ]
    }
   ],
   "source": [
    "if nota >= 0 and nota < 5:\n",
    "   print(\"Suspès\")\n",
    "elif nota >= 5 and nota < 6:\n",
    "   print(\"Aprovat\")\n",
    "elif nota >= 7 and nota < 9:    \n",
    "   print(\"Notable\")\n",
    "elif nota >= 9 and nota <= 10:\n",
    "   print(\"Excel·lent\")\n",
    "else:\n",
    "   print(\"Nota errònia\")\n"
   ]
  },
  {
   "cell_type": "markdown",
   "id": "d9adf7a4",
   "metadata": {},
   "source": [
    "## Exercici 2"
   ]
  },
  {
   "cell_type": "code",
   "execution_count": 4,
   "id": "189169fc",
   "metadata": {},
   "outputs": [
    {
     "name": "stdout",
     "output_type": "stream",
     "text": [
      "Entrea un número: 7\n",
      "Entra un altre número: 8\n"
     ]
    }
   ],
   "source": [
    "num1= input(\"Entrea un número: \")\n",
    "num2= input(\"Entra un altre número: \")"
   ]
  },
  {
   "cell_type": "code",
   "execution_count": 5,
   "id": "f4292e49",
   "metadata": {},
   "outputs": [
    {
     "name": "stdout",
     "output_type": "stream",
     "text": [
      "El primer número introduït, 7, és més petit que el segon, 8.\n"
     ]
    }
   ],
   "source": [
    "if num1 > num2:\n",
    " print(\"El primer número introduït, {}, és més gran que el segon, {}.\".format(num1,num2))\n",
    "elif num1 < num2:\n",
    " print(\"El primer número introduït, {}, és més petit que el segon, {}.\".format(num1,num2))\n",
    "else:\n",
    " print(\"Els dos números introduïts, {} i {}, són iguals.\".format(num1,num2))\n"
   ]
  },
  {
   "cell_type": "markdown",
   "id": "c6a603b3",
   "metadata": {},
   "source": [
    "## Exercici 3"
   ]
  },
  {
   "cell_type": "code",
   "execution_count": 6,
   "id": "df0796cd",
   "metadata": {},
   "outputs": [
    {
     "name": "stdout",
     "output_type": "stream",
     "text": [
      "Introdueix el teu nom, si us plau: Manel\n",
      "Ara introdueix un número, si us plau: 7\n",
      "Manel Manel Manel Manel Manel Manel Manel \n"
     ]
    }
   ],
   "source": [
    "nom= input(\"Introdueix el teu nom, si us plau: \")\n",
    "num= int(input(\"Ara introdueix un número, si us plau: \"))\n",
    "if num == 0:\n",
    " print(\"Número erroni, intenta-ho de nou.\")\n",
    "else:\n",
    " print((nom + \" \") * num)\n"
   ]
  },
  {
   "cell_type": "markdown",
   "id": "51cf7a28",
   "metadata": {},
   "source": [
    "## Exercici 4"
   ]
  },
  {
   "cell_type": "code",
   "execution_count": 7,
   "id": "761c631f",
   "metadata": {},
   "outputs": [],
   "source": [
    "import numpy as np\n"
   ]
  },
  {
   "cell_type": "code",
   "execution_count": 8,
   "id": "33043b5a",
   "metadata": {},
   "outputs": [
    {
     "name": "stdout",
     "output_type": "stream",
     "text": [
      "[[4 1 5]\n",
      " [7 2 6]\n",
      " [6 2 1]]\n"
     ]
    }
   ],
   "source": [
    "llista=([4,1,5],[7,2,6],[6,2,1])\n",
    "l=np.array(llista)\n",
    "print(l)\n"
   ]
  },
  {
   "cell_type": "code",
   "execution_count": 9,
   "id": "dd363254",
   "metadata": {},
   "outputs": [],
   "source": [
    "files=l.shape[0]\n",
    "columnes=l.shape[1]\n",
    "elem= files * columnes\n"
   ]
  },
  {
   "cell_type": "code",
   "execution_count": 10,
   "id": "62c415a0",
   "metadata": {},
   "outputs": [
    {
     "name": "stdout",
     "output_type": "stream",
     "text": [
      "La llista és simètrica perquè té 3 files i 3 columnes, és a dir 9 elements.\n"
     ]
    }
   ],
   "source": [
    "if files == columnes:\n",
    " print(\"La llista és simètrica perquè té {} files i {} columnes, és a dir {} elements.\".format(files,columnes,elem))\n",
    " \n",
    "else:\n",
    " print(\"La llista és assimètrica.\")\n"
   ]
  },
  {
   "cell_type": "code",
   "execution_count": 11,
   "id": "846b2e82",
   "metadata": {},
   "outputs": [
    {
     "name": "stdout",
     "output_type": "stream",
     "text": [
      "El nombre d'elements també es pot saber amb la funció size i dóna el mateix resultat, 9.\n"
     ]
    }
   ],
   "source": [
    "print(\"El nombre d'elements també es pot saber amb la funció size i dóna el mateix resultat, \" + str(l.size) +\".\")\n"
   ]
  },
  {
   "cell_type": "markdown",
   "id": "096a97b6",
   "metadata": {},
   "source": [
    "### Exercici 5"
   ]
  },
  {
   "cell_type": "code",
   "execution_count": 13,
   "id": "ed1d5fbb",
   "metadata": {},
   "outputs": [],
   "source": [
    "llista= [3,1,5,3,4,4,6,15,9]\n",
    "idx = 0\n",
    "res = []\n"
   ]
  },
  {
   "cell_type": "code",
   "execution_count": 15,
   "id": "bfd3faf0",
   "metadata": {},
   "outputs": [
    {
     "name": "stdout",
     "output_type": "stream",
     "text": [
      "Números que coincideixen amb la seva posició:\n",
      " [1, 3, 4, 6]\n"
     ]
    }
   ],
   "source": [
    "for i in llista:\n",
    "  if i == idx:\n",
    "     res.append(idx)\n",
    "  idx = idx + 1\n",
    " \n",
    "print(\"Números que coincideixen amb la seva posició:\\n\",res)\n",
    " \n"
   ]
  },
  {
   "cell_type": "code",
   "execution_count": null,
   "id": "694d7c51",
   "metadata": {},
   "outputs": [],
   "source": []
  }
 ],
 "metadata": {
  "kernelspec": {
   "display_name": "Python 3",
   "language": "python",
   "name": "python3"
  },
  "language_info": {
   "codemirror_mode": {
    "name": "ipython",
    "version": 3
   },
   "file_extension": ".py",
   "mimetype": "text/x-python",
   "name": "python",
   "nbconvert_exporter": "python",
   "pygments_lexer": "ipython3",
   "version": "3.8.8"
  },
  "latex_envs": {
   "LaTeX_envs_menu_present": true,
   "autoclose": false,
   "autocomplete": true,
   "bibliofile": "biblio.bib",
   "cite_by": "apalike",
   "current_citInitial": 1,
   "eqLabelWithNumbers": true,
   "eqNumInitial": 1,
   "hotkeys": {
    "equation": "Ctrl-E",
    "itemize": "Ctrl-I"
   },
   "labels_anchors": false,
   "latex_user_defs": false,
   "report_style_numbering": false,
   "user_envs_cfg": false
  }
 },
 "nbformat": 4,
 "nbformat_minor": 5
}
