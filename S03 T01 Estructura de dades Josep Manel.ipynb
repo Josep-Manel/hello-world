{
 "cells": [
  {
   "cell_type": "markdown",
   "id": "3459e8f1",
   "metadata": {},
   "source": [
    "## Exercici 1\n"
   ]
  },
  {
   "cell_type": "code",
   "execution_count": 1,
   "id": "ff6182ae",
   "metadata": {},
   "outputs": [
    {
     "name": "stdout",
     "output_type": "stream",
     "text": [
      "[['Gener', 'Febrer', 'Març'], ['Abril', 'Maig', 'Juny'], ['juliol', 'agost', 'setembre'], ['octubre', 'novembre', 'desembre']]\n",
      "<class 'list'>\n"
     ]
    }
   ],
   "source": [
    "m= [[\"Gener\", \"Febrer\", \"Març\"], [\"Abril\", \"Maig\", \"Juny\"],[\"juliol\", \"agost\",\"setembre\"],[\"octubre\",\"novembre\",\"desembre\"]]\n",
    "print(m)\n",
    "print(type(m))\n"
   ]
  },
  {
   "cell_type": "markdown",
   "id": "0c0d2138",
   "metadata": {},
   "source": [
    "## Exercici 2"
   ]
  },
  {
   "cell_type": "code",
   "execution_count": 2,
   "id": "d97ea158",
   "metadata": {},
   "outputs": [
    {
     "name": "stdout",
     "output_type": "stream",
     "text": [
      "Febrer\n"
     ]
    }
   ],
   "source": [
    "print(m[0][1])"
   ]
  },
  {
   "cell_type": "code",
   "execution_count": 8,
   "id": "affbd45e",
   "metadata": {},
   "outputs": [
    {
     "name": "stdout",
     "output_type": "stream",
     "text": [
      "['Gener', 'Febrer', 'Març']\n"
     ]
    }
   ],
   "source": [
    "print(m[0])"
   ]
  },
  {
   "cell_type": "code",
   "execution_count": 9,
   "id": "b9c72a09",
   "metadata": {},
   "outputs": [
    {
     "name": "stdout",
     "output_type": "stream",
     "text": [
      "setembre octubre\n"
     ]
    }
   ],
   "source": [
    "m2= m[2][2] + \" \"+ m[3][0]\n",
    "print(m2)\n"
   ]
  },
  {
   "cell_type": "markdown",
   "id": "6400f12b",
   "metadata": {},
   "source": [
    "## Exercici 3"
   ]
  },
  {
   "cell_type": "markdown",
   "id": "c988661e",
   "metadata": {},
   "source": [
    "#### Creació diccionari"
   ]
  },
  {
   "cell_type": "code",
   "execution_count": 10,
   "id": "4713e8f9",
   "metadata": {},
   "outputs": [
    {
     "name": "stdout",
     "output_type": "stream",
     "text": [
      "<class 'dict'>\n",
      "{'Pomes': {'Qty': 5, '€': 0.42}, 'Peres': {'Qty': 3, '€': 0.66}}\n"
     ]
    }
   ],
   "source": [
    "compra = { \"Pomes\" : {\"Qty\": 5, \"€\": 0.42}, \"Peres\" : {\"Qty\": 3, \"€\": 0.66} }\n",
    "print(type(compra))\n",
    "print(compra)\n"
   ]
  },
  {
   "cell_type": "markdown",
   "id": "ff8ef247",
   "metadata": {},
   "source": [
    "#### Afegir taronges"
   ]
  },
  {
   "cell_type": "code",
   "execution_count": 11,
   "id": "1ddc976a",
   "metadata": {},
   "outputs": [
    {
     "name": "stdout",
     "output_type": "stream",
     "text": [
      "{'Pomes': {'Qty': 5, '€': 0.42}, 'Peres': {'Qty': 3, '€': 0.66}, 'Taronges': {'Qty': 4, '€': 0.52}}\n"
     ]
    }
   ],
   "source": [
    "compra[\"Taronges\"] = {'Qty': 4, \"€\": 0.52}\n",
    "print(compra)\n"
   ]
  },
  {
   "cell_type": "markdown",
   "id": "f676c20c",
   "metadata": {},
   "source": [
    "#### Cost de les peres"
   ]
  },
  {
   "cell_type": "code",
   "execution_count": 12,
   "id": "2d2d1de6",
   "metadata": {},
   "outputs": [
    {
     "name": "stdout",
     "output_type": "stream",
     "text": [
      "1.98\n"
     ]
    }
   ],
   "source": [
    "peres_cost = compra ['Peres']['Qty'] * compra [\"Peres\"][\"€\"]\n",
    "print(peres_cost)\n"
   ]
  },
  {
   "cell_type": "markdown",
   "id": "fa72f91d",
   "metadata": {},
   "source": [
    "#### Total fruites"
   ]
  },
  {
   "cell_type": "code",
   "execution_count": 13,
   "id": "fa6a9ed6",
   "metadata": {},
   "outputs": [
    {
     "name": "stdout",
     "output_type": "stream",
     "text": [
      "12\n"
     ]
    }
   ],
   "source": [
    "total_fruites =sum(x['Qty'] for x in compra.values())\n",
    "print(total_fruites)\n"
   ]
  },
  {
   "cell_type": "code",
   "execution_count": null,
   "id": "829ca2fb",
   "metadata": {},
   "outputs": [],
   "source": []
  }
 ],
 "metadata": {
  "kernelspec": {
   "display_name": "Python 3",
   "language": "python",
   "name": "python3"
  },
  "language_info": {
   "codemirror_mode": {
    "name": "ipython",
    "version": 3
   },
   "file_extension": ".py",
   "mimetype": "text/x-python",
   "name": "python",
   "nbconvert_exporter": "python",
   "pygments_lexer": "ipython3",
   "version": "3.8.8"
  },
  "latex_envs": {
   "LaTeX_envs_menu_present": true,
   "autoclose": false,
   "autocomplete": true,
   "bibliofile": "biblio.bib",
   "cite_by": "apalike",
   "current_citInitial": 1,
   "eqLabelWithNumbers": true,
   "eqNumInitial": 1,
   "hotkeys": {
    "equation": "Ctrl-E",
    "itemize": "Ctrl-I"
   },
   "labels_anchors": false,
   "latex_user_defs": false,
   "report_style_numbering": false,
   "user_envs_cfg": false
  }
 },
 "nbformat": 4,
 "nbformat_minor": 5
}
