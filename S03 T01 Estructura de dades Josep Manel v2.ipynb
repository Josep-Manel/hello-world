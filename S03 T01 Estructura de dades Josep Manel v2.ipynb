{
 "cells": [
  {
   "cell_type": "markdown",
   "id": "fd647099",
   "metadata": {},
   "source": [
    "## Exercici 1\n"
   ]
  },
  {
   "cell_type": "code",
   "execution_count": 1,
   "id": "1174e0b9",
   "metadata": {},
   "outputs": [
    {
     "name": "stdout",
     "output_type": "stream",
     "text": [
      "[['Gener', 'Febrer', 'Març'], ['Abril', 'Maig', 'Juny'], ['juliol', 'agost', 'setembre'], ['octubre', 'novembre', 'desembre']]\n",
      "<class 'list'>\n"
     ]
    }
   ],
   "source": [
    "m= [[\"Gener\", \"Febrer\", \"Març\"], [\"Abril\", \"Maig\", \"Juny\"],[\"juliol\", \"agost\",\"setembre\"],[\"octubre\",\"novembre\",\"desembre\"]]\n",
    "print(m)\n",
    "print(type(m))\n"
   ]
  },
  {
   "cell_type": "markdown",
   "id": "fc42add4",
   "metadata": {},
   "source": [
    "## Exercici 2"
   ]
  },
  {
   "cell_type": "code",
   "execution_count": 2,
   "id": "c2042d4a",
   "metadata": {},
   "outputs": [
    {
     "name": "stdout",
     "output_type": "stream",
     "text": [
      "Febrer\n"
     ]
    }
   ],
   "source": [
    "print(m[0][1])"
   ]
  },
  {
   "cell_type": "code",
   "execution_count": 8,
   "id": "977d6ed6",
   "metadata": {},
   "outputs": [
    {
     "name": "stdout",
     "output_type": "stream",
     "text": [
      "['Gener', 'Febrer', 'Març']\n"
     ]
    }
   ],
   "source": [
    "print(m[0])"
   ]
  },
  {
   "cell_type": "code",
   "execution_count": 9,
   "id": "4e76b8a6",
   "metadata": {},
   "outputs": [
    {
     "name": "stdout",
     "output_type": "stream",
     "text": [
      "setembre octubre\n"
     ]
    }
   ],
   "source": [
    "m2= m[2][2] + \" \"+ m[3][0]\n",
    "print(m2)\n"
   ]
  },
  {
   "cell_type": "markdown",
   "id": "841dcbf3",
   "metadata": {},
   "source": [
    "## Exercici 3"
   ]
  },
  {
   "cell_type": "code",
   "execution_count": 14,
   "id": "fc740faf",
   "metadata": {},
   "outputs": [
    {
     "name": "stdout",
     "output_type": "stream",
     "text": [
      "<class 'tuple'>\n"
     ]
    }
   ],
   "source": [
    "n=(2,4,3,7,9,3,4,5,12,1,15)\n",
    "print(type(n))\n"
   ]
  },
  {
   "cell_type": "markdown",
   "id": "bf706e88",
   "metadata": {},
   "source": [
    "#### Quants números hi ha"
   ]
  },
  {
   "cell_type": "code",
   "execution_count": 15,
   "id": "453f6fe8",
   "metadata": {},
   "outputs": [
    {
     "name": "stdout",
     "output_type": "stream",
     "text": [
      "11\n"
     ]
    }
   ],
   "source": [
    "print(len(n))"
   ]
  },
  {
   "cell_type": "markdown",
   "id": "992c4376",
   "metadata": {},
   "source": [
    "#### Quantes vegades apareix el número 3"
   ]
  },
  {
   "cell_type": "code",
   "execution_count": 16,
   "id": "de5a932d",
   "metadata": {},
   "outputs": [
    {
     "name": "stdout",
     "output_type": "stream",
     "text": [
      "2\n"
     ]
    }
   ],
   "source": [
    "print(n.count(3))"
   ]
  },
  {
   "cell_type": "markdown",
   "id": "711af89f",
   "metadata": {},
   "source": [
    "#### Quantes vegades apareix el número 3 i 4"
   ]
  },
  {
   "cell_type": "code",
   "execution_count": 17,
   "id": "52944cd5",
   "metadata": {},
   "outputs": [
    {
     "name": "stdout",
     "output_type": "stream",
     "text": [
      "4\n"
     ]
    }
   ],
   "source": [
    "print(n.count(3) + (n.count(4)))"
   ]
  },
  {
   "cell_type": "markdown",
   "id": "a86ba1eb",
   "metadata": {},
   "source": [
    "#### Quin és el número més gran"
   ]
  },
  {
   "cell_type": "code",
   "execution_count": 18,
   "id": "c50b0d4a",
   "metadata": {},
   "outputs": [
    {
     "name": "stdout",
     "output_type": "stream",
     "text": [
      "15\n"
     ]
    }
   ],
   "source": [
    "n_max = max(n)\n",
    "print(n_max)\n"
   ]
  },
  {
   "cell_type": "markdown",
   "id": "71f04680",
   "metadata": {},
   "source": [
    "#### Quins són els tres números més petits"
   ]
  },
  {
   "cell_type": "code",
   "execution_count": 19,
   "id": "c6b272fb",
   "metadata": {},
   "outputs": [
    {
     "name": "stdout",
     "output_type": "stream",
     "text": [
      "1\n",
      "[1, 2, 3, 3, 4, 4, 5, 7, 9, 12, 15]\n",
      "[1, 2, 3]\n"
     ]
    }
   ],
   "source": [
    "n_min= min(n)\n",
    "print(n_min)\n",
    "n3=sorted(n)\n",
    "print(n3)\n",
    "print(n3[0:3])\n"
   ]
  },
  {
   "cell_type": "markdown",
   "id": "bf752116",
   "metadata": {},
   "source": [
    "#### Quin és el rang d'aquesta llista"
   ]
  },
  {
   "cell_type": "code",
   "execution_count": 20,
   "id": "8860e3b6",
   "metadata": {},
   "outputs": [
    {
     "name": "stdout",
     "output_type": "stream",
     "text": [
      "[1, 2, 3, 4, 5, 6, 7, 8, 9, 10, 11, 12, 13, 14, 15]\n"
     ]
    }
   ],
   "source": [
    "rang= list(range(n_min,n_max+1))\n",
    "print(rang)\n"
   ]
  },
  {
   "cell_type": "markdown",
   "id": "15c6f479",
   "metadata": {},
   "source": [
    "## Exercici 4"
   ]
  },
  {
   "cell_type": "markdown",
   "id": "7bcba33d",
   "metadata": {},
   "source": [
    "#### Creació diccionari"
   ]
  },
  {
   "cell_type": "code",
   "execution_count": 10,
   "id": "efa013d4",
   "metadata": {},
   "outputs": [
    {
     "name": "stdout",
     "output_type": "stream",
     "text": [
      "<class 'dict'>\n",
      "{'Pomes': {'Qty': 5, '€': 0.42}, 'Peres': {'Qty': 3, '€': 0.66}}\n"
     ]
    }
   ],
   "source": [
    "compra = { \"Pomes\" : {\"Qty\": 5, \"€\": 0.42}, \"Peres\" : {\"Qty\": 3, \"€\": 0.66} }\n",
    "print(type(compra))\n",
    "print(compra)\n"
   ]
  },
  {
   "cell_type": "markdown",
   "id": "a5acd543",
   "metadata": {},
   "source": [
    "#### Afegir taronges"
   ]
  },
  {
   "cell_type": "code",
   "execution_count": 11,
   "id": "81e30497",
   "metadata": {},
   "outputs": [
    {
     "name": "stdout",
     "output_type": "stream",
     "text": [
      "{'Pomes': {'Qty': 5, '€': 0.42}, 'Peres': {'Qty': 3, '€': 0.66}, 'Taronges': {'Qty': 4, '€': 0.52}}\n"
     ]
    }
   ],
   "source": [
    "compra[\"Taronges\"] = {'Qty': 4, \"€\": 0.52}\n",
    "print(compra)\n"
   ]
  },
  {
   "cell_type": "markdown",
   "id": "82b0187b",
   "metadata": {},
   "source": [
    "#### Cost de les peres"
   ]
  },
  {
   "cell_type": "code",
   "execution_count": 12,
   "id": "50d0068c",
   "metadata": {},
   "outputs": [
    {
     "name": "stdout",
     "output_type": "stream",
     "text": [
      "1.98\n"
     ]
    }
   ],
   "source": [
    "peres_cost = compra ['Peres']['Qty'] * compra [\"Peres\"][\"€\"]\n",
    "print(peres_cost)\n"
   ]
  },
  {
   "cell_type": "markdown",
   "id": "4f6db001",
   "metadata": {},
   "source": [
    "#### Total fruites"
   ]
  },
  {
   "cell_type": "code",
   "execution_count": 13,
   "id": "4b9cddd0",
   "metadata": {},
   "outputs": [
    {
     "name": "stdout",
     "output_type": "stream",
     "text": [
      "12\n"
     ]
    }
   ],
   "source": [
    "total_fruites =sum(x['Qty'] for x in compra.values())\n",
    "print(total_fruites)\n"
   ]
  },
  {
   "cell_type": "code",
   "execution_count": null,
   "id": "56bd3450",
   "metadata": {},
   "outputs": [],
   "source": []
  }
 ],
 "metadata": {
  "kernelspec": {
   "display_name": "Python 3",
   "language": "python",
   "name": "python3"
  },
  "language_info": {
   "codemirror_mode": {
    "name": "ipython",
    "version": 3
   },
   "file_extension": ".py",
   "mimetype": "text/x-python",
   "name": "python",
   "nbconvert_exporter": "python",
   "pygments_lexer": "ipython3",
   "version": "3.8.8"
  },
  "latex_envs": {
   "LaTeX_envs_menu_present": true,
   "autoclose": false,
   "autocomplete": true,
   "bibliofile": "biblio.bib",
   "cite_by": "apalike",
   "current_citInitial": 1,
   "eqLabelWithNumbers": true,
   "eqNumInitial": 1,
   "hotkeys": {
    "equation": "Ctrl-E",
    "itemize": "Ctrl-I"
   },
   "labels_anchors": false,
   "latex_user_defs": false,
   "report_style_numbering": false,
   "user_envs_cfg": false
  }
 },
 "nbformat": 4,
 "nbformat_minor": 5
}
