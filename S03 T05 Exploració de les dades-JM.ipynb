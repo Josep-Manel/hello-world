{
 "cells": [
  {
   "cell_type": "markdown",
   "id": "a0ad2cd7",
   "metadata": {},
   "source": [
    "### Importing libraries"
   ]
  },
  {
   "cell_type": "code",
   "execution_count": 62,
   "id": "75c97b29",
   "metadata": {},
   "outputs": [],
   "source": [
    "import matplotlib.pyplot as plt \n",
    "import numpy as np \n",
    "import os \n",
    "import pandas as pd \n",
    "import datetime as dt\n",
    "\n",
    "pd.set_option(\"display.max_rows\",100)\n",
    "\n"
   ]
  },
  {
   "cell_type": "markdown",
   "id": "795f15f7",
   "metadata": {},
   "source": [
    "### Consulting path"
   ]
  },
  {
   "cell_type": "code",
   "execution_count": 63,
   "id": "08543404",
   "metadata": {},
   "outputs": [
    {
     "name": "stdout",
     "output_type": "stream",
     "text": [
      "['DelayedFlights.csv']\n"
     ]
    }
   ],
   "source": [
    "print(os.listdir(r'C:\\Users\\jmane\\Documents\\Data analysis'))"
   ]
  },
  {
   "cell_type": "markdown",
   "id": "ca398f79",
   "metadata": {},
   "source": [
    "### Reading the cvs document and creating dataframe"
   ]
  },
  {
   "cell_type": "code",
   "execution_count": 64,
   "id": "e3f7c001",
   "metadata": {},
   "outputs": [],
   "source": [
    "df1 = pd.read_csv(r'C:\\Users\\jmane\\Documents\\Data analysis\\DelayedFlights.csv', delimiter=',')\n",
    "df1.dataframeName = 'DelayedFlights.csv'\n"
   ]
  },
  {
   "cell_type": "markdown",
   "id": "fec950ba",
   "metadata": {},
   "source": [
    "### Getting the data shape"
   ]
  },
  {
   "cell_type": "code",
   "execution_count": 65,
   "id": "0ff5a72a",
   "metadata": {},
   "outputs": [
    {
     "name": "stdout",
     "output_type": "stream",
     "text": [
      "There are 1936758 rows and 30 columns\n"
     ]
    }
   ],
   "source": [
    "nRow, nCol = df1.shape\n",
    "print(f'There are {nRow} rows and {nCol} columns')"
   ]
  },
  {
   "cell_type": "markdown",
   "id": "2a50b360",
   "metadata": {},
   "source": [
    "#### Its a big data frame with almost 2 milion rows and 30 colums "
   ]
  },
  {
   "cell_type": "markdown",
   "id": "e71a11a5",
   "metadata": {},
   "source": [
    "### Inspecting head and tail of the data frame"
   ]
  },
  {
   "cell_type": "code",
   "execution_count": 66,
   "id": "bfb9d867",
   "metadata": {},
   "outputs": [
    {
     "data": {
      "text/html": [
       "<div>\n",
       "<style scoped>\n",
       "    .dataframe tbody tr th:only-of-type {\n",
       "        vertical-align: middle;\n",
       "    }\n",
       "\n",
       "    .dataframe tbody tr th {\n",
       "        vertical-align: top;\n",
       "    }\n",
       "\n",
       "    .dataframe thead th {\n",
       "        text-align: right;\n",
       "    }\n",
       "</style>\n",
       "<table border=\"1\" class=\"dataframe\">\n",
       "  <thead>\n",
       "    <tr style=\"text-align: right;\">\n",
       "      <th></th>\n",
       "      <th>Unnamed: 0</th>\n",
       "      <th>Year</th>\n",
       "      <th>Month</th>\n",
       "      <th>DayofMonth</th>\n",
       "      <th>DayOfWeek</th>\n",
       "      <th>DepTime</th>\n",
       "      <th>CRSDepTime</th>\n",
       "      <th>ArrTime</th>\n",
       "      <th>CRSArrTime</th>\n",
       "      <th>UniqueCarrier</th>\n",
       "      <th>...</th>\n",
       "      <th>TaxiIn</th>\n",
       "      <th>TaxiOut</th>\n",
       "      <th>Cancelled</th>\n",
       "      <th>CancellationCode</th>\n",
       "      <th>Diverted</th>\n",
       "      <th>CarrierDelay</th>\n",
       "      <th>WeatherDelay</th>\n",
       "      <th>NASDelay</th>\n",
       "      <th>SecurityDelay</th>\n",
       "      <th>LateAircraftDelay</th>\n",
       "    </tr>\n",
       "  </thead>\n",
       "  <tbody>\n",
       "    <tr>\n",
       "      <th>0</th>\n",
       "      <td>0</td>\n",
       "      <td>2008</td>\n",
       "      <td>1</td>\n",
       "      <td>3</td>\n",
       "      <td>4</td>\n",
       "      <td>2003.0</td>\n",
       "      <td>1955</td>\n",
       "      <td>2211.0</td>\n",
       "      <td>2225</td>\n",
       "      <td>WN</td>\n",
       "      <td>...</td>\n",
       "      <td>4.0</td>\n",
       "      <td>8.0</td>\n",
       "      <td>0</td>\n",
       "      <td>N</td>\n",
       "      <td>0</td>\n",
       "      <td>NaN</td>\n",
       "      <td>NaN</td>\n",
       "      <td>NaN</td>\n",
       "      <td>NaN</td>\n",
       "      <td>NaN</td>\n",
       "    </tr>\n",
       "    <tr>\n",
       "      <th>1</th>\n",
       "      <td>1</td>\n",
       "      <td>2008</td>\n",
       "      <td>1</td>\n",
       "      <td>3</td>\n",
       "      <td>4</td>\n",
       "      <td>754.0</td>\n",
       "      <td>735</td>\n",
       "      <td>1002.0</td>\n",
       "      <td>1000</td>\n",
       "      <td>WN</td>\n",
       "      <td>...</td>\n",
       "      <td>5.0</td>\n",
       "      <td>10.0</td>\n",
       "      <td>0</td>\n",
       "      <td>N</td>\n",
       "      <td>0</td>\n",
       "      <td>NaN</td>\n",
       "      <td>NaN</td>\n",
       "      <td>NaN</td>\n",
       "      <td>NaN</td>\n",
       "      <td>NaN</td>\n",
       "    </tr>\n",
       "    <tr>\n",
       "      <th>2</th>\n",
       "      <td>2</td>\n",
       "      <td>2008</td>\n",
       "      <td>1</td>\n",
       "      <td>3</td>\n",
       "      <td>4</td>\n",
       "      <td>628.0</td>\n",
       "      <td>620</td>\n",
       "      <td>804.0</td>\n",
       "      <td>750</td>\n",
       "      <td>WN</td>\n",
       "      <td>...</td>\n",
       "      <td>3.0</td>\n",
       "      <td>17.0</td>\n",
       "      <td>0</td>\n",
       "      <td>N</td>\n",
       "      <td>0</td>\n",
       "      <td>NaN</td>\n",
       "      <td>NaN</td>\n",
       "      <td>NaN</td>\n",
       "      <td>NaN</td>\n",
       "      <td>NaN</td>\n",
       "    </tr>\n",
       "    <tr>\n",
       "      <th>3</th>\n",
       "      <td>4</td>\n",
       "      <td>2008</td>\n",
       "      <td>1</td>\n",
       "      <td>3</td>\n",
       "      <td>4</td>\n",
       "      <td>1829.0</td>\n",
       "      <td>1755</td>\n",
       "      <td>1959.0</td>\n",
       "      <td>1925</td>\n",
       "      <td>WN</td>\n",
       "      <td>...</td>\n",
       "      <td>3.0</td>\n",
       "      <td>10.0</td>\n",
       "      <td>0</td>\n",
       "      <td>N</td>\n",
       "      <td>0</td>\n",
       "      <td>2.0</td>\n",
       "      <td>0.0</td>\n",
       "      <td>0.0</td>\n",
       "      <td>0.0</td>\n",
       "      <td>32.0</td>\n",
       "    </tr>\n",
       "    <tr>\n",
       "      <th>4</th>\n",
       "      <td>5</td>\n",
       "      <td>2008</td>\n",
       "      <td>1</td>\n",
       "      <td>3</td>\n",
       "      <td>4</td>\n",
       "      <td>1940.0</td>\n",
       "      <td>1915</td>\n",
       "      <td>2121.0</td>\n",
       "      <td>2110</td>\n",
       "      <td>WN</td>\n",
       "      <td>...</td>\n",
       "      <td>4.0</td>\n",
       "      <td>10.0</td>\n",
       "      <td>0</td>\n",
       "      <td>N</td>\n",
       "      <td>0</td>\n",
       "      <td>NaN</td>\n",
       "      <td>NaN</td>\n",
       "      <td>NaN</td>\n",
       "      <td>NaN</td>\n",
       "      <td>NaN</td>\n",
       "    </tr>\n",
       "  </tbody>\n",
       "</table>\n",
       "<p>5 rows × 30 columns</p>\n",
       "</div>"
      ],
      "text/plain": [
       "   Unnamed: 0  Year  Month  DayofMonth  DayOfWeek  DepTime  CRSDepTime  \\\n",
       "0           0  2008      1           3          4   2003.0        1955   \n",
       "1           1  2008      1           3          4    754.0         735   \n",
       "2           2  2008      1           3          4    628.0         620   \n",
       "3           4  2008      1           3          4   1829.0        1755   \n",
       "4           5  2008      1           3          4   1940.0        1915   \n",
       "\n",
       "   ArrTime  CRSArrTime UniqueCarrier  ...  TaxiIn TaxiOut  Cancelled  \\\n",
       "0   2211.0        2225            WN  ...     4.0     8.0          0   \n",
       "1   1002.0        1000            WN  ...     5.0    10.0          0   \n",
       "2    804.0         750            WN  ...     3.0    17.0          0   \n",
       "3   1959.0        1925            WN  ...     3.0    10.0          0   \n",
       "4   2121.0        2110            WN  ...     4.0    10.0          0   \n",
       "\n",
       "   CancellationCode  Diverted  CarrierDelay  WeatherDelay NASDelay  \\\n",
       "0                 N         0           NaN           NaN      NaN   \n",
       "1                 N         0           NaN           NaN      NaN   \n",
       "2                 N         0           NaN           NaN      NaN   \n",
       "3                 N         0           2.0           0.0      0.0   \n",
       "4                 N         0           NaN           NaN      NaN   \n",
       "\n",
       "  SecurityDelay  LateAircraftDelay  \n",
       "0           NaN                NaN  \n",
       "1           NaN                NaN  \n",
       "2           NaN                NaN  \n",
       "3           0.0               32.0  \n",
       "4           NaN                NaN  \n",
       "\n",
       "[5 rows x 30 columns]"
      ]
     },
     "execution_count": 66,
     "metadata": {},
     "output_type": "execute_result"
    }
   ],
   "source": [
    "df1.head()"
   ]
  },
  {
   "cell_type": "code",
   "execution_count": 67,
   "id": "44a14cb8",
   "metadata": {},
   "outputs": [
    {
     "data": {
      "text/html": [
       "<div>\n",
       "<style scoped>\n",
       "    .dataframe tbody tr th:only-of-type {\n",
       "        vertical-align: middle;\n",
       "    }\n",
       "\n",
       "    .dataframe tbody tr th {\n",
       "        vertical-align: top;\n",
       "    }\n",
       "\n",
       "    .dataframe thead th {\n",
       "        text-align: right;\n",
       "    }\n",
       "</style>\n",
       "<table border=\"1\" class=\"dataframe\">\n",
       "  <thead>\n",
       "    <tr style=\"text-align: right;\">\n",
       "      <th></th>\n",
       "      <th>Unnamed: 0</th>\n",
       "      <th>Year</th>\n",
       "      <th>Month</th>\n",
       "      <th>DayofMonth</th>\n",
       "      <th>DayOfWeek</th>\n",
       "      <th>DepTime</th>\n",
       "      <th>CRSDepTime</th>\n",
       "      <th>ArrTime</th>\n",
       "      <th>CRSArrTime</th>\n",
       "      <th>UniqueCarrier</th>\n",
       "      <th>...</th>\n",
       "      <th>TaxiIn</th>\n",
       "      <th>TaxiOut</th>\n",
       "      <th>Cancelled</th>\n",
       "      <th>CancellationCode</th>\n",
       "      <th>Diverted</th>\n",
       "      <th>CarrierDelay</th>\n",
       "      <th>WeatherDelay</th>\n",
       "      <th>NASDelay</th>\n",
       "      <th>SecurityDelay</th>\n",
       "      <th>LateAircraftDelay</th>\n",
       "    </tr>\n",
       "  </thead>\n",
       "  <tbody>\n",
       "    <tr>\n",
       "      <th>1936753</th>\n",
       "      <td>7009710</td>\n",
       "      <td>2008</td>\n",
       "      <td>12</td>\n",
       "      <td>13</td>\n",
       "      <td>6</td>\n",
       "      <td>1250.0</td>\n",
       "      <td>1220</td>\n",
       "      <td>1617.0</td>\n",
       "      <td>1552</td>\n",
       "      <td>DL</td>\n",
       "      <td>...</td>\n",
       "      <td>9.0</td>\n",
       "      <td>18.0</td>\n",
       "      <td>0</td>\n",
       "      <td>N</td>\n",
       "      <td>0</td>\n",
       "      <td>3.0</td>\n",
       "      <td>0.0</td>\n",
       "      <td>0.0</td>\n",
       "      <td>0.0</td>\n",
       "      <td>22.0</td>\n",
       "    </tr>\n",
       "    <tr>\n",
       "      <th>1936754</th>\n",
       "      <td>7009717</td>\n",
       "      <td>2008</td>\n",
       "      <td>12</td>\n",
       "      <td>13</td>\n",
       "      <td>6</td>\n",
       "      <td>657.0</td>\n",
       "      <td>600</td>\n",
       "      <td>904.0</td>\n",
       "      <td>749</td>\n",
       "      <td>DL</td>\n",
       "      <td>...</td>\n",
       "      <td>15.0</td>\n",
       "      <td>34.0</td>\n",
       "      <td>0</td>\n",
       "      <td>N</td>\n",
       "      <td>0</td>\n",
       "      <td>0.0</td>\n",
       "      <td>57.0</td>\n",
       "      <td>18.0</td>\n",
       "      <td>0.0</td>\n",
       "      <td>0.0</td>\n",
       "    </tr>\n",
       "    <tr>\n",
       "      <th>1936755</th>\n",
       "      <td>7009718</td>\n",
       "      <td>2008</td>\n",
       "      <td>12</td>\n",
       "      <td>13</td>\n",
       "      <td>6</td>\n",
       "      <td>1007.0</td>\n",
       "      <td>847</td>\n",
       "      <td>1149.0</td>\n",
       "      <td>1010</td>\n",
       "      <td>DL</td>\n",
       "      <td>...</td>\n",
       "      <td>8.0</td>\n",
       "      <td>32.0</td>\n",
       "      <td>0</td>\n",
       "      <td>N</td>\n",
       "      <td>0</td>\n",
       "      <td>1.0</td>\n",
       "      <td>0.0</td>\n",
       "      <td>19.0</td>\n",
       "      <td>0.0</td>\n",
       "      <td>79.0</td>\n",
       "    </tr>\n",
       "    <tr>\n",
       "      <th>1936756</th>\n",
       "      <td>7009726</td>\n",
       "      <td>2008</td>\n",
       "      <td>12</td>\n",
       "      <td>13</td>\n",
       "      <td>6</td>\n",
       "      <td>1251.0</td>\n",
       "      <td>1240</td>\n",
       "      <td>1446.0</td>\n",
       "      <td>1437</td>\n",
       "      <td>DL</td>\n",
       "      <td>...</td>\n",
       "      <td>13.0</td>\n",
       "      <td>13.0</td>\n",
       "      <td>0</td>\n",
       "      <td>N</td>\n",
       "      <td>0</td>\n",
       "      <td>NaN</td>\n",
       "      <td>NaN</td>\n",
       "      <td>NaN</td>\n",
       "      <td>NaN</td>\n",
       "      <td>NaN</td>\n",
       "    </tr>\n",
       "    <tr>\n",
       "      <th>1936757</th>\n",
       "      <td>7009727</td>\n",
       "      <td>2008</td>\n",
       "      <td>12</td>\n",
       "      <td>13</td>\n",
       "      <td>6</td>\n",
       "      <td>1110.0</td>\n",
       "      <td>1103</td>\n",
       "      <td>1413.0</td>\n",
       "      <td>1418</td>\n",
       "      <td>DL</td>\n",
       "      <td>...</td>\n",
       "      <td>8.0</td>\n",
       "      <td>11.0</td>\n",
       "      <td>0</td>\n",
       "      <td>N</td>\n",
       "      <td>0</td>\n",
       "      <td>NaN</td>\n",
       "      <td>NaN</td>\n",
       "      <td>NaN</td>\n",
       "      <td>NaN</td>\n",
       "      <td>NaN</td>\n",
       "    </tr>\n",
       "  </tbody>\n",
       "</table>\n",
       "<p>5 rows × 30 columns</p>\n",
       "</div>"
      ],
      "text/plain": [
       "         Unnamed: 0  Year  Month  DayofMonth  DayOfWeek  DepTime  CRSDepTime  \\\n",
       "1936753     7009710  2008     12          13          6   1250.0        1220   \n",
       "1936754     7009717  2008     12          13          6    657.0         600   \n",
       "1936755     7009718  2008     12          13          6   1007.0         847   \n",
       "1936756     7009726  2008     12          13          6   1251.0        1240   \n",
       "1936757     7009727  2008     12          13          6   1110.0        1103   \n",
       "\n",
       "         ArrTime  CRSArrTime UniqueCarrier  ...  TaxiIn TaxiOut  Cancelled  \\\n",
       "1936753   1617.0        1552            DL  ...     9.0    18.0          0   \n",
       "1936754    904.0         749            DL  ...    15.0    34.0          0   \n",
       "1936755   1149.0        1010            DL  ...     8.0    32.0          0   \n",
       "1936756   1446.0        1437            DL  ...    13.0    13.0          0   \n",
       "1936757   1413.0        1418            DL  ...     8.0    11.0          0   \n",
       "\n",
       "         CancellationCode  Diverted  CarrierDelay  WeatherDelay NASDelay  \\\n",
       "1936753                 N         0           3.0           0.0      0.0   \n",
       "1936754                 N         0           0.0          57.0     18.0   \n",
       "1936755                 N         0           1.0           0.0     19.0   \n",
       "1936756                 N         0           NaN           NaN      NaN   \n",
       "1936757                 N         0           NaN           NaN      NaN   \n",
       "\n",
       "        SecurityDelay  LateAircraftDelay  \n",
       "1936753           0.0               22.0  \n",
       "1936754           0.0                0.0  \n",
       "1936755           0.0               79.0  \n",
       "1936756           NaN                NaN  \n",
       "1936757           NaN                NaN  \n",
       "\n",
       "[5 rows x 30 columns]"
      ]
     },
     "execution_count": 67,
     "metadata": {},
     "output_type": "execute_result"
    }
   ],
   "source": [
    "df1.tail()"
   ]
  },
  {
   "cell_type": "markdown",
   "id": "e7531cb7",
   "metadata": {},
   "source": [
    "### Checking for duplicates"
   ]
  },
  {
   "cell_type": "code",
   "execution_count": 68,
   "id": "5ddcf544",
   "metadata": {},
   "outputs": [
    {
     "data": {
      "text/plain": [
       "0"
      ]
     },
     "execution_count": 68,
     "metadata": {},
     "output_type": "execute_result"
    }
   ],
   "source": [
    "df1.duplicated().sum()"
   ]
  },
  {
   "cell_type": "markdown",
   "id": "a7ab4c63",
   "metadata": {},
   "source": [
    "### Checking data types"
   ]
  },
  {
   "cell_type": "code",
   "execution_count": 69,
   "id": "c6682055",
   "metadata": {},
   "outputs": [
    {
     "name": "stdout",
     "output_type": "stream",
     "text": [
      "<class 'pandas.core.frame.DataFrame'>\n",
      "RangeIndex: 1936758 entries, 0 to 1936757\n",
      "Data columns (total 30 columns):\n",
      " #   Column             Dtype  \n",
      "---  ------             -----  \n",
      " 0   Unnamed: 0         int64  \n",
      " 1   Year               int64  \n",
      " 2   Month              int64  \n",
      " 3   DayofMonth         int64  \n",
      " 4   DayOfWeek          int64  \n",
      " 5   DepTime            float64\n",
      " 6   CRSDepTime         int64  \n",
      " 7   ArrTime            float64\n",
      " 8   CRSArrTime         int64  \n",
      " 9   UniqueCarrier      object \n",
      " 10  FlightNum          int64  \n",
      " 11  TailNum            object \n",
      " 12  ActualElapsedTime  float64\n",
      " 13  CRSElapsedTime     float64\n",
      " 14  AirTime            float64\n",
      " 15  ArrDelay           float64\n",
      " 16  DepDelay           float64\n",
      " 17  Origin             object \n",
      " 18  Dest               object \n",
      " 19  Distance           int64  \n",
      " 20  TaxiIn             float64\n",
      " 21  TaxiOut            float64\n",
      " 22  Cancelled          int64  \n",
      " 23  CancellationCode   object \n",
      " 24  Diverted           int64  \n",
      " 25  CarrierDelay       float64\n",
      " 26  WeatherDelay       float64\n",
      " 27  NASDelay           float64\n",
      " 28  SecurityDelay      float64\n",
      " 29  LateAircraftDelay  float64\n",
      "dtypes: float64(14), int64(11), object(5)\n",
      "memory usage: 443.3+ MB\n"
     ]
    }
   ],
   "source": [
    "df1.info()"
   ]
  },
  {
   "cell_type": "markdown",
   "id": "6016562c",
   "metadata": {},
   "source": [
    "### Converting Categorical Variables to object type to save memory"
   ]
  },
  {
   "cell_type": "code",
   "execution_count": 70,
   "id": "84aea730",
   "metadata": {},
   "outputs": [],
   "source": [
    "\n",
    "df1[df1.columns[0:4]]=df1[df1.columns[0:4]].astype(object)\n",
    "df1[df1.columns[8:10]]=df1[df1.columns[8:10]].astype(object)\n",
    "df1[df1.columns[21:24]]=df1[df1.columns[21:24]].astype(object)\n",
    "\n"
   ]
  },
  {
   "cell_type": "markdown",
   "id": "c5ac2764",
   "metadata": {},
   "source": [
    "### Statistical exploration of numerical colums"
   ]
  },
  {
   "cell_type": "code",
   "execution_count": 71,
   "id": "f990e373",
   "metadata": {},
   "outputs": [
    {
     "name": "stdout",
     "output_type": "stream",
     "text": [
      "          DayOfWeek       DepTime    CRSDepTime       ArrTime     FlightNum  \\\n",
      "count  1.936758e+06  1.936758e+06  1.936758e+06  1.929648e+06  1.936758e+06   \n",
      "mean   3.984827e+00  1.518534e+03  1.467473e+03  1.610141e+03  2.184263e+03   \n",
      "std    1.995966e+00  4.504853e+02  4.247668e+02  5.481781e+02  1.944702e+03   \n",
      "min    1.000000e+00  1.000000e+00  0.000000e+00  1.000000e+00  1.000000e+00   \n",
      "25%    2.000000e+00  1.203000e+03  1.135000e+03  1.316000e+03  6.100000e+02   \n",
      "50%    4.000000e+00  1.545000e+03  1.510000e+03  1.715000e+03  1.543000e+03   \n",
      "75%    6.000000e+00  1.900000e+03  1.815000e+03  2.030000e+03  3.422000e+03   \n",
      "max    7.000000e+00  2.400000e+03  2.359000e+03  2.400000e+03  9.742000e+03   \n",
      "\n",
      "       ActualElapsedTime  CRSElapsedTime       AirTime      ArrDelay  \\\n",
      "count       1.928371e+06    1.936560e+06  1.928371e+06  1.928371e+06   \n",
      "mean        1.333059e+02    1.343027e+02  1.082771e+02  4.219988e+01   \n",
      "std         7.206007e+01    7.134144e+01  6.864261e+01  5.678472e+01   \n",
      "min         1.400000e+01   -2.500000e+01  0.000000e+00 -1.090000e+02   \n",
      "25%         8.000000e+01    8.200000e+01  5.800000e+01  9.000000e+00   \n",
      "50%         1.160000e+02    1.160000e+02  9.000000e+01  2.400000e+01   \n",
      "75%         1.650000e+02    1.650000e+02  1.370000e+02  5.600000e+01   \n",
      "max         1.114000e+03    6.600000e+02  1.091000e+03  2.461000e+03   \n",
      "\n",
      "           DepDelay      Distance        TaxiIn      Diverted  CarrierDelay  \\\n",
      "count  1.936758e+06  1.936758e+06  1.929648e+06  1.936758e+06  1.247488e+06   \n",
      "mean   4.318518e+01  7.656862e+02  6.812975e+00  4.003598e-03  1.917940e+01   \n",
      "std    5.340250e+01  5.744797e+02  5.273595e+00  6.314722e-02  4.354621e+01   \n",
      "min    6.000000e+00  1.100000e+01  0.000000e+00  0.000000e+00  0.000000e+00   \n",
      "25%    1.200000e+01  3.380000e+02  4.000000e+00  0.000000e+00  0.000000e+00   \n",
      "50%    2.400000e+01  6.060000e+02  6.000000e+00  0.000000e+00  2.000000e+00   \n",
      "75%    5.300000e+01  9.980000e+02  8.000000e+00  0.000000e+00  2.100000e+01   \n",
      "max    2.467000e+03  4.962000e+03  2.400000e+02  1.000000e+00  2.436000e+03   \n",
      "\n",
      "       WeatherDelay      NASDelay  SecurityDelay  LateAircraftDelay  \n",
      "count  1.247488e+06  1.247488e+06   1.247488e+06       1.247488e+06  \n",
      "mean   3.703571e+00  1.502164e+01   9.013714e-02       2.529647e+01  \n",
      "std    2.149290e+01  3.383305e+01   2.022714e+00       4.205486e+01  \n",
      "min    0.000000e+00  0.000000e+00   0.000000e+00       0.000000e+00  \n",
      "25%    0.000000e+00  0.000000e+00   0.000000e+00       0.000000e+00  \n",
      "50%    0.000000e+00  2.000000e+00   0.000000e+00       8.000000e+00  \n",
      "75%    0.000000e+00  1.500000e+01   0.000000e+00       3.300000e+01  \n",
      "max    1.352000e+03  1.357000e+03   3.920000e+02       1.316000e+03  \n"
     ]
    }
   ],
   "source": [
    "print (df1.describe())"
   ]
  },
  {
   "cell_type": "markdown",
   "id": "bd14cc26",
   "metadata": {},
   "source": [
    "### Looking for inconsistent data (negative numbers)"
   ]
  },
  {
   "cell_type": "code",
   "execution_count": 72,
   "id": "295df040",
   "metadata": {},
   "outputs": [
    {
     "name": "stdout",
     "output_type": "stream",
     "text": [
      "False\n",
      "False\n",
      "False\n",
      "False\n"
     ]
    }
   ],
   "source": [
    "print(all(i < 0 for i in df1['ArrTime']))\n",
    "print(all(i < 0 for i in df1['CRSArrTime']))\n",
    "print(all(i < 0 for i in df1['DepTime']))\n",
    "print(all(i < 0 for i in df1['CRSDepTime']))"
   ]
  },
  {
   "cell_type": "markdown",
   "id": "6a8d1c25",
   "metadata": {},
   "source": [
    "### Checking for missing values"
   ]
  },
  {
   "cell_type": "code",
   "execution_count": 73,
   "id": "e1a844a6",
   "metadata": {},
   "outputs": [
    {
     "data": {
      "text/plain": [
       "Unnamed: 0                0\n",
       "Year                      0\n",
       "Month                     0\n",
       "DayofMonth                0\n",
       "DayOfWeek                 0\n",
       "DepTime                   0\n",
       "CRSDepTime                0\n",
       "ArrTime                7110\n",
       "CRSArrTime                0\n",
       "UniqueCarrier             0\n",
       "FlightNum                 0\n",
       "TailNum                   5\n",
       "ActualElapsedTime      8387\n",
       "CRSElapsedTime          198\n",
       "AirTime                8387\n",
       "ArrDelay               8387\n",
       "DepDelay                  0\n",
       "Origin                    0\n",
       "Dest                      0\n",
       "Distance                  0\n",
       "TaxiIn                 7110\n",
       "TaxiOut                 455\n",
       "Cancelled                 0\n",
       "CancellationCode          0\n",
       "Diverted                  0\n",
       "CarrierDelay         689270\n",
       "WeatherDelay         689270\n",
       "NASDelay             689270\n",
       "SecurityDelay        689270\n",
       "LateAircraftDelay    689270\n",
       "dtype: int64"
      ]
     },
     "execution_count": 73,
     "metadata": {},
     "output_type": "execute_result"
    }
   ],
   "source": [
    "df1.isna().sum()"
   ]
  },
  {
   "cell_type": "markdown",
   "id": "905d1eb1",
   "metadata": {},
   "source": [
    "### Checking for typo errors"
   ]
  },
  {
   "cell_type": "code",
   "execution_count": 74,
   "id": "21e1ad5c",
   "metadata": {},
   "outputs": [
    {
     "name": "stdout",
     "output_type": "stream",
     "text": [
      "['TailNum', 'DayofMonth', 'CancellationCode', 'TaxiOut', 'Origin', 'Dest', 'Unnamed: 0', 'CRSArrTime', 'Month', 'Year', 'Cancelled', 'UniqueCarrier']\n"
     ]
    }
   ],
   "source": [
    "num_cols = df1._get_numeric_data().columns\n",
    "cols = df1.columns\n",
    "cat_cols = list(set(cols) - set(num_cols))\n",
    "print (cat_cols)"
   ]
  },
  {
   "cell_type": "code",
   "execution_count": 75,
   "id": "f5ee4ea2",
   "metadata": {},
   "outputs": [
    {
     "name": "stdout",
     "output_type": "stream",
     "text": [
      "22    71649\n",
      "21    70168\n",
      "1     67815\n",
      "7     67478\n",
      "15    65587\n",
      "27    65374\n",
      "18    65132\n",
      "20    65071\n",
      "19    64470\n",
      "14    64407\n",
      "24    64202\n",
      "10    63385\n",
      "2     63339\n",
      "11    63331\n",
      "23    63320\n",
      "17    63110\n",
      "8     62979\n",
      "4     62682\n",
      "26    62549\n",
      "9     62057\n",
      "6     61814\n",
      "12    61517\n",
      "13    61278\n",
      "16    61152\n",
      "28    61093\n",
      "3     60389\n",
      "5     60000\n",
      "25    59056\n",
      "29    56893\n",
      "30    56721\n",
      "31    38740\n",
      "Name: DayofMonth, dtype: int64\n",
      "N    1936125\n",
      "B        307\n",
      "A        246\n",
      "C         80\n",
      "Name: CancellationCode, dtype: int64\n",
      "12    203385\n",
      "6     200914\n",
      "3     200842\n",
      "2     189534\n",
      "1     183527\n",
      "7     182945\n",
      "8     162648\n",
      "4     155264\n",
      "5     153072\n",
      "11    105563\n",
      "10    103525\n",
      "9      95539\n",
      "Name: Month, dtype: int64\n",
      "0    1936125\n",
      "1        633\n",
      "Name: Cancelled, dtype: int64\n",
      "WN    377602\n",
      "AA    191865\n",
      "MQ    141920\n",
      "UA    141426\n",
      "OO    132433\n",
      "DL    114238\n",
      "XE    103663\n",
      "CO    100195\n",
      "US     98425\n",
      "EV     81877\n",
      "NW     79108\n",
      "FL     71284\n",
      "YV     67063\n",
      "B6     55315\n",
      "OH     52657\n",
      "9E     51885\n",
      "AS     39293\n",
      "F9     28269\n",
      "HA      7490\n",
      "AQ       750\n",
      "Name: UniqueCarrier, dtype: int64\n"
     ]
    }
   ],
   "source": [
    "#Value counts\n",
    "for col in cat_cols:\n",
    "    if col in ['DayOfWeek','UniqueCarrier','Month', 'Cancelled','DayofMonth','CancellationCode','Diverted']:\n",
    "        print((df1[col].value_counts()))"
   ]
  },
  {
   "cell_type": "markdown",
   "id": "9bbf1f45",
   "metadata": {},
   "source": [
    "### Creating a heat map correlation matrix with Seaborn"
   ]
  },
  {
   "cell_type": "code",
   "execution_count": 76,
   "id": "4d7539e7",
   "metadata": {},
   "outputs": [],
   "source": [
    "import seaborn as sns"
   ]
  },
  {
   "cell_type": "code",
   "execution_count": 77,
   "id": "b5cbd28b",
   "metadata": {},
   "outputs": [
    {
     "data": {
      "image/png": "[encoded data removed]",
      "text/plain": [
       "<Figure size 864x648 with 2 Axes>"
      ]
     },
     "metadata": {},
     "output_type": "display_data"
    }
   ],
   "source": [
    "#correlation matrix\n",
    "corrmat = df1.corr()\n",
    "f, ax = plt.subplots(figsize=(12, 9))\n",
    "sns.heatmap(corrmat, vmax=.8, square=True);\n",
    "plt.show()"
   ]
  },
  {
   "cell_type": "markdown",
   "id": "67608f17",
   "metadata": {},
   "source": [
    "#### From the heat map que can deduce that there is correlation among different variables, thus we can demonstrate a linear relationship between each other. For exemple, there is a strong correlation between Arribal Delay, Carrier Delay and Later Aircraft Delay."
   ]
  },
  {
   "cell_type": "markdown",
   "id": "377b42c8",
   "metadata": {},
   "source": [
    "### Crating a copy of the data frame"
   ]
  },
  {
   "cell_type": "code",
   "execution_count": 78,
   "id": "c1e4205d",
   "metadata": {},
   "outputs": [],
   "source": [
    "temp_df1= df1"
   ]
  },
  {
   "cell_type": "markdown",
   "id": "4ab7faba",
   "metadata": {},
   "source": [
    "### Creating a new column \"DepDate\" with data from other columns"
   ]
  },
  {
   "cell_type": "code",
   "execution_count": 79,
   "id": "0477a20f",
   "metadata": {},
   "outputs": [],
   "source": [
    "temp_df1['DepDate'] = pd.to_datetime(df1.Year*10000+df1.Month*100+df1.DayofMonth,format='%Y%m%d')"
   ]
  },
  {
   "cell_type": "code",
   "execution_count": 80,
   "id": "55d10070",
   "metadata": {},
   "outputs": [
    {
     "data": {
      "text/plain": [
       "0   2008-01-03\n",
       "1   2008-01-03\n",
       "2   2008-01-03\n",
       "3   2008-01-03\n",
       "Name: DepDate, dtype: datetime64[ns]"
      ]
     },
     "execution_count": 80,
     "metadata": {},
     "output_type": "execute_result"
    }
   ],
   "source": [
    "temp_df1.loc[0:3,'DepDate']"
   ]
  },
  {
   "cell_type": "markdown",
   "id": "f6977085",
   "metadata": {},
   "source": [
    "### Creating a new column \"Vel\" with data from other columns that calculates miles per hour (mph)"
   ]
  },
  {
   "cell_type": "code",
   "execution_count": 81,
   "id": "9fdd8e22",
   "metadata": {},
   "outputs": [],
   "source": [
    "temp_df1['AirTime']=temp_df1['AirTime'].interpolate(method='linear',limit_direction ='both',axis=0) #Interpolation"
   ]
  },
  {
   "cell_type": "code",
   "execution_count": 82,
   "id": "7613c7ec",
   "metadata": {},
   "outputs": [
    {
     "data": {
      "text/plain": [
       "0"
      ]
     },
     "execution_count": 82,
     "metadata": {},
     "output_type": "execute_result"
    }
   ],
   "source": [
    "temp_df1['AirTime'].isna().sum()"
   ]
  },
  {
   "cell_type": "markdown",
   "id": "19a25fe5",
   "metadata": {},
   "source": [
    "#### No missing values in AirTime after interpolation"
   ]
  },
  {
   "cell_type": "code",
   "execution_count": 83,
   "id": "31934601",
   "metadata": {},
   "outputs": [],
   "source": [
    "temp_df1['AirTime'] = temp_df1['AirTime'].astype(\"int64\")"
   ]
  },
  {
   "cell_type": "code",
   "execution_count": 84,
   "id": "e6b22d43",
   "metadata": {},
   "outputs": [
    {
     "data": {
      "text/plain": [
       "dtype('int64')"
      ]
     },
     "execution_count": 84,
     "metadata": {},
     "output_type": "execute_result"
    }
   ],
   "source": [
    "temp_df1['AirTime'].dtype"
   ]
  },
  {
   "cell_type": "code",
   "execution_count": 85,
   "id": "107059c3",
   "metadata": {},
   "outputs": [],
   "source": [
    "temp_df1['Vel']= temp_df1['Distance'] / (temp_df1['AirTime']/60) "
   ]
  },
  {
   "cell_type": "code",
   "execution_count": 86,
   "id": "9cbf22a9",
   "metadata": {},
   "outputs": [
    {
     "name": "stdout",
     "output_type": "stream",
     "text": [
      "0          418.965517\n",
      "1          430.088496\n",
      "2          406.578947\n",
      "3          401.298701\n",
      "4          474.482759\n",
      "              ...    \n",
      "1936753    453.000000\n",
      "1936754    370.000000\n",
      "1936755    338.852459\n",
      "1936756    359.325843\n",
      "1936757    504.230769\n",
      "Name: Vel, Length: 1936758, dtype: float64\n"
     ]
    }
   ],
   "source": [
    "print (temp_df1['Vel'])"
   ]
  },
  {
   "cell_type": "code",
   "execution_count": 87,
   "id": "c156d413",
   "metadata": {},
   "outputs": [],
   "source": [
    "pd.set_option('mode.use_inf_as_na', True)"
   ]
  },
  {
   "cell_type": "code",
   "execution_count": 88,
   "id": "42ed64d3",
   "metadata": {},
   "outputs": [
    {
     "name": "stdout",
     "output_type": "stream",
     "text": [
      "397.31358150658656\n"
     ]
    }
   ],
   "source": [
    "df_mean = temp_df1[\"Vel\"].mean()\n",
    "print (df_mean)"
   ]
  },
  {
   "cell_type": "markdown",
   "id": "21f2b1dc",
   "metadata": {},
   "source": [
    "#### The averarge velocity was 397 mph"
   ]
  },
  {
   "cell_type": "markdown",
   "id": "450b0a9e",
   "metadata": {},
   "source": [
    "### Deleting columns not needed for our analysis"
   ]
  },
  {
   "cell_type": "markdown",
   "id": "228505b5",
   "metadata": {},
   "source": [
    "#### Showing column names to be able to operate more easily on them"
   ]
  },
  {
   "cell_type": "code",
   "execution_count": 89,
   "id": "b22436b2",
   "metadata": {},
   "outputs": [
    {
     "data": {
      "text/plain": [
       "Index(['Unnamed: 0', 'Year', 'Month', 'DayofMonth', 'DayOfWeek', 'DepTime',\n",
       "       'CRSDepTime', 'ArrTime', 'CRSArrTime', 'UniqueCarrier', 'FlightNum',\n",
       "       'TailNum', 'ActualElapsedTime', 'CRSElapsedTime', 'AirTime', 'ArrDelay',\n",
       "       'DepDelay', 'Origin', 'Dest', 'Distance', 'TaxiIn', 'TaxiOut',\n",
       "       'Cancelled', 'CancellationCode', 'Diverted', 'CarrierDelay',\n",
       "       'WeatherDelay', 'NASDelay', 'SecurityDelay', 'LateAircraftDelay',\n",
       "       'DepDate', 'Vel'],\n",
       "      dtype='object')"
      ]
     },
     "execution_count": 89,
     "metadata": {},
     "output_type": "execute_result"
    }
   ],
   "source": [
    "temp_df1.columns"
   ]
  },
  {
   "cell_type": "code",
   "execution_count": 90,
   "id": "9aefbdc1",
   "metadata": {},
   "outputs": [],
   "source": [
    "\n",
    "temp_df1 = temp_df1.drop(\"Unnamed: 0\",1) #Empty\n",
    "temp_df1 = temp_df1.drop(\"Year\",1) #Converted to date\n",
    "temp_df1 = temp_df1.drop(\"CRSDepTime\",1)\n",
    "temp_df1 = temp_df1.drop(\"CRSElapsedTime\",1)\n",
    "temp_df1 = temp_df1.drop(\"CRSArrTime\",1)\n",
    "temp_df1 = temp_df1.drop(\"TailNum\",1)\n",
    "temp_df1 = temp_df1.drop(\"TaxiIn\",1)\n",
    "temp_df1 = temp_df1.drop(\"TaxiOut\",1)"
   ]
  },
  {
   "cell_type": "markdown",
   "id": "5a617e3f",
   "metadata": {},
   "source": [
    "#### Changing names of variables and checking the result"
   ]
  },
  {
   "cell_type": "code",
   "execution_count": 91,
   "id": "441f6734",
   "metadata": {},
   "outputs": [],
   "source": [
    "temp_df1['DayOfWeek']=temp_df1['DayOfWeek'].replace([1,2,3,4,5,6,7],[\"Monday\",\"Tuesday\",\"Wednesday\",\"Thursday\",\"Friday\",\"Saturday\",\"Sunday\"])"
   ]
  },
  {
   "cell_type": "code",
   "execution_count": 92,
   "id": "3607bc34",
   "metadata": {},
   "outputs": [
    {
     "data": {
      "text/plain": [
       "Friday       323259\n",
       "Monday       290933\n",
       "Thursday     289451\n",
       "Sunday       286111\n",
       "Wednesday    262805\n",
       "Tuesday      260943\n",
       "Saturday     223256\n",
       "Name: DayOfWeek, dtype: int64"
      ]
     },
     "execution_count": 92,
     "metadata": {},
     "output_type": "execute_result"
    }
   ],
   "source": [
    "temp_df1['DayOfWeek'].value_counts()"
   ]
  },
  {
   "cell_type": "markdown",
   "id": "e9773c21",
   "metadata": {},
   "source": [
    "### Interpolating missing data"
   ]
  },
  {
   "cell_type": "code",
   "execution_count": 93,
   "id": "51b2c31b",
   "metadata": {},
   "outputs": [],
   "source": [
    "temp_df1['ArrTime']=temp_df1['ArrTime'].interpolate(method='linear',limit_direction ='both',axis=0) #Interploation\n",
    "temp_df1['ActualElapsedTime']=temp_df1['ActualElapsedTime'].interpolate(method='linear',limit_direction ='both',axis=0) #Interploation\n",
    "temp_df1['AirTime']=temp_df1['AirTime'].interpolate(method='linear',limit_direction ='both',axis=0) #Interploation"
   ]
  },
  {
   "cell_type": "markdown",
   "id": "e75fae1a",
   "metadata": {},
   "source": [
    "### Analysing delays by carrier"
   ]
  },
  {
   "cell_type": "markdown",
   "id": "f62357ef",
   "metadata": {},
   "source": [
    "#### A flight is counted as \"on time\" if it operated less than 15 minutes later the scheduled time shown in the carriers' Computerized Reservations Systems (CRS). Arrival Delay is the sum of CarrierDelay, WeatherDelay, NASDelay and LateAircraftDelay. In cases of cancelation or diversion there's no data related to delay causes."
   ]
  },
  {
   "cell_type": "markdown",
   "id": "c80967d1",
   "metadata": {},
   "source": [
    "#### Calculating the number of flights by carrier and its share of the market."
   ]
  },
  {
   "cell_type": "code",
   "execution_count": 94,
   "id": "c2940f98",
   "metadata": {},
   "outputs": [
    {
     "name": "stdout",
     "output_type": "stream",
     "text": [
      "UniqueCarrier\n",
      "WN               377602\n",
      "AA               191865\n",
      "MQ               141920\n",
      "UA               141426\n",
      "OO               132433\n",
      "DL               114238\n",
      "XE               103663\n",
      "CO               100195\n",
      "US                98425\n",
      "EV                81877\n",
      "NW                79108\n",
      "FL                71284\n",
      "YV                67063\n",
      "B6                55315\n",
      "OH                52657\n",
      "9E                51885\n",
      "AS                39293\n",
      "F9                28269\n",
      "HA                 7490\n",
      "AQ                  750\n",
      "dtype: int64 \n",
      "\n",
      " UniqueCarrier\n",
      "WN               0.194966\n",
      "AA               0.099065\n",
      "MQ               0.073277\n",
      "UA               0.073022\n",
      "OO               0.068379\n",
      "DL               0.058984\n",
      "XE               0.053524\n",
      "CO               0.051733\n",
      "US               0.050819\n",
      "EV               0.042275\n",
      "NW               0.040846\n",
      "FL               0.036806\n",
      "YV               0.034626\n",
      "B6               0.028561\n",
      "OH               0.027188\n",
      "9E               0.026790\n",
      "AS               0.020288\n",
      "F9               0.014596\n",
      "HA               0.003867\n",
      "AQ               0.000387\n",
      "dtype: float64\n"
     ]
    }
   ],
   "source": [
    "flights_num=temp_df1.loc[temp_df1['DepTime']>0, [\"UniqueCarrier\"]].value_counts()\n",
    "flights_num2=temp_df1.loc[temp_df1['DepTime']>0, [\"UniqueCarrier\"]].value_counts(normalize=True)\n",
    "print (flights_num,\"\\n\\n\",flights_num2)"
   ]
  },
  {
   "cell_type": "markdown",
   "id": "97f6716a",
   "metadata": {},
   "source": [
    "#### Calculating the number of delayed flights by carrier and its share of the market."
   ]
  },
  {
   "cell_type": "code",
   "execution_count": 95,
   "id": "ddd80ff6",
   "metadata": {},
   "outputs": [
    {
     "name": "stdout",
     "output_type": "stream",
     "text": [
      "UniqueCarrier\n",
      "WN               203559\n",
      "AA               132257\n",
      "MQ                97555\n",
      "UA                95465\n",
      "OO                88991\n",
      "DL                72252\n",
      "XE                72008\n",
      "US                59508\n",
      "CO                58958\n",
      "EV                56781\n",
      "NW                54744\n",
      "YV                50646\n",
      "FL                46991\n",
      "OH                39293\n",
      "B6                38232\n",
      "9E                35631\n",
      "AS                24012\n",
      "F9                15940\n",
      "HA                 4325\n",
      "AQ                  340\n",
      "dtype: int64 \n",
      "\n",
      " 1247488 \n",
      "\n",
      " UniqueCarrier\n",
      "WN               0.163175\n",
      "AA               0.106019\n",
      "MQ               0.078201\n",
      "UA               0.076526\n",
      "OO               0.071336\n",
      "DL               0.057918\n",
      "XE               0.057722\n",
      "US               0.047702\n",
      "CO               0.047261\n",
      "EV               0.045516\n",
      "NW               0.043883\n",
      "YV               0.040598\n",
      "FL               0.037668\n",
      "OH               0.031498\n",
      "B6               0.030647\n",
      "9E               0.028562\n",
      "AS               0.019248\n",
      "F9               0.012778\n",
      "HA               0.003467\n",
      "AQ               0.000273\n",
      "dtype: float64\n"
     ]
    }
   ],
   "source": [
    "delay=temp_df1.loc[temp_df1['ArrDelay'] >=15, [\"UniqueCarrier\"]].value_counts()\n",
    "delay2=delay.sum()\n",
    "delay3=temp_df1.loc[temp_df1['ArrDelay'] >=15, [\"UniqueCarrier\"]].value_counts(normalize=True)\n",
    "print (delay,\"\\n\\n\", delay2,\"\\n\\n\", delay3)\n"
   ]
  },
  {
   "cell_type": "markdown",
   "id": "ae1bc187",
   "metadata": {},
   "source": [
    "#### Calculating minutes lost by carrier due to delayed flights."
   ]
  },
  {
   "cell_type": "code",
   "execution_count": 96,
   "id": "fb0d64c4",
   "metadata": {},
   "outputs": [
    {
     "name": "stdout",
     "output_type": "stream",
     "text": [
      "                 ArrDelay\n",
      "UniqueCarrier            \n",
      "WN             10716672.0\n",
      "AA              8696884.0\n",
      "UA              6634029.0\n",
      "MQ              6186339.0\n",
      "OO              5763819.0\n",
      "XE              5054931.0\n",
      "DL              4396065.0\n",
      "CO              3977547.0\n",
      "EV              3775446.0\n",
      "YV              3600899.0\n",
      "US              3498776.0\n",
      "NW              3356289.0\n",
      "B6              3005261.0\n",
      "FL              2988435.0\n",
      "OH              2617019.0\n",
      "9E              2356877.0\n",
      "AS              1360497.0\n",
      "F9               721346.0\n",
      "HA               233327.0\n",
      "AQ                14565.0\n",
      "\n",
      "\n",
      " ArrDelay    78955023.0\n",
      "dtype: float64\n"
     ]
    }
   ],
   "source": [
    "delay4=temp_df1[temp_df1['ArrDelay'] >= 15].groupby('UniqueCarrier')[['ArrDelay']].sum()\n",
    "delay4_sorted=delay4.sort_values([\"ArrDelay\"], ascending=False)\n",
    "print (delay4_sorted)\n",
    "delay5=delay4.sum()\n",
    "print (\"\\n\\n\",delay5)\n"
   ]
  },
  {
   "cell_type": "markdown",
   "id": "9d7a6701",
   "metadata": {},
   "source": [
    "#### In 2008 63% of all the flights (1.247.488 ) had been delayed in arribal with an acumulate time lost of 78.955.023 minutes or 1.315.917 hours. For instance, Southwest Airlines (WN) had 203.559 delayed  flights, 16,3% of the total flights, with and aggregate time delayed of 10.716.672 minutes or 178.611 hours. Nevertheless, it provided the 19,5% of the total flights, so we can deduce WN was more competitive vis a vis it's main competitors, like American Airlines (AA) with 9,9% of total flights, but 10,6% of total delays. The same for Envoy Air (MQ) and United Airlines (UA), with a bigger share of delays than flights.\n"
   ]
  },
  {
   "cell_type": "code",
   "execution_count": 97,
   "id": "ab49bac4",
   "metadata": {},
   "outputs": [
    {
     "data": {
      "image/png": "[encoded data removed]",
      "text/plain": [
       "<Figure size 432x288 with 1 Axes>"
      ]
     },
     "metadata": {},
     "output_type": "display_data"
    }
   ],
   "source": [
    "delay4_sorted.plot(kind=\"hist\", legend=False, )\n",
    "\n",
    "plt.xlabel('Time delayed, total minutes')\n",
    "plt.ylabel('Carriers')\n",
    "plt.title(\"Flight's time delay by carrier 2008\",\n",
    "          fontsize = 15)\n",
    "\n",
    "plt.show()"
   ]
  },
  {
   "cell_type": "markdown",
   "id": "0a8d7257",
   "metadata": {},
   "source": [
    "#### The most frequent total delay among carriers is between 2 and 4 milions minutes."
   ]
  },
  {
   "cell_type": "markdown",
   "id": "25ddd6a5",
   "metadata": {},
   "source": [
    "### Which are the most delayed flights?"
   ]
  },
  {
   "cell_type": "code",
   "execution_count": 98,
   "id": "df2dac8f",
   "metadata": {},
   "outputs": [
    {
     "name": "stdout",
     "output_type": "stream",
     "text": [
      "     Origin Dest    ArrDelay\n",
      "979     CMI  SPI  575.000000\n",
      "2818    MBS  MSP  365.000000\n",
      "1629    EGE  MIA  320.444444\n",
      "3589    ONT  SAN  257.000000\n",
      "442     BHM  JFK  252.000000\n",
      "4203    ROA  CVG  245.000000\n",
      "466     BMI  LAS  243.000000\n",
      "1988    HDN  LGA  228.666667\n",
      "4172    RIC  ORF  227.000000\n",
      "4057    PSP  MSP  215.875000\n",
      "303     ATW  DSM  210.000000\n",
      "2007    HNL  MSP  202.894737\n",
      "4097    PWM  MSP  196.000000\n",
      "56      ACY  ATL  187.500000\n",
      "4902    TOL  CVG  184.000000\n"
     ]
    }
   ],
   "source": [
    "delay6=temp_df1[temp_df1['ArrDelay'] >= 15]\n",
    "delay7=delay6.groupby([\"Origin\",\"Dest\"], as_index=False)[\"ArrDelay\"].mean()\n",
    "delay8=delay7.sort_values('ArrDelay',ascending=False).head(15)\n",
    "print (delay8)\n"
   ]
  },
  {
   "cell_type": "markdown",
   "id": "6f522bde",
   "metadata": {},
   "source": [
    "#### The most delayed flights on arrival were, on average, from Willard Airport at the University of Illinois(CMI) to Abrahan Lincoln Capital Airport, Springfield, also in Ilinois, thus a local flight, like the 9th other flights. Seems evident than local airports had less eficiency than major airports.\n"
   ]
  },
  {
   "cell_type": "code",
   "execution_count": 99,
   "id": "6d8a42f9",
   "metadata": {},
   "outputs": [
    {
     "data": {
      "image/png": "[encoded data removed]",
      "text/plain": [
       "<Figure size 432x288 with 1 Axes>"
      ]
     },
     "metadata": {},
     "output_type": "display_data"
    }
   ],
   "source": [
    "delay7.plot(kind=\"hist\", legend=False, )\n",
    "\n",
    "plt.xlabel('Time delayed, total minutes')\n",
    "plt.ylabel('Flights by origin and destination')\n",
    "plt.title(\"Flight's delay on arrival 2008\",\n",
    "          fontsize = 15)\n",
    "\n",
    "plt.show()"
   ]
  },
  {
   "cell_type": "markdown",
   "id": "7b050a60",
   "metadata": {},
   "source": [
    "#### Most of the delays by flight (origin and destination) have a total time delayed in minutes between 15 and 125 minutes."
   ]
  },
  {
   "cell_type": "code",
   "execution_count": 100,
   "id": "ad733ee9",
   "metadata": {},
   "outputs": [
    {
     "name": "stdout",
     "output_type": "stream",
     "text": [
      "    Dest    ArrDelay\n",
      "66   CMX  101.766667\n",
      "195  MQT   95.693878\n",
      "14   ALO   89.307692\n",
      "271  SPI   83.623494\n",
      "96   EWR   81.079490\n",
      "210  ORD   80.727300\n",
      "7    ACY   79.368421\n",
      "150  JFK   78.912317\n",
      "176  MCN   78.818792\n",
      "281  TEX   78.200000\n",
      "180  MEI   76.247706\n",
      "166  LMT   73.923077\n",
      "4    ACK   73.472000\n",
      "167  LNK   73.387211\n",
      "58   CIC   72.553191\n"
     ]
    }
   ],
   "source": [
    "delay9=delay6.groupby([\"Dest\"], as_index=False)[\"ArrDelay\"].mean()\n",
    "delay10=delay9.sort_values('ArrDelay',ascending=False).head(15)\n",
    "print (delay10)\n"
   ]
  },
  {
   "cell_type": "code",
   "execution_count": 101,
   "id": "f2da3aa8",
   "metadata": {},
   "outputs": [
    {
     "data": {
      "image/png": "[encoded data removed]",
      "text/plain": [
       "<Figure size 432x288 with 1 Axes>"
      ]
     },
     "metadata": {},
     "output_type": "display_data"
    }
   ],
   "source": [
    "delay9.plot.scatter(x = 'ArrDelay', y = \"Dest\", s = 100, c = 'red');"
   ]
  },
  {
   "cell_type": "markdown",
   "id": "7a626dd2",
   "metadata": {},
   "source": [
    "#### The airports with the higuest delays on average on arribal were Houghton County Memorial Airport, Michigan (CMX), with 102 minutes on average; Sawyer International Airport, Michihan (MQT), 96 minutes; Region of Waterloo International Airport, Iowa(ALO). On the scatter plot que can see the average for all the airports was around 60 minutes."
   ]
  },
  {
   "cell_type": "markdown",
   "id": "8080a1d6",
   "metadata": {},
   "source": [
    "###  Analysing  cancelled flights"
   ]
  },
  {
   "cell_type": "code",
   "execution_count": 102,
   "id": "3a958218",
   "metadata": {},
   "outputs": [],
   "source": [
    "temp_df1.loc[temp_df1['Cancelled'] == 0, 'Cancelled2'] = \"No\"\n",
    "temp_df1.loc[temp_df1['Cancelled'] == 1, 'Cancelled2'] = \"Sí\""
   ]
  },
  {
   "cell_type": "code",
   "execution_count": 103,
   "id": "ad4965cf",
   "metadata": {},
   "outputs": [
    {
     "name": "stdout",
     "output_type": "stream",
     "text": [
      "No    1936125\n",
      "Sí        633\n",
      "Name: Cancelled2, dtype: int64\n"
     ]
    }
   ],
   "source": [
    "can= temp_df1['Cancelled2'].value_counts()\n",
    "print (can)"
   ]
  },
  {
   "cell_type": "code",
   "execution_count": 104,
   "id": "64c66fad",
   "metadata": {},
   "outputs": [
    {
     "data": {
      "text/plain": [
       "<function matplotlib.pyplot.show(close=None, block=None)>"
      ]
     },
     "execution_count": 104,
     "metadata": {},
     "output_type": "execute_result"
    },
    {
     "data": {
      "image/png": "[encoded data removed]",
      "text/plain": [
       "<Figure size 432x288 with 1 Axes>"
      ]
     },
     "metadata": {},
     "output_type": "display_data"
    }
   ],
   "source": [
    "can.plot(kind=\"pie\",title=\"Cancelled flights\",autopct='%1.2f%%')\n",
    "plt.title(\"Cancelled flights 2008\",\n",
    "          fontsize = 15)\n",
    "\n",
    "plt.show\n"
   ]
  },
  {
   "cell_type": "markdown",
   "id": "1240741e",
   "metadata": {},
   "source": [
    "#### Only 0,03% of flights were cancelled in the year 2008, 633 out of 1.936.125."
   ]
  },
  {
   "cell_type": "code",
   "execution_count": 105,
   "id": "251e336a",
   "metadata": {},
   "outputs": [],
   "source": [
    "can2 = temp_df1['Cancelled2'] == \"Sí\"\n",
    "carr= temp_df1['UniqueCarrier']\n"
   ]
  },
  {
   "cell_type": "code",
   "execution_count": 106,
   "id": "e72c5ed8",
   "metadata": {},
   "outputs": [],
   "source": [
    "can_carr= temp_df1[can2 & carr][:][['UniqueCarrier']].value_counts()"
   ]
  },
  {
   "cell_type": "code",
   "execution_count": 107,
   "id": "6b85a6ab",
   "metadata": {},
   "outputs": [
    {
     "name": "stdout",
     "output_type": "stream",
     "text": [
      "UniqueCarrier\n",
      "MQ               104\n",
      "OO                89\n",
      "9E                58\n",
      "YV                53\n",
      "UA                47\n",
      "AA                46\n",
      "XE                46\n",
      "CO                38\n",
      "EV                29\n",
      "US                26\n",
      "DL                21\n",
      "NW                16\n",
      "WN                15\n",
      "OH                12\n",
      "AS                11\n",
      "B6                10\n",
      "FL                 7\n",
      "HA                 3\n",
      "F9                 2\n",
      "dtype: int64\n"
     ]
    }
   ],
   "source": [
    "print (can_carr)"
   ]
  },
  {
   "cell_type": "code",
   "execution_count": 108,
   "id": "33e08cb0",
   "metadata": {},
   "outputs": [],
   "source": [
    "my_colors=['lightblue','lightgreen','silver','green']"
   ]
  },
  {
   "cell_type": "code",
   "execution_count": 109,
   "id": "28f62a41",
   "metadata": {},
   "outputs": [
    {
     "data": {
      "image/png": "[encoded data removed]",
      "text/plain": [
       "<Figure size 432x288 with 1 Axes>"
      ]
     },
     "metadata": {},
     "output_type": "display_data"
    }
   ],
   "source": [
    "can_carr.plot(kind=\"bar\", color=my_colors, legend=False)\n",
    "plt.xlabel(\"Carrier\")\n",
    "plt.ylabel('Number of cancelled flights')\n",
    "plt.title(\"Cancelled flights by carrier 2008\",\n",
    "          fontsize = 15)\n",
    "\n",
    "plt.show()\n"
   ]
  },
  {
   "cell_type": "markdown",
   "id": "96fad1d7",
   "metadata": {},
   "source": [
    "#### \tEnvoy Air (MQ) and \tSkywest Airlines (OO) were the carriers with more cancelled flights."
   ]
  },
  {
   "cell_type": "markdown",
   "id": "3c4dc4f9",
   "metadata": {},
   "source": [
    "### Analysis of flights' distribution by month, day of the month and carrier"
   ]
  },
  {
   "cell_type": "code",
   "execution_count": 110,
   "id": "31df5241",
   "metadata": {},
   "outputs": [],
   "source": [
    "#Creating a function to plot Count plot\n",
    "def count_plot(df,feature):\n",
    "    sns.set(color_codes = 'lightgreen', style=\"whitegrid\")\n",
    "    sns.set_style(\"whitegrid\", {'axes.grid' : False})\n",
    "    sns.set_context(rc = {'patch.linewidth': 0.0})\n",
    "    fig = plt.subplots(figsize=(10,3))\n",
    "    sns.countplot(x=feature, data=df, palette = \"tab10\") # countplot\n",
    "    plt.show()"
   ]
  },
  {
   "cell_type": "code",
   "execution_count": 111,
   "id": "781c64b9",
   "metadata": {},
   "outputs": [
    {
     "data": {
      "text/plain": [
       "['DayofMonth',\n",
       " 'CancellationCode',\n",
       " 'Origin',\n",
       " 'Dest',\n",
       " 'Month',\n",
       " 'DepDate',\n",
       " 'Cancelled',\n",
       " 'DayOfWeek',\n",
       " 'UniqueCarrier',\n",
       " 'Cancelled2']"
      ]
     },
     "execution_count": 111,
     "metadata": {},
     "output_type": "execute_result"
    }
   ],
   "source": [
    "# Filter categorical variables\n",
    "num_cols = temp_df1._get_numeric_data().columns\n",
    "cols = temp_df1.columns\n",
    "cat_cols = list(set(cols) - set(num_cols))\n",
    "cat_cols"
   ]
  },
  {
   "cell_type": "code",
   "execution_count": 112,
   "id": "775231b8",
   "metadata": {},
   "outputs": [
    {
     "data": {
      "image/png": "[encoded data removed]",
      "text/plain": [
       "<Figure size 720x216 with 1 Axes>"
      ]
     },
     "metadata": {},
     "output_type": "display_data"
    },
    {
     "data": {
      "image/png": "[encoded data removed]",
      "text/plain": [
       "<Figure size 720x216 with 1 Axes>"
      ]
     },
     "metadata": {},
     "output_type": "display_data"
    },
    {
     "data": {
      "image/png": "[encoded data removed]",
      "text/plain": [
       "<Figure size 720x216 with 1 Axes>"
      ]
     },
     "metadata": {},
     "output_type": "display_data"
    },
    {
     "data": {
      "image/png": "[encoded data removed]",
      "text/plain": [
       "<Figure size 720x216 with 1 Axes>"
      ]
     },
     "metadata": {},
     "output_type": "display_data"
    }
   ],
   "source": [
    "for col in cat_cols:\n",
    "    if col in ['UniqueCarrier','DayOfWeek','Month','DayofMonth']:\n",
    "        count_plot(temp_df1,col)"
   ]
  },
  {
   "cell_type": "markdown",
   "id": "f49f39da",
   "metadata": {},
   "source": [
    "#### The busiest months in 2008 were march, june and december. Thee days 20th and 21th of the month and fridays were also de busiest. The carrier with more activity was Southwest Airlines (WN), followed in distance by American Airlines (AA)."
   ]
  },
  {
   "cell_type": "markdown",
   "id": "89311da3",
   "metadata": {},
   "source": [
    "### Analysis of flights destinations"
   ]
  },
  {
   "cell_type": "code",
   "execution_count": 113,
   "id": "dcfacccc",
   "metadata": {},
   "outputs": [
    {
     "name": "stdout",
     "output_type": "stream",
     "text": [
      "ATL    131613\n",
      "ORD    125979\n",
      "DFW     95414\n",
      "DEN     74323\n",
      "LAX     58772\n",
      "IAH     56847\n",
      "PHX     55720\n",
      "LAS     53710\n",
      "EWR     52925\n",
      "DTW     43923\n",
      "Name: Origin, dtype: int64\n"
     ]
    }
   ],
   "source": [
    "ori =temp_df1['Origin'].value_counts().head(10)\n",
    "print (ori)"
   ]
  },
  {
   "cell_type": "code",
   "execution_count": 114,
   "id": "d7af84f9",
   "metadata": {},
   "outputs": [
    {
     "data": {
      "image/png": "[encoded data removed]",
      "text/plain": [
       "<Figure size 432x288 with 1 Axes>"
      ]
     },
     "metadata": {},
     "output_type": "display_data"
    }
   ],
   "source": [
    "ori.plot(kind=\"bar\",title=\"Airport of origen\",color=my_colors, legend=False, y=\"Number\")\n",
    "\n",
    "plt.xlabel(\"10 main airports\")\n",
    "plt.ylabel('Number of flights')\n",
    "plt.title(\"Airport of origen by number of flights 2008\",\n",
    "          fontsize = 15)\n",
    "\n",
    "plt.show()"
   ]
  },
  {
   "cell_type": "markdown",
   "id": "dd4e020b",
   "metadata": {},
   "source": [
    "#### The Atlanta and Orlando airports, both in Florida, were the busiest of the USA in 2008"
   ]
  },
  {
   "cell_type": "code",
   "execution_count": 115,
   "id": "2bed0e4c",
   "metadata": {},
   "outputs": [
    {
     "name": "stdout",
     "output_type": "stream",
     "text": [
      "ORD    108984\n",
      "ATL    106898\n",
      "DFW     70657\n",
      "DEN     63003\n",
      "LAX     59969\n",
      "EWR     55861\n",
      "LAS     48858\n",
      "PHX     47836\n",
      "SFO     46876\n",
      "IAH     43905\n",
      "Name: Dest, dtype: int64\n"
     ]
    }
   ],
   "source": [
    "des =temp_df1['Dest'].value_counts().head(10)\n",
    "print (des)"
   ]
  },
  {
   "cell_type": "code",
   "execution_count": 116,
   "id": "3c84e4fc",
   "metadata": {},
   "outputs": [
    {
     "data": {
      "image/png": "[encoded data removed]",
      "text/plain": [
       "<Figure size 432x288 with 1 Axes>"
      ]
     },
     "metadata": {},
     "output_type": "display_data"
    }
   ],
   "source": [
    "des.plot(kind=\"bar\",color=my_colors, legend=False, y=\"Number\")\n",
    "\n",
    "plt.xlabel(\"10 main airports\")\n",
    "plt.ylabel('Number of flights')\n",
    "plt.title(\"Airport of destination by number of flights 2008\",\n",
    "          fontsize = 15)\n",
    "\n",
    "plt.show()"
   ]
  },
  {
   "cell_type": "markdown",
   "id": "0305acff",
   "metadata": {},
   "source": [
    "#### But Orlando airoport received more flights by a slight difference vs. Atlanta's"
   ]
  },
  {
   "cell_type": "code",
   "execution_count": 117,
   "id": "7db1c40b",
   "metadata": {},
   "outputs": [
    {
     "name": "stdout",
     "output_type": "stream",
     "text": [
      "     Origin Dest  DepDate\n",
      "0       ABE  ATL      250\n",
      "1       ABE  BHM        1\n",
      "2       ABE  CLE       68\n",
      "3       ABE  CLT       33\n",
      "4       ABE  CVG       12\n",
      "...     ...  ...      ...\n",
      "5200    YUM  IPL       59\n",
      "5201    YUM  LAS       25\n",
      "5202    YUM  LAX      161\n",
      "5203    YUM  PHX      333\n",
      "5204    YUM  SLC      109\n",
      "\n",
      "[5205 rows x 3 columns]\n"
     ]
    }
   ],
   "source": [
    "or_des = temp_df1.groupby([\"Origin\",\"Dest\"], as_index=False)[\"DepDate\"].count()\n",
    "print (or_des)"
   ]
  },
  {
   "cell_type": "markdown",
   "id": "bc095547",
   "metadata": {},
   "source": [
    "#### Number of possible flights combination 5205 by origin"
   ]
  },
  {
   "cell_type": "code",
   "execution_count": 118,
   "id": "545f8f1f",
   "metadata": {},
   "outputs": [
    {
     "name": "stdout",
     "output_type": "stream",
     "text": [
      "     Origin Dest  DepDate\n",
      "2710    LAX  SFO     4739\n",
      "3759    ORD  LGA     4396\n",
      "227     ATL  LGA     4058\n",
      "4613    SFO  LAX     4020\n",
      "2585    LAS  LAX     3516\n",
      "2749    LGA  ATL     3354\n",
      "3727    ORD  EWR     3347\n",
      "2789    LGA  ORD     3327\n",
      "187     ATL  EWR     3283\n",
      "1464    DFW  ORD     3278\n"
     ]
    }
   ],
   "source": [
    "or_des2= or_des.sort_values('DepDate',ascending=False).head(10)\n",
    "print (or_des2)\n"
   ]
  },
  {
   "cell_type": "markdown",
   "id": "7680f8a8",
   "metadata": {},
   "source": [
    "#### The most frequent flights in 2008 were from Las Vegas Airport (LAX) to San Francisco International Airport (SFO) with an average of 13 flights every day, followed by Orlando Airport (ORD) to La Guardia Aiport, New York (LGA), with an average of 12 flights."
   ]
  },
  {
   "cell_type": "code",
   "execution_count": 119,
   "id": "f7a1413a",
   "metadata": {},
   "outputs": [
    {
     "name": "stdout",
     "output_type": "stream",
     "text": [
      "    Origin Dest  DepDate\n",
      "227    ATL  LGA     4058\n",
      "187    ATL  EWR     3283\n",
      "233    ATL  MCO     3148\n",
      "179    ATL  DFW     3094\n",
      "257    ATL  ORD     2628\n",
      "..     ...  ...      ...\n",
      "190    ATL  FCA        7\n",
      "238    ATL  MFE        5\n",
      "171    ATL  CRP        3\n",
      "205    ATL  GUC        1\n",
      "302    ATL  TUP        1\n",
      "\n",
      "[173 rows x 3 columns]\n"
     ]
    }
   ],
   "source": [
    "atl=or_des.loc[or_des['Origin'].isin(['ATL'])].sort_values('DepDate',ascending=False)\n",
    "print (atl)"
   ]
  },
  {
   "cell_type": "markdown",
   "id": "8cbf81fb",
   "metadata": {},
   "source": [
    "#### From Atlanta airport one can fly to 173 different destinations (domestic flights)"
   ]
  },
  {
   "cell_type": "code",
   "execution_count": 120,
   "id": "5d004f0a",
   "metadata": {},
   "outputs": [
    {
     "name": "stdout",
     "output_type": "stream",
     "text": [
      "    Origin Dest  DepDate\n",
      "227    ATL  LGA     4058\n",
      "187    ATL  EWR     3283\n",
      "233    ATL  MCO     3148\n",
      "179    ATL  DFW     3094\n",
      "257    ATL  ORD     2628\n",
      "191    ATL  FLL     2491\n",
      "263    ATL  PHL     2308\n",
      "299    ATL  TPA     2276\n",
      "224    ATL  LAX     2081\n",
      "177    ATL  DCA     2051\n"
     ]
    }
   ],
   "source": [
    "atl2=or_des.loc[or_des['Origin'].isin(['ATL'])].sort_values('DepDate',ascending=False).head(10)\n",
    "print (atl2)"
   ]
  },
  {
   "cell_type": "code",
   "execution_count": 121,
   "id": "bed050cf",
   "metadata": {},
   "outputs": [
    {
     "data": {
      "image/png": "[encoded data removed]",
      "text/plain": [
       "<Figure size 432x288 with 1 Axes>"
      ]
     },
     "metadata": {},
     "output_type": "display_data"
    }
   ],
   "source": [
    "atl2.plot(kind=\"bar\", color = 'lightgreen', x=\"Dest\", legend=False)\n",
    "plt.xlabel(\"10 main airports\")\n",
    "plt.ylabel(\"Number of flights\")\n",
    "plt.title(\"Airports of destination from Atlanta 2008\",\n",
    "          fontsize = 15)\n",
    "\n",
    "plt.show()"
   ]
  },
  {
   "cell_type": "markdown",
   "id": "7c217331",
   "metadata": {},
   "source": [
    "#### From Atlanta Airport, the main destinations were Los Angeles Airport and Newark Liberty International Airport (New York)"
   ]
  },
  {
   "cell_type": "markdown",
   "id": "fe1ee618",
   "metadata": {},
   "source": [
    "### Longest flights"
   ]
  },
  {
   "cell_type": "code",
   "execution_count": 122,
   "id": "6dd1f0d4",
   "metadata": {},
   "outputs": [
    {
     "name": "stdout",
     "output_type": "stream",
     "text": [
      "     Origin Dest     AirTime\n",
      "1737    EWR  HNL  605.981203\n",
      "208     ATL  HNL  545.485531\n",
      "2043    HNL  EWR  538.241379\n",
      "3744    ORD  HNL  516.957143\n",
      "3781    ORD  OGG  502.040541\n",
      "2040    HNL  ATL  484.225806\n",
      "3414    MSP  HNL  482.333333\n",
      "2243    IAH  HNL  468.056047\n",
      "1424    DFW  HNL  466.572000\n",
      "1460    DFW  OGG  461.888889\n"
     ]
    }
   ],
   "source": [
    "long=temp_df1.groupby([\"Origin\",\"Dest\"], as_index=False)[\"AirTime\"].mean()\n",
    "long2=long.sort_values('AirTime',ascending=False).head(10)\n",
    "print (long2)"
   ]
  },
  {
   "cell_type": "markdown",
   "id": "fb5cb4b3",
   "metadata": {},
   "source": [
    "#### The longest flights were, on average, from Newark International Airport, New Jersey (EWR) to Honolulu International Airport, Hawai(HNL), with 606 minutes, thus is, ten hours. The second longest was from Atlanta to Honololu."
   ]
  },
  {
   "cell_type": "markdown",
   "id": "63a9c94b",
   "metadata": {},
   "source": [
    "### Save the data set to Excel (success at the third attempt)"
   ]
  },
  {
   "cell_type": "markdown",
   "id": "a60bc592",
   "metadata": {},
   "source": [
    "#### First attempt"
   ]
  },
  {
   "cell_type": "code",
   "execution_count": 132,
   "id": "840a1cf2",
   "metadata": {},
   "outputs": [
    {
     "ename": "ValueError",
     "evalue": "This sheet is too large! Your sheet size is: 1936758, 25 Max sheet size is: 1048576, 16384",
     "output_type": "error",
     "traceback": [
      "\u001b[1;31m---------------------------------------------------------------------------\u001b[0m",
      "\u001b[1;31mValueError\u001b[0m                                Traceback (most recent call last)",
      "\u001b[1;32m<ipython-input-132-da5e6946892f>\u001b[0m in \u001b[0;36m<module>\u001b[1;34m\u001b[0m\n\u001b[1;32m----> 1\u001b[1;33m \u001b[0mtemp_df1\u001b[0m\u001b[1;33m.\u001b[0m\u001b[0mto_excel\u001b[0m\u001b[1;33m(\u001b[0m\u001b[1;34m'Delayed_flights_clean.xlsx'\u001b[0m\u001b[1;33m,\u001b[0m \u001b[0mengine\u001b[0m\u001b[1;33m=\u001b[0m\u001b[1;34m'xlsxwriter'\u001b[0m\u001b[1;33m)\u001b[0m\u001b[1;33m\u001b[0m\u001b[1;33m\u001b[0m\u001b[0m\n\u001b[0m",
      "\u001b[1;32m~\\anaconda3\\lib\\site-packages\\pandas\\core\\generic.py\u001b[0m in \u001b[0;36mto_excel\u001b[1;34m(self, excel_writer, sheet_name, na_rep, float_format, columns, header, index, index_label, startrow, startcol, engine, merge_cells, encoding, inf_rep, verbose, freeze_panes, storage_options)\u001b[0m\n\u001b[0;32m   2187\u001b[0m             \u001b[0minf_rep\u001b[0m\u001b[1;33m=\u001b[0m\u001b[0minf_rep\u001b[0m\u001b[1;33m,\u001b[0m\u001b[1;33m\u001b[0m\u001b[1;33m\u001b[0m\u001b[0m\n\u001b[0;32m   2188\u001b[0m         )\n\u001b[1;32m-> 2189\u001b[1;33m         formatter.write(\n\u001b[0m\u001b[0;32m   2190\u001b[0m             \u001b[0mexcel_writer\u001b[0m\u001b[1;33m,\u001b[0m\u001b[1;33m\u001b[0m\u001b[1;33m\u001b[0m\u001b[0m\n\u001b[0;32m   2191\u001b[0m             \u001b[0msheet_name\u001b[0m\u001b[1;33m=\u001b[0m\u001b[0msheet_name\u001b[0m\u001b[1;33m,\u001b[0m\u001b[1;33m\u001b[0m\u001b[1;33m\u001b[0m\u001b[0m\n",
      "\u001b[1;32m~\\anaconda3\\lib\\site-packages\\pandas\\io\\formats\\excel.py\u001b[0m in \u001b[0;36mwrite\u001b[1;34m(self, writer, sheet_name, startrow, startcol, freeze_panes, engine, storage_options)\u001b[0m\n\u001b[0;32m    801\u001b[0m         \u001b[0mnum_rows\u001b[0m\u001b[1;33m,\u001b[0m \u001b[0mnum_cols\u001b[0m \u001b[1;33m=\u001b[0m \u001b[0mself\u001b[0m\u001b[1;33m.\u001b[0m\u001b[0mdf\u001b[0m\u001b[1;33m.\u001b[0m\u001b[0mshape\u001b[0m\u001b[1;33m\u001b[0m\u001b[1;33m\u001b[0m\u001b[0m\n\u001b[0;32m    802\u001b[0m         \u001b[1;32mif\u001b[0m \u001b[0mnum_rows\u001b[0m \u001b[1;33m>\u001b[0m \u001b[0mself\u001b[0m\u001b[1;33m.\u001b[0m\u001b[0mmax_rows\u001b[0m \u001b[1;32mor\u001b[0m \u001b[0mnum_cols\u001b[0m \u001b[1;33m>\u001b[0m \u001b[0mself\u001b[0m\u001b[1;33m.\u001b[0m\u001b[0mmax_cols\u001b[0m\u001b[1;33m:\u001b[0m\u001b[1;33m\u001b[0m\u001b[1;33m\u001b[0m\u001b[0m\n\u001b[1;32m--> 803\u001b[1;33m             raise ValueError(\n\u001b[0m\u001b[0;32m    804\u001b[0m                 \u001b[1;34mf\"This sheet is too large! Your sheet size is: {num_rows}, {num_cols} \"\u001b[0m\u001b[1;33m\u001b[0m\u001b[1;33m\u001b[0m\u001b[0m\n\u001b[0;32m    805\u001b[0m                 \u001b[1;34mf\"Max sheet size is: {self.max_rows}, {self.max_cols}\"\u001b[0m\u001b[1;33m\u001b[0m\u001b[1;33m\u001b[0m\u001b[0m\n",
      "\u001b[1;31mValueError\u001b[0m: This sheet is too large! Your sheet size is: 1936758, 25 Max sheet size is: 1048576, 16384"
     ]
    }
   ],
   "source": [
    "temp_df1.to_excel('Delayed_flights_clean.xlsx', engine='xlsxwriter')"
   ]
  },
  {
   "cell_type": "markdown",
   "id": "74cdb794",
   "metadata": {},
   "source": [
    "#### Second attempt"
   ]
  },
  {
   "cell_type": "code",
   "execution_count": 134,
   "id": "1a5f99b3",
   "metadata": {},
   "outputs": [],
   "source": [
    "# Create a Pandas Excel writer using XlsxWriter as the engine.\n",
    "writer = pd.ExcelWriter('delayed_flights_clean.xlsx', engine='xlsxwriter')\n"
   ]
  },
  {
   "cell_type": "code",
   "execution_count": 135,
   "id": "a32e598d",
   "metadata": {},
   "outputs": [
    {
     "ename": "ValueError",
     "evalue": "This sheet is too large! Your sheet size is: 1936758, 25 Max sheet size is: 1048576, 16384",
     "output_type": "error",
     "traceback": [
      "\u001b[1;31m---------------------------------------------------------------------------\u001b[0m",
      "\u001b[1;31mValueError\u001b[0m                                Traceback (most recent call last)",
      "\u001b[1;32m<ipython-input-135-11e3b3b545d0>\u001b[0m in \u001b[0;36m<module>\u001b[1;34m\u001b[0m\n\u001b[0;32m      1\u001b[0m \u001b[1;31m# Convert the dataframe to an XlsxWriter Excel object.\u001b[0m\u001b[1;33m\u001b[0m\u001b[1;33m\u001b[0m\u001b[1;33m\u001b[0m\u001b[0m\n\u001b[1;32m----> 2\u001b[1;33m \u001b[0mtemp_df1\u001b[0m\u001b[1;33m.\u001b[0m\u001b[0mto_excel\u001b[0m\u001b[1;33m(\u001b[0m\u001b[0mwriter\u001b[0m\u001b[1;33m,\u001b[0m \u001b[0msheet_name\u001b[0m\u001b[1;33m=\u001b[0m\u001b[1;34m'delayed_flights_clean'\u001b[0m\u001b[1;33m)\u001b[0m\u001b[1;33m\u001b[0m\u001b[1;33m\u001b[0m\u001b[0m\n\u001b[0m",
      "\u001b[1;32m~\\anaconda3\\lib\\site-packages\\pandas\\core\\generic.py\u001b[0m in \u001b[0;36mto_excel\u001b[1;34m(self, excel_writer, sheet_name, na_rep, float_format, columns, header, index, index_label, startrow, startcol, engine, merge_cells, encoding, inf_rep, verbose, freeze_panes, storage_options)\u001b[0m\n\u001b[0;32m   2187\u001b[0m             \u001b[0minf_rep\u001b[0m\u001b[1;33m=\u001b[0m\u001b[0minf_rep\u001b[0m\u001b[1;33m,\u001b[0m\u001b[1;33m\u001b[0m\u001b[1;33m\u001b[0m\u001b[0m\n\u001b[0;32m   2188\u001b[0m         )\n\u001b[1;32m-> 2189\u001b[1;33m         formatter.write(\n\u001b[0m\u001b[0;32m   2190\u001b[0m             \u001b[0mexcel_writer\u001b[0m\u001b[1;33m,\u001b[0m\u001b[1;33m\u001b[0m\u001b[1;33m\u001b[0m\u001b[0m\n\u001b[0;32m   2191\u001b[0m             \u001b[0msheet_name\u001b[0m\u001b[1;33m=\u001b[0m\u001b[0msheet_name\u001b[0m\u001b[1;33m,\u001b[0m\u001b[1;33m\u001b[0m\u001b[1;33m\u001b[0m\u001b[0m\n",
      "\u001b[1;32m~\\anaconda3\\lib\\site-packages\\pandas\\io\\formats\\excel.py\u001b[0m in \u001b[0;36mwrite\u001b[1;34m(self, writer, sheet_name, startrow, startcol, freeze_panes, engine, storage_options)\u001b[0m\n\u001b[0;32m    801\u001b[0m         \u001b[0mnum_rows\u001b[0m\u001b[1;33m,\u001b[0m \u001b[0mnum_cols\u001b[0m \u001b[1;33m=\u001b[0m \u001b[0mself\u001b[0m\u001b[1;33m.\u001b[0m\u001b[0mdf\u001b[0m\u001b[1;33m.\u001b[0m\u001b[0mshape\u001b[0m\u001b[1;33m\u001b[0m\u001b[1;33m\u001b[0m\u001b[0m\n\u001b[0;32m    802\u001b[0m         \u001b[1;32mif\u001b[0m \u001b[0mnum_rows\u001b[0m \u001b[1;33m>\u001b[0m \u001b[0mself\u001b[0m\u001b[1;33m.\u001b[0m\u001b[0mmax_rows\u001b[0m \u001b[1;32mor\u001b[0m \u001b[0mnum_cols\u001b[0m \u001b[1;33m>\u001b[0m \u001b[0mself\u001b[0m\u001b[1;33m.\u001b[0m\u001b[0mmax_cols\u001b[0m\u001b[1;33m:\u001b[0m\u001b[1;33m\u001b[0m\u001b[1;33m\u001b[0m\u001b[0m\n\u001b[1;32m--> 803\u001b[1;33m             raise ValueError(\n\u001b[0m\u001b[0;32m    804\u001b[0m                 \u001b[1;34mf\"This sheet is too large! Your sheet size is: {num_rows}, {num_cols} \"\u001b[0m\u001b[1;33m\u001b[0m\u001b[1;33m\u001b[0m\u001b[0m\n\u001b[0;32m    805\u001b[0m                 \u001b[1;34mf\"Max sheet size is: {self.max_rows}, {self.max_cols}\"\u001b[0m\u001b[1;33m\u001b[0m\u001b[1;33m\u001b[0m\u001b[0m\n",
      "\u001b[1;31mValueError\u001b[0m: This sheet is too large! Your sheet size is: 1936758, 25 Max sheet size is: 1048576, 16384"
     ]
    }
   ],
   "source": [
    "# Convert the dataframe to an XlsxWriter Excel object.\n",
    "temp_df1.to_excel(writer, sheet_name='delayed_flights_clean')"
   ]
  },
  {
   "cell_type": "code",
   "execution_count": 136,
   "id": "9d485e9c",
   "metadata": {},
   "outputs": [],
   "source": [
    "# Close the Pandas Excel writer and output the Excel file.\n",
    "writer.save()"
   ]
  },
  {
   "cell_type": "markdown",
   "id": "07e09338",
   "metadata": {},
   "source": [
    "#### Third attempt"
   ]
  },
  {
   "cell_type": "code",
   "execution_count": 149,
   "id": "a247d2e7",
   "metadata": {},
   "outputs": [
    {
     "name": "stdout",
     "output_type": "stream",
     "text": [
      "       Month DayofMonth DayOfWeek  DepTime  ArrTime UniqueCarrier  FlightNum  \\\n",
      "0          1          3  Thursday   2003.0   2211.0            WN        335   \n",
      "1          1          3  Thursday    754.0   1002.0            WN       3231   \n",
      "2          1          3  Thursday    628.0    804.0            WN        448   \n",
      "3          1          3  Thursday   1829.0   1959.0            WN       3920   \n",
      "4          1          3  Thursday   1940.0   2121.0            WN        378   \n",
      "...      ...        ...       ...      ...      ...           ...        ...   \n",
      "999995     6          8    Sunday   1659.0   1941.0            FL        474   \n",
      "999996     6          8    Sunday   1002.0   1158.0            FL         74   \n",
      "999997     6          8    Sunday   1525.0   1715.0            FL        776   \n",
      "999998     6          8    Sunday   1908.0   2056.0            FL         75   \n",
      "999999     6          8    Sunday   2130.0   2312.0            FL         79   \n",
      "\n",
      "        ActualElapsedTime  AirTime  ArrDelay  ...  CancellationCode Diverted  \\\n",
      "0                   128.0      116     -14.0  ...                 N        0   \n",
      "1                   128.0      113       2.0  ...                 N        0   \n",
      "2                    96.0       76      14.0  ...                 N        0   \n",
      "3                    90.0       77      34.0  ...                 N        0   \n",
      "4                   101.0       87      11.0  ...                 N        0   \n",
      "...                   ...      ...       ...  ...               ...      ...   \n",
      "999995              162.0      133      42.0  ...                 N        0   \n",
      "999996              116.0       87      62.0  ...                 N        0   \n",
      "999997              110.0       86      16.0  ...                 N        0   \n",
      "999998              108.0       85      24.0  ...                 N        0   \n",
      "999999              102.0       83      11.0  ...                 N        0   \n",
      "\n",
      "       CarrierDelay  WeatherDelay NASDelay SecurityDelay  LateAircraftDelay  \\\n",
      "0               NaN           NaN      NaN           NaN                NaN   \n",
      "1               NaN           NaN      NaN           NaN                NaN   \n",
      "2               NaN           NaN      NaN           NaN                NaN   \n",
      "3               2.0           0.0      0.0           0.0               32.0   \n",
      "4               NaN           NaN      NaN           NaN                NaN   \n",
      "...             ...           ...      ...           ...                ...   \n",
      "999995          0.0           0.0     42.0           0.0                0.0   \n",
      "999996         52.0           0.0     10.0           0.0                0.0   \n",
      "999997          0.0           0.0      3.0           0.0               13.0   \n",
      "999998          0.0           0.0      0.0           0.0               24.0   \n",
      "999999          NaN           NaN      NaN           NaN                NaN   \n",
      "\n",
      "          DepDate         Vel  Cancelled2  \n",
      "0      2008-01-03  418.965517          No  \n",
      "1      2008-01-03  430.088496          No  \n",
      "2      2008-01-03  406.578947          No  \n",
      "3      2008-01-03  401.298701          No  \n",
      "4      2008-01-03  474.482759          No  \n",
      "...           ...         ...         ...  \n",
      "999995 2008-06-08  336.090226          No  \n",
      "999996 2008-06-08  400.689655          No  \n",
      "999997 2008-06-08  405.348837          No  \n",
      "999998 2008-06-08  410.117647          No  \n",
      "999999 2008-06-08  420.000000          No  \n",
      "\n",
      "[1000000 rows x 25 columns]         Month DayofMonth DayOfWeek  DepTime  ArrTime UniqueCarrier  FlightNum  \\\n",
      "1000000     6          8    Sunday     35.0    205.0            FL         77   \n",
      "1000001     6          8    Sunday    941.0   1143.0            FL        259   \n",
      "1000002     6          8    Sunday   1522.0   1738.0            FL        246   \n",
      "1000003     6          8    Sunday   1710.0   1720.0            FL       1592   \n",
      "1000004     6          8    Sunday   1612.0   1711.0            FL        298   \n",
      "...       ...        ...       ...      ...      ...           ...        ...   \n",
      "1936753    12         13  Saturday   1250.0   1617.0            DL       1621   \n",
      "1936754    12         13  Saturday    657.0    904.0            DL       1631   \n",
      "1936755    12         13  Saturday   1007.0   1149.0            DL       1631   \n",
      "1936756    12         13  Saturday   1251.0   1446.0            DL       1639   \n",
      "1936757    12         13  Saturday   1110.0   1413.0            DL       1641   \n",
      "\n",
      "         ActualElapsedTime  AirTime  ArrDelay  ...  CancellationCode Diverted  \\\n",
      "1000000               90.0       77      79.0  ...                 N        0   \n",
      "1000001              122.0       90      15.0  ...                 N        0   \n",
      "1000002              136.0      118      29.0  ...                 N        0   \n",
      "1000003               70.0       50      32.0  ...                 N        0   \n",
      "1000004              119.0       94      61.0  ...                 N        0   \n",
      "...                    ...      ...       ...  ...               ...      ...   \n",
      "1936753              147.0      120      25.0  ...                 N        0   \n",
      "1936754              127.0       78      75.0  ...                 N        0   \n",
      "1936755              162.0      122      99.0  ...                 N        0   \n",
      "1936756              115.0       89       9.0  ...                 N        0   \n",
      "1936757              123.0      104      -5.0  ...                 N        0   \n",
      "\n",
      "        CarrierDelay  WeatherDelay NASDelay SecurityDelay  LateAircraftDelay  \\\n",
      "1000000          0.0           0.0      0.0           0.0               79.0   \n",
      "1000001         11.0           0.0      4.0           0.0                0.0   \n",
      "1000002          0.0           0.0     21.0           0.0                8.0   \n",
      "1000003          0.0           0.0      0.0           0.0               32.0   \n",
      "1000004         61.0           0.0      0.0           0.0                0.0   \n",
      "...              ...           ...      ...           ...                ...   \n",
      "1936753          3.0           0.0      0.0           0.0               22.0   \n",
      "1936754          0.0          57.0     18.0           0.0                0.0   \n",
      "1936755          1.0           0.0     19.0           0.0               79.0   \n",
      "1936756          NaN           NaN      NaN           NaN                NaN   \n",
      "1936757          NaN           NaN      NaN           NaN                NaN   \n",
      "\n",
      "           DepDate         Vel  Cancelled2  \n",
      "1000000 2008-06-08  452.727273          No  \n",
      "1000001 2008-06-08  429.333333          No  \n",
      "1000002 2008-06-08  327.457627          No  \n",
      "1000003 2008-06-08  422.400000          No  \n",
      "1000004 2008-06-08  444.255319          No  \n",
      "...            ...         ...         ...  \n",
      "1936753 2008-12-13  453.000000          No  \n",
      "1936754 2008-12-13  370.000000          No  \n",
      "1936755 2008-12-13  338.852459          No  \n",
      "1936756 2008-12-13  359.325843          No  \n",
      "1936757 2008-12-13  504.230769          No  \n",
      "\n",
      "[936758 rows x 25 columns]\n"
     ]
    }
   ],
   "source": [
    "df1 = temp_df1[0:1000000]\n",
    "df2 = temp_df1[1000000:2000000]\n",
    "\n",
    "print(df1,df2)"
   ]
  },
  {
   "cell_type": "code",
   "execution_count": 150,
   "id": "a74cc8a0",
   "metadata": {},
   "outputs": [],
   "source": [
    "writer = pd.ExcelWriter('delayed_flights_clean.xls', engine='xlsxwriter',options={'encoding':'utf-8'})\n",
    "df1.to_excel(writer,encoding='utf8', sheet_name='Sheet1')\n",
    "df2.to_excel(writer, encoding='utf8',sheet_name='Sheet2')\n",
    "\n",
    " \n",
    "writer.save()"
   ]
  },
  {
   "cell_type": "markdown",
   "id": "c7b000ba",
   "metadata": {},
   "source": [
    "### It worked!"
   ]
  },
  {
   "cell_type": "code",
   "execution_count": null,
   "id": "ba90e116",
   "metadata": {},
   "outputs": [],
   "source": []
  }
 ],
 "metadata": {
  "kernelspec": {
   "display_name": "Python 3",
   "language": "python",
   "name": "python3"
  },
  "language_info": {
   "codemirror_mode": {
    "name": "ipython",
    "version": 3
   },
   "file_extension": ".py",
   "mimetype": "text/x-python",
   "name": "python",
   "nbconvert_exporter": "python",
   "pygments_lexer": "ipython3",
   "version": "3.8.8"
  },
  "latex_envs": {
   "LaTeX_envs_menu_present": true,
   "autoclose": false,
   "autocomplete": true,
   "bibliofile": "biblio.bib",
   "cite_by": "apalike",
   "current_citInitial": 1,
   "eqLabelWithNumbers": true,
   "eqNumInitial": 1,
   "hotkeys": {
    "equation": "Ctrl-E",
    "itemize": "Ctrl-I"
   },
   "labels_anchors": false,
   "latex_user_defs": false,
   "report_style_numbering": false,
   "user_envs_cfg": false
  }
 },
 "nbformat": 4,
 "nbformat_minor": 5
}
