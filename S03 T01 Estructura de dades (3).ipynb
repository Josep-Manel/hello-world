{
 "cells": [
  {
   "cell_type": "markdown",
   "id": "668c5512",
   "metadata": {},
   "source": [
    "## Exercice 1\n"
   ]
  },
  {
   "cell_type": "code",
   "execution_count": 2,
   "id": "09785894",
   "metadata": {},
   "outputs": [
    {
     "name": "stdout",
     "output_type": "stream",
     "text": [
      "[['Gener', 'Febrer', 'Març'], ['Abril', 'Maig', 'Juny'], ['juliol', 'agost', 'setembre'], ['octubre', 'novembre', 'desembre']]\n",
      "<class 'list'>\n"
     ]
    }
   ],
   "source": [
    "m= [[\"Gener\", \"Febrer\", \"Març\"], [\"Abril\", \"Maig\", \"Juny\"],[\"juliol\", \"agost\",\"setembre\"],[\"octubre\",\"novembre\",\"desembre\"]]\n",
    "print(m)\n",
    "print(type(m))\n"
   ]
  },
  {
   "cell_type": "markdown",
   "id": "15f533f2",
   "metadata": {},
   "source": [
    "## Exercice 2"
   ]
  },
  {
   "cell_type": "code",
   "execution_count": 3,
   "id": "66c3d942",
   "metadata": {},
   "outputs": [
    {
     "name": "stdout",
     "output_type": "stream",
     "text": [
      "Febrer\n"
     ]
    }
   ],
   "source": [
    "print(m[0][1])"
   ]
  },
  {
   "cell_type": "code",
   "execution_count": 4,
   "id": "f9f2214c",
   "metadata": {},
   "outputs": [
    {
     "name": "stdout",
     "output_type": "stream",
     "text": [
      "['Gener', 'Febrer', 'Març']\n"
     ]
    }
   ],
   "source": [
    "print(m[0])"
   ]
  },
  {
   "cell_type": "code",
   "execution_count": 5,
   "id": "d444579c",
   "metadata": {},
   "outputs": [
    {
     "name": "stdout",
     "output_type": "stream",
     "text": [
      "setembre octubre\n"
     ]
    }
   ],
   "source": [
    "m2= m[2][2] + \" \"+ m[3][0]\n",
    "print(m2)\n"
   ]
  },
  {
   "cell_type": "markdown",
   "id": "3ac5cb7d",
   "metadata": {},
   "source": [
    "## Exercice 3"
   ]
  },
  {
   "cell_type": "code",
   "execution_count": 6,
   "id": "dc7c5a11",
   "metadata": {},
   "outputs": [
    {
     "name": "stdout",
     "output_type": "stream",
     "text": [
      "<class 'tuple'>\n"
     ]
    }
   ],
   "source": [
    "n=(2,4,3,7,9,3,4,5,12,1,15)\n",
    "print(type(n))\n"
   ]
  },
  {
   "cell_type": "markdown",
   "id": "aac4ac56",
   "metadata": {},
   "source": [
    "#### How many numbers are there? "
   ]
  },
  {
   "cell_type": "code",
   "execution_count": 7,
   "id": "e45f5133",
   "metadata": {},
   "outputs": [
    {
     "name": "stdout",
     "output_type": "stream",
     "text": [
      "11\n"
     ]
    }
   ],
   "source": [
    "print(len(n))"
   ]
  },
  {
   "cell_type": "markdown",
   "id": "55ac2b29",
   "metadata": {},
   "source": [
    "#### How many times does number 3 appear? "
   ]
  },
  {
   "cell_type": "code",
   "execution_count": 8,
   "id": "fb6c2ae7",
   "metadata": {},
   "outputs": [
    {
     "name": "stdout",
     "output_type": "stream",
     "text": [
      "2\n"
     ]
    }
   ],
   "source": [
    "print(n.count(3))"
   ]
  },
  {
   "cell_type": "markdown",
   "id": "629b0c0b",
   "metadata": {},
   "source": [
    "#### How many times do number 3 and 4 appear? "
   ]
  },
  {
   "cell_type": "code",
   "execution_count": 9,
   "id": "e8855d4a",
   "metadata": {},
   "outputs": [
    {
     "name": "stdout",
     "output_type": "stream",
     "text": [
      "4\n"
     ]
    }
   ],
   "source": [
    "print(n.count(3) + (n.count(4)))"
   ]
  },
  {
   "cell_type": "markdown",
   "id": "532200fc",
   "metadata": {},
   "source": [
    "#### Which is the highest number? "
   ]
  },
  {
   "cell_type": "code",
   "execution_count": 10,
   "id": "d437a072",
   "metadata": {},
   "outputs": [
    {
     "name": "stdout",
     "output_type": "stream",
     "text": [
      "15\n"
     ]
    }
   ],
   "source": [
    "n_max = max(n)\n",
    "print(n_max)\n"
   ]
  },
  {
   "cell_type": "markdown",
   "id": "8fe58dbd",
   "metadata": {},
   "source": [
    "#### Which are the three lowest numbers?"
   ]
  },
  {
   "cell_type": "code",
   "execution_count": 11,
   "id": "7d1c1732",
   "metadata": {},
   "outputs": [
    {
     "name": "stdout",
     "output_type": "stream",
     "text": [
      "1\n",
      "[1, 2, 3, 3, 4, 4, 5, 7, 9, 12, 15]\n",
      "[1, 2, 3]\n"
     ]
    }
   ],
   "source": [
    "n_min= min(n)\n",
    "print(n_min)\n",
    "n3=sorted(n)\n",
    "print(n3)\n",
    "print(n3[0:3])\n"
   ]
  },
  {
   "cell_type": "markdown",
   "id": "b62053ec",
   "metadata": {},
   "source": [
    "#### Which is the rang of the list? "
   ]
  },
  {
   "cell_type": "code",
   "execution_count": 17,
   "id": "8beeb6e2",
   "metadata": {},
   "outputs": [
    {
     "name": "stdout",
     "output_type": "stream",
     "text": [
      "14\n"
     ]
    }
   ],
   "source": [
    "rag= n_max-n_min\n",
    "print(rag)\n"
   ]
  },
  {
   "cell_type": "markdown",
   "id": "7ae7f61b",
   "metadata": {},
   "source": [
    "## Exercice 4"
   ]
  },
  {
   "cell_type": "markdown",
   "id": "fc3ac3c4",
   "metadata": {},
   "source": [
    "#### Creating of the dictionari"
   ]
  },
  {
   "cell_type": "code",
   "execution_count": 2,
   "id": "d75e3c2d",
   "metadata": {},
   "outputs": [
    {
     "name": "stdout",
     "output_type": "stream",
     "text": [
      "<class 'dict'>\n",
      "{'Pomes': {'Qty': 5, '€': 0.42}, 'Peres': {'Qty': 3, '€': 0.66}}\n"
     ]
    }
   ],
   "source": [
    "compra = { \"Pomes\" : {\"Qty\": 5, \"€\": 0.42}, \"Peres\" : {\"Qty\": 3, \"€\": 0.66} }\n",
    "print(type(compra))\n",
    "print(compra)\n"
   ]
  },
  {
   "cell_type": "markdown",
   "id": "36dc72bc",
   "metadata": {},
   "source": [
    "#### Adding oranges"
   ]
  },
  {
   "cell_type": "code",
   "execution_count": 3,
   "id": "ed9c4a6c",
   "metadata": {},
   "outputs": [
    {
     "name": "stdout",
     "output_type": "stream",
     "text": [
      "{'Pomes': {'Qty': 5, '€': 0.42}, 'Peres': {'Qty': 3, '€': 0.66}, 'Taronges': {'Qty': 4, '€': 0.52}}\n"
     ]
    }
   ],
   "source": [
    "compra[\"Taronges\"] = {'Qty': 4, \"€\": 0.52}\n",
    "print(compra)\n"
   ]
  },
  {
   "cell_type": "markdown",
   "id": "3cfbc52a",
   "metadata": {},
   "source": [
    "#### Cost of pears "
   ]
  },
  {
   "cell_type": "code",
   "execution_count": 12,
   "id": "db6c4b6e",
   "metadata": {},
   "outputs": [
    {
     "name": "stdout",
     "output_type": "stream",
     "text": [
      "1.98\n"
     ]
    }
   ],
   "source": [
    "peres_cost = compra ['Peres']['Qty'] * compra [\"Peres\"][\"€\"]\n",
    "print(peres_cost)\n"
   ]
  },
  {
   "cell_type": "markdown",
   "id": "7ed90b98",
   "metadata": {},
   "source": [
    "#### Total number of fruits"
   ]
  },
  {
   "cell_type": "code",
   "execution_count": 13,
   "id": "e467270e",
   "metadata": {},
   "outputs": [
    {
     "name": "stdout",
     "output_type": "stream",
     "text": [
      "12\n"
     ]
    }
   ],
   "source": [
    "total_fruites =sum(x['Qty'] for x in compra.values())\n",
    "print(total_fruites)\n"
   ]
  },
  {
   "cell_type": "markdown",
   "id": "92765fc5",
   "metadata": {},
   "source": [
    "#### Which is the most expensive fruit?"
   ]
  },
  {
   "cell_type": "code",
   "execution_count": 8,
   "id": "6e317b92",
   "metadata": {},
   "outputs": [
    {
     "name": "stdout",
     "output_type": "stream",
     "text": [
      "0.66\n"
     ]
    }
   ],
   "source": [
    "mes_cara = max(x[\"€\"] for x in compra.values())\n",
    "print(mes_cara)"
   ]
  },
  {
   "cell_type": "code",
   "execution_count": null,
   "id": "e5f8fc2b",
   "metadata": {},
   "outputs": [],
   "source": []
  }
 ],
 "metadata": {
  "kernelspec": {
   "display_name": "Python 3",
   "language": "python",
   "name": "python3"
  },
  "language_info": {
   "codemirror_mode": {
    "name": "ipython",
    "version": 3
   },
   "file_extension": ".py",
   "mimetype": "text/x-python",
   "name": "python",
   "nbconvert_exporter": "python",
   "pygments_lexer": "ipython3",
   "version": "3.8.8"
  },
  "latex_envs": {
   "LaTeX_envs_menu_present": true,
   "autoclose": false,
   "autocomplete": true,
   "bibliofile": "biblio.bib",
   "cite_by": "apalike",
   "current_citInitial": 1,
   "eqLabelWithNumbers": true,
   "eqNumInitial": 1,
   "hotkeys": {
    "equation": "Ctrl-E",
    "itemize": "Ctrl-I"
   },
   "labels_anchors": false,
   "latex_user_defs": false,
   "report_style_numbering": false,
   "user_envs_cfg": false
  }
 },
 "nbformat": 4,
 "nbformat_minor": 5
}
