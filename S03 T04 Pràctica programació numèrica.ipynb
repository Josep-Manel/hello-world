{
 "cells": [
  {
   "cell_type": "markdown",
   "id": "f409b7d0",
   "metadata": {},
   "source": [
    "### Exercise 1: Define a function that summarises basic statistics data"
   ]
  },
  {
   "cell_type": "code",
   "execution_count": 1,
   "id": "3021bb41",
   "metadata": {},
   "outputs": [],
   "source": [
    "import numpy as np"
   ]
  },
  {
   "cell_type": "code",
   "execution_count": 2,
   "id": "0a4a328c",
   "metadata": {},
   "outputs": [],
   "source": [
    "def my_function(k):\n",
    " \n",
    " if k.ndim > 1:\n",
    "  print(\"Atention! This array has more than one dimension and can't be computed in this function.\")\n",
    " else:\n",
    " \n",
    "   print(\"Length:\",len(k))\n",
    "   print(\"Maxim:\",max(k))\n",
    "   print(\"Minimum:\",min(k))\n",
    "   print(\"Average:\",np.mean(k))\n",
    "   print(\"Median:\",np.median(k))\n",
    "   print(\"Standard deviation:\", np.std(k),\"\\n\")\n"
   ]
  },
  {
   "cell_type": "markdown",
   "id": "9751122f",
   "metadata": {},
   "source": [
    "#### Testing the function with Case A and Case B"
   ]
  },
  {
   "cell_type": "code",
   "execution_count": 3,
   "id": "14c1a7c0",
   "metadata": {},
   "outputs": [
    {
     "name": "stdout",
     "output_type": "stream",
     "text": [
      "Basic statistics summary Case A:\n",
      "\n",
      "Dimensions: 1\n",
      "Length: 6\n",
      "Maxim: 15\n",
      "Minimum: 1\n",
      "Average: 6.166666666666667\n",
      "Median: 3.5\n",
      "Standard deviation: 5.3359368645273735 \n",
      "\n"
     ]
    }
   ],
   "source": [
    "dim_1 = np.array([1,2,3,4,12,15])\n",
    " \n",
    "print(\"Basic statistics summary Case A:\\n\")\n",
    "print(\"Dimensions:\", dim_1.ndim)\n",
    "my_function(dim_1)\n"
   ]
  },
  {
   "cell_type": "code",
   "execution_count": 4,
   "id": "389f5ca0",
   "metadata": {},
   "outputs": [
    {
     "name": "stdout",
     "output_type": "stream",
     "text": [
      "Basic statistics summary Case B:\n",
      "Dimensions: 2 \n",
      "\n",
      "Atention! This array has more than one dimension and can't be computed in this function.\n"
     ]
    }
   ],
   "source": [
    "dim_2 = np.array([(1.5,2,3),(4,5,6)])\n",
    "print(\"Basic statistics summary Case B:\")\n",
    "print(\"Dimensions:\", dim_2.ndim,\"\\n\")\n",
    "my_function(dim_2)\n"
   ]
  },
  {
   "cell_type": "markdown",
   "id": "8f386dad",
   "metadata": {},
   "source": [
    "### Exercice 2: Define a function that generates a square of radom numbers from 0 to 100. The user can define the number of rows and columns\n"
   ]
  },
  {
   "cell_type": "code",
   "execution_count": 5,
   "id": "142a3f83",
   "metadata": {},
   "outputs": [],
   "source": [
    "def random_square(x):\n",
    " \n",
    " r=np.random.randint(0,101,size= (x,x))\n",
    " print(r)\n"
   ]
  },
  {
   "cell_type": "markdown",
   "id": "89e30b4d",
   "metadata": {},
   "source": [
    "#### Testing the function"
   ]
  },
  {
   "cell_type": "code",
   "execution_count": 6,
   "id": "8a760190",
   "metadata": {},
   "outputs": [
    {
     "name": "stdout",
     "output_type": "stream",
     "text": [
      "[[85 27 76 47 60]\n",
      " [47 26 33 83  8]\n",
      " [ 9 29 36 24 68]\n",
      " [70 66 48 38 98]\n",
      " [87 76 39 38 91]]\n"
     ]
    }
   ],
   "source": [
    "random_square(5)"
   ]
  },
  {
   "cell_type": "markdown",
   "id": "55971b6e",
   "metadata": {},
   "source": [
    "### Exercice 3: Define a function that adds totals for raw and column in 2 dimensional array"
   ]
  },
  {
   "cell_type": "code",
   "execution_count": 8,
   "id": "eb9064db",
   "metadata": {},
   "outputs": [],
   "source": [
    "def sumas(x):\n",
    " row_sums = x.sum(axis=1)\n",
    " column_sums= x.sum(axis=0)\n",
    " print(\"The sum of each row is:\",row_sums)\n",
    " print(\"The sum of each column is:\", column_sums)\n"
   ]
  },
  {
   "cell_type": "markdown",
   "id": "66d6b1d3",
   "metadata": {},
   "source": [
    "#### Testing the function"
   ]
  },
  {
   "cell_type": "code",
   "execution_count": 9,
   "id": "bc4f9f14",
   "metadata": {},
   "outputs": [
    {
     "name": "stdout",
     "output_type": "stream",
     "text": [
      "This is the 2 dimensional array:\n",
      " [[7 9 3]\n",
      " [4 5 6]] \n",
      "\n",
      "The sum of each row is: [19 15]\n",
      "The sum of each column is: [11 14  9]\n"
     ]
    }
   ],
   "source": [
    "a = np.array([(7,9,3),(4,5,6)])\n",
    "print(\"This is the 2 dimensional array:\\n\",a,\"\\n\")\n",
    " \n",
    "sumas(a)\n"
   ]
  },
  {
   "cell_type": "markdown",
   "id": "81ec775a",
   "metadata": {},
   "source": [
    "### Exercise 4: Create a function to calculate manually the correlation coefficient"
   ]
  },
  {
   "cell_type": "code",
   "execution_count": 11,
   "id": "22403c54",
   "metadata": {},
   "outputs": [],
   "source": [
    "def corr_coef(x,y):\n",
    "    print(np.mean(np.multiply((a-np.mean(a)),(b-np.mean(b))))/(np.std(b)*np.std(a)),\"\\n\")\n"
   ]
  },
  {
   "cell_type": "markdown",
   "id": "417e1a5b",
   "metadata": {},
   "source": [
    "#### Testing the function"
   ]
  },
  {
   "cell_type": "code",
   "execution_count": 13,
   "id": "7524ddb5",
   "metadata": {},
   "outputs": [],
   "source": [
    "a=[1,5,61,6,7]\n",
    "b=[1,2,38,0,8]\n"
   ]
  },
  {
   "cell_type": "code",
   "execution_count": 14,
   "id": "f2de0a44",
   "metadata": {},
   "outputs": [
    {
     "name": "stdout",
     "output_type": "stream",
     "text": [
      "The correlation coeficient generated by the defined function is:\n",
      "0.986149780217546 \n",
      "\n"
     ]
    }
   ],
   "source": [
    "print(\"The correlation coeficient generated by the defined function is:\")\n",
    "corr_coef(a,b)\n"
   ]
  },
  {
   "cell_type": "code",
   "execution_count": 15,
   "id": "b2bbda31",
   "metadata": {},
   "outputs": [
    {
     "name": "stdout",
     "output_type": "stream",
     "text": [
      "Checking the result with np.coorcoef:\n",
      "[[1.         0.98614978]\n",
      " [0.98614978 1.        ]]\n"
     ]
    }
   ],
   "source": [
    "print(\"Checking the result with np.coorcoef:\")\n",
    "print(np.corrcoef(a,b))\n",
    " \n"
   ]
  },
  {
   "cell_type": "code",
   "execution_count": null,
   "id": "51c9fb48",
   "metadata": {},
   "outputs": [],
   "source": []
  }
 ],
 "metadata": {
  "kernelspec": {
   "display_name": "Python 3",
   "language": "python",
   "name": "python3"
  },
  "language_info": {
   "codemirror_mode": {
    "name": "ipython",
    "version": 3
   },
   "file_extension": ".py",
   "mimetype": "text/x-python",
   "name": "python",
   "nbconvert_exporter": "python",
   "pygments_lexer": "ipython3",
   "version": "3.8.8"
  },
  "latex_envs": {
   "LaTeX_envs_menu_present": true,
   "autoclose": false,
   "autocomplete": true,
   "bibliofile": "biblio.bib",
   "cite_by": "apalike",
   "current_citInitial": 1,
   "eqLabelWithNumbers": true,
   "eqNumInitial": 1,
   "hotkeys": {
    "equation": "Ctrl-E",
    "itemize": "Ctrl-I"
   },
   "labels_anchors": false,
   "latex_user_defs": false,
   "report_style_numbering": false,
   "user_envs_cfg": false
  }
 },
 "nbformat": 4,
 "nbformat_minor": 5
}
