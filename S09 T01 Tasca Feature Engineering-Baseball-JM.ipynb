{
 "cells": [
  {
   "cell_type": "markdown",
   "id": "07f85212",
   "metadata": {},
   "source": [
    "# S09 T01: Tasca Feature Engineering"
   ]
  },
  {
   "cell_type": "code",
   "execution_count": 147,
   "id": "d0ced301",
   "metadata": {},
   "outputs": [],
   "source": [
    "import pandas as pd\n",
    "from pandas import DataFrame, Series\n",
    "import numpy as np\n",
    "import matplotlib.pyplot as plt\n",
    "import re\n",
    "import seaborn as sns\n",
    "from scipy import stats\n",
    "import statistics\n",
    "\n",
    "%matplotlib inline\n",
    "pd.set_option('display.max_columns', None)"
   ]
  },
  {
   "cell_type": "code",
   "execution_count": 148,
   "id": "f8676183",
   "metadata": {
    "scrolled": false
   },
   "outputs": [
    {
     "name": "stdout",
     "output_type": "stream",
     "text": [
      "absl-py @ file:///C:/ci/absl-py_1623867339542/work\n",
      "aiohttp @ file:///C:/ci/aiohttp_1632750093640/work\n",
      "alabaster @ file:///home/ktietz/src/ci/alabaster_1611921544520/work\n",
      "anaconda-client @ file:///C:/ci/anaconda-client_1635342752200/work\n",
      "anaconda-navigator==2.1.0\n",
      "anaconda-project @ file:///tmp/build/80754af9/anaconda-project_1626085644852/work\n",
      "anyio @ file:///C:/ci/anyio_1620153418380/work/distNote: you may need to restart the kernel to use updated packages.\n",
      "\n",
      "appdirs==1.4.4\n",
      "argh==0.26.2\n",
      "argon2-cffi @ file:///C:/ci/argon2-cffi_1613037959010/work\n",
      "arrow==0.13.1\n",
      "asn1crypto @ file:///tmp/build/80754af9/asn1crypto_1596577642040/work\n",
      "astor==0.8.1\n",
      "astroid @ file:///C:/ci/astroid_1628063293445/work\n",
      "astropy @ file:///C:/ci/astropy_1629829351783/work\n",
      "astunparse==1.6.3\n",
      "async-generator @ file:///home/ktietz/src/ci/async_generator_1611927993394/work\n",
      "async-timeout==3.0.1\n",
      "atomicwrites==1.4.0\n",
      "attrs @ file:///tmp/build/80754af9/attrs_1620827162558/work\n",
      "autopep8 @ file:///tmp/build/80754af9/autopep8_1615918855173/work\n",
      "Babel @ file:///tmp/build/80754af9/babel_1620871417480/work\n",
      "backcall @ file:///home/ktietz/src/ci/backcall_1611930011877/work\n",
      "backports.functools-lru-cache @ file:///tmp/build/80754af9/backports.functools_lru_cache_1618170165463/work\n",
      "backports.shutil-get-terminal-size @ file:///tmp/build/80754af9/backports.shutil_get_terminal_size_1608222128777/work\n",
      "backports.tempfile @ file:///home/linux1/recipes/ci/backports.tempfile_1610991236607/work\n",
      "backports.weakref==1.0.post1\n",
      "bcrypt @ file:///C:/ci/bcrypt_1597936263757/work\n",
      "beautifulsoup4 @ file:///tmp/build/80754af9/beautifulsoup4_1631874778482/work\n",
      "binaryornot @ file:///tmp/build/80754af9/binaryornot_1617751525010/work\n",
      "bitarray @ file:///C:/ci/bitarray_1629133092947/work\n",
      "bkcharts==0.2\n",
      "black==19.10b0\n",
      "bleach @ file:///tmp/build/80754af9/bleach_1628110601003/work\n",
      "blinker==1.4\n",
      "bokeh @ file:///C:/ci/bokeh_1635324582225/work\n",
      "boto==2.49.0\n",
      "Bottleneck==1.3.2\n",
      "brotlipy==0.7.0\n",
      "cachetools @ file:///tmp/build/80754af9/cachetools_1619597386817/work\n",
      "Cartopy @ file:///C:/ci/cartopy_1612289826541/work\n",
      "certifi==2020.6.20\n",
      "cffi @ file:///C:/ci/cffi_1625831749120/work\n",
      "chardet @ file:///C:/ci/chardet_1607690654534/work\n",
      "charset-normalizer @ file:///tmp/build/80754af9/charset-normalizer_1630003229654/work\n",
      "click==8.0.3\n",
      "cloudpickle @ file:///tmp/build/80754af9/cloudpickle_1632508026186/work\n",
      "clyent==1.2.2\n",
      "colorama @ file:///tmp/build/80754af9/colorama_1607707115595/work\n",
      "comtypes==1.1.10\n",
      "conda==4.10.3\n",
      "conda-build==3.21.4\n",
      "conda-content-trust @ file:///tmp/build/80754af9/conda-content-trust_1617045594566/work\n",
      "conda-pack @ file:///tmp/build/80754af9/conda-pack_1611163042455/work\n",
      "conda-package-handling @ file:///C:/ci/conda-package-handling_1618262320430/work\n",
      "conda-repo-cli @ file:///tmp/build/80754af9/conda-repo-cli_1620168426516/work\n",
      "conda-token @ file:///tmp/build/80754af9/conda-token_1620076980546/work\n",
      "conda-verify==3.4.2\n",
      "contextlib2 @ file:///Users/ktietz/demo/mc3/conda-bld/contextlib2_1630668244042/work\n",
      "cookiecutter @ file:///tmp/build/80754af9/cookiecutter_1617748928239/work\n",
      "coverage @ file:///C:/ci/coverage_1614615074147/work\n",
      "cryptography @ file:///C:/ci/cryptography_1633520552480/work\n",
      "cycler==0.10.0\n",
      "Cython @ file:///C:/ci/cython_1626257071357/work\n",
      "cytoolz==0.11.0\n",
      "dask==2021.9.1\n",
      "debugpy @ file:///C:/ci/debugpy_1629222854708/work\n",
      "decorator @ file:///tmp/build/80754af9/decorator_1632776554403/work\n",
      "defusedxml @ file:///tmp/build/80754af9/defusedxml_1615228127516/work\n",
      "deprecation @ file:///tmp/build/80754af9/deprecation_1628181869014/work\n",
      "diff-match-patch @ file:///Users/ktietz/demo/mc3/conda-bld/diff-match-patch_1630511840874/work\n",
      "distributed @ file:///C:/ci/distributed_1634741613048/work\n",
      "docutils @ file:///C:/ci/docutils_1620828260973/work\n",
      "entrypoints==0.3\n",
      "et-xmlfile==1.1.0\n",
      "fastcache==1.1.0\n",
      "filelock @ file:///home/linux1/recipes/ci/filelock_1610993975404/work\n",
      "flake8 @ file:///tmp/build/80754af9/flake8_1615834841867/work\n",
      "Flask @ file:///home/ktietz/src/ci/flask_1611932660458/work\n",
      "fonttools==4.25.0\n",
      "fsspec @ file:///tmp/build/80754af9/fsspec_1632413898837/work\n",
      "future==0.18.2\n",
      "gast @ file:///Users/ktietz/demo/mc3/conda-bld/gast_1628588903283/work\n",
      "geographiclib==1.52\n",
      "geopy==2.2.0\n",
      "gevent @ file:///C:/ci/gevent_1628273793586/work\n",
      "glob2 @ file:///home/linux1/recipes/ci/glob2_1610991677669/work\n",
      "gmpy2==2.0.8\n",
      "google-auth @ file:///tmp/build/80754af9/google-auth_1626320605116/work\n",
      "google-auth-oauthlib==0.4.1\n",
      "google-pasta @ file:///Users/ktietz/demo/mc3/conda-bld/google-pasta_1630577991354/work\n",
      "greenlet @ file:///C:/ci/greenlet_1628888262822/work\n",
      "grpcio @ file:///C:/ci/grpcio_1614884412260/work\n",
      "h5py==3.1.0\n",
      "HeapDict @ file:///Users/ktietz/demo/mc3/conda-bld/heapdict_1630598515714/work\n",
      "html5lib @ file:///Users/ktietz/demo/mc3/conda-bld/html5lib_1629144453894/work\n",
      "idna @ file:///tmp/build/80754af9/idna_1622654382723/work\n",
      "imagecodecs @ file:///C:/ci/imagecodecs_1634836907271/work\n",
      "imageio @ file:///tmp/build/80754af9/imageio_1617700267927/work\n",
      "imagesize @ file:///home/ktietz/src/ci/imagesize_1611921604382/work\n",
      "imbalanced-learn @ file:///home/conda/feedstock_root/build_artifacts/imbalanced-learn_1632924190465/work\n",
      "importlib-metadata @ file:///C:/ci/importlib-metadata_1631916848487/work\n",
      "inflection==0.5.1\n",
      "iniconfig @ file:///home/linux1/recipes/ci/iniconfig_1610983019677/work\n",
      "intervaltree @ file:///Users/ktietz/demo/mc3/conda-bld/intervaltree_1630511889664/work\n",
      "ipykernel @ file:///C:/ci/ipykernel_1633545574250/work/dist/ipykernel-6.4.1-py3-none-any.whl\n",
      "ipython @ file:///C:/ci/ipython_1632141541768/work\n",
      "ipython-genutils @ file:///tmp/build/80754af9/ipython_genutils_1606773439826/work\n",
      "ipywidgets @ file:///tmp/build/80754af9/ipywidgets_1634143127070/work\n",
      "isort @ file:///tmp/build/80754af9/isort_1628603791788/work\n",
      "itsdangerous @ file:///tmp/build/80754af9/itsdangerous_1621432558163/work\n",
      "jdcal @ file:///Users/ktietz/demo/mc3/conda-bld/jdcal_1630584345063/work\n",
      "jedi @ file:///C:/ci/jedi_1606914528444/work\n",
      "Jinja2 @ file:///tmp/build/80754af9/jinja2_1612213139570/work\n",
      "jinja2-time @ file:///tmp/build/80754af9/jinja2-time_1617751524098/work\n",
      "joblib @ file:///tmp/build/80754af9/joblib_1613502643832/work\n",
      "json5 @ file:///tmp/build/80754af9/json5_1624432770122/work\n",
      "jsonschema @ file:///Users/ktietz/demo/mc3/conda-bld/jsonschema_1630511932244/work\n",
      "jupyter==1.0.0\n",
      "jupyter-client @ file:///tmp/build/80754af9/jupyter_client_1630690655192/work\n",
      "jupyter-console @ file:///tmp/build/80754af9/jupyter_console_1616615302928/work\n",
      "jupyter-contrib-core==0.3.3\n",
      "jupyter-contrib-nbextensions==0.5.1\n",
      "jupyter-core @ file:///C:/ci/jupyter_core_1633420665940/work\n",
      "jupyter-highlight-selected-word @ file:///D:/bld/jupyter_highlight_selected_word_1611341154347/work\n",
      "jupyter-latex-envs @ file:///home/conda/feedstock_root/build_artifacts/jupyter_latex_envs_1614852190293/work\n",
      "jupyter-nbextensions-configurator @ file:///D:/bld/jupyter_nbextensions_configurator_1611341297787/work\n",
      "jupyter-packaging @ file:///tmp/build/80754af9/jupyter-packaging_1628192929267/work\n",
      "jupyter-server @ file:///C:/ci/jupyter_server_1616084298403/work\n",
      "jupyterlab @ file:///tmp/build/80754af9/jupyterlab_1629124491270/work\n",
      "jupyterlab-pygments @ file:///tmp/build/80754af9/jupyterlab_pygments_1601490720602/work\n",
      "jupyterlab-server @ file:///tmp/build/80754af9/jupyterlab_server_1633419203660/work\n",
      "jupyterlab-widgets @ file:///tmp/build/80754af9/jupyterlab_widgets_1609884341231/work\n",
      "Keras @ file:///Users/ktietz/demo/mc3/conda-bld/keras_split_1630579936814/work\n",
      "Keras-Applications @ file:///tmp/build/80754af9/keras-applications_1594366238411/work\n",
      "keras-nightly==2.5.0.dev2021032900\n",
      "Keras-Preprocessing @ file:///tmp/build/80754af9/keras-preprocessing_1612283640596/work\n",
      "keyring @ file:///C:/ci/keyring_1629321676013/work\n",
      "kiwisolver @ file:///C:/ci/kiwisolver_1612282606037/work\n",
      "kmodes==0.11.0\n",
      "lazy-object-proxy @ file:///C:/ci/lazy-object-proxy_1616529307648/work\n",
      "libarchive-c @ file:///tmp/build/80754af9/python-libarchive-c_1617780486945/work\n",
      "llvmlite==0.36.0\n",
      "locket==0.2.1\n",
      "lxml @ file:///C:/ci/lxml_1616443455957/work\n",
      "Mako @ file:///tmp/build/80754af9/mako_1610650590832/work\n",
      "Markdown @ file:///C:/ci/markdown_1614364121613/work\n",
      "MarkupSafe==1.1.1\n",
      "matplotlib @ file:///C:/ci/matplotlib-suite_1634667159685/work\n",
      "matplotlib-inline @ file:///tmp/build/80754af9/matplotlib-inline_1628242447089/work\n",
      "mccabe==0.6.1\n",
      "menuinst==1.4.16\n",
      "mistune==0.8.4\n",
      "mkl-fft==1.3.1\n",
      "mkl-random @ file:///C:/ci/mkl_random_1626186184278/work\n",
      "mkl-service==2.4.0\n",
      "mock @ file:///tmp/build/80754af9/mock_1607622725907/work\n",
      "more-itertools @ file:///tmp/build/80754af9/more-itertools_1622818384463/work\n",
      "mpmath==1.2.1\n",
      "msgpack @ file:///C:/ci/msgpack-python_1612287368835/work\n",
      "multidict @ file:///C:/ci/multidict_1607362065515/work\n",
      "multipledispatch==0.6.0\n",
      "munkres==1.1.4\n",
      "mypy-extensions==0.4.3\n",
      "navigator-updater==0.2.1\n",
      "nbclassic @ file:///tmp/build/80754af9/nbclassic_1616085367084/work\n",
      "nbclient @ file:///tmp/build/80754af9/nbclient_1614364831625/work\n",
      "nbconvert @ file:///C:/ci/nbconvert_1624479163777/work\n",
      "nbformat @ file:///tmp/build/80754af9/nbformat_1617383369282/work\n",
      "nest-asyncio @ file:///tmp/build/80754af9/nest-asyncio_1613680548246/work\n",
      "networkx @ file:///tmp/build/80754af9/networkx_1633639043937/work\n",
      "nltk==3.6.5\n",
      "nose @ file:///tmp/build/80754af9/nose_1606773131901/work\n",
      "notebook @ file:///C:/ci/notebook_1629205926310/work\n",
      "numba @ file:///C:/ci/numba_1616774458845/work\n",
      "numexpr @ file:///C:/ci/numexpr_1618856738664/work\n",
      "numpy @ file:///C:/ci/numpy_and_numpy_base_1634106873763/work\n",
      "numpydoc @ file:///tmp/build/80754af9/numpydoc_1605117425582/work\n",
      "oauthlib @ file:///tmp/build/80754af9/oauthlib_1623060228408/work\n",
      "olefile @ file:///Users/ktietz/demo/mc3/conda-bld/olefile_1629805411829/work\n",
      "openpyxl @ file:///tmp/build/80754af9/openpyxl_1632777717936/work\n",
      "opt-einsum @ file:///tmp/build/80754af9/opt_einsum_1621500238896/work\n",
      "packaging @ file:///tmp/build/80754af9/packaging_1625611678980/work\n",
      "pandas @ file:///C:/ci/pandas_1632920071836/work\n",
      "pandocfilters @ file:///C:/ci/pandocfilters_1605102497129/work\n",
      "paramiko @ file:///tmp/build/80754af9/paramiko_1598886428689/work\n",
      "parso==0.7.0\n",
      "partd @ file:///tmp/build/80754af9/partd_1618000087440/work\n",
      "path @ file:///C:/ci/path_1623603980403/work\n",
      "pathlib2 @ file:///C:/ci/pathlib2_1625585790401/work\n",
      "pathspec==0.7.0\n",
      "pathtools @ file:///Users/ktietz/demo/mc3/conda-bld/pathtools_1629713893697/work\n",
      "patsy==0.5.2\n",
      "pep8==1.7.1\n",
      "pexpect @ file:///tmp/build/80754af9/pexpect_1605563209008/work\n",
      "pickleshare @ file:///tmp/build/80754af9/pickleshare_1606932040724/work\n",
      "Pillow==8.4.0\n",
      "pkginfo==1.7.1\n",
      "pluggy @ file:///C:/ci/pluggy_1615976358795/work\n",
      "ply==3.11\n",
      "poyo @ file:///tmp/build/80754af9/poyo_1617751526755/work\n",
      "prometheus-client @ file:///tmp/build/80754af9/prometheus_client_1623189609245/work\n",
      "prompt-toolkit @ file:///tmp/build/80754af9/prompt-toolkit_1633440160888/work\n",
      "protobuf==3.17.2\n",
      "psutil @ file:///C:/ci/psutil_1612298324802/work\n",
      "ptyprocess @ file:///tmp/build/80754af9/ptyprocess_1609355006118/work/dist/ptyprocess-0.7.0-py2.py3-none-any.whl\n",
      "py @ file:///tmp/build/80754af9/py_1607971587848/work\n",
      "pyasn1 @ file:///Users/ktietz/demo/mc3/conda-bld/pyasn1_1629708007385/work\n",
      "pyasn1-modules==0.2.8\n",
      "pycodestyle @ file:///home/ktietz/src/ci_mi/pycodestyle_1612807597675/work\n",
      "pycosat==0.6.3\n",
      "pycparser @ file:///tmp/build/80754af9/pycparser_1594388511720/work\n",
      "pycurl==7.44.1\n",
      "pydocstyle @ file:///tmp/build/80754af9/pydocstyle_1621600989141/work\n",
      "pyee==7.0.4\n",
      "pyerfa @ file:///C:/ci/pyerfa_1621561004681/work\n",
      "pyflakes @ file:///home/ktietz/src/ci_ipy2/pyflakes_1612551159640/work\n",
      "pygeoip==0.3.2\n",
      "Pygments @ file:///tmp/build/80754af9/pygments_1629234116488/work\n",
      "pygpu==0.7.6\n",
      "PyJWT @ file:///C:/ci/pyjwt_1619651841937/work\n",
      "pylint @ file:///C:/ci/pylint_1627536881874/work\n",
      "pyls-black @ file:///tmp/build/80754af9/pyls-black_1607553132291/work\n",
      "pyls-spyder @ file:///tmp/build/80754af9/pyls-spyder_1613849700860/work\n",
      "PyNaCl @ file:///C:/ci/pynacl_1595000047588/work\n",
      "pyodbc===4.0.0-unsupported\n",
      "pyOpenSSL @ file:///tmp/build/80754af9/pyopenssl_1635333100036/work\n",
      "pyparsing @ file:///home/linux1/recipes/ci/pyparsing_1610983426697/work\n",
      "pyppeteer==0.2.2\n",
      "pyreadline==2.1\n",
      "pyrsistent @ file:///C:/ci/pyrsistent_1600141795814/work\n",
      "pyshp @ file:///tmp/build/80754af9/pyshp_1610641829514/work\n",
      "PySocks @ file:///C:/ci/pysocks_1605287845585/work\n",
      "pytest==6.2.4\n",
      "python-dateutil @ file:///tmp/build/80754af9/python-dateutil_1626374649649/work\n",
      "python-jsonrpc-server @ file:///tmp/build/80754af9/python-jsonrpc-server_1600278539111/work\n",
      "python-language-server @ file:///tmp/build/80754af9/python-language-server_1607972495879/work\n",
      "python-slugify @ file:///tmp/build/80754af9/python-slugify_1620405669636/work\n",
      "pytz==2021.3\n",
      "PyWavelets @ file:///C:/ci/pywavelets_1601658407916/work\n",
      "pywin32==228\n",
      "pywin32-ctypes==0.2.0\n",
      "pywinpty==0.5.7\n",
      "PyYAML==5.4.1\n",
      "pyzmq @ file:///C:/ci/pyzmq_1628276144921/work\n",
      "QDarkStyle @ file:///tmp/build/80754af9/qdarkstyle_1617386714626/work\n",
      "qstylizer @ file:///tmp/build/80754af9/qstylizer_1617713584600/work/dist/qstylizer-0.1.10-py2.py3-none-any.whl\n",
      "QtAwesome @ file:///tmp/build/80754af9/qtawesome_1615991616277/work\n",
      "qtconsole @ file:///tmp/build/80754af9/qtconsole_1632739723211/work\n",
      "QtPy @ file:///tmp/build/80754af9/qtpy_1629397026935/work\n",
      "regex @ file:///C:/ci/regex_1629302316714/work\n",
      "requests @ file:///tmp/build/80754af9/requests_1629994808627/work\n",
      "requests-oauthlib==1.3.0\n",
      "rope @ file:///tmp/build/80754af9/rope_1623703006312/work\n",
      "rsa @ file:///tmp/build/80754af9/rsa_1614366226499/work\n",
      "Rtree @ file:///C:/ci/rtree_1618421009405/work\n",
      "ruamel-yaml-conda @ file:///C:/ci/ruamel_yaml_1616016967756/work\n",
      "scikit-image==0.18.1\n",
      "scikit-learn @ file:///C:/ci/scikit-learn_1635188126022/work\n",
      "scipy @ file:///C:/ci/scipy_1630606942584/work\n",
      "seaborn @ file:///tmp/build/80754af9/seaborn_1629307859561/work\n",
      "Send2Trash @ file:///tmp/build/80754af9/send2trash_1632406701022/work\n",
      "Shapely==1.7.1\n",
      "simplegeneric==0.8.1\n",
      "singledispatch @ file:///tmp/build/80754af9/singledispatch_1629321204894/work\n",
      "sip==4.19.13\n",
      "six @ file:///tmp/build/80754af9/six_1623709665295/work\n",
      "sniffio @ file:///C:/ci/sniffio_1614030707456/work\n",
      "snowballstemmer @ file:///tmp/build/80754af9/snowballstemmer_1611258885636/work\n",
      "sortedcollections @ file:///tmp/build/80754af9/sortedcollections_1611172717284/work\n",
      "sortedcontainers @ file:///tmp/build/80754af9/sortedcontainers_1623949099177/work\n",
      "soupsieve @ file:///tmp/build/80754af9/soupsieve_1616183228191/work\n",
      "Sphinx @ file:///tmp/build/80754af9/sphinx_1632506123190/work\n",
      "sphinxcontrib-applehelp @ file:///home/ktietz/src/ci/sphinxcontrib-applehelp_1611920841464/work\n",
      "sphinxcontrib-devhelp @ file:///home/ktietz/src/ci/sphinxcontrib-devhelp_1611920923094/work\n",
      "sphinxcontrib-htmlhelp @ file:///tmp/build/80754af9/sphinxcontrib-htmlhelp_1623945626792/work\n",
      "sphinxcontrib-jsmath @ file:///home/ktietz/src/ci/sphinxcontrib-jsmath_1611920942228/work\n",
      "sphinxcontrib-qthelp @ file:///home/ktietz/src/ci/sphinxcontrib-qthelp_1611921055322/work\n",
      "sphinxcontrib-serializinghtml @ file:///tmp/build/80754af9/sphinxcontrib-serializinghtml_1624451540180/work\n",
      "sphinxcontrib-websupport @ file:///tmp/build/80754af9/sphinxcontrib-websupport_1597081412696/work\n",
      "spyder @ file:///C:/ci/spyder_1626182189433/work\n",
      "spyder-kernels @ file:///C:/ci/spyder-kernels_1625671146339/work\n",
      "SQLAlchemy @ file:///C:/ci/sqlalchemy_1626948551817/work\n",
      "squarify==0.4.3\n",
      "statsmodels==0.13.0\n",
      "sympy @ file:///C:/ci/sympy_1635237204453/work\n",
      "tables==3.6.1\n",
      "tblib @ file:///Users/ktietz/demo/mc3/conda-bld/tblib_1629402031467/work\n",
      "tensorboard @ file:///tmp/build/80754af9/tensorboard_1633093581375/work/tensorboard-2.6.0-py3-none-any.whl\n",
      "tensorboard-data-server @ file:///C:/ci/tensorboard-data-server_1633035228378/work/tensorboard_data_server-0.6.0-py3-none-any.whl\n",
      "tensorboard-plugin-wit==1.6.0\n",
      "tensorflow==2.3.0\n",
      "tensorflow-estimator @ file:///home/conda/feedstock_root/build_artifacts/tensorflow-estimator_1623773901369/work/wheel_dir/tensorflow_estimator-2.5.0-py2.py3-none-any.whl\n",
      "termcolor==1.1.0\n",
      "terminado==0.9.4\n",
      "testpath @ file:///tmp/build/80754af9/testpath_1624638946665/work\n",
      "text-unidecode @ file:///Users/ktietz/demo/mc3/conda-bld/text-unidecode_1629401354553/work\n",
      "textdistance @ file:///tmp/build/80754af9/textdistance_1612461398012/work\n",
      "Theano==1.0.4\n",
      "threadpoolctl @ file:///Users/ktietz/demo/mc3/conda-bld/threadpoolctl_1629802263681/work\n",
      "three-merge @ file:///tmp/build/80754af9/three-merge_1607553261110/work\n",
      "tifffile @ file:///tmp/build/80754af9/tifffile_1627275862826/work\n",
      "tinycss @ file:///tmp/build/80754af9/tinycss_1617713798712/work\n",
      "toml @ file:///tmp/build/80754af9/toml_1616166611790/work\n",
      "tomlkit @ file:///C:/ci/tomlkit_1626771312468/work\n",
      "toolz @ file:///home/linux1/recipes/ci/toolz_1610987900194/work\n",
      "tornado @ file:///C:/ci/tornado_1606942392901/work\n",
      "tqdm @ file:///tmp/build/80754af9/tqdm_1635330843403/work\n",
      "traitlets @ file:///tmp/build/80754af9/traitlets_1632522747050/work\n",
      "typed-ast @ file:///C:/ci/typed-ast_1624953785070/work\n",
      "typing-extensions @ file:///tmp/build/80754af9/typing_extensions_1631814937681/work\n",
      "ujson @ file:///C:/ci/ujson_1611241570789/work\n",
      "unicodecsv==0.14.1\n",
      "Unidecode @ file:///tmp/build/80754af9/unidecode_1614712377438/work\n",
      "urllib3==1.26.7\n",
      "watchdog @ file:///C:/ci/watchdog_1624955096624/work\n",
      "wcwidth @ file:///Users/ktietz/demo/mc3/conda-bld/wcwidth_1629357192024/work\n",
      "webencodings==0.5.1\n",
      "websockets==8.1\n",
      "Werkzeug @ file:///tmp/build/80754af9/werkzeug_1631818832573/work\n",
      "whichcraft @ file:///tmp/build/80754af9/whichcraft_1617751293875/work\n",
      "widgetsnbextension==3.5.1\n",
      "win-inet-pton @ file:///C:/ci/win_inet_pton_1605306167264/work\n",
      "win-unicode-console==0.5\n",
      "wincertstore==0.2\n",
      "wordcloud==1.8.1\n",
      "wrapt==1.12.1\n",
      "xlrd @ file:///tmp/build/80754af9/xlrd_1608072521494/work\n",
      "XlsxWriter @ file:///tmp/build/80754af9/xlsxwriter_1628603415431/work\n",
      "xlwings==0.24.9\n",
      "xlwt==1.3.0\n",
      "xmltodict @ file:///Users/ktietz/demo/mc3/conda-bld/xmltodict_1629301980723/work\n",
      "yapf @ file:///tmp/build/80754af9/yapf_1615749224965/work\n",
      "yarl @ file:///C:/ci/yarl_1606940076464/work\n",
      "zict==2.0.0\n",
      "zipp @ file:///tmp/build/80754af9/zipp_1633618647012/work\n",
      "zope.event==4.5.0\n",
      "zope.interface @ file:///C:/ci/zope.interface_1625036260333/work\n"
     ]
    }
   ],
   "source": [
    "pip freeze "
   ]
  },
  {
   "cell_type": "markdown",
   "id": "b71592e0",
   "metadata": {},
   "source": [
    "## Exercise 1"
   ]
  },
  {
   "cell_type": "markdown",
   "id": "03c748ea",
   "metadata": {},
   "source": [
    "Get a sports-themed dataset that you like and normalize categorical attributes in dummy. Standardize numeric attributes with StandardScaler."
   ]
  },
  {
   "cell_type": "code",
   "execution_count": 220,
   "id": "cf4bc003",
   "metadata": {},
   "outputs": [],
   "source": [
    "# Baseball database of 1986, by player\n",
    "df = pd.read_csv('Hitters.csv')"
   ]
  },
  {
   "cell_type": "markdown",
   "id": "467a39f1",
   "metadata": {},
   "source": [
    "### Exploring database"
   ]
  },
  {
   "cell_type": "code",
   "execution_count": 150,
   "id": "acbe73a2",
   "metadata": {},
   "outputs": [
    {
     "data": {
      "text/html": [
       "<div>\n",
       "<style scoped>\n",
       "    .dataframe tbody tr th:only-of-type {\n",
       "        vertical-align: middle;\n",
       "    }\n",
       "\n",
       "    .dataframe tbody tr th {\n",
       "        vertical-align: top;\n",
       "    }\n",
       "\n",
       "    .dataframe thead th {\n",
       "        text-align: right;\n",
       "    }\n",
       "</style>\n",
       "<table border=\"1\" class=\"dataframe\">\n",
       "  <thead>\n",
       "    <tr style=\"text-align: right;\">\n",
       "      <th></th>\n",
       "      <th>AtBat</th>\n",
       "      <th>Hits</th>\n",
       "      <th>HmRun</th>\n",
       "      <th>Runs</th>\n",
       "      <th>RBI</th>\n",
       "      <th>Walks</th>\n",
       "      <th>Years</th>\n",
       "      <th>CAtBat</th>\n",
       "      <th>CHits</th>\n",
       "      <th>CHmRun</th>\n",
       "      <th>CRuns</th>\n",
       "      <th>CRBI</th>\n",
       "      <th>CWalks</th>\n",
       "      <th>League</th>\n",
       "      <th>Division</th>\n",
       "      <th>PutOuts</th>\n",
       "      <th>Assists</th>\n",
       "      <th>Errors</th>\n",
       "      <th>Salary</th>\n",
       "      <th>NewLeague</th>\n",
       "    </tr>\n",
       "  </thead>\n",
       "  <tbody>\n",
       "    <tr>\n",
       "      <th>0</th>\n",
       "      <td>293</td>\n",
       "      <td>66</td>\n",
       "      <td>1</td>\n",
       "      <td>30</td>\n",
       "      <td>29</td>\n",
       "      <td>14</td>\n",
       "      <td>1</td>\n",
       "      <td>293</td>\n",
       "      <td>66</td>\n",
       "      <td>1</td>\n",
       "      <td>30</td>\n",
       "      <td>29</td>\n",
       "      <td>14</td>\n",
       "      <td>A</td>\n",
       "      <td>E</td>\n",
       "      <td>446</td>\n",
       "      <td>33</td>\n",
       "      <td>20</td>\n",
       "      <td>NaN</td>\n",
       "      <td>A</td>\n",
       "    </tr>\n",
       "    <tr>\n",
       "      <th>1</th>\n",
       "      <td>315</td>\n",
       "      <td>81</td>\n",
       "      <td>7</td>\n",
       "      <td>24</td>\n",
       "      <td>38</td>\n",
       "      <td>39</td>\n",
       "      <td>14</td>\n",
       "      <td>3449</td>\n",
       "      <td>835</td>\n",
       "      <td>69</td>\n",
       "      <td>321</td>\n",
       "      <td>414</td>\n",
       "      <td>375</td>\n",
       "      <td>N</td>\n",
       "      <td>W</td>\n",
       "      <td>632</td>\n",
       "      <td>43</td>\n",
       "      <td>10</td>\n",
       "      <td>475.0</td>\n",
       "      <td>N</td>\n",
       "    </tr>\n",
       "    <tr>\n",
       "      <th>2</th>\n",
       "      <td>479</td>\n",
       "      <td>130</td>\n",
       "      <td>18</td>\n",
       "      <td>66</td>\n",
       "      <td>72</td>\n",
       "      <td>76</td>\n",
       "      <td>3</td>\n",
       "      <td>1624</td>\n",
       "      <td>457</td>\n",
       "      <td>63</td>\n",
       "      <td>224</td>\n",
       "      <td>266</td>\n",
       "      <td>263</td>\n",
       "      <td>A</td>\n",
       "      <td>W</td>\n",
       "      <td>880</td>\n",
       "      <td>82</td>\n",
       "      <td>14</td>\n",
       "      <td>480.0</td>\n",
       "      <td>A</td>\n",
       "    </tr>\n",
       "    <tr>\n",
       "      <th>3</th>\n",
       "      <td>496</td>\n",
       "      <td>141</td>\n",
       "      <td>20</td>\n",
       "      <td>65</td>\n",
       "      <td>78</td>\n",
       "      <td>37</td>\n",
       "      <td>11</td>\n",
       "      <td>5628</td>\n",
       "      <td>1575</td>\n",
       "      <td>225</td>\n",
       "      <td>828</td>\n",
       "      <td>838</td>\n",
       "      <td>354</td>\n",
       "      <td>N</td>\n",
       "      <td>E</td>\n",
       "      <td>200</td>\n",
       "      <td>11</td>\n",
       "      <td>3</td>\n",
       "      <td>500.0</td>\n",
       "      <td>N</td>\n",
       "    </tr>\n",
       "    <tr>\n",
       "      <th>4</th>\n",
       "      <td>321</td>\n",
       "      <td>87</td>\n",
       "      <td>10</td>\n",
       "      <td>39</td>\n",
       "      <td>42</td>\n",
       "      <td>30</td>\n",
       "      <td>2</td>\n",
       "      <td>396</td>\n",
       "      <td>101</td>\n",
       "      <td>12</td>\n",
       "      <td>48</td>\n",
       "      <td>46</td>\n",
       "      <td>33</td>\n",
       "      <td>N</td>\n",
       "      <td>E</td>\n",
       "      <td>805</td>\n",
       "      <td>40</td>\n",
       "      <td>4</td>\n",
       "      <td>91.5</td>\n",
       "      <td>N</td>\n",
       "    </tr>\n",
       "  </tbody>\n",
       "</table>\n",
       "</div>"
      ],
      "text/plain": [
       "   AtBat  Hits  HmRun  Runs  RBI  Walks  Years  CAtBat  CHits  CHmRun  CRuns  \\\n",
       "0    293    66      1    30   29     14      1     293     66       1     30   \n",
       "1    315    81      7    24   38     39     14    3449    835      69    321   \n",
       "2    479   130     18    66   72     76      3    1624    457      63    224   \n",
       "3    496   141     20    65   78     37     11    5628   1575     225    828   \n",
       "4    321    87     10    39   42     30      2     396    101      12     48   \n",
       "\n",
       "   CRBI  CWalks League Division  PutOuts  Assists  Errors  Salary NewLeague  \n",
       "0    29      14      A        E      446       33      20     NaN         A  \n",
       "1   414     375      N        W      632       43      10   475.0         N  \n",
       "2   266     263      A        W      880       82      14   480.0         A  \n",
       "3   838     354      N        E      200       11       3   500.0         N  \n",
       "4    46      33      N        E      805       40       4    91.5         N  "
      ]
     },
     "execution_count": 150,
     "metadata": {},
     "output_type": "execute_result"
    }
   ],
   "source": [
    "df.head()"
   ]
  },
  {
   "cell_type": "markdown",
   "id": "fa6a4a8b",
   "metadata": {},
   "source": [
    "AtBat: Number of times at bat in 1986\n",
    "\n",
    "Hits: Number of hits in 1986\n",
    "\n",
    "HmRun: Number of home runs in 1986\n",
    "\n",
    "Runs: Number of runs in 1986\n",
    "\n",
    "RBI: Number of runs batted in in 1986\n",
    "\n",
    "Walks: Number of walks in 1986\n",
    "\n",
    "Years: Number of years in the major leagues\n",
    "\n",
    "CAtBat: Number of times at bat during his career\n",
    "\n",
    "CHits: Number of hits during his career\n",
    "\n",
    "CHmRun: Number of home runs during his career\n",
    "\n",
    "CRuns: Number of runs during his career\n",
    "\n",
    "CRBI: Number of runs batted in during his career\n",
    "\n",
    "CWalks: Number of walks during his career\n",
    "\n",
    "League: A factor with levels A and N indicating player's league at the end of 1986\n",
    "\n",
    "Division: A factor with levels E and W indicating player's division at the end of 1986\n",
    "\n",
    "PutOuts: Number of put outs in 1986\n",
    "\n",
    "Assists: Number of assists in 1986\n",
    "\n",
    "Errors: Number of errors in 1986\n",
    "\n",
    "Salary: 1987 annual salary on opening day in thousands of dollars\n",
    "\n",
    "NewLeague: A factor with levels A and N indicating player's league at the beginning of 1987"
   ]
  },
  {
   "cell_type": "code",
   "execution_count": 151,
   "id": "64f34479",
   "metadata": {},
   "outputs": [
    {
     "name": "stdout",
     "output_type": "stream",
     "text": [
      "<class 'pandas.core.frame.DataFrame'>\n",
      "RangeIndex: 322 entries, 0 to 321\n",
      "Data columns (total 20 columns):\n",
      " #   Column     Non-Null Count  Dtype  \n",
      "---  ------     --------------  -----  \n",
      " 0   AtBat      322 non-null    int64  \n",
      " 1   Hits       322 non-null    int64  \n",
      " 2   HmRun      322 non-null    int64  \n",
      " 3   Runs       322 non-null    int64  \n",
      " 4   RBI        322 non-null    int64  \n",
      " 5   Walks      322 non-null    int64  \n",
      " 6   Years      322 non-null    int64  \n",
      " 7   CAtBat     322 non-null    int64  \n",
      " 8   CHits      322 non-null    int64  \n",
      " 9   CHmRun     322 non-null    int64  \n",
      " 10  CRuns      322 non-null    int64  \n",
      " 11  CRBI       322 non-null    int64  \n",
      " 12  CWalks     322 non-null    int64  \n",
      " 13  League     322 non-null    object \n",
      " 14  Division   322 non-null    object \n",
      " 15  PutOuts    322 non-null    int64  \n",
      " 16  Assists    322 non-null    int64  \n",
      " 17  Errors     322 non-null    int64  \n",
      " 18  Salary     263 non-null    float64\n",
      " 19  NewLeague  322 non-null    object \n",
      "dtypes: float64(1), int64(16), object(3)\n",
      "memory usage: 50.4+ KB\n"
     ]
    }
   ],
   "source": [
    "df.info()"
   ]
  },
  {
   "cell_type": "code",
   "execution_count": 152,
   "id": "dbf47d83",
   "metadata": {},
   "outputs": [
    {
     "data": {
      "text/plain": [
       "0"
      ]
     },
     "execution_count": 152,
     "metadata": {},
     "output_type": "execute_result"
    }
   ],
   "source": [
    "# Looking for duplicated data\n",
    "df.duplicated().sum()"
   ]
  },
  {
   "cell_type": "code",
   "execution_count": 153,
   "id": "877a13e6",
   "metadata": {
    "scrolled": true
   },
   "outputs": [
    {
     "data": {
      "text/plain": [
       "AtBat         0\n",
       "Hits          0\n",
       "HmRun         0\n",
       "Runs          0\n",
       "RBI           0\n",
       "Walks         0\n",
       "Years         0\n",
       "CAtBat        0\n",
       "CHits         0\n",
       "CHmRun        0\n",
       "CRuns         0\n",
       "CRBI          0\n",
       "CWalks        0\n",
       "League        0\n",
       "Division      0\n",
       "PutOuts       0\n",
       "Assists       0\n",
       "Errors        0\n",
       "Salary       59\n",
       "NewLeague     0\n",
       "dtype: int64"
      ]
     },
     "execution_count": 153,
     "metadata": {},
     "output_type": "execute_result"
    }
   ],
   "source": [
    "# Looking for Null\n",
    "null= df.isnull().sum()\n",
    "null"
   ]
  },
  {
   "cell_type": "code",
   "execution_count": 154,
   "id": "486daac5",
   "metadata": {},
   "outputs": [],
   "source": [
    "# Filling missing salaries with the median\n",
    "sal_median= df['Salary'].median()"
   ]
  },
  {
   "cell_type": "code",
   "execution_count": 155,
   "id": "67d49674",
   "metadata": {},
   "outputs": [],
   "source": [
    "df['Salary'] = df['Salary'].fillna(sal_median)"
   ]
  },
  {
   "cell_type": "code",
   "execution_count": 156,
   "id": "086a419a",
   "metadata": {},
   "outputs": [
    {
     "data": {
      "text/plain": [
       "AtBat        0\n",
       "Hits         0\n",
       "HmRun        0\n",
       "Runs         0\n",
       "RBI          0\n",
       "Walks        0\n",
       "Years        0\n",
       "CAtBat       0\n",
       "CHits        0\n",
       "CHmRun       0\n",
       "CRuns        0\n",
       "CRBI         0\n",
       "CWalks       0\n",
       "League       0\n",
       "Division     0\n",
       "PutOuts      0\n",
       "Assists      0\n",
       "Errors       0\n",
       "Salary       0\n",
       "NewLeague    0\n",
       "dtype: int64"
      ]
     },
     "execution_count": 156,
     "metadata": {},
     "output_type": "execute_result"
    }
   ],
   "source": [
    "# Checking again, nulls removed\n",
    "null= df.isnull().sum()\n",
    "null"
   ]
  },
  {
   "cell_type": "code",
   "execution_count": 157,
   "id": "d779c597",
   "metadata": {},
   "outputs": [
    {
     "data": {
      "text/html": [
       "<div>\n",
       "<style scoped>\n",
       "    .dataframe tbody tr th:only-of-type {\n",
       "        vertical-align: middle;\n",
       "    }\n",
       "\n",
       "    .dataframe tbody tr th {\n",
       "        vertical-align: top;\n",
       "    }\n",
       "\n",
       "    .dataframe thead th {\n",
       "        text-align: right;\n",
       "    }\n",
       "</style>\n",
       "<table border=\"1\" class=\"dataframe\">\n",
       "  <thead>\n",
       "    <tr style=\"text-align: right;\">\n",
       "      <th></th>\n",
       "      <th>AtBat</th>\n",
       "      <th>Hits</th>\n",
       "      <th>HmRun</th>\n",
       "      <th>Runs</th>\n",
       "      <th>RBI</th>\n",
       "      <th>Walks</th>\n",
       "      <th>Years</th>\n",
       "      <th>CAtBat</th>\n",
       "      <th>CHits</th>\n",
       "      <th>CHmRun</th>\n",
       "      <th>CRuns</th>\n",
       "      <th>CRBI</th>\n",
       "      <th>CWalks</th>\n",
       "      <th>PutOuts</th>\n",
       "      <th>Assists</th>\n",
       "      <th>Errors</th>\n",
       "      <th>Salary</th>\n",
       "    </tr>\n",
       "  </thead>\n",
       "  <tbody>\n",
       "    <tr>\n",
       "      <th>count</th>\n",
       "      <td>322.000000</td>\n",
       "      <td>322.000000</td>\n",
       "      <td>322.000000</td>\n",
       "      <td>322.000000</td>\n",
       "      <td>322.000000</td>\n",
       "      <td>322.000000</td>\n",
       "      <td>322.000000</td>\n",
       "      <td>322.00000</td>\n",
       "      <td>322.000000</td>\n",
       "      <td>322.000000</td>\n",
       "      <td>322.000000</td>\n",
       "      <td>322.000000</td>\n",
       "      <td>322.000000</td>\n",
       "      <td>322.000000</td>\n",
       "      <td>322.000000</td>\n",
       "      <td>322.000000</td>\n",
       "      <td>322.000000</td>\n",
       "    </tr>\n",
       "    <tr>\n",
       "      <th>mean</th>\n",
       "      <td>380.928571</td>\n",
       "      <td>101.024845</td>\n",
       "      <td>10.770186</td>\n",
       "      <td>50.909938</td>\n",
       "      <td>48.027950</td>\n",
       "      <td>38.742236</td>\n",
       "      <td>7.444099</td>\n",
       "      <td>2648.68323</td>\n",
       "      <td>717.571429</td>\n",
       "      <td>69.490683</td>\n",
       "      <td>358.795031</td>\n",
       "      <td>330.118012</td>\n",
       "      <td>260.239130</td>\n",
       "      <td>288.937888</td>\n",
       "      <td>106.913043</td>\n",
       "      <td>8.040373</td>\n",
       "      <td>515.600953</td>\n",
       "    </tr>\n",
       "    <tr>\n",
       "      <th>std</th>\n",
       "      <td>153.404981</td>\n",
       "      <td>46.454741</td>\n",
       "      <td>8.709037</td>\n",
       "      <td>26.024095</td>\n",
       "      <td>26.166895</td>\n",
       "      <td>21.639327</td>\n",
       "      <td>4.926087</td>\n",
       "      <td>2324.20587</td>\n",
       "      <td>654.472627</td>\n",
       "      <td>86.266061</td>\n",
       "      <td>334.105886</td>\n",
       "      <td>333.219617</td>\n",
       "      <td>267.058085</td>\n",
       "      <td>280.704614</td>\n",
       "      <td>136.854876</td>\n",
       "      <td>6.368359</td>\n",
       "      <td>409.817459</td>\n",
       "    </tr>\n",
       "    <tr>\n",
       "      <th>min</th>\n",
       "      <td>16.000000</td>\n",
       "      <td>1.000000</td>\n",
       "      <td>0.000000</td>\n",
       "      <td>0.000000</td>\n",
       "      <td>0.000000</td>\n",
       "      <td>0.000000</td>\n",
       "      <td>1.000000</td>\n",
       "      <td>19.00000</td>\n",
       "      <td>4.000000</td>\n",
       "      <td>0.000000</td>\n",
       "      <td>1.000000</td>\n",
       "      <td>0.000000</td>\n",
       "      <td>0.000000</td>\n",
       "      <td>0.000000</td>\n",
       "      <td>0.000000</td>\n",
       "      <td>0.000000</td>\n",
       "      <td>67.500000</td>\n",
       "    </tr>\n",
       "    <tr>\n",
       "      <th>25%</th>\n",
       "      <td>255.250000</td>\n",
       "      <td>64.000000</td>\n",
       "      <td>4.000000</td>\n",
       "      <td>30.250000</td>\n",
       "      <td>28.000000</td>\n",
       "      <td>22.000000</td>\n",
       "      <td>4.000000</td>\n",
       "      <td>816.75000</td>\n",
       "      <td>209.000000</td>\n",
       "      <td>14.000000</td>\n",
       "      <td>100.250000</td>\n",
       "      <td>88.750000</td>\n",
       "      <td>67.250000</td>\n",
       "      <td>109.250000</td>\n",
       "      <td>7.000000</td>\n",
       "      <td>3.000000</td>\n",
       "      <td>226.250000</td>\n",
       "    </tr>\n",
       "    <tr>\n",
       "      <th>50%</th>\n",
       "      <td>379.500000</td>\n",
       "      <td>96.000000</td>\n",
       "      <td>8.000000</td>\n",
       "      <td>48.000000</td>\n",
       "      <td>44.000000</td>\n",
       "      <td>35.000000</td>\n",
       "      <td>6.000000</td>\n",
       "      <td>1928.00000</td>\n",
       "      <td>508.000000</td>\n",
       "      <td>37.500000</td>\n",
       "      <td>247.000000</td>\n",
       "      <td>220.500000</td>\n",
       "      <td>170.500000</td>\n",
       "      <td>212.000000</td>\n",
       "      <td>39.500000</td>\n",
       "      <td>6.000000</td>\n",
       "      <td>425.000000</td>\n",
       "    </tr>\n",
       "    <tr>\n",
       "      <th>75%</th>\n",
       "      <td>512.000000</td>\n",
       "      <td>137.000000</td>\n",
       "      <td>16.000000</td>\n",
       "      <td>69.000000</td>\n",
       "      <td>64.750000</td>\n",
       "      <td>53.000000</td>\n",
       "      <td>11.000000</td>\n",
       "      <td>3924.25000</td>\n",
       "      <td>1059.250000</td>\n",
       "      <td>90.000000</td>\n",
       "      <td>526.250000</td>\n",
       "      <td>426.250000</td>\n",
       "      <td>339.250000</td>\n",
       "      <td>325.000000</td>\n",
       "      <td>166.000000</td>\n",
       "      <td>11.000000</td>\n",
       "      <td>700.000000</td>\n",
       "    </tr>\n",
       "    <tr>\n",
       "      <th>max</th>\n",
       "      <td>687.000000</td>\n",
       "      <td>238.000000</td>\n",
       "      <td>40.000000</td>\n",
       "      <td>130.000000</td>\n",
       "      <td>121.000000</td>\n",
       "      <td>105.000000</td>\n",
       "      <td>24.000000</td>\n",
       "      <td>14053.00000</td>\n",
       "      <td>4256.000000</td>\n",
       "      <td>548.000000</td>\n",
       "      <td>2165.000000</td>\n",
       "      <td>1659.000000</td>\n",
       "      <td>1566.000000</td>\n",
       "      <td>1378.000000</td>\n",
       "      <td>492.000000</td>\n",
       "      <td>32.000000</td>\n",
       "      <td>2460.000000</td>\n",
       "    </tr>\n",
       "  </tbody>\n",
       "</table>\n",
       "</div>"
      ],
      "text/plain": [
       "            AtBat        Hits       HmRun        Runs         RBI       Walks  \\\n",
       "count  322.000000  322.000000  322.000000  322.000000  322.000000  322.000000   \n",
       "mean   380.928571  101.024845   10.770186   50.909938   48.027950   38.742236   \n",
       "std    153.404981   46.454741    8.709037   26.024095   26.166895   21.639327   \n",
       "min     16.000000    1.000000    0.000000    0.000000    0.000000    0.000000   \n",
       "25%    255.250000   64.000000    4.000000   30.250000   28.000000   22.000000   \n",
       "50%    379.500000   96.000000    8.000000   48.000000   44.000000   35.000000   \n",
       "75%    512.000000  137.000000   16.000000   69.000000   64.750000   53.000000   \n",
       "max    687.000000  238.000000   40.000000  130.000000  121.000000  105.000000   \n",
       "\n",
       "            Years       CAtBat        CHits      CHmRun        CRuns  \\\n",
       "count  322.000000    322.00000   322.000000  322.000000   322.000000   \n",
       "mean     7.444099   2648.68323   717.571429   69.490683   358.795031   \n",
       "std      4.926087   2324.20587   654.472627   86.266061   334.105886   \n",
       "min      1.000000     19.00000     4.000000    0.000000     1.000000   \n",
       "25%      4.000000    816.75000   209.000000   14.000000   100.250000   \n",
       "50%      6.000000   1928.00000   508.000000   37.500000   247.000000   \n",
       "75%     11.000000   3924.25000  1059.250000   90.000000   526.250000   \n",
       "max     24.000000  14053.00000  4256.000000  548.000000  2165.000000   \n",
       "\n",
       "              CRBI       CWalks      PutOuts     Assists      Errors  \\\n",
       "count   322.000000   322.000000   322.000000  322.000000  322.000000   \n",
       "mean    330.118012   260.239130   288.937888  106.913043    8.040373   \n",
       "std     333.219617   267.058085   280.704614  136.854876    6.368359   \n",
       "min       0.000000     0.000000     0.000000    0.000000    0.000000   \n",
       "25%      88.750000    67.250000   109.250000    7.000000    3.000000   \n",
       "50%     220.500000   170.500000   212.000000   39.500000    6.000000   \n",
       "75%     426.250000   339.250000   325.000000  166.000000   11.000000   \n",
       "max    1659.000000  1566.000000  1378.000000  492.000000   32.000000   \n",
       "\n",
       "            Salary  \n",
       "count   322.000000  \n",
       "mean    515.600953  \n",
       "std     409.817459  \n",
       "min      67.500000  \n",
       "25%     226.250000  \n",
       "50%     425.000000  \n",
       "75%     700.000000  \n",
       "max    2460.000000  "
      ]
     },
     "execution_count": 157,
     "metadata": {},
     "output_type": "execute_result"
    }
   ],
   "source": [
    "# Getting statistics of numerical data\n",
    "\n",
    "df.describe()"
   ]
  },
  {
   "cell_type": "code",
   "execution_count": 158,
   "id": "db94c5aa",
   "metadata": {
    "scrolled": true
   },
   "outputs": [
    {
     "data": {
      "text/plain": [
       "Text(0.5, 1.0, 'Salary histogram')"
      ]
     },
     "execution_count": 158,
     "metadata": {},
     "output_type": "execute_result"
    },
    {
     "data": {
      "image/png": "[encoded data removed]",
      "text/plain": [
       "<Figure size 432x288 with 1 Axes>"
      ]
     },
     "metadata": {
      "needs_background": "light"
     },
     "output_type": "display_data"
    }
   ],
   "source": [
    "# Salary will be our target feature\n",
    "\n",
    "sns.histplot(data=df['Salary'])\n",
    "plt.title('Salary histogram',fontsize=15)"
   ]
  },
  {
   "cell_type": "markdown",
   "id": "1cb62041",
   "metadata": {},
   "source": [
    "Salary has not a normal distribution since it's skewed to the right (positive skewness)."
   ]
  },
  {
   "cell_type": "code",
   "execution_count": 159,
   "id": "fc99b930",
   "metadata": {},
   "outputs": [],
   "source": [
    "# Binifying salaries with bins of 500 thousand dollars to ease analysis\n",
    "bins = np.arange(0,df['Salary'].max() + 500, 500).astype(int)\n",
    "df['sal_bins'] = pd.cut(df['Salary'], bins)"
   ]
  },
  {
   "cell_type": "code",
   "execution_count": 160,
   "id": "fcc979c5",
   "metadata": {},
   "outputs": [
    {
     "data": {
      "text/plain": [
       "(0, 500]        210\n",
       "(500, 1000]      82\n",
       "(1000, 1500]     19\n",
       "(1500, 2000]      8\n",
       "(2000, 2500]      3\n",
       "Name: sal_bins, dtype: int64"
      ]
     },
     "execution_count": 160,
     "metadata": {},
     "output_type": "execute_result"
    }
   ],
   "source": [
    "df['sal_bins'].value_counts()"
   ]
  },
  {
   "cell_type": "code",
   "execution_count": 161,
   "id": "37397192",
   "metadata": {},
   "outputs": [
    {
     "name": "stdout",
     "output_type": "stream",
     "text": [
      "The target column is: ['sal_bins']\n",
      "Numerical columns are: ['AtBat', 'Hits', 'HmRun', 'Runs', 'RBI', 'Walks', 'Years', 'CAtBat', 'CHits', 'CHmRun', 'CRuns', 'CRBI', 'CWalks', 'PutOuts', 'Assists', 'Errors', 'Salary']\n",
      "Categorical columns are: ['NewLeague', 'Division', 'League']\n"
     ]
    }
   ],
   "source": [
    "# Target feature\n",
    "targ_column = ['sal_bins']\n",
    "print(f'The target column is: {targ_column}')\n",
    "\n",
    "# Numeric features\n",
    "num_columns = list(df.select_dtypes('number').columns)\n",
    "print(f\"Numerical columns are: {num_columns}\")\n",
    "\n",
    "# Categorical features \n",
    "cat_columns = list(set(df.columns) - set(num_columns) - set(targ_column))\n",
    "print(f\"Categorical columns are: {cat_columns}\")"
   ]
  },
  {
   "cell_type": "code",
   "execution_count": 162,
   "id": "f5327037",
   "metadata": {},
   "outputs": [],
   "source": [
    "# Crating a variable with numerical columns\n",
    "\n",
    "var=['AtBat','Hits','HmRun', 'Runs', 'RBI', 'Walks', 'Years', 'CAtBat', 'CHits', 'CHmRun', 'CRuns', 'CRBI', 'CWalks', 'PutOuts', 'Assists', 'Errors', 'Salary']\n"
   ]
  },
  {
   "cell_type": "code",
   "execution_count": 163,
   "id": "2da6792e",
   "metadata": {},
   "outputs": [
    {
     "data": {
      "text/html": [
       "<div>\n",
       "<style scoped>\n",
       "    .dataframe tbody tr th:only-of-type {\n",
       "        vertical-align: middle;\n",
       "    }\n",
       "\n",
       "    .dataframe tbody tr th {\n",
       "        vertical-align: top;\n",
       "    }\n",
       "\n",
       "    .dataframe thead th {\n",
       "        text-align: right;\n",
       "    }\n",
       "</style>\n",
       "<table border=\"1\" class=\"dataframe\">\n",
       "  <thead>\n",
       "    <tr style=\"text-align: right;\">\n",
       "      <th></th>\n",
       "      <th>League_A</th>\n",
       "      <th>League_N</th>\n",
       "      <th>NewLeague_A</th>\n",
       "      <th>NewLeague_N</th>\n",
       "      <th>Division_E</th>\n",
       "      <th>Division_W</th>\n",
       "    </tr>\n",
       "  </thead>\n",
       "  <tbody>\n",
       "    <tr>\n",
       "      <th>0</th>\n",
       "      <td>1</td>\n",
       "      <td>0</td>\n",
       "      <td>1</td>\n",
       "      <td>0</td>\n",
       "      <td>1</td>\n",
       "      <td>0</td>\n",
       "    </tr>\n",
       "    <tr>\n",
       "      <th>1</th>\n",
       "      <td>0</td>\n",
       "      <td>1</td>\n",
       "      <td>0</td>\n",
       "      <td>1</td>\n",
       "      <td>0</td>\n",
       "      <td>1</td>\n",
       "    </tr>\n",
       "    <tr>\n",
       "      <th>2</th>\n",
       "      <td>1</td>\n",
       "      <td>0</td>\n",
       "      <td>1</td>\n",
       "      <td>0</td>\n",
       "      <td>0</td>\n",
       "      <td>1</td>\n",
       "    </tr>\n",
       "    <tr>\n",
       "      <th>3</th>\n",
       "      <td>0</td>\n",
       "      <td>1</td>\n",
       "      <td>0</td>\n",
       "      <td>1</td>\n",
       "      <td>1</td>\n",
       "      <td>0</td>\n",
       "    </tr>\n",
       "    <tr>\n",
       "      <th>4</th>\n",
       "      <td>0</td>\n",
       "      <td>1</td>\n",
       "      <td>0</td>\n",
       "      <td>1</td>\n",
       "      <td>1</td>\n",
       "      <td>0</td>\n",
       "    </tr>\n",
       "  </tbody>\n",
       "</table>\n",
       "</div>"
      ],
      "text/plain": [
       "   League_A  League_N  NewLeague_A  NewLeague_N  Division_E  Division_W\n",
       "0         1         0            1            0           1           0\n",
       "1         0         1            0            1           0           1\n",
       "2         1         0            1            0           0           1\n",
       "3         0         1            0            1           1           0\n",
       "4         0         1            0            1           1           0"
      ]
     },
     "execution_count": 163,
     "metadata": {},
     "output_type": "execute_result"
    }
   ],
   "source": [
    "# Creating dummy variables with categorical variables\n",
    "dummy=pd.get_dummies(df[['League','NewLeague','Division']])\n",
    "dummy.head()"
   ]
  },
  {
   "cell_type": "code",
   "execution_count": 164,
   "id": "593f3793",
   "metadata": {
    "scrolled": false
   },
   "outputs": [
    {
     "data": {
      "text/html": [
       "<div>\n",
       "<style scoped>\n",
       "    .dataframe tbody tr th:only-of-type {\n",
       "        vertical-align: middle;\n",
       "    }\n",
       "\n",
       "    .dataframe tbody tr th {\n",
       "        vertical-align: top;\n",
       "    }\n",
       "\n",
       "    .dataframe thead th {\n",
       "        text-align: right;\n",
       "    }\n",
       "</style>\n",
       "<table border=\"1\" class=\"dataframe\">\n",
       "  <thead>\n",
       "    <tr style=\"text-align: right;\">\n",
       "      <th></th>\n",
       "      <th>AtBat</th>\n",
       "      <th>Hits</th>\n",
       "      <th>HmRun</th>\n",
       "      <th>Runs</th>\n",
       "      <th>RBI</th>\n",
       "      <th>Walks</th>\n",
       "      <th>Years</th>\n",
       "      <th>CAtBat</th>\n",
       "      <th>CHits</th>\n",
       "      <th>CHmRun</th>\n",
       "      <th>CRuns</th>\n",
       "      <th>CRBI</th>\n",
       "      <th>CWalks</th>\n",
       "      <th>League</th>\n",
       "      <th>Division</th>\n",
       "      <th>PutOuts</th>\n",
       "      <th>Assists</th>\n",
       "      <th>Errors</th>\n",
       "      <th>Salary</th>\n",
       "      <th>NewLeague</th>\n",
       "      <th>sal_bins</th>\n",
       "      <th>League_A</th>\n",
       "      <th>League_N</th>\n",
       "      <th>NewLeague_A</th>\n",
       "      <th>NewLeague_N</th>\n",
       "      <th>Division_E</th>\n",
       "      <th>Division_W</th>\n",
       "    </tr>\n",
       "  </thead>\n",
       "  <tbody>\n",
       "    <tr>\n",
       "      <th>0</th>\n",
       "      <td>293</td>\n",
       "      <td>66</td>\n",
       "      <td>1</td>\n",
       "      <td>30</td>\n",
       "      <td>29</td>\n",
       "      <td>14</td>\n",
       "      <td>1</td>\n",
       "      <td>293</td>\n",
       "      <td>66</td>\n",
       "      <td>1</td>\n",
       "      <td>30</td>\n",
       "      <td>29</td>\n",
       "      <td>14</td>\n",
       "      <td>A</td>\n",
       "      <td>E</td>\n",
       "      <td>446</td>\n",
       "      <td>33</td>\n",
       "      <td>20</td>\n",
       "      <td>425.0</td>\n",
       "      <td>A</td>\n",
       "      <td>(0, 500]</td>\n",
       "      <td>1</td>\n",
       "      <td>0</td>\n",
       "      <td>1</td>\n",
       "      <td>0</td>\n",
       "      <td>1</td>\n",
       "      <td>0</td>\n",
       "    </tr>\n",
       "    <tr>\n",
       "      <th>1</th>\n",
       "      <td>315</td>\n",
       "      <td>81</td>\n",
       "      <td>7</td>\n",
       "      <td>24</td>\n",
       "      <td>38</td>\n",
       "      <td>39</td>\n",
       "      <td>14</td>\n",
       "      <td>3449</td>\n",
       "      <td>835</td>\n",
       "      <td>69</td>\n",
       "      <td>321</td>\n",
       "      <td>414</td>\n",
       "      <td>375</td>\n",
       "      <td>N</td>\n",
       "      <td>W</td>\n",
       "      <td>632</td>\n",
       "      <td>43</td>\n",
       "      <td>10</td>\n",
       "      <td>475.0</td>\n",
       "      <td>N</td>\n",
       "      <td>(0, 500]</td>\n",
       "      <td>0</td>\n",
       "      <td>1</td>\n",
       "      <td>0</td>\n",
       "      <td>1</td>\n",
       "      <td>0</td>\n",
       "      <td>1</td>\n",
       "    </tr>\n",
       "    <tr>\n",
       "      <th>2</th>\n",
       "      <td>479</td>\n",
       "      <td>130</td>\n",
       "      <td>18</td>\n",
       "      <td>66</td>\n",
       "      <td>72</td>\n",
       "      <td>76</td>\n",
       "      <td>3</td>\n",
       "      <td>1624</td>\n",
       "      <td>457</td>\n",
       "      <td>63</td>\n",
       "      <td>224</td>\n",
       "      <td>266</td>\n",
       "      <td>263</td>\n",
       "      <td>A</td>\n",
       "      <td>W</td>\n",
       "      <td>880</td>\n",
       "      <td>82</td>\n",
       "      <td>14</td>\n",
       "      <td>480.0</td>\n",
       "      <td>A</td>\n",
       "      <td>(0, 500]</td>\n",
       "      <td>1</td>\n",
       "      <td>0</td>\n",
       "      <td>1</td>\n",
       "      <td>0</td>\n",
       "      <td>0</td>\n",
       "      <td>1</td>\n",
       "    </tr>\n",
       "    <tr>\n",
       "      <th>3</th>\n",
       "      <td>496</td>\n",
       "      <td>141</td>\n",
       "      <td>20</td>\n",
       "      <td>65</td>\n",
       "      <td>78</td>\n",
       "      <td>37</td>\n",
       "      <td>11</td>\n",
       "      <td>5628</td>\n",
       "      <td>1575</td>\n",
       "      <td>225</td>\n",
       "      <td>828</td>\n",
       "      <td>838</td>\n",
       "      <td>354</td>\n",
       "      <td>N</td>\n",
       "      <td>E</td>\n",
       "      <td>200</td>\n",
       "      <td>11</td>\n",
       "      <td>3</td>\n",
       "      <td>500.0</td>\n",
       "      <td>N</td>\n",
       "      <td>(0, 500]</td>\n",
       "      <td>0</td>\n",
       "      <td>1</td>\n",
       "      <td>0</td>\n",
       "      <td>1</td>\n",
       "      <td>1</td>\n",
       "      <td>0</td>\n",
       "    </tr>\n",
       "    <tr>\n",
       "      <th>4</th>\n",
       "      <td>321</td>\n",
       "      <td>87</td>\n",
       "      <td>10</td>\n",
       "      <td>39</td>\n",
       "      <td>42</td>\n",
       "      <td>30</td>\n",
       "      <td>2</td>\n",
       "      <td>396</td>\n",
       "      <td>101</td>\n",
       "      <td>12</td>\n",
       "      <td>48</td>\n",
       "      <td>46</td>\n",
       "      <td>33</td>\n",
       "      <td>N</td>\n",
       "      <td>E</td>\n",
       "      <td>805</td>\n",
       "      <td>40</td>\n",
       "      <td>4</td>\n",
       "      <td>91.5</td>\n",
       "      <td>N</td>\n",
       "      <td>(0, 500]</td>\n",
       "      <td>0</td>\n",
       "      <td>1</td>\n",
       "      <td>0</td>\n",
       "      <td>1</td>\n",
       "      <td>1</td>\n",
       "      <td>0</td>\n",
       "    </tr>\n",
       "  </tbody>\n",
       "</table>\n",
       "</div>"
      ],
      "text/plain": [
       "   AtBat  Hits  HmRun  Runs  RBI  Walks  Years  CAtBat  CHits  CHmRun  CRuns  \\\n",
       "0    293    66      1    30   29     14      1     293     66       1     30   \n",
       "1    315    81      7    24   38     39     14    3449    835      69    321   \n",
       "2    479   130     18    66   72     76      3    1624    457      63    224   \n",
       "3    496   141     20    65   78     37     11    5628   1575     225    828   \n",
       "4    321    87     10    39   42     30      2     396    101      12     48   \n",
       "\n",
       "   CRBI  CWalks League Division  PutOuts  Assists  Errors  Salary NewLeague  \\\n",
       "0    29      14      A        E      446       33      20   425.0         A   \n",
       "1   414     375      N        W      632       43      10   475.0         N   \n",
       "2   266     263      A        W      880       82      14   480.0         A   \n",
       "3   838     354      N        E      200       11       3   500.0         N   \n",
       "4    46      33      N        E      805       40       4    91.5         N   \n",
       "\n",
       "   sal_bins  League_A  League_N  NewLeague_A  NewLeague_N  Division_E  \\\n",
       "0  (0, 500]         1         0            1            0           1   \n",
       "1  (0, 500]         0         1            0            1           0   \n",
       "2  (0, 500]         1         0            1            0           0   \n",
       "3  (0, 500]         0         1            0            1           1   \n",
       "4  (0, 500]         0         1            0            1           1   \n",
       "\n",
       "   Division_W  \n",
       "0           0  \n",
       "1           1  \n",
       "2           1  \n",
       "3           0  \n",
       "4           0  "
      ]
     },
     "execution_count": 164,
     "metadata": {},
     "output_type": "execute_result"
    }
   ],
   "source": [
    "# Concatenating dataframe with the new dummy variables.\n",
    "\n",
    "df=pd.concat([df,dummy], axis=1)\n",
    "df.head()"
   ]
  },
  {
   "cell_type": "code",
   "execution_count": 165,
   "id": "9cbc52fe",
   "metadata": {
    "scrolled": true
   },
   "outputs": [
    {
     "data": {
      "image/png": "[encoded data removed]",
      "text/plain": [
       "<Figure size 864x576 with 2 Axes>"
      ]
     },
     "metadata": {},
     "output_type": "display_data"
    }
   ],
   "source": [
    "# Creating a correlation heatmap with the numercial variables\n",
    "corr = df.loc[:,var].corr()\n",
    "mask = np.zeros_like(corr)\n",
    "mask[np.triu_indices_from(mask)] = True\n",
    "with sns.axes_style(\"white\"):\n",
    "    f, ax = plt.subplots(figsize=(12, 8))\n",
    "    ax = sns.heatmap(corr, mask=mask, annot=True, vmax=1, vmin=-1, square=True)\n",
    "    \n",
    "plt.title('Correlation between all the atributes',fontsize=15)\n",
    "plt.show()"
   ]
  },
  {
   "cell_type": "markdown",
   "id": "0b53e28d",
   "metadata": {},
   "source": [
    "The correlation of salary with the individual variables is positive but not strong. The highest correlation is with CRBI (Number of runs batted in during his career, 0.57), CRuns (Number of runs during his career, 0.56) or CHits (Number of hits during his career, 0.55). It means that Salary depends on multiple factors, some of them may not be registered in the database, as popularity, for example."
   ]
  },
  {
   "cell_type": "code",
   "execution_count": 166,
   "id": "299dfde0",
   "metadata": {},
   "outputs": [],
   "source": [
    "# Using StandardScaler to help you standardize the dataset’s features onto unit scale (mean = 0 and variance = 1) which is a requirement for the optimal performance of many machine learning algorithms\n",
    "\n",
    "from sklearn.preprocessing import StandardScaler"
   ]
  },
  {
   "cell_type": "code",
   "execution_count": 167,
   "id": "506072fe",
   "metadata": {},
   "outputs": [],
   "source": [
    "features = ['AtBat', 'Hits', 'HmRun', 'Runs', 'RBI', 'Walks', 'Years', 'CAtBat', 'CHits', 'CHmRun', 'CRuns', 'CRBI', 'CWalks', 'PutOuts', 'Assists', 'Errors' ]"
   ]
  },
  {
   "cell_type": "code",
   "execution_count": 168,
   "id": "004f9c6c",
   "metadata": {},
   "outputs": [
    {
     "data": {
      "text/plain": [
       "array([[ 293,   66,    1, ...,  446,   33,   20],\n",
       "       [ 315,   81,    7, ...,  632,   43,   10],\n",
       "       [ 479,  130,   18, ...,  880,   82,   14],\n",
       "       ...,\n",
       "       [ 475,  126,    3, ...,   37,  113,    7],\n",
       "       [ 573,  144,    9, ..., 1314,  131,   12],\n",
       "       [ 631,  170,    9, ...,  408,    4,    3]], dtype=int64)"
      ]
     },
     "execution_count": 168,
     "metadata": {},
     "output_type": "execute_result"
    }
   ],
   "source": [
    "# Separating out the features\n",
    "x = df.loc[:, features].values\n",
    "x"
   ]
  },
  {
   "cell_type": "code",
   "execution_count": 169,
   "id": "50bcd4eb",
   "metadata": {},
   "outputs": [
    {
     "data": {
      "text/plain": [
       "[(0, 500], (0, 500], (0, 500], (0, 500], (0, 500], ..., (500, 1000], (500, 1000], (0, 500], (500, 1000], (500, 1000]]\n",
       "Length: 322\n",
       "Categories (5, interval[int64, right]): [(0, 500] < (500, 1000] < (1000, 1500] < (1500, 2000] < (2000, 2500]]"
      ]
     },
     "execution_count": 169,
     "metadata": {},
     "output_type": "execute_result"
    }
   ],
   "source": [
    "y= df.loc[:,'sal_bins'].values\n",
    "y"
   ]
  },
  {
   "cell_type": "code",
   "execution_count": 170,
   "id": "4d54d7d2",
   "metadata": {},
   "outputs": [],
   "source": [
    "# Standardizing the features\n",
    "x= StandardScaler().fit_transform(x)"
   ]
  },
  {
   "cell_type": "code",
   "execution_count": 171,
   "id": "c4091602",
   "metadata": {
    "scrolled": true
   },
   "outputs": [
    {
     "data": {
      "text/plain": [
       "array([[-0.57407148, -0.75512977, -1.12359063, ...,  0.56039893,\n",
       "        -0.54092397,  1.88089921],\n",
       "       [-0.43043703, -0.43173229, -0.43357884, ...,  1.2240485 ,\n",
       "        -0.46774014,  0.308192  ],\n",
       "       [ 0.64029256,  0.62469948,  0.83144278, ...,  2.10891458,\n",
       "        -0.1823232 ,  0.93727488],\n",
       "       ...,\n",
       "       [ 0.61417721,  0.53846015, -0.8935867 , ..., -0.8989165 ,\n",
       "         0.04454668, -0.16362016],\n",
       "       [ 1.25400343,  0.92653713, -0.20357491, ...,  3.65743023,\n",
       "         0.17627758,  0.62273344],\n",
       "       [ 1.63267609,  1.48709276, -0.20357491, ...,  0.42481462,\n",
       "        -0.75315708, -0.79270304]])"
      ]
     },
     "execution_count": 171,
     "metadata": {},
     "output_type": "execute_result"
    }
   ],
   "source": [
    "x"
   ]
  },
  {
   "cell_type": "markdown",
   "id": "f6b84cb3",
   "metadata": {},
   "source": [
    "## Exercise 2"
   ]
  },
  {
   "cell_type": "markdown",
   "id": "dbd68969",
   "metadata": {},
   "source": [
    "Analyse main components"
   ]
  },
  {
   "cell_type": "code",
   "execution_count": 172,
   "id": "c06e896e",
   "metadata": {},
   "outputs": [],
   "source": [
    "from sklearn.decomposition import PCA"
   ]
  },
  {
   "cell_type": "code",
   "execution_count": 173,
   "id": "f6331419",
   "metadata": {},
   "outputs": [],
   "source": [
    "# Using Principal Component Analysis (PCA) to visualise data\n",
    "pca = PCA(n_components=2)"
   ]
  },
  {
   "cell_type": "code",
   "execution_count": 174,
   "id": "855a2654",
   "metadata": {},
   "outputs": [],
   "source": [
    "principalComponents = pca.fit_transform(x)"
   ]
  },
  {
   "cell_type": "code",
   "execution_count": 175,
   "id": "f739a4c7",
   "metadata": {},
   "outputs": [
    {
     "data": {
      "text/plain": [
       "array([[-3.24010642, -0.253173  ],\n",
       "       [ 0.24548795,  1.30295065],\n",
       "       [ 0.60388338, -2.61700162],\n",
       "       [ 3.59127568,  0.54782109],\n",
       "       [-2.26452833, -0.69889824],\n",
       "       [ 1.22953505, -1.82509334],\n",
       "       [-3.80289288,  1.09515134],\n",
       "       [-3.29919038,  0.31339912],\n",
       "       [-3.04612041, -0.56334462],\n",
       "       [ 3.77946437,  1.96715337],\n",
       "       [ 3.3047477 , -2.5215784 ],\n",
       "       [-1.88139468,  1.25028727],\n",
       "       [-0.66712957, -0.85114987],\n",
       "       [-2.23490924,  1.48541764],\n",
       "       [-0.86272012,  2.1711554 ],\n",
       "       [-3.7787889 ,  1.55552832],\n",
       "       [ 5.87364477, -0.02377671],\n",
       "       [-3.43575433,  0.87582283],\n",
       "       [ 2.58135516,  0.71218663],\n",
       "       [-3.00482857,  1.88973538],\n",
       "       [-1.44509002, -1.75176572],\n",
       "       [-1.9136365 , -1.22389804],\n",
       "       [-4.17331657,  1.9333713 ],\n",
       "       [ 0.40657522, -1.37601893],\n",
       "       [ 5.96267399, -0.42402729],\n",
       "       [ 0.86725025, -1.67665858],\n",
       "       [-1.83882929,  1.25242309],\n",
       "       [ 0.24749519, -0.98991533],\n",
       "       [ 0.56882078, -2.49286778],\n",
       "       [ 4.64141646, -0.43851699],\n",
       "       [ 3.94667305,  3.37845481],\n",
       "       [-2.19770651, -0.58654184],\n",
       "       [ 3.2290997 , -1.76115618],\n",
       "       [ 0.54506341, -3.54628291],\n",
       "       [-2.50758283,  1.34663609],\n",
       "       [ 2.97281975,  1.47602895],\n",
       "       [-3.26877537,  1.47208762],\n",
       "       [-3.20853366,  0.41656971],\n",
       "       [ 2.82498002,  3.23018674],\n",
       "       [-3.57069741,  0.37203632],\n",
       "       [-3.49841281,  0.9939637 ],\n",
       "       [ 1.24834129,  4.20122845],\n",
       "       [-1.64574824,  2.44337543],\n",
       "       [-2.98627499,  1.19887886],\n",
       "       [ 0.11441235,  2.95661644],\n",
       "       [-2.45029593,  0.98908582],\n",
       "       [-1.49093143, -1.5688066 ],\n",
       "       [-2.70170905,  1.11565245],\n",
       "       [ 4.79769548,  1.19791251],\n",
       "       [ 1.25600761, -1.76500887],\n",
       "       [ 4.19195274,  2.51972219],\n",
       "       [-3.36360207,  0.8213216 ],\n",
       "       [-4.65985279,  2.89529787],\n",
       "       [ 2.55803707, -0.93060821],\n",
       "       [ 2.40534982,  1.58746465],\n",
       "       [-1.1021851 , -0.88338217],\n",
       "       [-2.00251258,  1.10516272],\n",
       "       [-0.19948215,  2.35795256],\n",
       "       [-0.49602001,  1.44420495],\n",
       "       [ 2.77332926, -3.31074608],\n",
       "       [-1.58132969, -1.87058301],\n",
       "       [ 1.40138252,  4.31887816],\n",
       "       [-3.10413958,  0.82945305],\n",
       "       [-2.95880692,  0.88815966],\n",
       "       [-4.65941715,  2.85054545],\n",
       "       [ 6.75742823,  0.81746313],\n",
       "       [-3.27259764,  1.32466928],\n",
       "       [-3.1934394 ,  0.93785482],\n",
       "       [-0.45054433, -3.24583087],\n",
       "       [ 0.72108037,  1.56320717],\n",
       "       [ 3.09215847,  3.29390813],\n",
       "       [-3.27382614,  1.07243243],\n",
       "       [ 4.1933196 , -0.42266036],\n",
       "       [ 7.83629982,  1.09583303],\n",
       "       [ 6.56379822,  0.17156963],\n",
       "       [-0.04120606,  0.03247109],\n",
       "       [-1.72386996, -0.00902449],\n",
       "       [-2.16826487,  1.58235072],\n",
       "       [-0.28417405, -0.1810956 ],\n",
       "       [-2.27575038, -0.10117102],\n",
       "       [ 6.13913583,  0.74157711],\n",
       "       [ 2.73534346,  3.05524461],\n",
       "       [ 2.98159362, -4.89856973],\n",
       "       [-2.60825614,  1.66106369],\n",
       "       [ 4.97313597, -1.00059293],\n",
       "       [ 1.35511194,  1.48391603],\n",
       "       [ 6.1723451 , -0.85649842],\n",
       "       [-2.04486148, -0.44417464],\n",
       "       [ 1.96656906,  4.27196643],\n",
       "       [-0.74290474, -2.32506228],\n",
       "       [-1.60718698,  0.05822634],\n",
       "       [ 1.19418505, -2.13587314],\n",
       "       [-2.77221168, -0.98372311],\n",
       "       [-0.17651293, -2.9887816 ],\n",
       "       [-1.68392217,  1.06016884],\n",
       "       [ 0.03634676, -0.26435104],\n",
       "       [ 6.85481071,  0.27668867],\n",
       "       [ 0.88432831,  3.04254343],\n",
       "       [-0.12923215, -2.62921841],\n",
       "       [-0.18541436, -0.46358728],\n",
       "       [ 5.11371755, -0.436355  ],\n",
       "       [-1.03889353, -2.70180663],\n",
       "       [-2.37587852,  1.04632559],\n",
       "       [ 0.26966221, -0.30529704],\n",
       "       [ 4.27517387,  1.29783367],\n",
       "       [-2.84064244,  1.16882896],\n",
       "       [-1.34415713, -1.38953234],\n",
       "       [ 3.70923122, -1.0985181 ],\n",
       "       [ 1.82857781, -3.62285691],\n",
       "       [-3.71844562,  0.79167841],\n",
       "       [ 5.17745223,  0.57317976],\n",
       "       [-0.87172176, -0.1408881 ],\n",
       "       [ 5.3986432 , -0.29950607],\n",
       "       [ 1.02054277, -4.41694065],\n",
       "       [ 4.16532266,  4.26230165],\n",
       "       [ 2.30282026, -3.78085517],\n",
       "       [-1.33411728, -2.54382798],\n",
       "       [ 3.57283867,  3.30779833],\n",
       "       [ 0.53508681, -0.43348895],\n",
       "       [-1.54145249,  0.46933479],\n",
       "       [ 4.69183315,  2.42443808],\n",
       "       [ 6.02491878,  3.63435367],\n",
       "       [-0.04956131, -2.15346377],\n",
       "       [-1.03085064, -0.05020738],\n",
       "       [ 1.44386457,  0.14193519],\n",
       "       [ 2.5336005 ,  2.60715209],\n",
       "       [-1.00382281,  0.10487989],\n",
       "       [ 0.30172783,  0.67720702],\n",
       "       [ 0.64124501, -1.89132723],\n",
       "       [ 2.29751898, -1.28622966],\n",
       "       [-0.1611575 , -0.23475081],\n",
       "       [-2.04290663,  0.1971186 ],\n",
       "       [ 3.1088141 ,  4.53673487],\n",
       "       [-2.3244867 , -1.24953488],\n",
       "       [-2.90959556,  1.87016008],\n",
       "       [-3.49078634,  1.49565611],\n",
       "       [ 2.69300608, -3.42510755],\n",
       "       [ 0.99198146,  1.22177497],\n",
       "       [-2.47737736,  0.86554373],\n",
       "       [-1.83355768, -1.41670054],\n",
       "       [ 0.56471955, -4.1995089 ],\n",
       "       [ 1.26635681, -3.98078961],\n",
       "       [ 1.67316757,  2.72705341],\n",
       "       [ 4.85202629,  2.06941417],\n",
       "       [-0.48554784,  2.16202331],\n",
       "       [ 1.04175825, -1.77763747],\n",
       "       [-1.26261922,  2.74128489],\n",
       "       [ 0.62702257, -2.80566749],\n",
       "       [ 0.65168028, -0.30385462],\n",
       "       [ 0.91418046,  2.64377313],\n",
       "       [-1.66921866,  1.80751785],\n",
       "       [-3.55756334,  1.26129393],\n",
       "       [-2.75263027, -0.01981052],\n",
       "       [-0.17518225,  1.16945495],\n",
       "       [ 1.33631303, -2.14278223],\n",
       "       [-2.06368473, -0.35619772],\n",
       "       [ 0.78924055,  2.31524064],\n",
       "       [-2.23104637, -0.16219988],\n",
       "       [ 2.0267007 ,  2.8868061 ],\n",
       "       [ 0.61781812, -3.72510062],\n",
       "       [-2.22520791,  1.53219909],\n",
       "       [ 1.04411414, -2.23457538],\n",
       "       [-3.82027478,  1.51545287],\n",
       "       [ 6.94071959, -0.43614198],\n",
       "       [-0.10344865,  1.82013093],\n",
       "       [-1.99406821, -0.76020517],\n",
       "       [ 0.41944607, -3.45990783],\n",
       "       [-1.4180645 , -0.23427747],\n",
       "       [-2.86845787,  0.50406407],\n",
       "       [-2.87181114,  0.92707014],\n",
       "       [ 2.24577159,  1.24943378],\n",
       "       [-2.93239851,  0.28217564],\n",
       "       [-1.59493268, -1.86791752],\n",
       "       [-3.09553194,  1.38294291],\n",
       "       [-0.83787544,  2.9413404 ],\n",
       "       [ 0.42203807, -2.60281209],\n",
       "       [-3.39507455,  0.74192408],\n",
       "       [ 1.91519546, -1.29384629],\n",
       "       [ 3.74734958,  1.04095325],\n",
       "       [ 5.64183244, -0.99397026],\n",
       "       [ 2.59142514, -3.02250774],\n",
       "       [-0.10974919,  2.08203382],\n",
       "       [ 1.13607186, -3.13116567],\n",
       "       [-2.26010826, -0.81158146],\n",
       "       [ 1.59882054, -1.16953614],\n",
       "       [ 1.07723393, -0.82653116],\n",
       "       [-0.14756536, -1.11439304],\n",
       "       [ 1.45614153, -4.21415537],\n",
       "       [-3.23161131, -0.22659136],\n",
       "       [ 1.93234361, -1.58380775],\n",
       "       [-1.31128363, -1.60112132],\n",
       "       [ 0.49177896,  2.32963306],\n",
       "       [ 1.90713481,  0.44027227],\n",
       "       [-2.52410691,  1.0908182 ],\n",
       "       [ 2.40194859, -1.86025371],\n",
       "       [ 2.07347668,  0.82695024],\n",
       "       [ 4.03101994,  0.49214792],\n",
       "       [-3.97131135,  1.09495823],\n",
       "       [-1.83551687, -0.26563621],\n",
       "       [ 0.95959869, -0.62272832],\n",
       "       [ 3.37668294, -1.8415512 ],\n",
       "       [-3.31741906,  0.63826752],\n",
       "       [ 0.28722938, -3.38982839],\n",
       "       [-2.79258353,  1.2266309 ],\n",
       "       [ 0.23215017, -1.31023222],\n",
       "       [-3.10609858,  0.57510767],\n",
       "       [-2.05011523, -1.48712867],\n",
       "       [ 1.82788022, -0.07974211],\n",
       "       [-2.604875  ,  0.80178785],\n",
       "       [-0.20811188, -1.4396137 ],\n",
       "       [-1.26047311,  1.10799743],\n",
       "       [-0.85513921,  1.19639198],\n",
       "       [-3.73538985,  1.0931278 ],\n",
       "       [-2.86888535,  0.15718577],\n",
       "       [-0.62599596,  0.19296601],\n",
       "       [-0.12081129, -3.01110652],\n",
       "       [-2.74043807,  0.37961214],\n",
       "       [-4.76565959,  2.31441269],\n",
       "       [-0.77363717, -0.38714036],\n",
       "       [-2.63837837,  0.25932807],\n",
       "       [-2.74289346,  0.40143915],\n",
       "       [-0.5650057 , -2.52121496],\n",
       "       [-0.17325924,  0.16007261],\n",
       "       [-2.0878842 ,  0.7740733 ],\n",
       "       [-1.21256273, -0.13893201],\n",
       "       [-1.26791933, -0.08859402],\n",
       "       [-1.73426305, -2.32933607],\n",
       "       [-0.15088865, -2.81917494],\n",
       "       [ 0.54196084,  2.07236335],\n",
       "       [ 1.73505749, -1.17709711],\n",
       "       [-0.50897883, -0.94212826],\n",
       "       [ 0.20989617, -2.05867498],\n",
       "       [ 1.9868398 ,  1.74561602],\n",
       "       [-0.28103049, -3.45415012],\n",
       "       [ 1.3312325 , -0.08472993],\n",
       "       [ 1.94773238, -3.62121636],\n",
       "       [ 7.75905436,  7.45990804],\n",
       "       [-2.37977201,  1.10415191],\n",
       "       [-0.27539548, -1.28239803],\n",
       "       [-2.868446  , -0.11841214],\n",
       "       [ 0.52300299,  2.36472651],\n",
       "       [-1.30062415, -0.05062844],\n",
       "       [-1.36366666,  2.2300804 ],\n",
       "       [ 4.34198832,  3.69254687],\n",
       "       [-0.02852332, -2.86913009],\n",
       "       [ 1.04310537,  1.49742138],\n",
       "       [ 0.16289138, -1.10613473],\n",
       "       [-0.21257762,  0.3235249 ],\n",
       "       [ 4.10146486, -2.33219264],\n",
       "       [ 8.91128222,  4.12642728],\n",
       "       [-4.66273705,  2.32735303],\n",
       "       [-0.48767703,  0.14192307],\n",
       "       [ 1.40616563, -0.70702365],\n",
       "       [-3.67914681,  1.14861813],\n",
       "       [-1.25779268,  1.16772531],\n",
       "       [-2.49123095,  0.98268759],\n",
       "       [ 0.3222808 ,  3.07915505],\n",
       "       [-0.31330159,  0.24783278],\n",
       "       [ 0.66224379, -1.45105803],\n",
       "       [-3.22044788, -0.16540334],\n",
       "       [-0.18678553, -1.17249728],\n",
       "       [-4.01607769,  1.77180639],\n",
       "       [-1.7106517 ,  0.28165523],\n",
       "       [ 1.51659426, -2.28608104],\n",
       "       [-2.20251344, -0.78971784],\n",
       "       [-2.91950144,  0.49545441],\n",
       "       [-2.07897818, -1.06304883],\n",
       "       [ 3.22529313,  1.05988578],\n",
       "       [-1.38791539, -3.07446874],\n",
       "       [-1.26430595,  1.42073385],\n",
       "       [-2.92582272,  0.18342738],\n",
       "       [ 4.2858862 ,  0.93050061],\n",
       "       [ 0.8585083 , -2.77077726],\n",
       "       [-3.29186405,  0.8293609 ],\n",
       "       [-0.09694733, -3.66121238],\n",
       "       [-1.47385788, -1.86500236],\n",
       "       [-0.89885489, -3.74286089],\n",
       "       [-0.37247536, -2.30380858],\n",
       "       [ 6.27476734,  1.35576721],\n",
       "       [-1.81571847, -1.81429022],\n",
       "       [-1.86675952, -1.68459148],\n",
       "       [-0.83377124, -1.94971936],\n",
       "       [ 1.25733833, -3.10995676],\n",
       "       [-4.75899534,  2.41747173],\n",
       "       [ 1.83176363, -2.70889909],\n",
       "       [-1.20245931,  1.22785734],\n",
       "       [ 1.63545367, -1.67515465],\n",
       "       [ 0.0857718 , -3.66502308],\n",
       "       [-1.06603455, -0.05506659],\n",
       "       [-2.76561326,  0.75051991],\n",
       "       [ 1.12786224, -2.73686013],\n",
       "       [-2.00690984,  1.10948555],\n",
       "       [ 4.12843017,  3.70240196],\n",
       "       [ 0.90879033, -1.35769978],\n",
       "       [-1.43106487, -1.45066496],\n",
       "       [-4.578073  ,  1.9069848 ],\n",
       "       [-2.92765885,  1.74023723],\n",
       "       [-2.33193498,  1.21952183],\n",
       "       [-3.12220774,  1.44181597],\n",
       "       [-0.22405194,  3.32022538],\n",
       "       [ 0.66039644, -1.65712279],\n",
       "       [-1.107317  , -2.25689162],\n",
       "       [ 5.75703223,  6.30162461],\n",
       "       [-0.43997169, -1.82126613],\n",
       "       [-0.72582252,  3.50647256],\n",
       "       [ 2.16470481, -1.69938224],\n",
       "       [ 3.63790017,  5.93271882],\n",
       "       [-2.02067085,  0.40582208],\n",
       "       [ 0.82706902, -1.13260051],\n",
       "       [-0.96234145, -2.06519311],\n",
       "       [ 2.50580837, -3.90267207],\n",
       "       [-0.87404247,  0.39028528],\n",
       "       [-1.06480491, -0.87829768],\n",
       "       [ 2.17042005, -3.50855674],\n",
       "       [-1.71518256, -2.00901531],\n",
       "       [ 0.26260412, -4.65184081],\n",
       "       [-2.53555818,  1.34297598],\n",
       "       [-0.08950274, -0.52104994],\n",
       "       [ 3.33981065, -0.73271265],\n",
       "       [-0.95144157, -0.91008623],\n",
       "       [ 2.09147322, -2.26582646],\n",
       "       [ 1.90562177, -0.31119792]])"
      ]
     },
     "execution_count": 175,
     "metadata": {},
     "output_type": "execute_result"
    }
   ],
   "source": [
    "principalComponents"
   ]
  },
  {
   "cell_type": "markdown",
   "id": "c2f81db9",
   "metadata": {},
   "source": [
    "Principal component analysis (PCA) is a technique for reducing the dimensionality of datasets, increasing interpretability but at the same time minimizing information loss. It does so by creating new uncorrelated variables that successively maximize variance."
   ]
  },
  {
   "cell_type": "code",
   "execution_count": 197,
   "id": "474b14da",
   "metadata": {},
   "outputs": [],
   "source": [
    "# Creating a new dataframe with the results\n",
    "principalDf = pd.DataFrame(data = principalComponents, columns = ['Principal component 1', 'Principal component 2'])"
   ]
  },
  {
   "cell_type": "code",
   "execution_count": 198,
   "id": "4b2eda44",
   "metadata": {},
   "outputs": [
    {
     "data": {
      "text/html": [
       "<div>\n",
       "<style scoped>\n",
       "    .dataframe tbody tr th:only-of-type {\n",
       "        vertical-align: middle;\n",
       "    }\n",
       "\n",
       "    .dataframe tbody tr th {\n",
       "        vertical-align: top;\n",
       "    }\n",
       "\n",
       "    .dataframe thead th {\n",
       "        text-align: right;\n",
       "    }\n",
       "</style>\n",
       "<table border=\"1\" class=\"dataframe\">\n",
       "  <thead>\n",
       "    <tr style=\"text-align: right;\">\n",
       "      <th></th>\n",
       "      <th>Principal component 1</th>\n",
       "      <th>Principal component 2</th>\n",
       "    </tr>\n",
       "  </thead>\n",
       "  <tbody>\n",
       "    <tr>\n",
       "      <th>0</th>\n",
       "      <td>-3.240106</td>\n",
       "      <td>-0.253173</td>\n",
       "    </tr>\n",
       "    <tr>\n",
       "      <th>1</th>\n",
       "      <td>0.245488</td>\n",
       "      <td>1.302951</td>\n",
       "    </tr>\n",
       "    <tr>\n",
       "      <th>2</th>\n",
       "      <td>0.603883</td>\n",
       "      <td>-2.617002</td>\n",
       "    </tr>\n",
       "    <tr>\n",
       "      <th>3</th>\n",
       "      <td>3.591276</td>\n",
       "      <td>0.547821</td>\n",
       "    </tr>\n",
       "    <tr>\n",
       "      <th>4</th>\n",
       "      <td>-2.264528</td>\n",
       "      <td>-0.698898</td>\n",
       "    </tr>\n",
       "    <tr>\n",
       "      <th>...</th>\n",
       "      <td>...</td>\n",
       "      <td>...</td>\n",
       "    </tr>\n",
       "    <tr>\n",
       "      <th>317</th>\n",
       "      <td>-0.089503</td>\n",
       "      <td>-0.521050</td>\n",
       "    </tr>\n",
       "    <tr>\n",
       "      <th>318</th>\n",
       "      <td>3.339811</td>\n",
       "      <td>-0.732713</td>\n",
       "    </tr>\n",
       "    <tr>\n",
       "      <th>319</th>\n",
       "      <td>-0.951442</td>\n",
       "      <td>-0.910086</td>\n",
       "    </tr>\n",
       "    <tr>\n",
       "      <th>320</th>\n",
       "      <td>2.091473</td>\n",
       "      <td>-2.265826</td>\n",
       "    </tr>\n",
       "    <tr>\n",
       "      <th>321</th>\n",
       "      <td>1.905622</td>\n",
       "      <td>-0.311198</td>\n",
       "    </tr>\n",
       "  </tbody>\n",
       "</table>\n",
       "<p>322 rows × 2 columns</p>\n",
       "</div>"
      ],
      "text/plain": [
       "     Principal component 1  Principal component 2\n",
       "0                -3.240106              -0.253173\n",
       "1                 0.245488               1.302951\n",
       "2                 0.603883              -2.617002\n",
       "3                 3.591276               0.547821\n",
       "4                -2.264528              -0.698898\n",
       "..                     ...                    ...\n",
       "317              -0.089503              -0.521050\n",
       "318               3.339811              -0.732713\n",
       "319              -0.951442              -0.910086\n",
       "320               2.091473              -2.265826\n",
       "321               1.905622              -0.311198\n",
       "\n",
       "[322 rows x 2 columns]"
      ]
     },
     "execution_count": 198,
     "metadata": {},
     "output_type": "execute_result"
    }
   ],
   "source": [
    "principalDf"
   ]
  },
  {
   "cell_type": "code",
   "execution_count": 199,
   "id": "64e14cb4",
   "metadata": {},
   "outputs": [],
   "source": [
    "# Concatenating principals components with Salary bins.\n",
    "\n",
    "finalDf = pd.concat([principalDf, df[['sal_bins']]], axis = 1)"
   ]
  },
  {
   "cell_type": "code",
   "execution_count": 200,
   "id": "3e2f00a1",
   "metadata": {
    "scrolled": true
   },
   "outputs": [
    {
     "data": {
      "text/html": [
       "<div>\n",
       "<style scoped>\n",
       "    .dataframe tbody tr th:only-of-type {\n",
       "        vertical-align: middle;\n",
       "    }\n",
       "\n",
       "    .dataframe tbody tr th {\n",
       "        vertical-align: top;\n",
       "    }\n",
       "\n",
       "    .dataframe thead th {\n",
       "        text-align: right;\n",
       "    }\n",
       "</style>\n",
       "<table border=\"1\" class=\"dataframe\">\n",
       "  <thead>\n",
       "    <tr style=\"text-align: right;\">\n",
       "      <th></th>\n",
       "      <th>Principal component 1</th>\n",
       "      <th>Principal component 2</th>\n",
       "      <th>sal_bins</th>\n",
       "    </tr>\n",
       "  </thead>\n",
       "  <tbody>\n",
       "    <tr>\n",
       "      <th>0</th>\n",
       "      <td>-3.240106</td>\n",
       "      <td>-0.253173</td>\n",
       "      <td>(0, 500]</td>\n",
       "    </tr>\n",
       "    <tr>\n",
       "      <th>1</th>\n",
       "      <td>0.245488</td>\n",
       "      <td>1.302951</td>\n",
       "      <td>(0, 500]</td>\n",
       "    </tr>\n",
       "    <tr>\n",
       "      <th>2</th>\n",
       "      <td>0.603883</td>\n",
       "      <td>-2.617002</td>\n",
       "      <td>(0, 500]</td>\n",
       "    </tr>\n",
       "    <tr>\n",
       "      <th>3</th>\n",
       "      <td>3.591276</td>\n",
       "      <td>0.547821</td>\n",
       "      <td>(0, 500]</td>\n",
       "    </tr>\n",
       "    <tr>\n",
       "      <th>4</th>\n",
       "      <td>-2.264528</td>\n",
       "      <td>-0.698898</td>\n",
       "      <td>(0, 500]</td>\n",
       "    </tr>\n",
       "    <tr>\n",
       "      <th>...</th>\n",
       "      <td>...</td>\n",
       "      <td>...</td>\n",
       "      <td>...</td>\n",
       "    </tr>\n",
       "    <tr>\n",
       "      <th>317</th>\n",
       "      <td>-0.089503</td>\n",
       "      <td>-0.521050</td>\n",
       "      <td>(500, 1000]</td>\n",
       "    </tr>\n",
       "    <tr>\n",
       "      <th>318</th>\n",
       "      <td>3.339811</td>\n",
       "      <td>-0.732713</td>\n",
       "      <td>(500, 1000]</td>\n",
       "    </tr>\n",
       "    <tr>\n",
       "      <th>319</th>\n",
       "      <td>-0.951442</td>\n",
       "      <td>-0.910086</td>\n",
       "      <td>(0, 500]</td>\n",
       "    </tr>\n",
       "    <tr>\n",
       "      <th>320</th>\n",
       "      <td>2.091473</td>\n",
       "      <td>-2.265826</td>\n",
       "      <td>(500, 1000]</td>\n",
       "    </tr>\n",
       "    <tr>\n",
       "      <th>321</th>\n",
       "      <td>1.905622</td>\n",
       "      <td>-0.311198</td>\n",
       "      <td>(500, 1000]</td>\n",
       "    </tr>\n",
       "  </tbody>\n",
       "</table>\n",
       "<p>322 rows × 3 columns</p>\n",
       "</div>"
      ],
      "text/plain": [
       "     Principal component 1  Principal component 2     sal_bins\n",
       "0                -3.240106              -0.253173     (0, 500]\n",
       "1                 0.245488               1.302951     (0, 500]\n",
       "2                 0.603883              -2.617002     (0, 500]\n",
       "3                 3.591276               0.547821     (0, 500]\n",
       "4                -2.264528              -0.698898     (0, 500]\n",
       "..                     ...                    ...          ...\n",
       "317              -0.089503              -0.521050  (500, 1000]\n",
       "318               3.339811              -0.732713  (500, 1000]\n",
       "319              -0.951442              -0.910086     (0, 500]\n",
       "320               2.091473              -2.265826  (500, 1000]\n",
       "321               1.905622              -0.311198  (500, 1000]\n",
       "\n",
       "[322 rows x 3 columns]"
      ]
     },
     "execution_count": 200,
     "metadata": {},
     "output_type": "execute_result"
    }
   ],
   "source": [
    "finalDf"
   ]
  },
  {
   "cell_type": "code",
   "execution_count": 201,
   "id": "7ed90627",
   "metadata": {},
   "outputs": [
    {
     "data": {
      "text/plain": [
       "array([0.46037855, 0.26039849])"
      ]
     },
     "execution_count": 201,
     "metadata": {},
     "output_type": "execute_result"
    }
   ],
   "source": [
    "pca.explained_variance_ratio_"
   ]
  },
  {
   "cell_type": "code",
   "execution_count": 202,
   "id": "188f0993",
   "metadata": {
    "scrolled": true
   },
   "outputs": [
    {
     "name": "stdout",
     "output_type": "stream",
     "text": [
      "[7.38900406 4.17935522]\n"
     ]
    }
   ],
   "source": [
    "print(pca.explained_variance_)"
   ]
  },
  {
   "cell_type": "markdown",
   "id": "d613755d",
   "metadata": {},
   "source": [
    "Principal Component Analysis explains 72% of the variance"
   ]
  },
  {
   "cell_type": "code",
   "execution_count": 203,
   "id": "1f2c42c6",
   "metadata": {},
   "outputs": [
    {
     "data": {
      "text/plain": [
       "Text(0.5, 1.0, 'Cumulative distribution of principal components')"
      ]
     },
     "execution_count": 203,
     "metadata": {},
     "output_type": "execute_result"
    },
    {
     "data": {
      "image/png": "[encoded data removed]",
      "text/plain": [
       "<Figure size 432x288 with 1 Axes>"
      ]
     },
     "metadata": {
      "needs_background": "light"
     },
     "output_type": "display_data"
    }
   ],
   "source": [
    "# Plotting empirical cumulative distribution function of principal components.\n",
    "\n",
    "sns.ecdfplot(data=principalDf)\n",
    "plt.title(\"Cumulative distribution of principal components\", loc='center',fontsize = 12)"
   ]
  },
  {
   "cell_type": "code",
   "execution_count": 204,
   "id": "39b691a5",
   "metadata": {
    "scrolled": true
   },
   "outputs": [
    {
     "data": {
      "text/plain": [
       "<matplotlib.legend.Legend at 0x1cc69aa3100>"
      ]
     },
     "execution_count": 204,
     "metadata": {},
     "output_type": "execute_result"
    },
    {
     "data": {
      "image/png": "[encoded data removed]",
      "text/plain": [
       "<Figure size 432x288 with 1 Axes>"
      ]
     },
     "metadata": {
      "needs_background": "light"
     },
     "output_type": "display_data"
    }
   ],
   "source": [
    "# Plotting principal compoenents\n",
    "g=sns.scatterplot(data=finalDf, x=\"Principal component 1\", y=\"Principal component 2\", hue=\"sal_bins\")\n",
    "plt.title(\"Principal components by salary bins\", loc='center',fontsize = 12)\n",
    "g.legend(title='Salary bins, 000 dollars',loc='center left', bbox_to_anchor=(1, 0.5), ncol=1)"
   ]
  },
  {
   "cell_type": "markdown",
   "id": "7fe7fb4b",
   "metadata": {},
   "source": [
    "A PCA plot shows clusters of samples based on their similarity. PCA does not discard any samples or characteristics (variables). Instead, it reduces the overwhelming number of dimensions by constructing principal components (PCs).\n",
    "As expected, salaries equal or smaller then 500 thousand dollars are more frequent and there are few salaries from 2000 to 2500 thousand dollars."
   ]
  },
  {
   "cell_type": "code",
   "execution_count": 205,
   "id": "375f167c",
   "metadata": {
    "scrolled": false
   },
   "outputs": [
    {
     "data": {
      "text/plain": [
       "Text(0.5, 0.98, 'Principal components by salary bins with regression line')"
      ]
     },
     "execution_count": 205,
     "metadata": {},
     "output_type": "execute_result"
    },
    {
     "data": {
      "image/png": "[encoded data removed]",
      "text/plain": [
       "<Figure size 720x1080 with 5 Axes>"
      ]
     },
     "metadata": {
      "needs_background": "light"
     },
     "output_type": "display_data"
    }
   ],
   "source": [
    "h=sns.lmplot(data=finalDf, x=\"Principal component 1\", y=\"Principal component 2\", col=\"sal_bins\", hue=\"sal_bins\", col_wrap=2)\n",
    "h.fig.subplots_adjust(top=0.9)\n",
    "h.fig.suptitle('Principal components by salary bins with regression line',fontsize=16)"
   ]
  },
  {
   "cell_type": "markdown",
   "id": "907a2683",
   "metadata": {},
   "source": [
    "Visualising a linear relationship as determined through regression helps us to understand data. As seen before, thought there is a correlation with the variables with salary, it is not strong, suggesting there are others variables that influence salary, as, for example, popularity."
   ]
  },
  {
   "cell_type": "markdown",
   "id": "e2565d17",
   "metadata": {},
   "source": [
    "## Another method to choose main variables"
   ]
  },
  {
   "cell_type": "code",
   "execution_count": 185,
   "id": "36062868",
   "metadata": {},
   "outputs": [
    {
     "name": "stdout",
     "output_type": "stream",
     "text": [
      "(322, 3)\n"
     ]
    }
   ],
   "source": [
    "# pearson's correlation feature selection for numeric input and numeric output\n",
    "from sklearn.datasets import make_regression\n",
    "from sklearn.feature_selection import SelectKBest\n",
    "from sklearn.feature_selection import f_regression\n",
    "\n",
    "fs = SelectKBest(score_func=f_regression, k=3)\n",
    "# apply feature selection\n",
    "target = 'Outcome'\n",
    "X = df.loc[:, features]\n",
    "y2=df['Salary']\n",
    "X_selected = fs.fit_transform(x, y2)\n",
    "print(X_selected.shape)"
   ]
  },
  {
   "cell_type": "markdown",
   "id": "54bf0e21",
   "metadata": {},
   "source": [
    "We can reduce features to three, for example."
   ]
  },
  {
   "cell_type": "code",
   "execution_count": 206,
   "id": "e040726c",
   "metadata": {},
   "outputs": [
    {
     "name": "stdout",
     "output_type": "stream",
     "text": [
      "[5.18524307e+01 6.67072193e+01 3.95151439e+01 6.20065943e+01\n",
      " 7.20712942e+01 7.03606763e+01 4.30452097e+01 8.87186391e+01\n",
      " 1.01112197e+02 8.06842120e+01 1.08242224e+02 1.03595600e+02\n",
      " 7.47512310e+01 2.52888838e+01 6.04569858e-01 6.46810795e-02]\n",
      "[4.30093365e-12 7.36572813e-15 1.06521402e-09 5.36782174e-14\n",
      " 7.88170446e-16 1.60172485e-15 2.15188236e-10 9.37734123e-19\n",
      " 7.49892767e-21 2.33065252e-17 4.98253925e-22 2.90085199e-21\n",
      " 2.61229011e-16 8.23717475e-07 4.37414161e-01 7.99408027e-01]\n",
      "0.1394435706621805\n",
      "0.17250057920823458\n",
      "0.10991232096764436\n",
      "0.16231812543266744\n",
      "0.18382191007862148\n",
      "0.18024529764951647\n",
      "0.11856707810104927\n",
      "0.21706531239409277\n",
      "0.24010749999072767\n",
      "0.20136608719776117\n",
      "0.2527593442932837\n",
      "0.24456250269848057\n",
      "0.189362882618896\n",
      "0.07323978561701117\n",
      "0.001885718154268634\n",
      "0.00020208752579142786\n"
     ]
    }
   ],
   "source": [
    "from sklearn import feature_selection\n",
    "from sklearn.linear_model import LinearRegression\n",
    "\n",
    "\n",
    "model = feature_selection.SelectKBest(score_func=feature_selection.f_regression,\\\n",
    "                                      k=\"all\")\n",
    "columns = ['AtBat','Hits','HmRun','Runs','RBI','Walks','Years','CAtBat','CHits','CHmRun','CRuns','CRBI','CWalks','PutOuts','Assists','Errors',]\n",
    "results = model.fit(df[columns], df['Salary'])\n",
    "\n",
    "print (results.scores_)\n",
    "print (results.pvalues_)\n",
    "\n",
    "# Using just correlation coefficient:\n",
    "\n",
    "\n",
    "for col in columns:\n",
    "    lm = LinearRegression(fit_intercept=True)\n",
    "    lm.fit(df[[col]], df['Salary'])\n",
    "    print (lm.score(df[[col]], df['Salary']))"
   ]
  },
  {
   "cell_type": "markdown",
   "id": "380683df",
   "metadata": {},
   "source": [
    "As sen before, the highest correlation is with CRBI (Number of runs batted in during his career, CRuns (Number of runs during his career) or CHits (Number of hits during his career)"
   ]
  },
  {
   "cell_type": "markdown",
   "id": "038dae80",
   "metadata": {},
   "source": [
    "## Exercise 3"
   ]
  },
  {
   "cell_type": "markdown",
   "id": "1bd14923",
   "metadata": {},
   "source": [
    "Normalise data taking into account outliers."
   ]
  },
  {
   "cell_type": "code",
   "execution_count": 207,
   "id": "02de69f1",
   "metadata": {
    "scrolled": true
   },
   "outputs": [
    {
     "data": {
      "text/html": [
       "<div>\n",
       "<style scoped>\n",
       "    .dataframe tbody tr th:only-of-type {\n",
       "        vertical-align: middle;\n",
       "    }\n",
       "\n",
       "    .dataframe tbody tr th {\n",
       "        vertical-align: top;\n",
       "    }\n",
       "\n",
       "    .dataframe thead th {\n",
       "        text-align: right;\n",
       "    }\n",
       "</style>\n",
       "<table border=\"1\" class=\"dataframe\">\n",
       "  <thead>\n",
       "    <tr style=\"text-align: right;\">\n",
       "      <th></th>\n",
       "      <th>CRBI</th>\n",
       "      <th>CRuns</th>\n",
       "      <th>CHits</th>\n",
       "    </tr>\n",
       "  </thead>\n",
       "  <tbody>\n",
       "    <tr>\n",
       "      <th>0</th>\n",
       "      <td>29</td>\n",
       "      <td>30</td>\n",
       "      <td>66</td>\n",
       "    </tr>\n",
       "    <tr>\n",
       "      <th>1</th>\n",
       "      <td>414</td>\n",
       "      <td>321</td>\n",
       "      <td>835</td>\n",
       "    </tr>\n",
       "    <tr>\n",
       "      <th>2</th>\n",
       "      <td>266</td>\n",
       "      <td>224</td>\n",
       "      <td>457</td>\n",
       "    </tr>\n",
       "    <tr>\n",
       "      <th>3</th>\n",
       "      <td>838</td>\n",
       "      <td>828</td>\n",
       "      <td>1575</td>\n",
       "    </tr>\n",
       "    <tr>\n",
       "      <th>4</th>\n",
       "      <td>46</td>\n",
       "      <td>48</td>\n",
       "      <td>101</td>\n",
       "    </tr>\n",
       "    <tr>\n",
       "      <th>...</th>\n",
       "      <td>...</td>\n",
       "      <td>...</td>\n",
       "      <td>...</td>\n",
       "    </tr>\n",
       "    <tr>\n",
       "      <th>317</th>\n",
       "      <td>311</td>\n",
       "      <td>379</td>\n",
       "      <td>806</td>\n",
       "    </tr>\n",
       "    <tr>\n",
       "      <th>318</th>\n",
       "      <td>451</td>\n",
       "      <td>897</td>\n",
       "      <td>1511</td>\n",
       "    </tr>\n",
       "    <tr>\n",
       "      <th>319</th>\n",
       "      <td>93</td>\n",
       "      <td>217</td>\n",
       "      <td>433</td>\n",
       "    </tr>\n",
       "    <tr>\n",
       "      <th>320</th>\n",
       "      <td>420</td>\n",
       "      <td>470</td>\n",
       "      <td>857</td>\n",
       "    </tr>\n",
       "    <tr>\n",
       "      <th>321</th>\n",
       "      <td>357</td>\n",
       "      <td>775</td>\n",
       "      <td>1457</td>\n",
       "    </tr>\n",
       "  </tbody>\n",
       "</table>\n",
       "<p>322 rows × 3 columns</p>\n",
       "</div>"
      ],
      "text/plain": [
       "     CRBI  CRuns  CHits\n",
       "0      29     30     66\n",
       "1     414    321    835\n",
       "2     266    224    457\n",
       "3     838    828   1575\n",
       "4      46     48    101\n",
       "..    ...    ...    ...\n",
       "317   311    379    806\n",
       "318   451    897   1511\n",
       "319    93    217    433\n",
       "320   420    470    857\n",
       "321   357    775   1457\n",
       "\n",
       "[322 rows x 3 columns]"
      ]
     },
     "execution_count": 207,
     "metadata": {},
     "output_type": "execute_result"
    }
   ],
   "source": [
    "df2=df[['CRBI','CRuns','CHits']]\n",
    "df2"
   ]
  },
  {
   "cell_type": "markdown",
   "id": "79f9ec14",
   "metadata": {},
   "source": [
    "For this exercise will take the features with more correlation with salary."
   ]
  },
  {
   "cell_type": "code",
   "execution_count": 208,
   "id": "0c57a84d",
   "metadata": {
    "scrolled": true
   },
   "outputs": [
    {
     "data": {
      "image/png": "[encoded data removed]",
      "text/plain": [
       "<Figure size 1440x360 with 1 Axes>"
      ]
     },
     "metadata": {
      "needs_background": "light"
     },
     "output_type": "display_data"
    }
   ],
   "source": [
    "# Detecting outliers visualy.\n",
    "plt.figure(figsize=(20,5))\n",
    "sns.boxplot(data=df2, orient='h');\n",
    "plt.title('Raw data');"
   ]
  },
  {
   "cell_type": "code",
   "execution_count": 209,
   "id": "20c31982",
   "metadata": {},
   "outputs": [
    {
     "data": {
      "image/png": "[encoded data removed]",
      "text/plain": [
       "<Figure size 432x288 with 4 Axes>"
      ]
     },
     "metadata": {
      "needs_background": "light"
     },
     "output_type": "display_data"
    }
   ],
   "source": [
    "df2.hist()\n",
    "pyplot.show()"
   ]
  },
  {
   "cell_type": "markdown",
   "id": "6d8b5984",
   "metadata": {},
   "source": [
    "The dataset provides a good candidate for using a robust scaler transform to standardize the data in the presence of skewed distributions and outliers."
   ]
  },
  {
   "cell_type": "code",
   "execution_count": 212,
   "id": "d8fc6048",
   "metadata": {},
   "outputs": [
    {
     "name": "stdout",
     "output_type": "stream",
     "text": [
      "CRBI     337.50\n",
      "CRuns    426.00\n",
      "CHits    850.25\n",
      "dtype: float64\n"
     ]
    }
   ],
   "source": [
    "# Using quantiles to detect outliers.\n",
    "\n",
    "Q1 = df2.quantile(0.25)\n",
    "Q3 = df2.quantile(0.75)\n",
    "IQR = Q3 - Q1\n",
    "print(IQR)"
   ]
  },
  {
   "cell_type": "code",
   "execution_count": 211,
   "id": "80964693",
   "metadata": {
    "scrolled": true
   },
   "outputs": [
    {
     "name": "stdout",
     "output_type": "stream",
     "text": [
      "      CRBI  CRuns  CHits\n",
      "0    False  False  False\n",
      "1    False  False  False\n",
      "2    False  False  False\n",
      "3    False  False  False\n",
      "4    False  False  False\n",
      "..     ...    ...    ...\n",
      "317  False  False  False\n",
      "318  False  False  False\n",
      "319  False  False  False\n",
      "320  False  False  False\n",
      "321  False  False  False\n",
      "\n",
      "[322 rows x 3 columns]\n"
     ]
    },
    {
     "data": {
      "text/html": [
       "<div>\n",
       "<style scoped>\n",
       "    .dataframe tbody tr th:only-of-type {\n",
       "        vertical-align: middle;\n",
       "    }\n",
       "\n",
       "    .dataframe tbody tr th {\n",
       "        vertical-align: top;\n",
       "    }\n",
       "\n",
       "    .dataframe thead th {\n",
       "        text-align: right;\n",
       "    }\n",
       "</style>\n",
       "<table border=\"1\" class=\"dataframe\">\n",
       "  <thead>\n",
       "    <tr style=\"text-align: right;\">\n",
       "      <th></th>\n",
       "      <th>CRBI</th>\n",
       "      <th>CRuns</th>\n",
       "      <th>CHits</th>\n",
       "    </tr>\n",
       "  </thead>\n",
       "  <tbody>\n",
       "    <tr>\n",
       "      <th>0</th>\n",
       "      <td>False</td>\n",
       "      <td>False</td>\n",
       "      <td>False</td>\n",
       "    </tr>\n",
       "    <tr>\n",
       "      <th>1</th>\n",
       "      <td>False</td>\n",
       "      <td>False</td>\n",
       "      <td>False</td>\n",
       "    </tr>\n",
       "    <tr>\n",
       "      <th>2</th>\n",
       "      <td>False</td>\n",
       "      <td>False</td>\n",
       "      <td>False</td>\n",
       "    </tr>\n",
       "    <tr>\n",
       "      <th>3</th>\n",
       "      <td>False</td>\n",
       "      <td>False</td>\n",
       "      <td>False</td>\n",
       "    </tr>\n",
       "    <tr>\n",
       "      <th>4</th>\n",
       "      <td>False</td>\n",
       "      <td>False</td>\n",
       "      <td>False</td>\n",
       "    </tr>\n",
       "    <tr>\n",
       "      <th>...</th>\n",
       "      <td>...</td>\n",
       "      <td>...</td>\n",
       "      <td>...</td>\n",
       "    </tr>\n",
       "    <tr>\n",
       "      <th>317</th>\n",
       "      <td>False</td>\n",
       "      <td>False</td>\n",
       "      <td>False</td>\n",
       "    </tr>\n",
       "    <tr>\n",
       "      <th>318</th>\n",
       "      <td>False</td>\n",
       "      <td>False</td>\n",
       "      <td>False</td>\n",
       "    </tr>\n",
       "    <tr>\n",
       "      <th>319</th>\n",
       "      <td>False</td>\n",
       "      <td>False</td>\n",
       "      <td>False</td>\n",
       "    </tr>\n",
       "    <tr>\n",
       "      <th>320</th>\n",
       "      <td>False</td>\n",
       "      <td>False</td>\n",
       "      <td>False</td>\n",
       "    </tr>\n",
       "    <tr>\n",
       "      <th>321</th>\n",
       "      <td>False</td>\n",
       "      <td>False</td>\n",
       "      <td>False</td>\n",
       "    </tr>\n",
       "  </tbody>\n",
       "</table>\n",
       "<p>322 rows × 3 columns</p>\n",
       "</div>"
      ],
      "text/plain": [
       "      CRBI  CRuns  CHits\n",
       "0    False  False  False\n",
       "1    False  False  False\n",
       "2    False  False  False\n",
       "3    False  False  False\n",
       "4    False  False  False\n",
       "..     ...    ...    ...\n",
       "317  False  False  False\n",
       "318  False  False  False\n",
       "319  False  False  False\n",
       "320  False  False  False\n",
       "321  False  False  False\n",
       "\n",
       "[322 rows x 3 columns]"
      ]
     },
     "execution_count": 211,
     "metadata": {},
     "output_type": "execute_result"
    }
   ],
   "source": [
    "print(df2 < (Q1 - 1.5 * IQR)) or (df2 > (Q3 + 1.5 * IQR))"
   ]
  },
  {
   "cell_type": "code",
   "execution_count": 192,
   "id": "592a69cf",
   "metadata": {},
   "outputs": [
    {
     "data": {
      "text/plain": [
       "(296, 3)"
      ]
     },
     "execution_count": 192,
     "metadata": {},
     "output_type": "execute_result"
    }
   ],
   "source": [
    "df2_out = df2[~((df2 < (Q1 - 1.5 * IQR)) | (df2 > (Q3 + 1.5 * IQR))).any(axis=1)]\n",
    "df2_out.shape"
   ]
  },
  {
   "cell_type": "markdown",
   "id": "d1fb94ea",
   "metadata": {},
   "source": [
    "We have reduce the database from 322 to 296 rows. But, since outliers are not an error and are part of the distribution, we are missing information. So we discard droping rows and we will use instead RobustScaler and PowerTransforme, for example, to deal with outliers."
   ]
  },
  {
   "cell_type": "code",
   "execution_count": 216,
   "id": "cfcd4ef6",
   "metadata": {
    "scrolled": true
   },
   "outputs": [
    {
     "name": "stdout",
     "output_type": "stream",
     "text": [
      "                0           1           2\n",
      "count  322.000000  322.000000  322.000000\n",
      "mean     0.324794    0.262430    0.246482\n",
      "std      0.987317    0.784286    0.769741\n",
      "min     -0.653333   -0.577465   -0.592767\n",
      "25%     -0.390370   -0.344484   -0.351661\n",
      "50%      0.000000    0.000000    0.000000\n",
      "75%      0.609630    0.655516    0.648339\n",
      "max      4.262222    4.502347    4.408115\n"
     ]
    },
    {
     "data": {
      "image/png": "[encoded data removed]",
      "text/plain": [
       "<Figure size 432x288 with 4 Axes>"
      ]
     },
     "metadata": {
      "needs_background": "light"
     },
     "output_type": "display_data"
    }
   ],
   "source": [
    "# Applying RobustScale\n",
    "\n",
    "from pandas.plotting import scatter_matrix\n",
    "from sklearn.preprocessing import RobustScaler\n",
    "\n",
    "# Perform a robust scaler transform of the dataset\n",
    "trans = RobustScaler()\n",
    "data = trans.fit_transform(df2)\n",
    "# convert the array back to a dataframe\n",
    "df3 = DataFrame(data)\n",
    "# summarize\n",
    "print(df3.describe())\n",
    "# histograms of the variables\n",
    "df3.hist()\n",
    "pyplot.show()"
   ]
  },
  {
   "cell_type": "markdown",
   "id": "decc2c3d",
   "metadata": {},
   "source": [
    "Scale features using statistics that are robust to outliers.This Scaler removes the median and scales the data according to the quantile range (defaults to IQR: Interquartile Range). The IQR is the range between the 1st quartile (25th quantile) and the 3rd quartile (75th quantile)."
   ]
  },
  {
   "cell_type": "code",
   "execution_count": 217,
   "id": "e8f55756",
   "metadata": {
    "scrolled": false
   },
   "outputs": [
    {
     "data": {
      "image/png": "[encoded data removed]",
      "text/plain": [
       "<Figure size 1440x360 with 1 Axes>"
      ]
     },
     "metadata": {
      "needs_background": "light"
     },
     "output_type": "display_data"
    }
   ],
   "source": [
    "# Detecting outliers visualy after RobustScaler\n",
    "plt.figure(figsize=(20,5))\n",
    "sns.boxplot(data=df3, orient='h');\n",
    "plt.title('RobustScaler');"
   ]
  },
  {
   "cell_type": "code",
   "execution_count": 228,
   "id": "7cb9b486",
   "metadata": {},
   "outputs": [
    {
     "name": "stdout",
     "output_type": "stream",
     "text": [
      "[0.20988541 0.2524171  0.2614106 ]\n",
      "               CRBI         CRuns     CHitsName\n",
      "count  3.220000e+02  3.220000e+02  3.220000e+02\n",
      "mean   2.437664e-16 -6.344132e-17  4.213331e-16\n",
      "std    1.001556e+00  1.001556e+00  1.001556e+00\n",
      "min   -2.819631e+00 -2.583933e+00 -2.518751e+00\n",
      "25%   -6.988460e-01 -7.466277e-01 -7.367958e-01\n",
      "50%    2.603096e-02 -5.053755e-03  7.345649e-03\n",
      "75%    6.464649e-01  7.633530e-01  7.689663e-01\n",
      "max    2.234058e+00  2.662979e+00  2.680901e+00\n"
     ]
    },
    {
     "data": {
      "image/png": "[encoded data removed]",
      "text/plain": [
       "<Figure size 432x288 with 4 Axes>"
      ]
     },
     "metadata": {
      "needs_background": "light"
     },
     "output_type": "display_data"
    }
   ],
   "source": [
    "# Applying PowerTransformer\n",
    "from sklearn.preprocessing import PowerTransformer\n",
    "pt = PowerTransformer()\n",
    "pt.fit(df2)\n",
    "PowerTransformer()\n",
    "print(pt.lambdas_)\n",
    "\n",
    "df4= pt.transform(df2)\n",
    "df5= DataFrame(df4)\n",
    "df5.columns =['CRBI','CRuns','CHitsName']\n",
    "print(df5.describe())\n",
    "# histograms of the variables\n",
    "df5.hist()\n",
    "pyplot.show()\n",
    "\n"
   ]
  },
  {
   "cell_type": "markdown",
   "id": "50ae0515",
   "metadata": {},
   "source": [
    "Apply a power transform featurewise to make data more Gaussian-like.Power transforms are a family of parametric, monotonic transformations that are applied to make data more Gaussian-like. This is useful for modeling issues related to heteroscedasticity (non-constant variance), or other situations where normality is desired."
   ]
  },
  {
   "cell_type": "code",
   "execution_count": 227,
   "id": "0ccf0c3d",
   "metadata": {
    "scrolled": true
   },
   "outputs": [
    {
     "data": {
      "image/png": "[encoded data removed]",
      "text/plain": [
       "<Figure size 1440x360 with 1 Axes>"
      ]
     },
     "metadata": {
      "needs_background": "light"
     },
     "output_type": "display_data"
    }
   ],
   "source": [
    "# Detecting outliers visualy after PowerTransformer\n",
    "plt.figure(figsize=(20,5))\n",
    "sns.boxplot(data=df5, orient='h');\n",
    "plt.title('PowerTransformer');"
   ]
  },
  {
   "cell_type": "markdown",
   "id": "57d05528",
   "metadata": {},
   "source": [
    "## Conclusion"
   ]
  },
  {
   "cell_type": "markdown",
   "id": "6d61c70c",
   "metadata": {},
   "source": [
    "The rusults applying Robust Scaler are quite satifactory because the distribution is more symmetrical with less variability, thus more apt to machine learning techniques. But Power Transformation is the best technique of normalisation since has removed all the outliers, except one, and has transformed the distribution of the features more Gaussian-like, thus more apt to apply machine learning."
   ]
  }
 ],
 "metadata": {
  "kernelspec": {
   "display_name": "Python 3 (ipykernel)",
   "language": "python",
   "name": "python3"
  },
  "language_info": {
   "codemirror_mode": {
    "name": "ipython",
    "version": 3
   },
   "file_extension": ".py",
   "mimetype": "text/x-python",
   "name": "python",
   "nbconvert_exporter": "python",
   "pygments_lexer": "ipython3",
   "version": "3.8.12"
  },
  "latex_envs": {
   "LaTeX_envs_menu_present": true,
   "autoclose": false,
   "autocomplete": true,
   "bibliofile": "biblio.bib",
   "cite_by": "apalike",
   "current_citInitial": 1,
   "eqLabelWithNumbers": true,
   "eqNumInitial": 1,
   "hotkeys": {
    "equation": "Ctrl-E",
    "itemize": "Ctrl-I"
   },
   "labels_anchors": false,
   "latex_user_defs": false,
   "report_style_numbering": false,
   "user_envs_cfg": false
  }
 },
 "nbformat": 4,
 "nbformat_minor": 5
}
