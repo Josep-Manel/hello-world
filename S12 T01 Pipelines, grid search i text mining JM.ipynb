{
 "cells": [
  {
   "cell_type": "markdown",
   "id": "25267864",
   "metadata": {},
   "source": [
    "# S12 T01 Pipelines, grid search i text mining"
   ]
  },
  {
   "cell_type": "code",
   "execution_count": 21,
   "id": "d89bc03d",
   "metadata": {},
   "outputs": [],
   "source": [
    "# importing required libraries\n",
    "\n",
    "import pandas as pd\n",
    "from sklearn.preprocessing import StandardScaler\n",
    "from sklearn.ensemble import RandomForestClassifier\n",
    "from sklearn.pipeline import Pipeline\n",
    "from sklearn.pipeline import make_pipeline\n",
    "from sklearn.model_selection import train_test_split\n",
    "from sklearn.model_selection import GridSearchCV\n",
    "from sklearn.preprocessing import LabelEncoder\n",
    "from sklearn.metrics import accuracy_score, f1_score, precision_score, recall_score, hamming_loss, classification_report,  zero_one_loss, log_loss, matthews_corrcoef, roc_auc_score, confusion_matrix, roc_curve\n",
    "import numpy as np\n",
    "import matplotlib.pyplot as plt\n",
    "import seaborn as sns"
   ]
  },
  {
   "cell_type": "markdown",
   "id": "c641a3a5",
   "metadata": {},
   "source": [
    "# Level 1"
   ]
  },
  {
   "cell_type": "markdown",
   "id": "4b2e6e28",
   "metadata": {},
   "source": [
    "## Exercise 1"
   ]
  },
  {
   "cell_type": "markdown",
   "id": "5a346d40",
   "metadata": {},
   "source": [
    "Choose a dataset to pipeline and gridsearch using the Random Forest algorithm."
   ]
  },
  {
   "cell_type": "code",
   "execution_count": 22,
   "id": "8a61af0b",
   "metadata": {},
   "outputs": [],
   "source": [
    "# Wine dataset\n",
    "\n",
    "df = pd.read_csv('wine_quality.txt',sep=';')"
   ]
  },
  {
   "cell_type": "code",
   "execution_count": 23,
   "id": "fccae4ec",
   "metadata": {},
   "outputs": [
    {
     "data": {
      "text/html": [
       "<div>\n",
       "<style scoped>\n",
       "    .dataframe tbody tr th:only-of-type {\n",
       "        vertical-align: middle;\n",
       "    }\n",
       "\n",
       "    .dataframe tbody tr th {\n",
       "        vertical-align: top;\n",
       "    }\n",
       "\n",
       "    .dataframe thead th {\n",
       "        text-align: right;\n",
       "    }\n",
       "</style>\n",
       "<table border=\"1\" class=\"dataframe\">\n",
       "  <thead>\n",
       "    <tr style=\"text-align: right;\">\n",
       "      <th></th>\n",
       "      <th>fixed acidity</th>\n",
       "      <th>volatile acidity</th>\n",
       "      <th>citric acid</th>\n",
       "      <th>residual sugar</th>\n",
       "      <th>chlorides</th>\n",
       "      <th>free sulfur dioxide</th>\n",
       "      <th>total sulfur dioxide</th>\n",
       "      <th>density</th>\n",
       "      <th>pH</th>\n",
       "      <th>sulphates</th>\n",
       "      <th>alcohol</th>\n",
       "      <th>quality</th>\n",
       "    </tr>\n",
       "  </thead>\n",
       "  <tbody>\n",
       "    <tr>\n",
       "      <th>0</th>\n",
       "      <td>7.4</td>\n",
       "      <td>0.700</td>\n",
       "      <td>0.00</td>\n",
       "      <td>1.9</td>\n",
       "      <td>0.076</td>\n",
       "      <td>11.0</td>\n",
       "      <td>34.0</td>\n",
       "      <td>0.99780</td>\n",
       "      <td>3.51</td>\n",
       "      <td>0.56</td>\n",
       "      <td>9.4</td>\n",
       "      <td>5</td>\n",
       "    </tr>\n",
       "    <tr>\n",
       "      <th>1</th>\n",
       "      <td>7.8</td>\n",
       "      <td>0.880</td>\n",
       "      <td>0.00</td>\n",
       "      <td>2.6</td>\n",
       "      <td>0.098</td>\n",
       "      <td>25.0</td>\n",
       "      <td>67.0</td>\n",
       "      <td>0.99680</td>\n",
       "      <td>3.20</td>\n",
       "      <td>0.68</td>\n",
       "      <td>9.8</td>\n",
       "      <td>5</td>\n",
       "    </tr>\n",
       "    <tr>\n",
       "      <th>2</th>\n",
       "      <td>7.8</td>\n",
       "      <td>0.760</td>\n",
       "      <td>0.04</td>\n",
       "      <td>2.3</td>\n",
       "      <td>0.092</td>\n",
       "      <td>15.0</td>\n",
       "      <td>54.0</td>\n",
       "      <td>0.99700</td>\n",
       "      <td>3.26</td>\n",
       "      <td>0.65</td>\n",
       "      <td>9.8</td>\n",
       "      <td>5</td>\n",
       "    </tr>\n",
       "    <tr>\n",
       "      <th>3</th>\n",
       "      <td>11.2</td>\n",
       "      <td>0.280</td>\n",
       "      <td>0.56</td>\n",
       "      <td>1.9</td>\n",
       "      <td>0.075</td>\n",
       "      <td>17.0</td>\n",
       "      <td>60.0</td>\n",
       "      <td>0.99800</td>\n",
       "      <td>3.16</td>\n",
       "      <td>0.58</td>\n",
       "      <td>9.8</td>\n",
       "      <td>6</td>\n",
       "    </tr>\n",
       "    <tr>\n",
       "      <th>4</th>\n",
       "      <td>7.4</td>\n",
       "      <td>0.700</td>\n",
       "      <td>0.00</td>\n",
       "      <td>1.9</td>\n",
       "      <td>0.076</td>\n",
       "      <td>11.0</td>\n",
       "      <td>34.0</td>\n",
       "      <td>0.99780</td>\n",
       "      <td>3.51</td>\n",
       "      <td>0.56</td>\n",
       "      <td>9.4</td>\n",
       "      <td>5</td>\n",
       "    </tr>\n",
       "    <tr>\n",
       "      <th>...</th>\n",
       "      <td>...</td>\n",
       "      <td>...</td>\n",
       "      <td>...</td>\n",
       "      <td>...</td>\n",
       "      <td>...</td>\n",
       "      <td>...</td>\n",
       "      <td>...</td>\n",
       "      <td>...</td>\n",
       "      <td>...</td>\n",
       "      <td>...</td>\n",
       "      <td>...</td>\n",
       "      <td>...</td>\n",
       "    </tr>\n",
       "    <tr>\n",
       "      <th>1594</th>\n",
       "      <td>6.2</td>\n",
       "      <td>0.600</td>\n",
       "      <td>0.08</td>\n",
       "      <td>2.0</td>\n",
       "      <td>0.090</td>\n",
       "      <td>32.0</td>\n",
       "      <td>44.0</td>\n",
       "      <td>0.99490</td>\n",
       "      <td>3.45</td>\n",
       "      <td>0.58</td>\n",
       "      <td>10.5</td>\n",
       "      <td>5</td>\n",
       "    </tr>\n",
       "    <tr>\n",
       "      <th>1595</th>\n",
       "      <td>5.9</td>\n",
       "      <td>0.550</td>\n",
       "      <td>0.10</td>\n",
       "      <td>2.2</td>\n",
       "      <td>0.062</td>\n",
       "      <td>39.0</td>\n",
       "      <td>51.0</td>\n",
       "      <td>0.99512</td>\n",
       "      <td>3.52</td>\n",
       "      <td>0.76</td>\n",
       "      <td>11.2</td>\n",
       "      <td>6</td>\n",
       "    </tr>\n",
       "    <tr>\n",
       "      <th>1596</th>\n",
       "      <td>6.3</td>\n",
       "      <td>0.510</td>\n",
       "      <td>0.13</td>\n",
       "      <td>2.3</td>\n",
       "      <td>0.076</td>\n",
       "      <td>29.0</td>\n",
       "      <td>40.0</td>\n",
       "      <td>0.99574</td>\n",
       "      <td>3.42</td>\n",
       "      <td>0.75</td>\n",
       "      <td>11.0</td>\n",
       "      <td>6</td>\n",
       "    </tr>\n",
       "    <tr>\n",
       "      <th>1597</th>\n",
       "      <td>5.9</td>\n",
       "      <td>0.645</td>\n",
       "      <td>0.12</td>\n",
       "      <td>2.0</td>\n",
       "      <td>0.075</td>\n",
       "      <td>32.0</td>\n",
       "      <td>44.0</td>\n",
       "      <td>0.99547</td>\n",
       "      <td>3.57</td>\n",
       "      <td>0.71</td>\n",
       "      <td>10.2</td>\n",
       "      <td>5</td>\n",
       "    </tr>\n",
       "    <tr>\n",
       "      <th>1598</th>\n",
       "      <td>6.0</td>\n",
       "      <td>0.310</td>\n",
       "      <td>0.47</td>\n",
       "      <td>3.6</td>\n",
       "      <td>0.067</td>\n",
       "      <td>18.0</td>\n",
       "      <td>42.0</td>\n",
       "      <td>0.99549</td>\n",
       "      <td>3.39</td>\n",
       "      <td>0.66</td>\n",
       "      <td>11.0</td>\n",
       "      <td>6</td>\n",
       "    </tr>\n",
       "  </tbody>\n",
       "</table>\n",
       "<p>1599 rows × 12 columns</p>\n",
       "</div>"
      ],
      "text/plain": [
       "      fixed acidity  volatile acidity  citric acid  residual sugar  chlorides  \\\n",
       "0               7.4             0.700         0.00             1.9      0.076   \n",
       "1               7.8             0.880         0.00             2.6      0.098   \n",
       "2               7.8             0.760         0.04             2.3      0.092   \n",
       "3              11.2             0.280         0.56             1.9      0.075   \n",
       "4               7.4             0.700         0.00             1.9      0.076   \n",
       "...             ...               ...          ...             ...        ...   \n",
       "1594            6.2             0.600         0.08             2.0      0.090   \n",
       "1595            5.9             0.550         0.10             2.2      0.062   \n",
       "1596            6.3             0.510         0.13             2.3      0.076   \n",
       "1597            5.9             0.645         0.12             2.0      0.075   \n",
       "1598            6.0             0.310         0.47             3.6      0.067   \n",
       "\n",
       "      free sulfur dioxide  total sulfur dioxide  density    pH  sulphates  \\\n",
       "0                    11.0                  34.0  0.99780  3.51       0.56   \n",
       "1                    25.0                  67.0  0.99680  3.20       0.68   \n",
       "2                    15.0                  54.0  0.99700  3.26       0.65   \n",
       "3                    17.0                  60.0  0.99800  3.16       0.58   \n",
       "4                    11.0                  34.0  0.99780  3.51       0.56   \n",
       "...                   ...                   ...      ...   ...        ...   \n",
       "1594                 32.0                  44.0  0.99490  3.45       0.58   \n",
       "1595                 39.0                  51.0  0.99512  3.52       0.76   \n",
       "1596                 29.0                  40.0  0.99574  3.42       0.75   \n",
       "1597                 32.0                  44.0  0.99547  3.57       0.71   \n",
       "1598                 18.0                  42.0  0.99549  3.39       0.66   \n",
       "\n",
       "      alcohol  quality  \n",
       "0         9.4        5  \n",
       "1         9.8        5  \n",
       "2         9.8        5  \n",
       "3         9.8        6  \n",
       "4         9.4        5  \n",
       "...       ...      ...  \n",
       "1594     10.5        5  \n",
       "1595     11.2        6  \n",
       "1596     11.0        6  \n",
       "1597     10.2        5  \n",
       "1598     11.0        6  \n",
       "\n",
       "[1599 rows x 12 columns]"
      ]
     },
     "execution_count": 23,
     "metadata": {},
     "output_type": "execute_result"
    }
   ],
   "source": [
    "df"
   ]
  },
  {
   "cell_type": "code",
   "execution_count": 24,
   "id": "07d79116",
   "metadata": {
    "scrolled": true
   },
   "outputs": [
    {
     "name": "stdout",
     "output_type": "stream",
     "text": [
      "<class 'pandas.core.frame.DataFrame'>\n",
      "RangeIndex: 1599 entries, 0 to 1598\n",
      "Data columns (total 12 columns):\n",
      " #   Column                Non-Null Count  Dtype  \n",
      "---  ------                --------------  -----  \n",
      " 0   fixed acidity         1599 non-null   float64\n",
      " 1   volatile acidity      1599 non-null   float64\n",
      " 2   citric acid           1599 non-null   float64\n",
      " 3   residual sugar        1599 non-null   float64\n",
      " 4   chlorides             1599 non-null   float64\n",
      " 5   free sulfur dioxide   1599 non-null   float64\n",
      " 6   total sulfur dioxide  1599 non-null   float64\n",
      " 7   density               1599 non-null   float64\n",
      " 8   pH                    1599 non-null   float64\n",
      " 9   sulphates             1599 non-null   float64\n",
      " 10  alcohol               1599 non-null   float64\n",
      " 11  quality               1599 non-null   int64  \n",
      "dtypes: float64(11), int64(1)\n",
      "memory usage: 150.0 KB\n"
     ]
    }
   ],
   "source": [
    "df.info()"
   ]
  },
  {
   "cell_type": "markdown",
   "id": "49a9ddce",
   "metadata": {},
   "source": [
    "There are not Nan."
   ]
  },
  {
   "cell_type": "code",
   "execution_count": 25,
   "id": "0752244f",
   "metadata": {},
   "outputs": [
    {
     "data": {
      "text/plain": [
       "5    681\n",
       "6    638\n",
       "7    199\n",
       "4     53\n",
       "8     18\n",
       "3     10\n",
       "Name: quality, dtype: int64"
      ]
     },
     "execution_count": 25,
     "metadata": {},
     "output_type": "execute_result"
    }
   ],
   "source": [
    "df['quality'].value_counts()"
   ]
  },
  {
   "cell_type": "markdown",
   "id": "f445609c",
   "metadata": {},
   "source": [
    "The dependant variable is unbalanced."
   ]
  },
  {
   "cell_type": "code",
   "execution_count": 26,
   "id": "f48bbf71",
   "metadata": {
    "scrolled": true
   },
   "outputs": [
    {
     "data": {
      "text/plain": [
       "Text(0.5, 1.0, 'Quality of wines')"
      ]
     },
     "execution_count": 26,
     "metadata": {},
     "output_type": "execute_result"
    },
    {
     "data": {
      "image/png": "[encoded data removed]",
      "text/plain": [
       "<Figure size 432x288 with 1 Axes>"
      ]
     },
     "metadata": {
      "needs_background": "light"
     },
     "output_type": "display_data"
    }
   ],
   "source": [
    "# Histogram of dependent variable\n",
    "\n",
    "sns.histplot(data=df, x=\"quality\")\n",
    "plt.title(\"Quality of wines\")"
   ]
  },
  {
   "cell_type": "code",
   "execution_count": 27,
   "id": "985004e8",
   "metadata": {},
   "outputs": [
    {
     "data": {
      "text/plain": [
       "['bad', 'good']\n",
       "Categories (2, object): ['bad' < 'good']"
      ]
     },
     "execution_count": 27,
     "metadata": {},
     "output_type": "execute_result"
    }
   ],
   "source": [
    "# Binarising dataset to help the classification model: from 2 to 6.5, bad wine, and from 6.5 to 8, good.\n",
    "\n",
    "bins = (2, 6.5, 8)       \n",
    "group_names = ['bad', 'good']\n",
    "df['quality'] = pd.cut(df['quality'], bins = bins, labels = group_names) \n",
    "df['quality'].unique()"
   ]
  },
  {
   "cell_type": "code",
   "execution_count": 28,
   "id": "ede6c3bb",
   "metadata": {
    "scrolled": true
   },
   "outputs": [
    {
     "data": {
      "text/plain": [
       "Text(0.5, 1.0, 'Quality of wines')"
      ]
     },
     "execution_count": 28,
     "metadata": {},
     "output_type": "execute_result"
    },
    {
     "data": {
      "image/png": "[encoded data removed]",
      "text/plain": [
       "<Figure size 432x288 with 1 Axes>"
      ]
     },
     "metadata": {
      "needs_background": "light"
     },
     "output_type": "display_data"
    }
   ],
   "source": [
    "# Histogram after transformation\n",
    "\n",
    "sns.histplot(data=df, x=\"quality\")\n",
    "plt.title(\"Quality of wines\")"
   ]
  },
  {
   "cell_type": "code",
   "execution_count": 29,
   "id": "2148b44d",
   "metadata": {},
   "outputs": [],
   "source": [
    "# Encoding quality: bad, 0, good, 1.\n",
    "\n",
    "label_quality = LabelEncoder()\n",
    "df['quality'] = label_quality.fit_transform(df['quality'])"
   ]
  },
  {
   "cell_type": "code",
   "execution_count": 30,
   "id": "65d9f901",
   "metadata": {},
   "outputs": [
    {
     "data": {
      "text/html": [
       "<div>\n",
       "<style scoped>\n",
       "    .dataframe tbody tr th:only-of-type {\n",
       "        vertical-align: middle;\n",
       "    }\n",
       "\n",
       "    .dataframe tbody tr th {\n",
       "        vertical-align: top;\n",
       "    }\n",
       "\n",
       "    .dataframe thead th {\n",
       "        text-align: right;\n",
       "    }\n",
       "</style>\n",
       "<table border=\"1\" class=\"dataframe\">\n",
       "  <thead>\n",
       "    <tr style=\"text-align: right;\">\n",
       "      <th></th>\n",
       "      <th>fixed acidity</th>\n",
       "      <th>volatile acidity</th>\n",
       "      <th>citric acid</th>\n",
       "      <th>residual sugar</th>\n",
       "      <th>chlorides</th>\n",
       "      <th>free sulfur dioxide</th>\n",
       "      <th>total sulfur dioxide</th>\n",
       "      <th>density</th>\n",
       "      <th>pH</th>\n",
       "      <th>sulphates</th>\n",
       "      <th>alcohol</th>\n",
       "      <th>quality</th>\n",
       "    </tr>\n",
       "  </thead>\n",
       "  <tbody>\n",
       "    <tr>\n",
       "      <th>0</th>\n",
       "      <td>7.4</td>\n",
       "      <td>0.700</td>\n",
       "      <td>0.00</td>\n",
       "      <td>1.9</td>\n",
       "      <td>0.076</td>\n",
       "      <td>11.0</td>\n",
       "      <td>34.0</td>\n",
       "      <td>0.99780</td>\n",
       "      <td>3.51</td>\n",
       "      <td>0.56</td>\n",
       "      <td>9.4</td>\n",
       "      <td>0</td>\n",
       "    </tr>\n",
       "    <tr>\n",
       "      <th>1</th>\n",
       "      <td>7.8</td>\n",
       "      <td>0.880</td>\n",
       "      <td>0.00</td>\n",
       "      <td>2.6</td>\n",
       "      <td>0.098</td>\n",
       "      <td>25.0</td>\n",
       "      <td>67.0</td>\n",
       "      <td>0.99680</td>\n",
       "      <td>3.20</td>\n",
       "      <td>0.68</td>\n",
       "      <td>9.8</td>\n",
       "      <td>0</td>\n",
       "    </tr>\n",
       "    <tr>\n",
       "      <th>2</th>\n",
       "      <td>7.8</td>\n",
       "      <td>0.760</td>\n",
       "      <td>0.04</td>\n",
       "      <td>2.3</td>\n",
       "      <td>0.092</td>\n",
       "      <td>15.0</td>\n",
       "      <td>54.0</td>\n",
       "      <td>0.99700</td>\n",
       "      <td>3.26</td>\n",
       "      <td>0.65</td>\n",
       "      <td>9.8</td>\n",
       "      <td>0</td>\n",
       "    </tr>\n",
       "    <tr>\n",
       "      <th>3</th>\n",
       "      <td>11.2</td>\n",
       "      <td>0.280</td>\n",
       "      <td>0.56</td>\n",
       "      <td>1.9</td>\n",
       "      <td>0.075</td>\n",
       "      <td>17.0</td>\n",
       "      <td>60.0</td>\n",
       "      <td>0.99800</td>\n",
       "      <td>3.16</td>\n",
       "      <td>0.58</td>\n",
       "      <td>9.8</td>\n",
       "      <td>0</td>\n",
       "    </tr>\n",
       "    <tr>\n",
       "      <th>4</th>\n",
       "      <td>7.4</td>\n",
       "      <td>0.700</td>\n",
       "      <td>0.00</td>\n",
       "      <td>1.9</td>\n",
       "      <td>0.076</td>\n",
       "      <td>11.0</td>\n",
       "      <td>34.0</td>\n",
       "      <td>0.99780</td>\n",
       "      <td>3.51</td>\n",
       "      <td>0.56</td>\n",
       "      <td>9.4</td>\n",
       "      <td>0</td>\n",
       "    </tr>\n",
       "    <tr>\n",
       "      <th>...</th>\n",
       "      <td>...</td>\n",
       "      <td>...</td>\n",
       "      <td>...</td>\n",
       "      <td>...</td>\n",
       "      <td>...</td>\n",
       "      <td>...</td>\n",
       "      <td>...</td>\n",
       "      <td>...</td>\n",
       "      <td>...</td>\n",
       "      <td>...</td>\n",
       "      <td>...</td>\n",
       "      <td>...</td>\n",
       "    </tr>\n",
       "    <tr>\n",
       "      <th>1594</th>\n",
       "      <td>6.2</td>\n",
       "      <td>0.600</td>\n",
       "      <td>0.08</td>\n",
       "      <td>2.0</td>\n",
       "      <td>0.090</td>\n",
       "      <td>32.0</td>\n",
       "      <td>44.0</td>\n",
       "      <td>0.99490</td>\n",
       "      <td>3.45</td>\n",
       "      <td>0.58</td>\n",
       "      <td>10.5</td>\n",
       "      <td>0</td>\n",
       "    </tr>\n",
       "    <tr>\n",
       "      <th>1595</th>\n",
       "      <td>5.9</td>\n",
       "      <td>0.550</td>\n",
       "      <td>0.10</td>\n",
       "      <td>2.2</td>\n",
       "      <td>0.062</td>\n",
       "      <td>39.0</td>\n",
       "      <td>51.0</td>\n",
       "      <td>0.99512</td>\n",
       "      <td>3.52</td>\n",
       "      <td>0.76</td>\n",
       "      <td>11.2</td>\n",
       "      <td>0</td>\n",
       "    </tr>\n",
       "    <tr>\n",
       "      <th>1596</th>\n",
       "      <td>6.3</td>\n",
       "      <td>0.510</td>\n",
       "      <td>0.13</td>\n",
       "      <td>2.3</td>\n",
       "      <td>0.076</td>\n",
       "      <td>29.0</td>\n",
       "      <td>40.0</td>\n",
       "      <td>0.99574</td>\n",
       "      <td>3.42</td>\n",
       "      <td>0.75</td>\n",
       "      <td>11.0</td>\n",
       "      <td>0</td>\n",
       "    </tr>\n",
       "    <tr>\n",
       "      <th>1597</th>\n",
       "      <td>5.9</td>\n",
       "      <td>0.645</td>\n",
       "      <td>0.12</td>\n",
       "      <td>2.0</td>\n",
       "      <td>0.075</td>\n",
       "      <td>32.0</td>\n",
       "      <td>44.0</td>\n",
       "      <td>0.99547</td>\n",
       "      <td>3.57</td>\n",
       "      <td>0.71</td>\n",
       "      <td>10.2</td>\n",
       "      <td>0</td>\n",
       "    </tr>\n",
       "    <tr>\n",
       "      <th>1598</th>\n",
       "      <td>6.0</td>\n",
       "      <td>0.310</td>\n",
       "      <td>0.47</td>\n",
       "      <td>3.6</td>\n",
       "      <td>0.067</td>\n",
       "      <td>18.0</td>\n",
       "      <td>42.0</td>\n",
       "      <td>0.99549</td>\n",
       "      <td>3.39</td>\n",
       "      <td>0.66</td>\n",
       "      <td>11.0</td>\n",
       "      <td>0</td>\n",
       "    </tr>\n",
       "  </tbody>\n",
       "</table>\n",
       "<p>1599 rows × 12 columns</p>\n",
       "</div>"
      ],
      "text/plain": [
       "      fixed acidity  volatile acidity  citric acid  residual sugar  chlorides  \\\n",
       "0               7.4             0.700         0.00             1.9      0.076   \n",
       "1               7.8             0.880         0.00             2.6      0.098   \n",
       "2               7.8             0.760         0.04             2.3      0.092   \n",
       "3              11.2             0.280         0.56             1.9      0.075   \n",
       "4               7.4             0.700         0.00             1.9      0.076   \n",
       "...             ...               ...          ...             ...        ...   \n",
       "1594            6.2             0.600         0.08             2.0      0.090   \n",
       "1595            5.9             0.550         0.10             2.2      0.062   \n",
       "1596            6.3             0.510         0.13             2.3      0.076   \n",
       "1597            5.9             0.645         0.12             2.0      0.075   \n",
       "1598            6.0             0.310         0.47             3.6      0.067   \n",
       "\n",
       "      free sulfur dioxide  total sulfur dioxide  density    pH  sulphates  \\\n",
       "0                    11.0                  34.0  0.99780  3.51       0.56   \n",
       "1                    25.0                  67.0  0.99680  3.20       0.68   \n",
       "2                    15.0                  54.0  0.99700  3.26       0.65   \n",
       "3                    17.0                  60.0  0.99800  3.16       0.58   \n",
       "4                    11.0                  34.0  0.99780  3.51       0.56   \n",
       "...                   ...                   ...      ...   ...        ...   \n",
       "1594                 32.0                  44.0  0.99490  3.45       0.58   \n",
       "1595                 39.0                  51.0  0.99512  3.52       0.76   \n",
       "1596                 29.0                  40.0  0.99574  3.42       0.75   \n",
       "1597                 32.0                  44.0  0.99547  3.57       0.71   \n",
       "1598                 18.0                  42.0  0.99549  3.39       0.66   \n",
       "\n",
       "      alcohol  quality  \n",
       "0         9.4        0  \n",
       "1         9.8        0  \n",
       "2         9.8        0  \n",
       "3         9.8        0  \n",
       "4         9.4        0  \n",
       "...       ...      ...  \n",
       "1594     10.5        0  \n",
       "1595     11.2        0  \n",
       "1596     11.0        0  \n",
       "1597     10.2        0  \n",
       "1598     11.0        0  \n",
       "\n",
       "[1599 rows x 12 columns]"
      ]
     },
     "execution_count": 30,
     "metadata": {},
     "output_type": "execute_result"
    }
   ],
   "source": [
    "df"
   ]
  },
  {
   "cell_type": "code",
   "execution_count": 31,
   "id": "84d64799",
   "metadata": {},
   "outputs": [],
   "source": [
    "# Dividing dataset between independent and dependent variable or label\n",
    "\n",
    "X=df.drop(['quality'],axis=1)\n",
    "y=df['quality']"
   ]
  },
  {
   "cell_type": "code",
   "execution_count": 32,
   "id": "f9e9bca3",
   "metadata": {},
   "outputs": [],
   "source": [
    "# Dividing the dataset in train and test\n",
    "\n",
    "X_train, X_test, y_train, y_test = train_test_split(X,y,test_size=0.2, random_state=30, stratify=y)"
   ]
  },
  {
   "cell_type": "code",
   "execution_count": 33,
   "id": "38d37e31",
   "metadata": {},
   "outputs": [
    {
     "data": {
      "text/plain": [
       "dict_keys(['bootstrap', 'ccp_alpha', 'class_weight', 'criterion', 'max_depth', 'max_features', 'max_leaf_nodes', 'max_samples', 'min_impurity_decrease', 'min_samples_leaf', 'min_samples_split', 'min_weight_fraction_leaf', 'n_estimators', 'n_jobs', 'oob_score', 'random_state', 'verbose', 'warm_start'])"
      ]
     },
     "execution_count": 33,
     "metadata": {},
     "output_type": "execute_result"
    }
   ],
   "source": [
    "# Key parameters of Random Forest Classifier\n",
    "\n",
    "RandomForestClassifier().get_params().keys()"
   ]
  },
  {
   "cell_type": "code",
   "execution_count": 34,
   "id": "1eda1c1b",
   "metadata": {},
   "outputs": [],
   "source": [
    "# Setting the model\n",
    "\n",
    "rand=RandomForestClassifier()"
   ]
  },
  {
   "cell_type": "code",
   "execution_count": 35,
   "id": "012249ef",
   "metadata": {},
   "outputs": [],
   "source": [
    "# Only choose two parameters to reduce computing time\n",
    "\n",
    "param_grid = {\n",
    "    'n_estimators': [100, 300, 500, 800, 1200],\n",
    "    'max_depth': [5, 8, 15, 25, 30]\n",
    "}\n"
   ]
  },
  {
   "cell_type": "code",
   "execution_count": 36,
   "id": "dde9eb62",
   "metadata": {},
   "outputs": [],
   "source": [
    "# Setting Grid Search Cross Validation\n",
    "\n",
    "grid = GridSearchCV(rand, param_grid=param_grid, cv=5, verbose = 1, n_jobs = -1)"
   ]
  },
  {
   "cell_type": "code",
   "execution_count": 37,
   "id": "d8d6c29a",
   "metadata": {},
   "outputs": [
    {
     "name": "stdout",
     "output_type": "stream",
     "text": [
      "Fitting 5 folds for each of 25 candidates, totalling 125 fits\n"
     ]
    }
   ],
   "source": [
    "# Fitting the model\n",
    "\n",
    "grid_result=grid.fit(X_train,y_train)"
   ]
  },
  {
   "cell_type": "code",
   "execution_count": 38,
   "id": "da11b44d",
   "metadata": {},
   "outputs": [
    {
     "name": "stdout",
     "output_type": "stream",
     "text": [
      "Best: 0.914786 using {'max_depth': 15, 'n_estimators': 500}\n"
     ]
    }
   ],
   "source": [
    "# Summarising results\n",
    "\n",
    "print(\"Best: %f using %s\" % (grid_result.best_score_, grid_result.best_params_))\n"
   ]
  },
  {
   "cell_type": "code",
   "execution_count": 39,
   "id": "5cc05761",
   "metadata": {},
   "outputs": [
    {
     "name": "stderr",
     "output_type": "stream",
     "text": [
      "[Parallel(n_jobs=-1)]: Using backend ThreadingBackend with 8 concurrent workers.\n",
      "[Parallel(n_jobs=-1)]: Done  34 tasks      | elapsed:    0.0s\n",
      "[Parallel(n_jobs=-1)]: Done 184 tasks      | elapsed:    0.2s\n",
      "[Parallel(n_jobs=-1)]: Done 434 tasks      | elapsed:    0.5s\n",
      "[Parallel(n_jobs=-1)]: Done 784 tasks      | elapsed:    0.9s\n",
      "[Parallel(n_jobs=-1)]: Done 800 out of 800 | elapsed:    0.9s finished\n"
     ]
    },
    {
     "data": {
      "text/plain": [
       "Pipeline(steps=[('scaler', StandardScaler()),\n",
       "                ('random_forest',\n",
       "                 RandomForestClassifier(max_depth=30, n_estimators=800,\n",
       "                                        n_jobs=-1, verbose=1))])"
      ]
     },
     "execution_count": 39,
     "metadata": {},
     "output_type": "execute_result"
    }
   ],
   "source": [
    "# Defining the Pipeline: Standard Scaler + Random Forest Classifier\n",
    "\n",
    "model_pipeline = Pipeline(steps=[('scaler', StandardScaler()), \n",
    "                                ('random_forest', RandomForestClassifier(verbose = 1, n_jobs = -1,max_depth= 30, n_estimators=800 ))])\n",
    "\n",
    "\n",
    "# Fitting the pipeline with the training data\n",
    "\n",
    "model_pipeline.fit(X_train,y_train)"
   ]
  },
  {
   "cell_type": "code",
   "execution_count": 40,
   "id": "98a9538e",
   "metadata": {},
   "outputs": [
    {
     "name": "stderr",
     "output_type": "stream",
     "text": [
      "[Parallel(n_jobs=8)]: Using backend ThreadingBackend with 8 concurrent workers.\n",
      "[Parallel(n_jobs=8)]: Done  34 tasks      | elapsed:    0.0s\n",
      "[Parallel(n_jobs=8)]: Done 184 tasks      | elapsed:    0.0s\n",
      "[Parallel(n_jobs=8)]: Done 434 tasks      | elapsed:    0.0s\n",
      "[Parallel(n_jobs=8)]: Done 784 tasks      | elapsed:    0.1s\n",
      "[Parallel(n_jobs=8)]: Done 800 out of 800 | elapsed:    0.1s finished\n"
     ]
    },
    {
     "data": {
      "text/plain": [
       "array([1, 0, 1, ..., 0, 0, 0])"
      ]
     },
     "execution_count": 40,
     "metadata": {},
     "output_type": "execute_result"
    }
   ],
   "source": [
    "# Predicting target values on the training data\n",
    "\n",
    "model_pipeline.predict(X_train)"
   ]
  },
  {
   "cell_type": "code",
   "execution_count": 41,
   "id": "48232e2a",
   "metadata": {
    "scrolled": true
   },
   "outputs": [
    {
     "name": "stderr",
     "output_type": "stream",
     "text": [
      "[Parallel(n_jobs=8)]: Using backend ThreadingBackend with 8 concurrent workers.\n",
      "[Parallel(n_jobs=8)]: Done  34 tasks      | elapsed:    0.0s\n",
      "[Parallel(n_jobs=8)]: Done 184 tasks      | elapsed:    0.0s\n",
      "[Parallel(n_jobs=8)]: Done 434 tasks      | elapsed:    0.0s\n",
      "[Parallel(n_jobs=8)]: Done 784 tasks      | elapsed:    0.0s\n",
      "[Parallel(n_jobs=8)]: Done 800 out of 800 | elapsed:    0.0s finished\n"
     ]
    }
   ],
   "source": [
    "# Predicting results\n",
    "\n",
    "y_pred_rand = model_pipeline.predict(X_test)"
   ]
  },
  {
   "cell_type": "code",
   "execution_count": 42,
   "id": "0dffb7e0",
   "metadata": {},
   "outputs": [
    {
     "name": "stdout",
     "output_type": "stream",
     "text": [
      "Tests for Random Forest Classifier:\n",
      "\n",
      "Accuracy 0.88125\n",
      "Precision score 0.5862068965517241\n",
      "Recall score 0.3953488372093023\n",
      "F1 score 0.4722222222222222\n",
      "AUC&ROC 0.6760137687851566\n"
     ]
    }
   ],
   "source": [
    "# Testing results\n",
    "\n",
    "print (\"Tests for Random Forest Classifier:\\n\")\n",
    "       \n",
    "print (\"Accuracy\", accuracy_score(y_test, y_pred_rand))\n",
    "print (\"Precision score\", precision_score(y_test, y_pred_rand))\n",
    "print (\"Recall score\",recall_score(y_test, y_pred_rand))\n",
    "print (\"F1 score\",f1_score(y_test,y_pred_rand))\n",
    "print (\"AUC&ROC\",roc_auc_score(y_test, y_pred_rand))"
   ]
  },
  {
   "cell_type": "markdown",
   "id": "4989c19e",
   "metadata": {},
   "source": [
    "The accuracy of the model is good, but there is probably room for improvement, according the rest of the tests, though there are other criteria beyond chemical properties, like flavour, color and others that are key to quality evaluation that are not represented in the dataset."
   ]
  },
  {
   "cell_type": "markdown",
   "id": "ecb687c8",
   "metadata": {},
   "source": [
    "## Exercise 2"
   ]
  },
  {
   "cell_type": "markdown",
   "id": "a2ec43bf",
   "metadata": {},
   "source": [
    "Choose a text in English and calculate the frequency of the words."
   ]
  },
  {
   "cell_type": "code",
   "execution_count": 43,
   "id": "c3e976cd",
   "metadata": {
    "scrolled": true
   },
   "outputs": [
    {
     "name": "stderr",
     "output_type": "stream",
     "text": [
      "[nltk_data] Downloading package wordnet to\n",
      "[nltk_data]     C:\\Users\\jmane\\AppData\\Roaming\\nltk_data...\n",
      "[nltk_data]   Package wordnet is already up-to-date!\n",
      "[nltk_data] Downloading package punkt to\n",
      "[nltk_data]     C:\\Users\\jmane\\AppData\\Roaming\\nltk_data...\n",
      "[nltk_data]   Package punkt is already up-to-date!\n",
      "[nltk_data] Downloading package averaged_perceptron_tagger to\n",
      "[nltk_data]     C:\\Users\\jmane\\AppData\\Roaming\\nltk_data...\n",
      "[nltk_data]   Package averaged_perceptron_tagger is already up-to-\n",
      "[nltk_data]       date!\n",
      "[nltk_data] Downloading package stopwords to\n",
      "[nltk_data]     C:\\Users\\jmane\\AppData\\Roaming\\nltk_data...\n",
      "[nltk_data]   Package stopwords is already up-to-date!\n"
     ]
    },
    {
     "data": {
      "text/plain": [
       "True"
      ]
     },
     "execution_count": 43,
     "metadata": {},
     "output_type": "execute_result"
    }
   ],
   "source": [
    "import nltk\n",
    "from nltk.text import Text\n",
    "from nltk.probability import FreqDist\n",
    "from nltk.stem import WordNetLemmatizer\n",
    "from nltk.corpus import stopwords\n",
    "from nltk.stem.porter import PorterStemmer\n",
    "from nltk.stem import PorterStemmer\n",
    "from nltk.tokenize import sent_tokenize, word_tokenize\n",
    "nltk.download('wordnet')\n",
    "nltk.download('punkt')\n",
    "nltk.download('averaged_perceptron_tagger')\n",
    "nltk.download('stopwords')\n"
   ]
  },
  {
   "cell_type": "code",
   "execution_count": 44,
   "id": "a73a78d9",
   "metadata": {},
   "outputs": [],
   "source": [
    "# Opening file The Guardian, Monday, 2 Dec 2021:\"Germany: mandatory Covid jabs a step closer as unvaccinated face lockdown\", pasted to a txt file\n",
    "# Source: https://www.theguardian.com/world/2021/dec/02/germany-could-make-covid-vaccination-mandatory-says-merkel\n",
    "\n",
    "filename = 'The_Guardian.txt'\n",
    "file = open(filename, 'rt')\n",
    "text = file.read()\n",
    "file.close()\n"
   ]
  },
  {
   "cell_type": "markdown",
   "id": "7c0d690e",
   "metadata": {},
   "source": [
    "#### Cleaning the text"
   ]
  },
  {
   "cell_type": "code",
   "execution_count": 45,
   "id": "6f12e856",
   "metadata": {},
   "outputs": [
    {
     "name": "stdout",
     "output_type": "stream",
     "text": [
      "['the', 'guardian', 'thu', 'dec', 'gmt', 'germany', 'could', 'make', 'covid', 'vaccination', 'mandatory', 'says', 'merkel', 'outgoing', 'chancellor', 'also', 'announces', 'lockdown', 'measures', 'for', 'unvaccinated', 'and', 'says', 'act', 'of', 'national', 'solidarity', 'required', 'vaccination', 'could', 'become', 'mandatory', 'in', 'germany', 'from', 'february', 'angela', 'merkel', 'has', 'said', 'as', 'she', 'announced', 'what', 'her', 'successor', 'as', 'chancellor', 'olaf', 'scholz', 'described', 'as', 'a', 'lockdown', 'of', 'the', 'unvaccinated', 'as', 'more', 'eu', 'countries', 'confirmed', 'cases', 'of', 'the', 'omicron', 'variant', 'which', 'the', 'bloc', 's', 'health', 'agency', 'said', 'could', 'make', 'up', 'more', 'than', 'half', 'of', 'all', 'infections', 'on', 'the', 'continent', 'within', 'months', 'merkel', 'described', 'the', 'situation', 'as', 'very', 'serious', 'meeting', 'with', 'scholz', 'and', 'germany']\n"
     ]
    }
   ],
   "source": [
    "\n",
    "# Splitting into words\n",
    "\n",
    "from nltk.tokenize import word_tokenize\n",
    "tokens = word_tokenize(text)\n",
    "\n",
    "# Converting to lower case\n",
    "\n",
    "tokens = [w.lower() for w in tokens]\n",
    "\n",
    "# Removing punctuation from each word\n",
    "\n",
    "import string\n",
    "table = str.maketrans('', '', string.punctuation)\n",
    "stripped = [w.translate(table) for w in tokens]\n",
    "\n",
    "# Removing remaining tokens that are not alphabetic\n",
    "\n",
    "words = [word for word in stripped if word.isalpha()]\n",
    "print(words[:100])"
   ]
  },
  {
   "cell_type": "code",
   "execution_count": 46,
   "id": "f15377ee",
   "metadata": {},
   "outputs": [
    {
     "name": "stdout",
     "output_type": "stream",
     "text": [
      "<FreqDist with 247 samples and 453 outcomes>\n"
     ]
    }
   ],
   "source": [
    "# Frequency of words\n",
    "\n",
    "fdist = FreqDist(words)\n",
    "print(fdist)"
   ]
  },
  {
   "cell_type": "code",
   "execution_count": 47,
   "id": "65ec55cb",
   "metadata": {},
   "outputs": [
    {
     "data": {
      "text/plain": [
       "[('the', 24),\n",
       " ('and', 11),\n",
       " ('of', 11),\n",
       " ('to', 11),\n",
       " ('in', 10),\n",
       " ('said', 8),\n",
       " ('merkel', 7),\n",
       " ('as', 7),\n",
       " ('on', 7),\n",
       " ('germany', 6)]"
      ]
     },
     "execution_count": 47,
     "metadata": {},
     "output_type": "execute_result"
    }
   ],
   "source": [
    "# Most common words\n",
    "\n",
    "fdist.most_common(10)"
   ]
  },
  {
   "cell_type": "code",
   "execution_count": 48,
   "id": "d1ac2d32",
   "metadata": {
    "scrolled": false
   },
   "outputs": [
    {
     "data": {
      "image/png": "[encoded data removed]",
      "text/plain": [
       "<Figure size 432x288 with 1 Axes>"
      ]
     },
     "metadata": {
      "needs_background": "light"
     },
     "output_type": "display_data"
    }
   ],
   "source": [
    "# Plotting most common words\n",
    "\n",
    "fdist.plot(30,cumulative=False, title=\"Most common words\")\n",
    "plt.show()"
   ]
  },
  {
   "cell_type": "markdown",
   "id": "f48aa020",
   "metadata": {},
   "source": [
    "# Level 2"
   ]
  },
  {
   "cell_type": "markdown",
   "id": "9a4f9708",
   "metadata": {},
   "source": [
    "### Exercise 1"
   ]
  },
  {
   "cell_type": "markdown",
   "id": "c7089708",
   "metadata": {},
   "source": [
    "Remove the stopwords and stemme from your dataset."
   ]
  },
  {
   "cell_type": "code",
   "execution_count": 49,
   "id": "070d0ddf",
   "metadata": {},
   "outputs": [
    {
     "name": "stdout",
     "output_type": "stream",
     "text": [
      "['guardian', 'thu', 'dec', 'gmt', 'germany', 'could', 'make', 'covid', 'vaccination', 'mandatory', 'says', 'merkel', 'outgoing', 'chancellor', 'also', 'announces', 'lockdown', 'measures', 'unvaccinated', 'says', 'act', 'national', 'solidarity', 'required', 'vaccination', 'could', 'become', 'mandatory', 'germany', 'february', 'angela', 'merkel', 'said', 'announced', 'successor', 'chancellor', 'olaf', 'scholz', 'described', 'lockdown', 'unvaccinated', 'eu', 'countries', 'confirmed', 'cases', 'omicron', 'variant', 'bloc', 'health', 'agency', 'said', 'could', 'make', 'half', 'infections', 'continent', 'within', 'months', 'merkel', 'described', 'situation', 'serious', 'meeting', 'scholz', 'germany', 'state', 'leaders', 'emergency', 'talks', 'thursday', 'tougher', 'measures', 'stem', 'rocketing', 'covid', 'cases', 'outgoing', 'chancellor', 'said', 'act', 'national', 'solidarity', 'required', 'understood', 'situation', 'serious', 'want', 'take', 'measures', 'addition', 'already', 'taken', 'said', 'fourth', 'wave', 'must', 'broken', 'yet', 'achieved', 'daily']\n"
     ]
    }
   ],
   "source": [
    "# Filtering out stop words\n",
    "\n",
    "from nltk.corpus import stopwords\n",
    "stop_words = set(stopwords.words('english'))\n",
    "words = [w for w in words if not w in stop_words]\n",
    "print(words[:100])"
   ]
  },
  {
   "cell_type": "code",
   "execution_count": 50,
   "id": "2da06353",
   "metadata": {},
   "outputs": [
    {
     "name": "stdout",
     "output_type": "stream",
     "text": [
      "['guardian', 'thu', 'dec', 'gmt', 'germani', 'could', 'make', 'covid', 'vaccin', 'mandatori', 'say', 'merkel', 'outgo', 'chancellor', 'also', 'announc', 'lockdown', 'measur', 'unvaccin', 'say', 'act', 'nation', 'solidar', 'requir', 'vaccin', 'could', 'becom', 'mandatori', 'germani', 'februari', 'angela', 'merkel', 'said', 'announc', 'successor', 'chancellor', 'olaf', 'scholz', 'describ', 'lockdown', 'unvaccin', 'eu', 'countri', 'confirm', 'case', 'omicron', 'variant', 'bloc', 'health', 'agenc', 'said', 'could', 'make', 'half', 'infect', 'contin', 'within', 'month', 'merkel', 'describ', 'situat', 'seriou', 'meet', 'scholz', 'germani', 'state', 'leader', 'emerg', 'talk', 'thursday', 'tougher', 'measur', 'stem', 'rocket', 'covid', 'case', 'outgo', 'chancellor', 'said', 'act', 'nation', 'solidar', 'requir', 'understood', 'situat', 'seriou', 'want', 'take', 'measur', 'addit', 'alreadi', 'taken', 'said', 'fourth', 'wave', 'must', 'broken', 'yet', 'achiev', 'daili']\n"
     ]
    }
   ],
   "source": [
    "# Stemming of words\n",
    "\n",
    "from nltk.stem.porter import PorterStemmer\n",
    "porter = PorterStemmer()\n",
    "stemmed = [porter.stem(words) for words in words]\n",
    "print(stemmed[:100])"
   ]
  },
  {
   "cell_type": "code",
   "execution_count": 51,
   "id": "bec0dd37",
   "metadata": {},
   "outputs": [
    {
     "data": {
      "text/plain": [
       "['guardian',\n",
       " 'thu',\n",
       " 'dec',\n",
       " 'gmt',\n",
       " 'germani',\n",
       " 'could',\n",
       " 'make',\n",
       " 'covid',\n",
       " 'vaccin',\n",
       " 'mandatori',\n",
       " 'say',\n",
       " 'merkel',\n",
       " 'outgo',\n",
       " 'chancellor',\n",
       " 'also',\n",
       " 'announc',\n",
       " 'lockdown',\n",
       " 'measur',\n",
       " 'unvaccin',\n",
       " 'say',\n",
       " 'act',\n",
       " 'nation',\n",
       " 'solidar',\n",
       " 'requir',\n",
       " 'vaccin',\n",
       " 'could',\n",
       " 'becom',\n",
       " 'mandatori',\n",
       " 'germani',\n",
       " 'februari',\n",
       " 'angela',\n",
       " 'merkel',\n",
       " 'said',\n",
       " 'announc',\n",
       " 'successor',\n",
       " 'chancellor',\n",
       " 'olaf',\n",
       " 'scholz',\n",
       " 'describ',\n",
       " 'lockdown',\n",
       " 'unvaccin',\n",
       " 'eu',\n",
       " 'countri',\n",
       " 'confirm',\n",
       " 'case',\n",
       " 'omicron',\n",
       " 'variant',\n",
       " 'bloc',\n",
       " 'health',\n",
       " 'agenc',\n",
       " 'said',\n",
       " 'could',\n",
       " 'make',\n",
       " 'half',\n",
       " 'infect',\n",
       " 'contin',\n",
       " 'within',\n",
       " 'month',\n",
       " 'merkel',\n",
       " 'describ',\n",
       " 'situat',\n",
       " 'seriou',\n",
       " 'meet',\n",
       " 'scholz',\n",
       " 'germani',\n",
       " 'state',\n",
       " 'leader',\n",
       " 'emerg',\n",
       " 'talk',\n",
       " 'thursday',\n",
       " 'tougher',\n",
       " 'measur',\n",
       " 'stem',\n",
       " 'rocket',\n",
       " 'covid',\n",
       " 'case',\n",
       " 'outgo',\n",
       " 'chancellor',\n",
       " 'said',\n",
       " 'act',\n",
       " 'nation',\n",
       " 'solidar',\n",
       " 'requir',\n",
       " 'understood',\n",
       " 'situat',\n",
       " 'seriou',\n",
       " 'want',\n",
       " 'take',\n",
       " 'measur',\n",
       " 'addit',\n",
       " 'alreadi',\n",
       " 'taken',\n",
       " 'said',\n",
       " 'fourth',\n",
       " 'wave',\n",
       " 'must',\n",
       " 'broken',\n",
       " 'yet',\n",
       " 'achiev',\n",
       " 'daili',\n",
       " 'new',\n",
       " 'infect',\n",
       " 'germani',\n",
       " 'broken',\n",
       " 'record',\n",
       " 'recent',\n",
       " 'week',\n",
       " 'mani',\n",
       " 'hospit',\n",
       " 'oper',\n",
       " 'capac',\n",
       " 'author',\n",
       " 'said',\n",
       " 'new',\n",
       " 'case',\n",
       " 'record',\n",
       " 'past',\n",
       " 'hour',\n",
       " 'death',\n",
       " 'surg',\n",
       " 'roll',\n",
       " 'sevenday',\n",
       " 'averag',\n",
       " 'day',\n",
       " 'august',\n",
       " 'nearli',\n",
       " 'week',\n",
       " 'advertis',\n",
       " 'merkel',\n",
       " 'said',\n",
       " 'germani',\n",
       " 'ethic',\n",
       " 'council',\n",
       " 'would',\n",
       " 'issu',\n",
       " 'formal',\n",
       " 'guidanc',\n",
       " 'vaccin',\n",
       " 'mandat',\n",
       " 'bundestag',\n",
       " 'would',\n",
       " 'vote',\n",
       " 'legisl',\n",
       " 'end',\n",
       " 'year',\n",
       " 'pass',\n",
       " 'rule',\n",
       " 'would',\n",
       " 'come',\n",
       " 'forc',\n",
       " 'februari',\n",
       " 'given',\n",
       " 'situat',\n",
       " 'think',\n",
       " 'appropri',\n",
       " 'adopt',\n",
       " 'compulsori',\n",
       " 'vaccin',\n",
       " 'said',\n",
       " 'merkel',\n",
       " 'due',\n",
       " 'hand',\n",
       " 'scholz',\n",
       " 'next',\n",
       " 'week',\n",
       " 'move',\n",
       " 'would',\n",
       " 'follow',\n",
       " 'exampl',\n",
       " 'neighbour',\n",
       " 'austria',\n",
       " 'plan',\n",
       " 'mandatori',\n",
       " 'vaccin',\n",
       " 'februari',\n",
       " 'greec',\n",
       " 'also',\n",
       " 'announc',\n",
       " 'mandatori',\n",
       " 'jab',\n",
       " 'unvaccin',\n",
       " 'peopl',\n",
       " 'face',\n",
       " 'fine',\n",
       " 'fail',\n",
       " 'compli',\n",
       " 'merkel',\n",
       " 'also',\n",
       " 'announc',\n",
       " 'blanket',\n",
       " 'ban',\n",
       " 'peopl',\n",
       " 'vaccin',\n",
       " 'recov',\n",
       " 'covid',\n",
       " 'enter',\n",
       " 'bar',\n",
       " 'restaur',\n",
       " 'theatr',\n",
       " 'cinema',\n",
       " 'leisur',\n",
       " 'venu',\n",
       " 'well',\n",
       " 'nonessenti',\n",
       " 'shop',\n",
       " 'christma',\n",
       " 'market',\n",
       " 'area',\n",
       " 'incid',\n",
       " 'rate',\n",
       " 'exce',\n",
       " 'per',\n",
       " 'peopl',\n",
       " 'disco',\n",
       " 'nightclub',\n",
       " 'close',\n",
       " 'privat',\n",
       " 'gather',\n",
       " 'limit',\n",
       " 'peopl',\n",
       " 'indoor',\n",
       " 'outdoor',\n",
       " 'provid',\n",
       " 'everyon',\n",
       " 'involv',\n",
       " 'vaccin',\n",
       " 'recov',\n",
       " 'unvaccin',\n",
       " 'peopl',\n",
       " 'mix',\n",
       " 'household',\n",
       " 'may',\n",
       " 'invit',\n",
       " 'maximum',\n",
       " 'two',\n",
       " 'outsid',\n",
       " 'guest',\n",
       " 'includ',\n",
       " 'children',\n",
       " 'merkel',\n",
       " 'said',\n",
       " 'mask',\n",
       " 'becom',\n",
       " 'compulsori',\n",
       " 'school',\n",
       " 'lockdown',\n",
       " 'measur',\n",
       " 'expect',\n",
       " 'approv',\n",
       " 'mp',\n",
       " 'come',\n",
       " 'day',\n",
       " 'take',\n",
       " 'effect',\n",
       " 'immedi',\n",
       " 'afterward',\n",
       " 'expert',\n",
       " 'blame',\n",
       " 'fourth',\n",
       " 'wave',\n",
       " 'germani',\n",
       " 'rel',\n",
       " 'low',\n",
       " 'vaccin',\n",
       " 'rate',\n",
       " 'comparison',\n",
       " 'spain',\n",
       " 'fulli',\n",
       " 'vaccin',\n",
       " 'popul',\n",
       " 'portug']"
      ]
     },
     "execution_count": 51,
     "metadata": {},
     "output_type": "execute_result"
    }
   ],
   "source": [
    "stemmed"
   ]
  },
  {
   "cell_type": "code",
   "execution_count": 52,
   "id": "d9fb5a06",
   "metadata": {},
   "outputs": [
    {
     "name": "stdout",
     "output_type": "stream",
     "text": [
      "<FreqDist with 192 samples and 271 outcomes>\n"
     ]
    }
   ],
   "source": [
    "# Frequency of words after filtering stopwords and stemming\n",
    "\n",
    "fdist = FreqDist(words)\n",
    "print(fdist)"
   ]
  },
  {
   "cell_type": "code",
   "execution_count": 53,
   "id": "bf9dace8",
   "metadata": {},
   "outputs": [
    {
     "data": {
      "text/plain": [
       "[('said', 8),\n",
       " ('merkel', 7),\n",
       " ('germany', 6),\n",
       " ('people', 5),\n",
       " ('vaccination', 4),\n",
       " ('mandatory', 4),\n",
       " ('measures', 4),\n",
       " ('unvaccinated', 4),\n",
       " ('would', 4),\n",
       " ('could', 3)]"
      ]
     },
     "execution_count": 53,
     "metadata": {},
     "output_type": "execute_result"
    }
   ],
   "source": [
    "# Most common words after filtering stopwords and stemming\n",
    "\n",
    "fdist.most_common(10)"
   ]
  },
  {
   "cell_type": "code",
   "execution_count": 54,
   "id": "be0c1244",
   "metadata": {},
   "outputs": [
    {
     "data": {
      "image/png": "[encoded data removed]",
      "text/plain": [
       "<Figure size 432x288 with 1 Axes>"
      ]
     },
     "metadata": {
      "needs_background": "light"
     },
     "output_type": "display_data"
    }
   ],
   "source": [
    "# Plotting most common words after filtering stopwords and stemming\n",
    "\n",
    "fdist.plot(30,cumulative=False, title=\"Most common words after filtering stopwords and stemming\")\n",
    "plt.show()"
   ]
  },
  {
   "cell_type": "markdown",
   "id": "cd29d314",
   "metadata": {},
   "source": [
    "# Level 3"
   ]
  },
  {
   "cell_type": "markdown",
   "id": "ebe4a043",
   "metadata": {},
   "source": [
    "## Exercise 1"
   ]
  },
  {
   "cell_type": "markdown",
   "id": "f40cd56f",
   "metadata": {},
   "source": [
    "Perform sentiment analysis on your dataset"
   ]
  },
  {
   "cell_type": "markdown",
   "id": "830ab39b",
   "metadata": {},
   "source": [
    "Sentiment Analysis can help us decipher the mood and emotions of general public and gather insightful information regarding the context. Sentiment Analysis is a process of analyzing data and classifying it based on the need of the research."
   ]
  },
  {
   "cell_type": "code",
   "execution_count": 55,
   "id": "8600a7c7",
   "metadata": {},
   "outputs": [],
   "source": [
    "# Converting list to string\n",
    "\n",
    "list=stemmed\n",
    "\n",
    "article=\" \".join(map(str,list))"
   ]
  },
  {
   "cell_type": "code",
   "execution_count": 56,
   "id": "df987f3f",
   "metadata": {},
   "outputs": [],
   "source": [
    "# Importing library TextBlob\n",
    "\n",
    "from textblob import TextBlob"
   ]
  },
  {
   "cell_type": "code",
   "execution_count": 57,
   "id": "c7b0194a",
   "metadata": {},
   "outputs": [
    {
     "data": {
      "text/plain": [
       "Sentiment(polarity=-0.0823051948051948, subjectivity=0.27505411255411255)"
      ]
     },
     "execution_count": 57,
     "metadata": {},
     "output_type": "execute_result"
    }
   ],
   "source": [
    "# Polarity of the text\n",
    "\n",
    "book_sent = TextBlob(article)\n",
    "book_sent.sentiment"
   ]
  },
  {
   "cell_type": "markdown",
   "id": "581359e1",
   "metadata": {},
   "source": [
    "#### Conclusion"
   ]
  },
  {
   "cell_type": "markdown",
   "id": "e44733a6",
   "metadata": {},
   "source": [
    "The sentiment property returns a namedtuple of the form Sentiment(polarity, subjectivity). Polarity lies between [-1,1], -1 defines a negative sentiment and 1 defines a positive sentiment. Subjectivity quantifies the amount of personal opinion and factual information contained in the text. Subjectivity lies between [0,1]. The higher subjectivity means that the text contains personal opinion rather than factual information\n",
    "\n",
    "Our text (The Guardian, Monday, 2 Dec 2021:\"Germany: mandatory Covid jabs a step closer as unvaccinated face lockdown\") is quite neutral because polarity is close to 0 and subjectivity is low, though cotains some personal opinion."
   ]
  }
 ],
 "metadata": {
  "kernelspec": {
   "display_name": "Python 3 (ipykernel)",
   "language": "python",
   "name": "python3"
  },
  "language_info": {
   "codemirror_mode": {
    "name": "ipython",
    "version": 3
   },
   "file_extension": ".py",
   "mimetype": "text/x-python",
   "name": "python",
   "nbconvert_exporter": "python",
   "pygments_lexer": "ipython3",
   "version": "3.8.12"
  },
  "latex_envs": {
   "LaTeX_envs_menu_present": true,
   "autoclose": false,
   "autocomplete": true,
   "bibliofile": "biblio.bib",
   "cite_by": "apalike",
   "current_citInitial": 1,
   "eqLabelWithNumbers": true,
   "eqNumInitial": 1,
   "hotkeys": {
    "equation": "Ctrl-E",
    "itemize": "Ctrl-I"
   },
   "labels_anchors": false,
   "latex_user_defs": false,
   "report_style_numbering": false,
   "user_envs_cfg": false
  }
 },
 "nbformat": 4,
 "nbformat_minor": 5
}
